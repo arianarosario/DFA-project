{
 "cells": [
  {
   "cell_type": "markdown",
   "metadata": {
    "colab_type": "text",
    "id": "view-in-github"
   },
   "source": [
    "<a href=\"https://colab.research.google.com/github/arianarosario/DFA-project/blob/main/deliverable.ipynb\" target=\"_parent\"><img src=\"https://colab.research.google.com/assets/colab-badge.svg\" alt=\"Open In Colab\"/></a>"
   ]
  },
  {
   "cell_type": "markdown",
   "metadata": {},
   "source": [
    "# 0. Package install"
   ]
  },
  {
   "cell_type": "markdown",
   "metadata": {},
   "source": [
    "##### The notebook is run under python==3.10"
   ]
  },
  {
   "cell_type": "code",
   "execution_count": 109,
   "metadata": {},
   "outputs": [
    {
     "name": "stdout",
     "output_type": "stream",
     "text": [
      "Requirement already satisfied: imblearn==0.0 in /opt/homebrew/Caskroom/miniforge/base/envs/base_env/lib/python3.8/site-packages (0.0)\n",
      "Requirement already satisfied: imbalanced-learn in /opt/homebrew/Caskroom/miniforge/base/envs/base_env/lib/python3.8/site-packages (from imblearn==0.0) (0.9.0)\n",
      "Requirement already satisfied: numpy>=1.14.6 in /opt/homebrew/Caskroom/miniforge/base/envs/base_env/lib/python3.8/site-packages (from imbalanced-learn->imblearn==0.0) (1.20.0)\n",
      "Requirement already satisfied: threadpoolctl>=2.0.0 in /opt/homebrew/Caskroom/miniforge/base/envs/base_env/lib/python3.8/site-packages (from imbalanced-learn->imblearn==0.0) (3.0.0)\n",
      "Requirement already satisfied: scikit-learn>=1.0.1 in /opt/homebrew/Caskroom/miniforge/base/envs/base_env/lib/python3.8/site-packages (from imbalanced-learn->imblearn==0.0) (1.0.1)\n",
      "Requirement already satisfied: scipy>=1.1.0 in /opt/homebrew/Caskroom/miniforge/base/envs/base_env/lib/python3.8/site-packages (from imbalanced-learn->imblearn==0.0) (1.7.2)\n",
      "Requirement already satisfied: joblib>=0.11 in /opt/homebrew/Caskroom/miniforge/base/envs/base_env/lib/python3.8/site-packages (from imbalanced-learn->imblearn==0.0) (1.1.0)\n",
      "Requirement already satisfied: lightgbm==3.3.1 in /opt/homebrew/Caskroom/miniforge/base/envs/base_env/lib/python3.8/site-packages (3.3.1)\n",
      "Requirement already satisfied: wheel in /opt/homebrew/Caskroom/miniforge/base/envs/base_env/lib/python3.8/site-packages (from lightgbm==3.3.1) (0.37.0)\n",
      "Requirement already satisfied: scikit-learn!=0.22.0 in /opt/homebrew/Caskroom/miniforge/base/envs/base_env/lib/python3.8/site-packages (from lightgbm==3.3.1) (1.0.1)\n",
      "Requirement already satisfied: numpy in /opt/homebrew/Caskroom/miniforge/base/envs/base_env/lib/python3.8/site-packages (from lightgbm==3.3.1) (1.20.0)\n",
      "Requirement already satisfied: scipy in /opt/homebrew/Caskroom/miniforge/base/envs/base_env/lib/python3.8/site-packages (from lightgbm==3.3.1) (1.7.2)\n",
      "Requirement already satisfied: joblib>=0.11 in /opt/homebrew/Caskroom/miniforge/base/envs/base_env/lib/python3.8/site-packages (from scikit-learn!=0.22.0->lightgbm==3.3.1) (1.1.0)\n",
      "Requirement already satisfied: threadpoolctl>=2.0.0 in /opt/homebrew/Caskroom/miniforge/base/envs/base_env/lib/python3.8/site-packages (from scikit-learn!=0.22.0->lightgbm==3.3.1) (3.0.0)\n",
      "Requirement already satisfied: matplotlib==3.4.3 in /opt/homebrew/Caskroom/miniforge/base/envs/base_env/lib/python3.8/site-packages (3.4.3)\n",
      "Requirement already satisfied: python-dateutil>=2.7 in /opt/homebrew/Caskroom/miniforge/base/envs/base_env/lib/python3.8/site-packages (from matplotlib==3.4.3) (2.8.2)\n",
      "Requirement already satisfied: numpy>=1.16 in /opt/homebrew/Caskroom/miniforge/base/envs/base_env/lib/python3.8/site-packages (from matplotlib==3.4.3) (1.20.0)\n",
      "Requirement already satisfied: cycler>=0.10 in /opt/homebrew/Caskroom/miniforge/base/envs/base_env/lib/python3.8/site-packages (from matplotlib==3.4.3) (0.11.0)\n",
      "Requirement already satisfied: pyparsing>=2.2.1 in /opt/homebrew/Caskroom/miniforge/base/envs/base_env/lib/python3.8/site-packages (from matplotlib==3.4.3) (2.4.7)\n",
      "Requirement already satisfied: pillow>=6.2.0 in /opt/homebrew/Caskroom/miniforge/base/envs/base_env/lib/python3.8/site-packages (from matplotlib==3.4.3) (8.4.0)\n",
      "Requirement already satisfied: kiwisolver>=1.0.1 in /opt/homebrew/Caskroom/miniforge/base/envs/base_env/lib/python3.8/site-packages (from matplotlib==3.4.3) (1.3.2)\n",
      "Requirement already satisfied: six>=1.5 in /opt/homebrew/Caskroom/miniforge/base/envs/base_env/lib/python3.8/site-packages (from python-dateutil>=2.7->matplotlib==3.4.3) (1.16.0)\n",
      "Requirement already satisfied: numpy==1.20.0 in /opt/homebrew/Caskroom/miniforge/base/envs/base_env/lib/python3.8/site-packages (1.20.0)\n",
      "Requirement already satisfied: pandas==1.3.4 in /opt/homebrew/Caskroom/miniforge/base/envs/base_env/lib/python3.8/site-packages (1.3.4)\n",
      "Requirement already satisfied: python-dateutil>=2.7.3 in /opt/homebrew/Caskroom/miniforge/base/envs/base_env/lib/python3.8/site-packages (from pandas==1.3.4) (2.8.2)\n",
      "Requirement already satisfied: pytz>=2017.3 in /opt/homebrew/Caskroom/miniforge/base/envs/base_env/lib/python3.8/site-packages (from pandas==1.3.4) (2021.3)\n",
      "Requirement already satisfied: numpy>=1.20.0 in /opt/homebrew/Caskroom/miniforge/base/envs/base_env/lib/python3.8/site-packages (from pandas==1.3.4) (1.20.0)\n",
      "Requirement already satisfied: six>=1.5 in /opt/homebrew/Caskroom/miniforge/base/envs/base_env/lib/python3.8/site-packages (from python-dateutil>=2.7.3->pandas==1.3.4) (1.16.0)\n",
      "Requirement already satisfied: scikit_learn==1.0.1 in /opt/homebrew/Caskroom/miniforge/base/envs/base_env/lib/python3.8/site-packages (1.0.1)\n",
      "Requirement already satisfied: numpy>=1.14.6 in /opt/homebrew/Caskroom/miniforge/base/envs/base_env/lib/python3.8/site-packages (from scikit_learn==1.0.1) (1.20.0)\n",
      "Requirement already satisfied: scipy>=1.1.0 in /opt/homebrew/Caskroom/miniforge/base/envs/base_env/lib/python3.8/site-packages (from scikit_learn==1.0.1) (1.7.2)\n",
      "Requirement already satisfied: threadpoolctl>=2.0.0 in /opt/homebrew/Caskroom/miniforge/base/envs/base_env/lib/python3.8/site-packages (from scikit_learn==1.0.1) (3.0.0)\n",
      "Requirement already satisfied: joblib>=0.11 in /opt/homebrew/Caskroom/miniforge/base/envs/base_env/lib/python3.8/site-packages (from scikit_learn==1.0.1) (1.1.0)\n",
      "Collecting seaborn==0.11.2\n",
      "  Downloading seaborn-0.11.2-py3-none-any.whl (292 kB)\n",
      "     |████████████████████████████████| 292 kB 938 kB/s            \n",
      "\u001b[?25hRequirement already satisfied: matplotlib>=2.2 in /opt/homebrew/Caskroom/miniforge/base/envs/base_env/lib/python3.8/site-packages (from seaborn==0.11.2) (3.4.3)\n",
      "Requirement already satisfied: pandas>=0.23 in /opt/homebrew/Caskroom/miniforge/base/envs/base_env/lib/python3.8/site-packages (from seaborn==0.11.2) (1.3.4)\n",
      "Requirement already satisfied: numpy>=1.15 in /opt/homebrew/Caskroom/miniforge/base/envs/base_env/lib/python3.8/site-packages (from seaborn==0.11.2) (1.20.0)\n",
      "Requirement already satisfied: scipy>=1.0 in /opt/homebrew/Caskroom/miniforge/base/envs/base_env/lib/python3.8/site-packages (from seaborn==0.11.2) (1.7.2)\n",
      "Requirement already satisfied: pyparsing>=2.2.1 in /opt/homebrew/Caskroom/miniforge/base/envs/base_env/lib/python3.8/site-packages (from matplotlib>=2.2->seaborn==0.11.2) (2.4.7)\n",
      "Requirement already satisfied: pillow>=6.2.0 in /opt/homebrew/Caskroom/miniforge/base/envs/base_env/lib/python3.8/site-packages (from matplotlib>=2.2->seaborn==0.11.2) (8.4.0)\n",
      "Requirement already satisfied: cycler>=0.10 in /opt/homebrew/Caskroom/miniforge/base/envs/base_env/lib/python3.8/site-packages (from matplotlib>=2.2->seaborn==0.11.2) (0.11.0)\n",
      "Requirement already satisfied: python-dateutil>=2.7 in /opt/homebrew/Caskroom/miniforge/base/envs/base_env/lib/python3.8/site-packages (from matplotlib>=2.2->seaborn==0.11.2) (2.8.2)\n",
      "Requirement already satisfied: kiwisolver>=1.0.1 in /opt/homebrew/Caskroom/miniforge/base/envs/base_env/lib/python3.8/site-packages (from matplotlib>=2.2->seaborn==0.11.2) (1.3.2)\n",
      "Requirement already satisfied: pytz>=2017.3 in /opt/homebrew/Caskroom/miniforge/base/envs/base_env/lib/python3.8/site-packages (from pandas>=0.23->seaborn==0.11.2) (2021.3)\n",
      "Requirement already satisfied: six>=1.5 in /opt/homebrew/Caskroom/miniforge/base/envs/base_env/lib/python3.8/site-packages (from python-dateutil>=2.7->matplotlib>=2.2->seaborn==0.11.2) (1.16.0)\n",
      "Installing collected packages: seaborn\n",
      "  Attempting uninstall: seaborn\n",
      "    Found existing installation: seaborn 0.13.2\n",
      "    Uninstalling seaborn-0.13.2:\n",
      "      Successfully uninstalled seaborn-0.13.2\n",
      "Successfully installed seaborn-0.11.2\n",
      "Requirement already satisfied: ucimlrepo==0.0.3 in /opt/homebrew/Caskroom/miniforge/base/envs/base_env/lib/python3.8/site-packages (0.0.3)\n"
     ]
    }
   ],
   "source": [
    "!pip install imblearn==0.0\n",
    "!pip install lightgbm==3.3.1\n",
    "!pip install matplotlib==3.4.3\n",
    "!pip install numpy==1.20.0\n",
    "!pip install pandas==1.3.4\n",
    "!pip install scikit_learn==1.0.1\n",
    "!pip install seaborn==0.11.2\n",
    "!pip install ucimlrepo==0.0.3"
   ]
  },
  {
   "cell_type": "markdown",
   "metadata": {
    "id": "YdQ4Prjdk5lo"
   },
   "source": [
    "# 1. Data imports & data cleaning"
   ]
  },
  {
   "cell_type": "markdown",
   "metadata": {
    "id": "zjnBiFGMk5lr"
   },
   "source": [
    "### Importing the data"
   ]
  },
  {
   "cell_type": "code",
   "execution_count": 2,
   "metadata": {
    "id": "qlhFVBDTk5lr"
   },
   "outputs": [],
   "source": [
    "from ucimlrepo import fetch_ucirepo\n",
    "\n",
    "# fetch dataset\n",
    "cdc_diabetes_health_indicators = fetch_ucirepo(id=891)\n",
    "\n",
    "# data (as pandas dataframes)\n",
    "feature_data = cdc_diabetes_health_indicators.data.features\n",
    "target_data = cdc_diabetes_health_indicators.data.targets\n"
   ]
  },
  {
   "cell_type": "code",
   "execution_count": 3,
   "metadata": {
    "colab": {
     "base_uri": "https://localhost:8080/"
    },
    "id": "3R0bE_kNk5lt",
    "outputId": "db47ffd4-9e80-40e1-860c-e081f7430ba6"
   },
   "outputs": [
    {
     "data": {
      "text/plain": [
       "{'uci_id': 891,\n",
       " 'name': 'CDC Diabetes Health Indicators',\n",
       " 'repository_url': 'https://archive.ics.uci.edu/dataset/891/cdc+diabetes+health+indicators',\n",
       " 'data_url': 'https://archive.ics.uci.edu/static/public/891/data.csv',\n",
       " 'abstract': 'The Diabetes Health Indicators Dataset contains healthcare statistics and lifestyle survey information about people in general along with their diagnosis of diabetes. The 35 features consist of some demographics, lab test results, and answers to survey questions for each patient. The target variable for classification is whether a patient has diabetes, is pre-diabetic, or healthy. ',\n",
       " 'area': 'Health and Medicine',\n",
       " 'tasks': ['Classification'],\n",
       " 'characteristics': ['Tabular', 'Multivariate'],\n",
       " 'num_instances': 253680,\n",
       " 'num_features': 21,\n",
       " 'feature_types': ['Categorical', 'Integer'],\n",
       " 'demographics': ['Sex', 'Age', 'Education Level', 'Income'],\n",
       " 'target_col': ['Diabetes_binary'],\n",
       " 'index_col': ['ID'],\n",
       " 'has_missing_values': 'no',\n",
       " 'missing_values_symbol': None,\n",
       " 'year_of_dataset_creation': 2017,\n",
       " 'last_updated': 'Fri Nov 03 2023',\n",
       " 'dataset_doi': '10.24432/C53919',\n",
       " 'creators': [],\n",
       " 'intro_paper': {'title': 'Incidence of End-Stage Renal Disease Attributed to Diabetes Among Persons with Diagnosed Diabetes — United States and Puerto Rico, 2000–2014',\n",
       "  'authors': 'Nilka Rios Burrows, MPH; Israel Hora, PhD; Linda S. Geiss, MA; Edward W. Gregg, PhD; Ann Albright, PhD',\n",
       "  'published_in': 'Morbidity and Mortality Weekly Report',\n",
       "  'year': 2017,\n",
       "  'url': 'https://www.cdc.gov/mmwr/volumes/66/wr/mm6643a2.htm',\n",
       "  'doi': None},\n",
       " 'additional_info': {'summary': 'Dataset link: https://www.cdc.gov/brfss/annual_data/annual_2014.html',\n",
       "  'purpose': 'To better understand the relationship between  lifestyle and diabetes in the US',\n",
       "  'funded_by': 'The CDC',\n",
       "  'instances_represent': 'Each row represents a person participating in this study.',\n",
       "  'recommended_data_splits': 'Cross validation or a fixed train-test split could be used.',\n",
       "  'sensitive_data': '- Gender\\n- Income\\n- Education level',\n",
       "  'preprocessing_description': 'Bucketing of age',\n",
       "  'variable_info': '- Diabetes diagnosis\\n- Demographics (race, sex)\\n- Personal information (income, educations)\\n- Health history (drinking, smoking, mental health, physical health)',\n",
       "  'citation': None},\n",
       " 'external_url': 'https://www.kaggle.com/datasets/alexteboul/diabetes-health-indicators-dataset'}"
      ]
     },
     "execution_count": 3,
     "metadata": {},
     "output_type": "execute_result"
    }
   ],
   "source": [
    "# metadata\n",
    "cdc_diabetes_health_indicators.metadata"
   ]
  },
  {
   "cell_type": "code",
   "execution_count": 4,
   "metadata": {
    "colab": {
     "base_uri": "https://localhost:8080/",
     "height": 771
    },
    "id": "lPgGHvsik5lt",
    "outputId": "462be073-a662-4ab3-c71a-f2e70d530c19"
   },
   "outputs": [
    {
     "data": {
      "text/html": [
       "<div>\n",
       "<style scoped>\n",
       "    .dataframe tbody tr th:only-of-type {\n",
       "        vertical-align: middle;\n",
       "    }\n",
       "\n",
       "    .dataframe tbody tr th {\n",
       "        vertical-align: top;\n",
       "    }\n",
       "\n",
       "    .dataframe thead th {\n",
       "        text-align: right;\n",
       "    }\n",
       "</style>\n",
       "<table border=\"1\" class=\"dataframe\">\n",
       "  <thead>\n",
       "    <tr style=\"text-align: right;\">\n",
       "      <th></th>\n",
       "      <th>name</th>\n",
       "      <th>role</th>\n",
       "      <th>type</th>\n",
       "      <th>demographic</th>\n",
       "      <th>description</th>\n",
       "      <th>units</th>\n",
       "      <th>missing_values</th>\n",
       "    </tr>\n",
       "  </thead>\n",
       "  <tbody>\n",
       "    <tr>\n",
       "      <th>0</th>\n",
       "      <td>ID</td>\n",
       "      <td>ID</td>\n",
       "      <td>Integer</td>\n",
       "      <td>None</td>\n",
       "      <td>Patient ID</td>\n",
       "      <td>None</td>\n",
       "      <td>no</td>\n",
       "    </tr>\n",
       "    <tr>\n",
       "      <th>1</th>\n",
       "      <td>Diabetes_binary</td>\n",
       "      <td>Target</td>\n",
       "      <td>Binary</td>\n",
       "      <td>None</td>\n",
       "      <td>0 = no diabetes 1 = prediabetes or diabetes</td>\n",
       "      <td>None</td>\n",
       "      <td>no</td>\n",
       "    </tr>\n",
       "    <tr>\n",
       "      <th>2</th>\n",
       "      <td>HighBP</td>\n",
       "      <td>Feature</td>\n",
       "      <td>Binary</td>\n",
       "      <td>None</td>\n",
       "      <td>0 = no high BP 1 = high BP</td>\n",
       "      <td>None</td>\n",
       "      <td>no</td>\n",
       "    </tr>\n",
       "    <tr>\n",
       "      <th>3</th>\n",
       "      <td>HighChol</td>\n",
       "      <td>Feature</td>\n",
       "      <td>Binary</td>\n",
       "      <td>None</td>\n",
       "      <td>0 = no high cholesterol 1 = high cholesterol</td>\n",
       "      <td>None</td>\n",
       "      <td>no</td>\n",
       "    </tr>\n",
       "    <tr>\n",
       "      <th>4</th>\n",
       "      <td>CholCheck</td>\n",
       "      <td>Feature</td>\n",
       "      <td>Binary</td>\n",
       "      <td>None</td>\n",
       "      <td>0 = no cholesterol check in 5 years 1 = yes ch...</td>\n",
       "      <td>None</td>\n",
       "      <td>no</td>\n",
       "    </tr>\n",
       "    <tr>\n",
       "      <th>5</th>\n",
       "      <td>BMI</td>\n",
       "      <td>Feature</td>\n",
       "      <td>Integer</td>\n",
       "      <td>None</td>\n",
       "      <td>Body Mass Index</td>\n",
       "      <td>None</td>\n",
       "      <td>no</td>\n",
       "    </tr>\n",
       "    <tr>\n",
       "      <th>6</th>\n",
       "      <td>Smoker</td>\n",
       "      <td>Feature</td>\n",
       "      <td>Binary</td>\n",
       "      <td>None</td>\n",
       "      <td>Have you smoked at least 100 cigarettes in you...</td>\n",
       "      <td>None</td>\n",
       "      <td>no</td>\n",
       "    </tr>\n",
       "    <tr>\n",
       "      <th>7</th>\n",
       "      <td>Stroke</td>\n",
       "      <td>Feature</td>\n",
       "      <td>Binary</td>\n",
       "      <td>None</td>\n",
       "      <td>(Ever told) you had a stroke. 0 = no 1 = yes</td>\n",
       "      <td>None</td>\n",
       "      <td>no</td>\n",
       "    </tr>\n",
       "    <tr>\n",
       "      <th>8</th>\n",
       "      <td>HeartDiseaseorAttack</td>\n",
       "      <td>Feature</td>\n",
       "      <td>Binary</td>\n",
       "      <td>None</td>\n",
       "      <td>coronary heart disease (CHD) or myocardial inf...</td>\n",
       "      <td>None</td>\n",
       "      <td>no</td>\n",
       "    </tr>\n",
       "    <tr>\n",
       "      <th>9</th>\n",
       "      <td>PhysActivity</td>\n",
       "      <td>Feature</td>\n",
       "      <td>Binary</td>\n",
       "      <td>None</td>\n",
       "      <td>physical activity in past 30 days - not includ...</td>\n",
       "      <td>None</td>\n",
       "      <td>no</td>\n",
       "    </tr>\n",
       "    <tr>\n",
       "      <th>10</th>\n",
       "      <td>Fruits</td>\n",
       "      <td>Feature</td>\n",
       "      <td>Binary</td>\n",
       "      <td>None</td>\n",
       "      <td>Consume Fruit 1 or more times per day 0 = no 1...</td>\n",
       "      <td>None</td>\n",
       "      <td>no</td>\n",
       "    </tr>\n",
       "    <tr>\n",
       "      <th>11</th>\n",
       "      <td>Veggies</td>\n",
       "      <td>Feature</td>\n",
       "      <td>Binary</td>\n",
       "      <td>None</td>\n",
       "      <td>Consume Vegetables 1 or more times per day 0 =...</td>\n",
       "      <td>None</td>\n",
       "      <td>no</td>\n",
       "    </tr>\n",
       "    <tr>\n",
       "      <th>12</th>\n",
       "      <td>HvyAlcoholConsump</td>\n",
       "      <td>Feature</td>\n",
       "      <td>Binary</td>\n",
       "      <td>None</td>\n",
       "      <td>Heavy drinkers (adult men having more than 14 ...</td>\n",
       "      <td>None</td>\n",
       "      <td>no</td>\n",
       "    </tr>\n",
       "    <tr>\n",
       "      <th>13</th>\n",
       "      <td>AnyHealthcare</td>\n",
       "      <td>Feature</td>\n",
       "      <td>Binary</td>\n",
       "      <td>None</td>\n",
       "      <td>Have any kind of health care coverage, includi...</td>\n",
       "      <td>None</td>\n",
       "      <td>no</td>\n",
       "    </tr>\n",
       "    <tr>\n",
       "      <th>14</th>\n",
       "      <td>NoDocbcCost</td>\n",
       "      <td>Feature</td>\n",
       "      <td>Binary</td>\n",
       "      <td>None</td>\n",
       "      <td>Was there a time in the past 12 months when yo...</td>\n",
       "      <td>None</td>\n",
       "      <td>no</td>\n",
       "    </tr>\n",
       "    <tr>\n",
       "      <th>15</th>\n",
       "      <td>GenHlth</td>\n",
       "      <td>Feature</td>\n",
       "      <td>Integer</td>\n",
       "      <td>None</td>\n",
       "      <td>Would you say that in general your health is: ...</td>\n",
       "      <td>None</td>\n",
       "      <td>no</td>\n",
       "    </tr>\n",
       "    <tr>\n",
       "      <th>16</th>\n",
       "      <td>MentHlth</td>\n",
       "      <td>Feature</td>\n",
       "      <td>Integer</td>\n",
       "      <td>None</td>\n",
       "      <td>Now thinking about your mental health, which i...</td>\n",
       "      <td>None</td>\n",
       "      <td>no</td>\n",
       "    </tr>\n",
       "    <tr>\n",
       "      <th>17</th>\n",
       "      <td>PhysHlth</td>\n",
       "      <td>Feature</td>\n",
       "      <td>Integer</td>\n",
       "      <td>None</td>\n",
       "      <td>Now thinking about your physical health, which...</td>\n",
       "      <td>None</td>\n",
       "      <td>no</td>\n",
       "    </tr>\n",
       "    <tr>\n",
       "      <th>18</th>\n",
       "      <td>DiffWalk</td>\n",
       "      <td>Feature</td>\n",
       "      <td>Binary</td>\n",
       "      <td>None</td>\n",
       "      <td>Do you have serious difficulty walking or clim...</td>\n",
       "      <td>None</td>\n",
       "      <td>no</td>\n",
       "    </tr>\n",
       "    <tr>\n",
       "      <th>19</th>\n",
       "      <td>Sex</td>\n",
       "      <td>Feature</td>\n",
       "      <td>Binary</td>\n",
       "      <td>Sex</td>\n",
       "      <td>0 = female 1 = male</td>\n",
       "      <td>None</td>\n",
       "      <td>no</td>\n",
       "    </tr>\n",
       "    <tr>\n",
       "      <th>20</th>\n",
       "      <td>Age</td>\n",
       "      <td>Feature</td>\n",
       "      <td>Integer</td>\n",
       "      <td>Age</td>\n",
       "      <td>13-level age category (_AGEG5YR see codebook) ...</td>\n",
       "      <td>None</td>\n",
       "      <td>no</td>\n",
       "    </tr>\n",
       "    <tr>\n",
       "      <th>21</th>\n",
       "      <td>Education</td>\n",
       "      <td>Feature</td>\n",
       "      <td>Integer</td>\n",
       "      <td>Education Level</td>\n",
       "      <td>Education level (EDUCA see codebook) scale 1-6...</td>\n",
       "      <td>None</td>\n",
       "      <td>no</td>\n",
       "    </tr>\n",
       "    <tr>\n",
       "      <th>22</th>\n",
       "      <td>Income</td>\n",
       "      <td>Feature</td>\n",
       "      <td>Integer</td>\n",
       "      <td>Income</td>\n",
       "      <td>Income scale (INCOME2 see codebook) scale 1-8 ...</td>\n",
       "      <td>None</td>\n",
       "      <td>no</td>\n",
       "    </tr>\n",
       "  </tbody>\n",
       "</table>\n",
       "</div>"
      ],
      "text/plain": [
       "                    name     role     type      demographic  \\\n",
       "0                     ID       ID  Integer             None   \n",
       "1        Diabetes_binary   Target   Binary             None   \n",
       "2                 HighBP  Feature   Binary             None   \n",
       "3               HighChol  Feature   Binary             None   \n",
       "4              CholCheck  Feature   Binary             None   \n",
       "5                    BMI  Feature  Integer             None   \n",
       "6                 Smoker  Feature   Binary             None   \n",
       "7                 Stroke  Feature   Binary             None   \n",
       "8   HeartDiseaseorAttack  Feature   Binary             None   \n",
       "9           PhysActivity  Feature   Binary             None   \n",
       "10                Fruits  Feature   Binary             None   \n",
       "11               Veggies  Feature   Binary             None   \n",
       "12     HvyAlcoholConsump  Feature   Binary             None   \n",
       "13         AnyHealthcare  Feature   Binary             None   \n",
       "14           NoDocbcCost  Feature   Binary             None   \n",
       "15               GenHlth  Feature  Integer             None   \n",
       "16              MentHlth  Feature  Integer             None   \n",
       "17              PhysHlth  Feature  Integer             None   \n",
       "18              DiffWalk  Feature   Binary             None   \n",
       "19                   Sex  Feature   Binary              Sex   \n",
       "20                   Age  Feature  Integer              Age   \n",
       "21             Education  Feature  Integer  Education Level   \n",
       "22                Income  Feature  Integer           Income   \n",
       "\n",
       "                                          description units missing_values  \n",
       "0                                          Patient ID  None             no  \n",
       "1         0 = no diabetes 1 = prediabetes or diabetes  None             no  \n",
       "2                          0 = no high BP 1 = high BP  None             no  \n",
       "3        0 = no high cholesterol 1 = high cholesterol  None             no  \n",
       "4   0 = no cholesterol check in 5 years 1 = yes ch...  None             no  \n",
       "5                                     Body Mass Index  None             no  \n",
       "6   Have you smoked at least 100 cigarettes in you...  None             no  \n",
       "7        (Ever told) you had a stroke. 0 = no 1 = yes  None             no  \n",
       "8   coronary heart disease (CHD) or myocardial inf...  None             no  \n",
       "9   physical activity in past 30 days - not includ...  None             no  \n",
       "10  Consume Fruit 1 or more times per day 0 = no 1...  None             no  \n",
       "11  Consume Vegetables 1 or more times per day 0 =...  None             no  \n",
       "12  Heavy drinkers (adult men having more than 14 ...  None             no  \n",
       "13  Have any kind of health care coverage, includi...  None             no  \n",
       "14  Was there a time in the past 12 months when yo...  None             no  \n",
       "15  Would you say that in general your health is: ...  None             no  \n",
       "16  Now thinking about your mental health, which i...  None             no  \n",
       "17  Now thinking about your physical health, which...  None             no  \n",
       "18  Do you have serious difficulty walking or clim...  None             no  \n",
       "19                                0 = female 1 = male  None             no  \n",
       "20  13-level age category (_AGEG5YR see codebook) ...  None             no  \n",
       "21  Education level (EDUCA see codebook) scale 1-6...  None             no  \n",
       "22  Income scale (INCOME2 see codebook) scale 1-8 ...  None             no  "
      ]
     },
     "execution_count": 4,
     "metadata": {},
     "output_type": "execute_result"
    }
   ],
   "source": [
    "# variable information\n",
    "variable_info = cdc_diabetes_health_indicators.variables\n",
    "variable_info"
   ]
  },
  {
   "cell_type": "markdown",
   "metadata": {
    "id": "rupRs-Bgk5lu"
   },
   "source": [
    "# 2. Summary statistics"
   ]
  },
  {
   "cell_type": "markdown",
   "metadata": {
    "id": "bf-GqJNok5lu"
   },
   "source": [
    "### Exploring the data"
   ]
  },
  {
   "cell_type": "code",
   "execution_count": 5,
   "metadata": {
    "colab": {
     "base_uri": "https://localhost:8080/",
     "height": 256
    },
    "id": "Cb4YKNZyk5lu",
    "outputId": "3a8dd46f-d456-41b9-9170-f6624d267a55"
   },
   "outputs": [
    {
     "data": {
      "text/html": [
       "<div>\n",
       "<style scoped>\n",
       "    .dataframe tbody tr th:only-of-type {\n",
       "        vertical-align: middle;\n",
       "    }\n",
       "\n",
       "    .dataframe tbody tr th {\n",
       "        vertical-align: top;\n",
       "    }\n",
       "\n",
       "    .dataframe thead th {\n",
       "        text-align: right;\n",
       "    }\n",
       "</style>\n",
       "<table border=\"1\" class=\"dataframe\">\n",
       "  <thead>\n",
       "    <tr style=\"text-align: right;\">\n",
       "      <th></th>\n",
       "      <th>HighBP</th>\n",
       "      <th>HighChol</th>\n",
       "      <th>CholCheck</th>\n",
       "      <th>BMI</th>\n",
       "      <th>Smoker</th>\n",
       "      <th>Stroke</th>\n",
       "      <th>HeartDiseaseorAttack</th>\n",
       "      <th>PhysActivity</th>\n",
       "      <th>Fruits</th>\n",
       "      <th>Veggies</th>\n",
       "      <th>...</th>\n",
       "      <th>AnyHealthcare</th>\n",
       "      <th>NoDocbcCost</th>\n",
       "      <th>GenHlth</th>\n",
       "      <th>MentHlth</th>\n",
       "      <th>PhysHlth</th>\n",
       "      <th>DiffWalk</th>\n",
       "      <th>Sex</th>\n",
       "      <th>Age</th>\n",
       "      <th>Education</th>\n",
       "      <th>Income</th>\n",
       "    </tr>\n",
       "  </thead>\n",
       "  <tbody>\n",
       "    <tr>\n",
       "      <th>0</th>\n",
       "      <td>1</td>\n",
       "      <td>1</td>\n",
       "      <td>1</td>\n",
       "      <td>40</td>\n",
       "      <td>1</td>\n",
       "      <td>0</td>\n",
       "      <td>0</td>\n",
       "      <td>0</td>\n",
       "      <td>0</td>\n",
       "      <td>1</td>\n",
       "      <td>...</td>\n",
       "      <td>1</td>\n",
       "      <td>0</td>\n",
       "      <td>5</td>\n",
       "      <td>18</td>\n",
       "      <td>15</td>\n",
       "      <td>1</td>\n",
       "      <td>0</td>\n",
       "      <td>9</td>\n",
       "      <td>4</td>\n",
       "      <td>3</td>\n",
       "    </tr>\n",
       "    <tr>\n",
       "      <th>1</th>\n",
       "      <td>0</td>\n",
       "      <td>0</td>\n",
       "      <td>0</td>\n",
       "      <td>25</td>\n",
       "      <td>1</td>\n",
       "      <td>0</td>\n",
       "      <td>0</td>\n",
       "      <td>1</td>\n",
       "      <td>0</td>\n",
       "      <td>0</td>\n",
       "      <td>...</td>\n",
       "      <td>0</td>\n",
       "      <td>1</td>\n",
       "      <td>3</td>\n",
       "      <td>0</td>\n",
       "      <td>0</td>\n",
       "      <td>0</td>\n",
       "      <td>0</td>\n",
       "      <td>7</td>\n",
       "      <td>6</td>\n",
       "      <td>1</td>\n",
       "    </tr>\n",
       "    <tr>\n",
       "      <th>2</th>\n",
       "      <td>1</td>\n",
       "      <td>1</td>\n",
       "      <td>1</td>\n",
       "      <td>28</td>\n",
       "      <td>0</td>\n",
       "      <td>0</td>\n",
       "      <td>0</td>\n",
       "      <td>0</td>\n",
       "      <td>1</td>\n",
       "      <td>0</td>\n",
       "      <td>...</td>\n",
       "      <td>1</td>\n",
       "      <td>1</td>\n",
       "      <td>5</td>\n",
       "      <td>30</td>\n",
       "      <td>30</td>\n",
       "      <td>1</td>\n",
       "      <td>0</td>\n",
       "      <td>9</td>\n",
       "      <td>4</td>\n",
       "      <td>8</td>\n",
       "    </tr>\n",
       "    <tr>\n",
       "      <th>3</th>\n",
       "      <td>1</td>\n",
       "      <td>0</td>\n",
       "      <td>1</td>\n",
       "      <td>27</td>\n",
       "      <td>0</td>\n",
       "      <td>0</td>\n",
       "      <td>0</td>\n",
       "      <td>1</td>\n",
       "      <td>1</td>\n",
       "      <td>1</td>\n",
       "      <td>...</td>\n",
       "      <td>1</td>\n",
       "      <td>0</td>\n",
       "      <td>2</td>\n",
       "      <td>0</td>\n",
       "      <td>0</td>\n",
       "      <td>0</td>\n",
       "      <td>0</td>\n",
       "      <td>11</td>\n",
       "      <td>3</td>\n",
       "      <td>6</td>\n",
       "    </tr>\n",
       "    <tr>\n",
       "      <th>4</th>\n",
       "      <td>1</td>\n",
       "      <td>1</td>\n",
       "      <td>1</td>\n",
       "      <td>24</td>\n",
       "      <td>0</td>\n",
       "      <td>0</td>\n",
       "      <td>0</td>\n",
       "      <td>1</td>\n",
       "      <td>1</td>\n",
       "      <td>1</td>\n",
       "      <td>...</td>\n",
       "      <td>1</td>\n",
       "      <td>0</td>\n",
       "      <td>2</td>\n",
       "      <td>3</td>\n",
       "      <td>0</td>\n",
       "      <td>0</td>\n",
       "      <td>0</td>\n",
       "      <td>11</td>\n",
       "      <td>5</td>\n",
       "      <td>4</td>\n",
       "    </tr>\n",
       "  </tbody>\n",
       "</table>\n",
       "<p>5 rows × 21 columns</p>\n",
       "</div>"
      ],
      "text/plain": [
       "   HighBP  HighChol  CholCheck  BMI  Smoker  Stroke  HeartDiseaseorAttack  \\\n",
       "0       1         1          1   40       1       0                     0   \n",
       "1       0         0          0   25       1       0                     0   \n",
       "2       1         1          1   28       0       0                     0   \n",
       "3       1         0          1   27       0       0                     0   \n",
       "4       1         1          1   24       0       0                     0   \n",
       "\n",
       "   PhysActivity  Fruits  Veggies  ...  AnyHealthcare  NoDocbcCost  GenHlth  \\\n",
       "0             0       0        1  ...              1            0        5   \n",
       "1             1       0        0  ...              0            1        3   \n",
       "2             0       1        0  ...              1            1        5   \n",
       "3             1       1        1  ...              1            0        2   \n",
       "4             1       1        1  ...              1            0        2   \n",
       "\n",
       "   MentHlth  PhysHlth  DiffWalk  Sex  Age  Education  Income  \n",
       "0        18        15         1    0    9          4       3  \n",
       "1         0         0         0    0    7          6       1  \n",
       "2        30        30         1    0    9          4       8  \n",
       "3         0         0         0    0   11          3       6  \n",
       "4         3         0         0    0   11          5       4  \n",
       "\n",
       "[5 rows x 21 columns]"
      ]
     },
     "execution_count": 5,
     "metadata": {},
     "output_type": "execute_result"
    }
   ],
   "source": [
    "# view the first few rows of the data\n",
    "feature_data.head()"
   ]
  },
  {
   "cell_type": "code",
   "execution_count": 6,
   "metadata": {
    "colab": {
     "base_uri": "https://localhost:8080/",
     "height": 350
    },
    "id": "1jIFJb1Lk5lv",
    "outputId": "5a59345d-614a-459f-a62f-eb83cbeb8124"
   },
   "outputs": [
    {
     "data": {
      "text/html": [
       "<div>\n",
       "<style scoped>\n",
       "    .dataframe tbody tr th:only-of-type {\n",
       "        vertical-align: middle;\n",
       "    }\n",
       "\n",
       "    .dataframe tbody tr th {\n",
       "        vertical-align: top;\n",
       "    }\n",
       "\n",
       "    .dataframe thead th {\n",
       "        text-align: right;\n",
       "    }\n",
       "</style>\n",
       "<table border=\"1\" class=\"dataframe\">\n",
       "  <thead>\n",
       "    <tr style=\"text-align: right;\">\n",
       "      <th></th>\n",
       "      <th>HighBP</th>\n",
       "      <th>HighChol</th>\n",
       "      <th>CholCheck</th>\n",
       "      <th>BMI</th>\n",
       "      <th>Smoker</th>\n",
       "      <th>Stroke</th>\n",
       "      <th>HeartDiseaseorAttack</th>\n",
       "      <th>PhysActivity</th>\n",
       "      <th>Fruits</th>\n",
       "      <th>Veggies</th>\n",
       "      <th>...</th>\n",
       "      <th>AnyHealthcare</th>\n",
       "      <th>NoDocbcCost</th>\n",
       "      <th>GenHlth</th>\n",
       "      <th>MentHlth</th>\n",
       "      <th>PhysHlth</th>\n",
       "      <th>DiffWalk</th>\n",
       "      <th>Sex</th>\n",
       "      <th>Age</th>\n",
       "      <th>Education</th>\n",
       "      <th>Income</th>\n",
       "    </tr>\n",
       "  </thead>\n",
       "  <tbody>\n",
       "    <tr>\n",
       "      <th>count</th>\n",
       "      <td>253680.000000</td>\n",
       "      <td>253680.000000</td>\n",
       "      <td>253680.000000</td>\n",
       "      <td>253680.000000</td>\n",
       "      <td>253680.000000</td>\n",
       "      <td>253680.000000</td>\n",
       "      <td>253680.000000</td>\n",
       "      <td>253680.000000</td>\n",
       "      <td>253680.000000</td>\n",
       "      <td>253680.000000</td>\n",
       "      <td>...</td>\n",
       "      <td>253680.000000</td>\n",
       "      <td>253680.000000</td>\n",
       "      <td>253680.000000</td>\n",
       "      <td>253680.000000</td>\n",
       "      <td>253680.000000</td>\n",
       "      <td>253680.000000</td>\n",
       "      <td>253680.000000</td>\n",
       "      <td>253680.000000</td>\n",
       "      <td>253680.000000</td>\n",
       "      <td>253680.000000</td>\n",
       "    </tr>\n",
       "    <tr>\n",
       "      <th>mean</th>\n",
       "      <td>0.429001</td>\n",
       "      <td>0.424121</td>\n",
       "      <td>0.962670</td>\n",
       "      <td>28.382364</td>\n",
       "      <td>0.443169</td>\n",
       "      <td>0.040571</td>\n",
       "      <td>0.094186</td>\n",
       "      <td>0.756544</td>\n",
       "      <td>0.634256</td>\n",
       "      <td>0.811420</td>\n",
       "      <td>...</td>\n",
       "      <td>0.951053</td>\n",
       "      <td>0.084177</td>\n",
       "      <td>2.511392</td>\n",
       "      <td>3.184772</td>\n",
       "      <td>4.242081</td>\n",
       "      <td>0.168224</td>\n",
       "      <td>0.440342</td>\n",
       "      <td>8.032119</td>\n",
       "      <td>5.050434</td>\n",
       "      <td>6.053875</td>\n",
       "    </tr>\n",
       "    <tr>\n",
       "      <th>std</th>\n",
       "      <td>0.494934</td>\n",
       "      <td>0.494210</td>\n",
       "      <td>0.189571</td>\n",
       "      <td>6.608694</td>\n",
       "      <td>0.496761</td>\n",
       "      <td>0.197294</td>\n",
       "      <td>0.292087</td>\n",
       "      <td>0.429169</td>\n",
       "      <td>0.481639</td>\n",
       "      <td>0.391175</td>\n",
       "      <td>...</td>\n",
       "      <td>0.215759</td>\n",
       "      <td>0.277654</td>\n",
       "      <td>1.068477</td>\n",
       "      <td>7.412847</td>\n",
       "      <td>8.717951</td>\n",
       "      <td>0.374066</td>\n",
       "      <td>0.496429</td>\n",
       "      <td>3.054220</td>\n",
       "      <td>0.985774</td>\n",
       "      <td>2.071148</td>\n",
       "    </tr>\n",
       "    <tr>\n",
       "      <th>min</th>\n",
       "      <td>0.000000</td>\n",
       "      <td>0.000000</td>\n",
       "      <td>0.000000</td>\n",
       "      <td>12.000000</td>\n",
       "      <td>0.000000</td>\n",
       "      <td>0.000000</td>\n",
       "      <td>0.000000</td>\n",
       "      <td>0.000000</td>\n",
       "      <td>0.000000</td>\n",
       "      <td>0.000000</td>\n",
       "      <td>...</td>\n",
       "      <td>0.000000</td>\n",
       "      <td>0.000000</td>\n",
       "      <td>1.000000</td>\n",
       "      <td>0.000000</td>\n",
       "      <td>0.000000</td>\n",
       "      <td>0.000000</td>\n",
       "      <td>0.000000</td>\n",
       "      <td>1.000000</td>\n",
       "      <td>1.000000</td>\n",
       "      <td>1.000000</td>\n",
       "    </tr>\n",
       "    <tr>\n",
       "      <th>25%</th>\n",
       "      <td>0.000000</td>\n",
       "      <td>0.000000</td>\n",
       "      <td>1.000000</td>\n",
       "      <td>24.000000</td>\n",
       "      <td>0.000000</td>\n",
       "      <td>0.000000</td>\n",
       "      <td>0.000000</td>\n",
       "      <td>1.000000</td>\n",
       "      <td>0.000000</td>\n",
       "      <td>1.000000</td>\n",
       "      <td>...</td>\n",
       "      <td>1.000000</td>\n",
       "      <td>0.000000</td>\n",
       "      <td>2.000000</td>\n",
       "      <td>0.000000</td>\n",
       "      <td>0.000000</td>\n",
       "      <td>0.000000</td>\n",
       "      <td>0.000000</td>\n",
       "      <td>6.000000</td>\n",
       "      <td>4.000000</td>\n",
       "      <td>5.000000</td>\n",
       "    </tr>\n",
       "    <tr>\n",
       "      <th>50%</th>\n",
       "      <td>0.000000</td>\n",
       "      <td>0.000000</td>\n",
       "      <td>1.000000</td>\n",
       "      <td>27.000000</td>\n",
       "      <td>0.000000</td>\n",
       "      <td>0.000000</td>\n",
       "      <td>0.000000</td>\n",
       "      <td>1.000000</td>\n",
       "      <td>1.000000</td>\n",
       "      <td>1.000000</td>\n",
       "      <td>...</td>\n",
       "      <td>1.000000</td>\n",
       "      <td>0.000000</td>\n",
       "      <td>2.000000</td>\n",
       "      <td>0.000000</td>\n",
       "      <td>0.000000</td>\n",
       "      <td>0.000000</td>\n",
       "      <td>0.000000</td>\n",
       "      <td>8.000000</td>\n",
       "      <td>5.000000</td>\n",
       "      <td>7.000000</td>\n",
       "    </tr>\n",
       "    <tr>\n",
       "      <th>75%</th>\n",
       "      <td>1.000000</td>\n",
       "      <td>1.000000</td>\n",
       "      <td>1.000000</td>\n",
       "      <td>31.000000</td>\n",
       "      <td>1.000000</td>\n",
       "      <td>0.000000</td>\n",
       "      <td>0.000000</td>\n",
       "      <td>1.000000</td>\n",
       "      <td>1.000000</td>\n",
       "      <td>1.000000</td>\n",
       "      <td>...</td>\n",
       "      <td>1.000000</td>\n",
       "      <td>0.000000</td>\n",
       "      <td>3.000000</td>\n",
       "      <td>2.000000</td>\n",
       "      <td>3.000000</td>\n",
       "      <td>0.000000</td>\n",
       "      <td>1.000000</td>\n",
       "      <td>10.000000</td>\n",
       "      <td>6.000000</td>\n",
       "      <td>8.000000</td>\n",
       "    </tr>\n",
       "    <tr>\n",
       "      <th>max</th>\n",
       "      <td>1.000000</td>\n",
       "      <td>1.000000</td>\n",
       "      <td>1.000000</td>\n",
       "      <td>98.000000</td>\n",
       "      <td>1.000000</td>\n",
       "      <td>1.000000</td>\n",
       "      <td>1.000000</td>\n",
       "      <td>1.000000</td>\n",
       "      <td>1.000000</td>\n",
       "      <td>1.000000</td>\n",
       "      <td>...</td>\n",
       "      <td>1.000000</td>\n",
       "      <td>1.000000</td>\n",
       "      <td>5.000000</td>\n",
       "      <td>30.000000</td>\n",
       "      <td>30.000000</td>\n",
       "      <td>1.000000</td>\n",
       "      <td>1.000000</td>\n",
       "      <td>13.000000</td>\n",
       "      <td>6.000000</td>\n",
       "      <td>8.000000</td>\n",
       "    </tr>\n",
       "  </tbody>\n",
       "</table>\n",
       "<p>8 rows × 21 columns</p>\n",
       "</div>"
      ],
      "text/plain": [
       "              HighBP       HighChol      CholCheck            BMI  \\\n",
       "count  253680.000000  253680.000000  253680.000000  253680.000000   \n",
       "mean        0.429001       0.424121       0.962670      28.382364   \n",
       "std         0.494934       0.494210       0.189571       6.608694   \n",
       "min         0.000000       0.000000       0.000000      12.000000   \n",
       "25%         0.000000       0.000000       1.000000      24.000000   \n",
       "50%         0.000000       0.000000       1.000000      27.000000   \n",
       "75%         1.000000       1.000000       1.000000      31.000000   \n",
       "max         1.000000       1.000000       1.000000      98.000000   \n",
       "\n",
       "              Smoker         Stroke  HeartDiseaseorAttack   PhysActivity  \\\n",
       "count  253680.000000  253680.000000         253680.000000  253680.000000   \n",
       "mean        0.443169       0.040571              0.094186       0.756544   \n",
       "std         0.496761       0.197294              0.292087       0.429169   \n",
       "min         0.000000       0.000000              0.000000       0.000000   \n",
       "25%         0.000000       0.000000              0.000000       1.000000   \n",
       "50%         0.000000       0.000000              0.000000       1.000000   \n",
       "75%         1.000000       0.000000              0.000000       1.000000   \n",
       "max         1.000000       1.000000              1.000000       1.000000   \n",
       "\n",
       "              Fruits        Veggies  ...  AnyHealthcare    NoDocbcCost  \\\n",
       "count  253680.000000  253680.000000  ...  253680.000000  253680.000000   \n",
       "mean        0.634256       0.811420  ...       0.951053       0.084177   \n",
       "std         0.481639       0.391175  ...       0.215759       0.277654   \n",
       "min         0.000000       0.000000  ...       0.000000       0.000000   \n",
       "25%         0.000000       1.000000  ...       1.000000       0.000000   \n",
       "50%         1.000000       1.000000  ...       1.000000       0.000000   \n",
       "75%         1.000000       1.000000  ...       1.000000       0.000000   \n",
       "max         1.000000       1.000000  ...       1.000000       1.000000   \n",
       "\n",
       "             GenHlth       MentHlth       PhysHlth       DiffWalk  \\\n",
       "count  253680.000000  253680.000000  253680.000000  253680.000000   \n",
       "mean        2.511392       3.184772       4.242081       0.168224   \n",
       "std         1.068477       7.412847       8.717951       0.374066   \n",
       "min         1.000000       0.000000       0.000000       0.000000   \n",
       "25%         2.000000       0.000000       0.000000       0.000000   \n",
       "50%         2.000000       0.000000       0.000000       0.000000   \n",
       "75%         3.000000       2.000000       3.000000       0.000000   \n",
       "max         5.000000      30.000000      30.000000       1.000000   \n",
       "\n",
       "                 Sex            Age      Education         Income  \n",
       "count  253680.000000  253680.000000  253680.000000  253680.000000  \n",
       "mean        0.440342       8.032119       5.050434       6.053875  \n",
       "std         0.496429       3.054220       0.985774       2.071148  \n",
       "min         0.000000       1.000000       1.000000       1.000000  \n",
       "25%         0.000000       6.000000       4.000000       5.000000  \n",
       "50%         0.000000       8.000000       5.000000       7.000000  \n",
       "75%         1.000000      10.000000       6.000000       8.000000  \n",
       "max         1.000000      13.000000       6.000000       8.000000  \n",
       "\n",
       "[8 rows x 21 columns]"
      ]
     },
     "execution_count": 6,
     "metadata": {},
     "output_type": "execute_result"
    }
   ],
   "source": [
    "feature_data.describe(include='all')"
   ]
  },
  {
   "cell_type": "code",
   "execution_count": 7,
   "metadata": {
    "colab": {
     "base_uri": "https://localhost:8080/"
    },
    "id": "efbUAKAUk5lv",
    "outputId": "a53c7d8b-94ac-4ddb-c9c6-0bb4472e97c5"
   },
   "outputs": [
    {
     "data": {
      "text/plain": [
       "HighBP                  int64\n",
       "HighChol                int64\n",
       "CholCheck               int64\n",
       "BMI                     int64\n",
       "Smoker                  int64\n",
       "Stroke                  int64\n",
       "HeartDiseaseorAttack    int64\n",
       "PhysActivity            int64\n",
       "Fruits                  int64\n",
       "Veggies                 int64\n",
       "HvyAlcoholConsump       int64\n",
       "AnyHealthcare           int64\n",
       "NoDocbcCost             int64\n",
       "GenHlth                 int64\n",
       "MentHlth                int64\n",
       "PhysHlth                int64\n",
       "DiffWalk                int64\n",
       "Sex                     int64\n",
       "Age                     int64\n",
       "Education               int64\n",
       "Income                  int64\n",
       "dtype: object"
      ]
     },
     "execution_count": 7,
     "metadata": {},
     "output_type": "execute_result"
    }
   ],
   "source": [
    "feature_data.dtypes"
   ]
  },
  {
   "cell_type": "code",
   "execution_count": 8,
   "metadata": {
    "colab": {
     "base_uri": "https://localhost:8080/",
     "height": 175
    },
    "id": "xerp2gPZk5lv",
    "outputId": "f1e2d9c8-dc48-4631-f531-bd083d490b10"
   },
   "outputs": [
    {
     "data": {
      "text/html": [
       "<div>\n",
       "<style scoped>\n",
       "    .dataframe tbody tr th:only-of-type {\n",
       "        vertical-align: middle;\n",
       "    }\n",
       "\n",
       "    .dataframe tbody tr th {\n",
       "        vertical-align: top;\n",
       "    }\n",
       "\n",
       "    .dataframe thead th {\n",
       "        text-align: right;\n",
       "    }\n",
       "</style>\n",
       "<table border=\"1\" class=\"dataframe\">\n",
       "  <thead>\n",
       "    <tr style=\"text-align: right;\">\n",
       "      <th></th>\n",
       "      <th>name</th>\n",
       "      <th>role</th>\n",
       "      <th>type</th>\n",
       "      <th>demographic</th>\n",
       "      <th>description</th>\n",
       "      <th>units</th>\n",
       "      <th>missing_values</th>\n",
       "    </tr>\n",
       "  </thead>\n",
       "  <tbody>\n",
       "    <tr>\n",
       "      <th>19</th>\n",
       "      <td>Sex</td>\n",
       "      <td>Feature</td>\n",
       "      <td>Binary</td>\n",
       "      <td>Sex</td>\n",
       "      <td>0 = female 1 = male</td>\n",
       "      <td>None</td>\n",
       "      <td>no</td>\n",
       "    </tr>\n",
       "    <tr>\n",
       "      <th>20</th>\n",
       "      <td>Age</td>\n",
       "      <td>Feature</td>\n",
       "      <td>Integer</td>\n",
       "      <td>Age</td>\n",
       "      <td>13-level age category (_AGEG5YR see codebook) ...</td>\n",
       "      <td>None</td>\n",
       "      <td>no</td>\n",
       "    </tr>\n",
       "    <tr>\n",
       "      <th>21</th>\n",
       "      <td>Education</td>\n",
       "      <td>Feature</td>\n",
       "      <td>Integer</td>\n",
       "      <td>Education Level</td>\n",
       "      <td>Education level (EDUCA see codebook) scale 1-6...</td>\n",
       "      <td>None</td>\n",
       "      <td>no</td>\n",
       "    </tr>\n",
       "    <tr>\n",
       "      <th>22</th>\n",
       "      <td>Income</td>\n",
       "      <td>Feature</td>\n",
       "      <td>Integer</td>\n",
       "      <td>Income</td>\n",
       "      <td>Income scale (INCOME2 see codebook) scale 1-8 ...</td>\n",
       "      <td>None</td>\n",
       "      <td>no</td>\n",
       "    </tr>\n",
       "  </tbody>\n",
       "</table>\n",
       "</div>"
      ],
      "text/plain": [
       "         name     role     type      demographic  \\\n",
       "19        Sex  Feature   Binary              Sex   \n",
       "20        Age  Feature  Integer              Age   \n",
       "21  Education  Feature  Integer  Education Level   \n",
       "22     Income  Feature  Integer           Income   \n",
       "\n",
       "                                          description units missing_values  \n",
       "19                                0 = female 1 = male  None             no  \n",
       "20  13-level age category (_AGEG5YR see codebook) ...  None             no  \n",
       "21  Education level (EDUCA see codebook) scale 1-6...  None             no  \n",
       "22  Income scale (INCOME2 see codebook) scale 1-8 ...  None             no  "
      ]
     },
     "execution_count": 8,
     "metadata": {},
     "output_type": "execute_result"
    }
   ],
   "source": [
    "sensitive_attributes = ['Sex', 'Age', 'Education', 'Income']\n",
    "\n",
    "variable_info[variable_info['name'].isin(sensitive_attributes)]"
   ]
  },
  {
   "cell_type": "code",
   "execution_count": 9,
   "metadata": {
    "id": "9FgxrfIwk5lv"
   },
   "outputs": [],
   "source": [
    "# Variable Detailed Description from Codebook\n",
    "# source: https://www.cdc.gov/brfss/annual_data/2015/pdf/codebook15_llcp.pdf\n",
    "\n",
    "Sex_desc = {\n",
    "    0: 'Female',\n",
    "    1: 'Male'\n",
    "}\n",
    "\n",
    "Age_desc = {\n",
    "    1: 'Age 18 to 24',\n",
    "    2: 'Age 25 to 29',\n",
    "    3: 'Age 30 to 34',\n",
    "    4: 'Age 35 to 39',\n",
    "    5: 'Age 40 to 44',\n",
    "    6: 'Age 45 to 49',\n",
    "    7: 'Age 50 to 54',\n",
    "    8: 'Age 55 to 59',\n",
    "    9: 'Age 60 to 64',\n",
    "    10: 'Age 65 to 69',\n",
    "    11: 'Age 70 to 74',\n",
    "    12: 'Age 75 to 79',\n",
    "    13: 'Age 80 or older'\n",
    "    }\n",
    "\n",
    "Education_desc = {\n",
    "    1: 'Never attended school or only kindergarten',\n",
    "    2: 'Grades 1 through 8 (Elementary)',\n",
    "    3: 'Grades 9 through 11 (Some high school)',\n",
    "    4: 'Grade 12 or GED (High school graduate)',\n",
    "    5: 'College 1 year to 3 years (Some college or technical school)',\n",
    "    6: 'College 4 years or more (College graduate)'\n",
    "}\n",
    "\n",
    "Income_desc = {\n",
    "    1: 'Less than $10,000',\n",
    "    2: 'Less than $15,000 ($10,000 to less than $15,000)',\n",
    "    3: 'Less than $20,000 ($15,000 to less than $20,000)',\n",
    "    4: 'Less than $25,000 ($20,000 to less than $25,000)',\n",
    "    5: 'Less than $35,000 ($25,000 to less than $35,000)',\n",
    "    6: 'Less than $50,000 ($35,000 to less than $50,000)',\n",
    "    7: 'Less than $75,000 ($50,000 to less than $75,000)',\n",
    "    8: '$75,000 or more',\n",
    "}"
   ]
  },
  {
   "cell_type": "markdown",
   "metadata": {
    "id": "7k9uQqERk5lw"
   },
   "source": [
    "### a. How many rows & columns of data do you have, both overall, and per sensitive attribute subgroup?"
   ]
  },
  {
   "cell_type": "code",
   "execution_count": 10,
   "metadata": {
    "colab": {
     "base_uri": "https://localhost:8080/"
    },
    "id": "YVZQVYmkk5lw",
    "outputId": "12882c66-4344-4ebd-ca4d-b5d40e80fa47"
   },
   "outputs": [
    {
     "name": "stdout",
     "output_type": "stream",
     "text": [
      "There are 253680 rows and 21 columns in the dataset\n",
      "\n",
      "Sex Variable:\n",
      "  0 (Female): 141974 rows\n",
      "  1 (Male): 111706 rows\n",
      "\n",
      "Age Variable:\n",
      "  1 (Age 18 to 24): 5700 rows\n",
      "  2 (Age 25 to 29): 7598 rows\n",
      "  3 (Age 30 to 34): 11123 rows\n",
      "  4 (Age 35 to 39): 13823 rows\n",
      "  5 (Age 40 to 44): 16157 rows\n",
      "  6 (Age 45 to 49): 19819 rows\n",
      "  7 (Age 50 to 54): 26314 rows\n",
      "  8 (Age 55 to 59): 30832 rows\n",
      "  9 (Age 60 to 64): 33244 rows\n",
      "  10 (Age 65 to 69): 32194 rows\n",
      "  11 (Age 70 to 74): 23533 rows\n",
      "  12 (Age 75 to 79): 15980 rows\n",
      "  13 (Age 80 or older): 17363 rows\n",
      "\n",
      "Education Variable:\n",
      "  1 (Never attended school or only kindergarten): 174 rows\n",
      "  2 (Grades 1 through 8 (Elementary)): 4043 rows\n",
      "  3 (Grades 9 through 11 (Some high school)): 9478 rows\n",
      "  4 (Grade 12 or GED (High school graduate)): 62750 rows\n",
      "  5 (College 1 year to 3 years (Some college or technical school)): 69910 rows\n",
      "  6 (College 4 years or more (College graduate)): 107325 rows\n",
      "\n",
      "Income Variable:\n",
      "  1 (Less than $10,000): 9811 rows\n",
      "  2 (Less than $15,000 ($10,000 to less than $15,000)): 11783 rows\n",
      "  3 (Less than $20,000 ($15,000 to less than $20,000)): 15994 rows\n",
      "  4 (Less than $25,000 ($20,000 to less than $25,000)): 20135 rows\n",
      "  5 (Less than $35,000 ($25,000 to less than $35,000)): 25883 rows\n",
      "  6 (Less than $50,000 ($35,000 to less than $50,000)): 36470 rows\n",
      "  7 (Less than $75,000 ($50,000 to less than $75,000)): 43219 rows\n",
      "  8 ($75,000 or more): 90385 rows\n"
     ]
    }
   ],
   "source": [
    "# How many rows & columns of data do you have, both overall, and per sensitive attribute subgroup?\n",
    "\n",
    "rows, columns = feature_data.shape\n",
    "print(f'There are {rows} rows and {columns} columns in the dataset')\n",
    "\n",
    "for att in sensitive_attributes:\n",
    "    print(f'\\n{att} Variable:')\n",
    "\n",
    "    n_subgroups = feature_data[att].nunique()\n",
    "    desc_dict_name = att + '_desc'\n",
    "    if att=='Sex':\n",
    "        first_val = 0\n",
    "    else:\n",
    "        first_val = 1\n",
    "\n",
    "    for subgroup in range(first_val, n_subgroups + first_val):\n",
    "\n",
    "        subgroup_name = eval(desc_dict_name)[subgroup]\n",
    "        print(f'  {subgroup} ({subgroup_name}): {len(feature_data[feature_data[att] == subgroup])} rows')\n"
   ]
  },
  {
   "cell_type": "markdown",
   "metadata": {
    "id": "IC3IPjfRk5lw"
   },
   "source": [
    "### b. What are your outcome variables of interest?\n",
    "> Our outcome variable is called *\"Diabetes_binary\"* and is stored in target_data\n"
   ]
  },
  {
   "cell_type": "code",
   "execution_count": 11,
   "metadata": {
    "colab": {
     "base_uri": "https://localhost:8080/",
     "height": 300
    },
    "id": "cg7YypjQk5lw",
    "outputId": "68b00f07-d2ed-4ae9-aa20-86a3e3ccd2e8"
   },
   "outputs": [
    {
     "data": {
      "text/html": [
       "<div>\n",
       "<style scoped>\n",
       "    .dataframe tbody tr th:only-of-type {\n",
       "        vertical-align: middle;\n",
       "    }\n",
       "\n",
       "    .dataframe tbody tr th {\n",
       "        vertical-align: top;\n",
       "    }\n",
       "\n",
       "    .dataframe thead th {\n",
       "        text-align: right;\n",
       "    }\n",
       "</style>\n",
       "<table border=\"1\" class=\"dataframe\">\n",
       "  <thead>\n",
       "    <tr style=\"text-align: right;\">\n",
       "      <th></th>\n",
       "      <th>Diabetes_binary</th>\n",
       "    </tr>\n",
       "  </thead>\n",
       "  <tbody>\n",
       "    <tr>\n",
       "      <th>count</th>\n",
       "      <td>253680.000000</td>\n",
       "    </tr>\n",
       "    <tr>\n",
       "      <th>mean</th>\n",
       "      <td>0.139333</td>\n",
       "    </tr>\n",
       "    <tr>\n",
       "      <th>std</th>\n",
       "      <td>0.346294</td>\n",
       "    </tr>\n",
       "    <tr>\n",
       "      <th>min</th>\n",
       "      <td>0.000000</td>\n",
       "    </tr>\n",
       "    <tr>\n",
       "      <th>25%</th>\n",
       "      <td>0.000000</td>\n",
       "    </tr>\n",
       "    <tr>\n",
       "      <th>50%</th>\n",
       "      <td>0.000000</td>\n",
       "    </tr>\n",
       "    <tr>\n",
       "      <th>75%</th>\n",
       "      <td>0.000000</td>\n",
       "    </tr>\n",
       "    <tr>\n",
       "      <th>max</th>\n",
       "      <td>1.000000</td>\n",
       "    </tr>\n",
       "  </tbody>\n",
       "</table>\n",
       "</div>"
      ],
      "text/plain": [
       "       Diabetes_binary\n",
       "count    253680.000000\n",
       "mean          0.139333\n",
       "std           0.346294\n",
       "min           0.000000\n",
       "25%           0.000000\n",
       "50%           0.000000\n",
       "75%           0.000000\n",
       "max           1.000000"
      ]
     },
     "execution_count": 11,
     "metadata": {},
     "output_type": "execute_result"
    }
   ],
   "source": [
    "# What mean / median / standard deviation values do the outcome variables have overall?\n",
    "\n",
    "target_data.describe()"
   ]
  },
  {
   "cell_type": "code",
   "execution_count": 12,
   "metadata": {
    "colab": {
     "base_uri": "https://localhost:8080/"
    },
    "id": "ssGlLzbwk5lw",
    "outputId": "ddb93c44-0cfe-4ea4-f720-8d07b3da4342"
   },
   "outputs": [
    {
     "name": "stdout",
     "output_type": "stream",
     "text": [
      "\n",
      "Sex Variable:\n",
      "\t0 (Female): \t12.97% have diabetes\n",
      "\t1 (Male): \t15.16% have diabetes\n",
      "\n",
      "Age Variable:\n",
      "\t1 (Age 18 to 24): \t1.37% have diabetes\n",
      "\t2 (Age 25 to 29): \t1.84% have diabetes\n",
      "\t3 (Age 30 to 34): \t2.82% have diabetes\n",
      "\t4 (Age 35 to 39): \t4.53% have diabetes\n",
      "\t5 (Age 40 to 44): \t6.50% have diabetes\n",
      "\t6 (Age 45 to 49): \t8.79% have diabetes\n",
      "\t7 (Age 50 to 54): \t11.74% have diabetes\n",
      "\t8 (Age 55 to 59): \t13.83% have diabetes\n",
      "\t9 (Age 60 to 64): \t17.25% have diabetes\n",
      "\t10 (Age 65 to 69): \t20.37% have diabetes\n",
      "\t11 (Age 70 to 74): \t21.85% have diabetes\n",
      "\t12 (Age 75 to 79): \t21.30% have diabetes\n",
      "\t13 (Age 80 or older): \t18.48% have diabetes\n",
      "\n",
      "Education Variable:\n",
      "\t1 (Never attended school or only kindergarten): \t27.01% have diabetes\n",
      "\t2 (Grades 1 through 8 (Elementary)): \t29.26% have diabetes\n",
      "\t3 (Grades 9 through 11 (Some high school)): \t24.22% have diabetes\n",
      "\t4 (Grade 12 or GED (High school graduate)): \t17.64% have diabetes\n",
      "\t5 (College 1 year to 3 years (Some college or technical school)): \t14.81% have diabetes\n",
      "\t6 (College 4 years or more (College graduate)): \t9.69% have diabetes\n",
      "\n",
      "Income Variable:\n",
      "\t1 (Less than $10,000): \t24.29% have diabetes\n",
      "\t2 (Less than $15,000 ($10,000 to less than $15,000)): \t26.19% have diabetes\n",
      "\t3 (Less than $20,000 ($15,000 to less than $20,000)): \t22.31% have diabetes\n",
      "\t4 (Less than $25,000 ($20,000 to less than $25,000)): \t20.13% have diabetes\n",
      "\t5 (Less than $35,000 ($25,000 to less than $35,000)): \t17.40% have diabetes\n",
      "\t6 (Less than $50,000 ($35,000 to less than $50,000)): \t14.51% have diabetes\n",
      "\t7 (Less than $75,000 ($50,000 to less than $75,000)): \t12.18% have diabetes\n",
      "\t8 ($75,000 or more): \t7.96% have diabetes\n"
     ]
    }
   ],
   "source": [
    "# What about these statistics within each relevant sensitive attribute subgroup?\n",
    "\n",
    "# merging target and feature data\n",
    "merged_data = feature_data.copy()\n",
    "merged_data['Diabetes_binary'] = target_data\n",
    "\n",
    "for att in sensitive_attributes:\n",
    "    print(f'\\n{att} Variable:')\n",
    "\n",
    "    n_subgroups = merged_data[att].nunique()\n",
    "    desc_dict_name = att + '_desc'\n",
    "    if att=='Sex':\n",
    "        first_val = 0\n",
    "    else:\n",
    "        first_val = 1\n",
    "\n",
    "    for subgroup in range(first_val, n_subgroups + first_val):\n",
    "\n",
    "        subgroup_name = eval(desc_dict_name)[subgroup]\n",
    "        subgroup_diabetes_percent = merged_data[merged_data[att] == subgroup]['Diabetes_binary'].mean()\n",
    "        print(f'\\t{subgroup} ({subgroup_name}): \\t{subgroup_diabetes_percent:.2%} have diabetes')\n"
   ]
  },
  {
   "cell_type": "markdown",
   "metadata": {
    "id": "VX6D-65pk5lx"
   },
   "source": [
    "### c. Plot at least as many figures as your # group members, and explain concisely but meaningfully what the plot shows in markdown text"
   ]
  },
  {
   "cell_type": "code",
   "execution_count": 28,
   "metadata": {
    "id": "APCtVe0Tk5lx"
   },
   "outputs": [],
   "source": [
    "# helper function to plot a varible distribution\n",
    "\n",
    "import matplotlib.pyplot as plt\n",
    "import seaborn as sns\n",
    "\n",
    "def plot_dist(data, col, labels):\n",
    "    sns.countplot(x=col, data=data, palette=['lightcoral','skyblue'])\n",
    "    if labels:\n",
    "        plt.xticks(ticks=[0,1], labels=labels.values())\n",
    "        plt.xlabel('')\n"
   ]
  },
  {
   "cell_type": "markdown",
   "metadata": {
    "id": "PSHpAMQ8k5lx"
   },
   "source": [
    "#### Relative Distribution of Binary Variables"
   ]
  },
  {
   "cell_type": "code",
   "execution_count": 29,
   "metadata": {
    "colab": {
     "base_uri": "https://localhost:8080/",
     "height": 1000
    },
    "id": "BfhHUDi9k5lx",
    "outputId": "10401148-a5eb-43ba-e4ed-82189bed9ebe"
   },
   "outputs": [
    {
     "data": {
      "image/png": "[encoded data removed]",
      "text/plain": [
       "<Figure size 1440x2160 with 15 Axes>"
      ]
     },
     "metadata": {
      "needs_background": "light"
     },
     "output_type": "display_data"
    }
   ],
   "source": [
    "# hiding warnings\n",
    "import warnings\n",
    "warnings.filterwarnings('ignore')\n",
    "\n",
    "# setting up multi plot\n",
    "fig = plt.figure(figsize=(20,30))\n",
    "plt.suptitle('Relative Distribution of Binary Variables',\n",
    "             va='bottom', y=0.9, fontsize=20)\n",
    "fig_count = 1\n",
    "\n",
    "# plotting target variable\n",
    "col = 'Diabetes_binary'\n",
    "x_labels = {0:'No',1:'Yes'}\n",
    "\n",
    "plt.subplot(5, 3, fig_count)\n",
    "plt.title(\"#\"+str(fig_count)+\": \"+col)\n",
    "plot_dist(target_data, col, x_labels)\n",
    "\n",
    "# plotting binary features (14 out of 21)\n",
    "binary_features = feature_data.columns[feature_data.nunique() == 2]\n",
    "\n",
    "for col in binary_features:\n",
    "    fig_count += 1\n",
    "\n",
    "    if col == 'Sex':\n",
    "        x_labels = {0:'Female',1:'Male'}\n",
    "\n",
    "    plt.subplot(5, 3, fig_count)\n",
    "    plt.title(\"#\"+str(fig_count)+\": \"+col)\n",
    "    plot_dist(feature_data, col, x_labels)\n",
    "\n",
    "plt.show()\n"
   ]
  },
  {
   "cell_type": "markdown",
   "metadata": {},
   "source": [
    "We observe that there tends to be a large difference in responses for most binary variables, with the exception of smokers, high blood pressure, and high cholesterol. Additionally, there are more females represented in the dataset than males."
   ]
  },
  {
   "cell_type": "markdown",
   "metadata": {
    "id": "PsoyexWUk5lx"
   },
   "source": [
    "#### Relative Distribution of Other Variables"
   ]
  },
  {
   "cell_type": "code",
   "execution_count": 31,
   "metadata": {
    "colab": {
     "base_uri": "https://localhost:8080/",
     "height": 1000
    },
    "id": "rcIvJvOUk5lx",
    "outputId": "6754df3c-ec2e-46b1-8fb8-2dfdc1ab5397"
   },
   "outputs": [
    {
     "data": {
      "image/png": "[encoded data removed]",
      "text/plain": [
       "<Figure size 1440x2160 with 7 Axes>"
      ]
     },
     "metadata": {
      "needs_background": "light"
     },
     "output_type": "display_data"
    }
   ],
   "source": [
    "other_features = [feat for feat in feature_data.columns if feat not in binary_features]\n",
    "\n",
    "# setting up multi plot\n",
    "fig = plt.figure(figsize=(20,30))\n",
    "plt.suptitle('Relative Distribution of Other Variables',\n",
    "             va='bottom', y=0.9, fontsize=20)\n",
    "fig_count = 1\n",
    "\n",
    "for att in other_features:\n",
    "    plt.subplot(4, 2, fig_count)\n",
    "    sns.histplot(x=att , data=merged_data, stat=\"percent\", shrink=5, palette='Pastel1')\n",
    "    plt.xlabel('')\n",
    "\n",
    "    plt.title(\"#\"+str(fig_count+15)+\": \"+att)\n",
    "\n",
    "    fig_count += 1\n",
    "plt.show()"
   ]
  },
  {
   "cell_type": "markdown",
   "metadata": {},
   "source": [
    "We observe that BMI is right skewed, while education and income are left skewed. Age follows a slightly left skewed distribution and most participants indicated no issues with their mental or physical health during the past 30 days.\n"
   ]
  },
  {
   "cell_type": "markdown",
   "metadata": {
    "id": "cpvDWQI3k5lx"
   },
   "source": [
    "#### Correlation Heatmap"
   ]
  },
  {
   "cell_type": "code",
   "execution_count": 32,
   "metadata": {
    "colab": {
     "base_uri": "https://localhost:8080/",
     "height": 986
    },
    "id": "OARKLyVAk5lx",
    "outputId": "0b78ae58-d1f3-4cd5-87fb-9bdf2ccd6ddd"
   },
   "outputs": [
    {
     "data": {
      "text/plain": [
       "<AxesSubplot:>"
      ]
     },
     "execution_count": 32,
     "metadata": {},
     "output_type": "execute_result"
    },
    {
     "data": {
      "image/png": "[encoded data removed]",
      "text/plain": [
       "<Figure size 864x720 with 2 Axes>"
      ]
     },
     "metadata": {
      "needs_background": "light"
     },
     "output_type": "display_data"
    }
   ],
   "source": [
    "# creating a heatmap to show correlation between the features\n",
    "plt.figure(figsize=(12,10))\n",
    "correlation = feature_data.corr()\n",
    "\n",
    "# selecting the highly correlated features (abs corr > 0.25)\n",
    "hi_corr = correlation.copy()\n",
    "threshold = 0.25\n",
    "hi_corr[(abs(hi_corr) < threshold) | (abs(hi_corr) > 0.99)] = 0\n",
    "sns.heatmap(hi_corr, annot=False, cmap='coolwarm', center=0)\n"
   ]
  },
  {
   "cell_type": "markdown",
   "metadata": {},
   "source": [
    "The highest positive correlations observed in the data are between difficulty walking, physical health, general health, and mental health, which aligns with what we see in real life with these variables often being intercorrelated. Education and Income are also highly positively correlated as a higher income level allows more higher education levels, and vice versa. The highest negative correlation between variables were between income and general/physical health indicators, and potentially those who are lower income could have more concerns related to their health status."
   ]
  },
  {
   "cell_type": "markdown",
   "metadata": {
    "id": "L8VtsUouk5ly"
   },
   "source": [
    "# 3. Research Question, Hypotheses, and Analysis Plan"
   ]
  },
  {
   "cell_type": "markdown",
   "metadata": {
    "id": "wSgnVEeak5ly"
   },
   "source": [
    "### a. Concretely, what is (are) your research question(s)? Be specific: what are the inputs, outputs, and evaluation metrics you are interested in, and why?\n",
    "\n",
    "> * Does diabetes prediction accuracy change across income groups?\n",
    "> * Does diabetes prediction accuracy change across sex groups?\n",
    "> * If there do exist differences, what are the driving factors?\n",
    "\n",
    "#### Inputs\n",
    "> * Our inputs include: HighBP, HighChol, CholCheck, BMI, Smoker, Stroke, HeartDiseaseorAttack, PhysActivity, Fruits, Veggies, HvyAlcoholConsump, AnyHealthcare, NoDocbcCost, GenHlth, MentHlth, PhysHlth, and DiffWalk.\n",
    "> * The demographic input data are Sex, Age, Education, and Income.\n",
    "\n",
    "#### Outputs\n",
    "> Our output is the binary prediction such that 1 is the patient is diagnosed with diabetes or prediabetes and 0 represents that the patient is not diabetic.\n",
    "\n",
    "#### Evaluation metrics\n",
    "> The evaluation metrics we want to use for our algorithm include assessing if the F1 socre (precision, recall), and FNR is different for various income and sex groups.\n",
    "\n",
    "### b. What are your hypotheses? e.g., do you notice any potential biases from your summary statistics? What are they, and why might these exist?\n",
    "\n",
    "> * From the summary statistics, we observe that there are about **27% more females** than males identified in the data.\n",
    "> * Additionally, almost all participants had indicated that they had their cholesterol check in the past 5 years. There could be a bias in the dataset towards individuals that are more health conscious, have had family history of high cholesterol, and previous concerns regarding their cholesterol levels and are predisposed to a diagnosis related to their cholesterol levels. Additionally, this indicator could be associated with most of the participants having an income level of around $75,000 or more. Many of the participants in this dataset could have the financial ability to upkeep with annual check ups and take preventative cautions in regards to cholesterol levels and a potential diabetes diagnosis.\n",
    "\n",
    "### c. What analyses are you going to run (in section 4) to test your hypotheses presented above?\n",
    "> * We will be testing our hypotheses with the following models: Linear Regression, SVM, LightGBM, Naive Bayes, and Random Forest. Utilizing our metrics defined, we will be comparing across categories within Income and Sex subgroups to observe any potential biases in the model.\n",
    "\n",
    "\n",
    "\n"
   ]
  },
  {
   "cell_type": "markdown",
   "metadata": {
    "id": "aGRmHJFmk5ly"
   },
   "source": [
    "# 4. Modeling"
   ]
  },
  {
   "cell_type": "markdown",
   "metadata": {
    "id": "_QnGug5Ak5ly"
   },
   "source": [
    "## Model 1: Naive Bayes\n",
    "### a. Model"
   ]
  },
  {
   "cell_type": "code",
   "execution_count": 33,
   "metadata": {
    "id": "LOizCciAk5ly"
   },
   "outputs": [],
   "source": [
    "import pandas as pd\n",
    "import numpy as np\n",
    "import matplotlib.pyplot as plt\n",
    "from sklearn import preprocessing\n",
    "from sklearn.model_selection import train_test_split\n",
    "from sklearn import metrics\n",
    "from sklearn.metrics import accuracy_score, recall_score, precision_score, f1_score, auc, roc_curve, roc_auc_score, confusion_matrix\n",
    "from sklearn.naive_bayes import GaussianNB\n",
    "from sklearn.metrics import f1_score"
   ]
  },
  {
   "cell_type": "code",
   "execution_count": 34,
   "metadata": {
    "id": "weoR5eaOk5ly"
   },
   "outputs": [],
   "source": [
    "X = feature_data\n",
    "y = target_data.Diabetes_binary"
   ]
  },
  {
   "cell_type": "code",
   "execution_count": 35,
   "metadata": {
    "id": "85Jf-zt-k5ly"
   },
   "outputs": [],
   "source": [
    "X_train_test, X_test, y_train_test, y_test = train_test_split(X, y, test_size=0.2)\n",
    "\n",
    "X_train, X_val, y_train, y_val = train_test_split(X_train_test, y_train_test, test_size=0.25)"
   ]
  },
  {
   "cell_type": "code",
   "execution_count": 36,
   "metadata": {
    "colab": {
     "base_uri": "https://localhost:8080/",
     "height": 75
    },
    "id": "dTMbku-dk5ly",
    "outputId": "0ed77d04-2c2e-46d5-f498-5cf4dfc216f9"
   },
   "outputs": [
    {
     "data": {
      "text/plain": [
       "GaussianNB()"
      ]
     },
     "execution_count": 36,
     "metadata": {},
     "output_type": "execute_result"
    }
   ],
   "source": [
    "# Train the model\n",
    "model = GaussianNB()\n",
    "model.fit(X_train, y_train)"
   ]
  },
  {
   "cell_type": "markdown",
   "metadata": {
    "id": "sfBLAM1tk5ly"
   },
   "source": [
    "### b. Evaluation Metrics"
   ]
  },
  {
   "cell_type": "code",
   "execution_count": 37,
   "metadata": {
    "id": "ojsQVzdgk5ly"
   },
   "outputs": [],
   "source": [
    "# Predict on the validation set\n",
    "y_val_pred = model.predict(X_val)"
   ]
  },
  {
   "cell_type": "code",
   "execution_count": 39,
   "metadata": {
    "colab": {
     "base_uri": "https://localhost:8080/"
    },
    "id": "iEFLlpSlk5ly",
    "outputId": "c613a304-a057-48d1-fdf6-2e3a0184b004"
   },
   "outputs": [
    {
     "name": "stdout",
     "output_type": "stream",
     "text": [
      "F1-Score on Validation Set: 0.4140289973453135\n"
     ]
    }
   ],
   "source": [
    "# Evaluate the model\n",
    "f1 = f1_score(y_val, y_val_pred)\n",
    "print(f\"F1-Score on Validation Set: {f1}\")"
   ]
  },
  {
   "cell_type": "code",
   "execution_count": 40,
   "metadata": {
    "colab": {
     "base_uri": "https://localhost:8080/"
    },
    "id": "SXkGaaqek5lz",
    "outputId": "5fab47df-d869-4e9a-8657-17dd5001cc6e"
   },
   "outputs": [
    {
     "name": "stdout",
     "output_type": "stream",
     "text": [
      "F1-Score on Test Set: 0.4121813031161473\n"
     ]
    }
   ],
   "source": [
    "# Predict on the test set\n",
    "y_test_pred = model.predict(X_test)\n",
    "\n",
    "# Evaluate the model\n",
    "f1 = f1_score(y_test, y_test_pred)\n",
    "print(f\"F1-Score on Test Set: {f1}\")"
   ]
  },
  {
   "cell_type": "markdown",
   "metadata": {
    "id": "mYz1Cholk5lz"
   },
   "source": [
    "Since the f1-score for the validation set and test set are comparable, we can state that there are no signs of overfitting."
   ]
  },
  {
   "cell_type": "code",
   "execution_count": 41,
   "metadata": {
    "colab": {
     "base_uri": "https://localhost:8080/"
    },
    "id": "sw0kcSx_k5lz",
    "outputId": "2a4b79d4-7d36-4ba3-d8b0-b65767aeb91a"
   },
   "outputs": [
    {
     "name": "stdout",
     "output_type": "stream",
     "text": [
      "              precision    recall  f1-score   support\n",
      "\n",
      "           0       0.92      0.80      0.86     43572\n",
      "           1       0.32      0.57      0.41      7164\n",
      "\n",
      "    accuracy                           0.77     50736\n",
      "   macro avg       0.62      0.69      0.63     50736\n",
      "weighted avg       0.83      0.77      0.79     50736\n",
      "\n",
      "Confusion Matrix:\n",
      " [[35042  8530]\n",
      " [ 3090  4074]]\n"
     ]
    }
   ],
   "source": [
    "print(metrics.classification_report(y_test, y_test_pred))\n",
    "print(\"Confusion Matrix:\\n\", metrics.confusion_matrix(y_test, y_test_pred))"
   ]
  },
  {
   "cell_type": "markdown",
   "metadata": {
    "id": "ht8yEU4sk5l5"
   },
   "source": [
    "3087 participants were identified as non-diabetic when they were diabetic or prediabetic in actuality. The FNR from utilizing Naive Bayes is 0.432."
   ]
  },
  {
   "cell_type": "code",
   "execution_count": 42,
   "metadata": {
    "colab": {
     "base_uri": "https://localhost:8080/"
    },
    "id": "XmgFo_Ink5l5",
    "outputId": "326fb43e-9b35-439d-b9f7-3bd51ef692d2"
   },
   "outputs": [
    {
     "name": "stdout",
     "output_type": "stream",
     "text": [
      "AUC (all participants): 0.7812\n",
      "AUC (female participants): 0.7901\n",
      "AUC (male participants): 0.7717\n"
     ]
    }
   ],
   "source": [
    "female_idx = X_test['Sex']==0\n",
    "male_idx = X_test['Sex']==1\n",
    "\n",
    "female_test = y_test.loc[female_idx]\n",
    "male_test = y_test.loc[male_idx]\n",
    "\n",
    "female_pred  = y_test_pred[female_idx]\n",
    "male_pred = y_test_pred[male_idx]\n",
    "\n",
    "y_pred_prob = model.predict_proba(X_test)[:, 1]\n",
    "female_score = y_pred_prob[female_idx]\n",
    "male_score = y_pred_prob[male_idx]\n",
    "\n",
    "true_y = {'all': y_test, 'female':female_test, 'male':male_test}\n",
    "pred_y = {'female':female_pred, 'male':male_pred}\n",
    "prob_y = {'all':y_pred_prob, 'female':female_score, 'male':male_score}\n",
    "\n",
    "for group in ['all', 'female', 'male']:\n",
    "    AUC = metrics.roc_auc_score(true_y[group], prob_y[group])\n",
    "    print(f'AUC ({group} participants): {AUC:.4f}')\n",
    "\n",
    "\n",
    "tn, fp, fn, tp = {}, {}, {}, {}\n",
    "for group in ['female', 'male']:\n",
    "    tn[group], fp[group], fn[group], tp[group] = metrics.confusion_matrix(true_y[group], pred_y[group]).ravel()"
   ]
  },
  {
   "cell_type": "code",
   "execution_count": 43,
   "metadata": {
    "colab": {
     "base_uri": "https://localhost:8080/"
    },
    "id": "4VJXUZKzk5l5",
    "outputId": "6227158c-92e7-4d03-e0bd-aba235f1bfd6"
   },
   "outputs": [
    {
     "name": "stdout",
     "output_type": "stream",
     "text": [
      "FNR (female participants): 0.4034\n",
      "FNR (male participants): 0.4622\n"
     ]
    }
   ],
   "source": [
    "for group in ['female', 'male']:\n",
    "    FNR = fn[group]/(tp[group]+fn[group])\n",
    "    print(f'FNR ({group} participants): {FNR:.4f}')"
   ]
  },
  {
   "cell_type": "code",
   "execution_count": 44,
   "metadata": {
    "colab": {
     "base_uri": "https://localhost:8080/"
    },
    "id": "P8LuIVM6k5l5",
    "outputId": "a33b977b-e3ea-47d4-e48f-380715137b6e"
   },
   "outputs": [
    {
     "name": "stdout",
     "output_type": "stream",
     "text": [
      "FPR (female participants): 0.1991\n",
      "FPR (male participants): 0.1914\n"
     ]
    }
   ],
   "source": [
    "for group in ['female', 'male']:\n",
    "    FPR = fp[group]/(tn[group]+fp[group])\n",
    "    print(f'FPR ({group} participants): {FPR:.4f}')"
   ]
  },
  {
   "cell_type": "code",
   "execution_count": 45,
   "metadata": {
    "colab": {
     "base_uri": "https://localhost:8080/"
    },
    "id": "8tDWDCsik5l5",
    "outputId": "08b086f1-dbb6-4ab5-d4db-8e03f4bec626"
   },
   "outputs": [
    {
     "name": "stdout",
     "output_type": "stream",
     "text": [
      "Fraction positive (female participants): 0.2518\n",
      "Fraction positive (male participants): 0.2441\n"
     ]
    }
   ],
   "source": [
    "for group in ['female', 'male']:\n",
    "    PR = pred_y[group].mean()\n",
    "    print(f'Fraction positive ({group} participants): {PR:.4f}')"
   ]
  },
  {
   "cell_type": "code",
   "execution_count": 46,
   "metadata": {
    "colab": {
     "base_uri": "https://localhost:8080/"
    },
    "id": "GTbvYGT7k5l5",
    "outputId": "c23765d6-3f9f-4fb2-b72d-bdcb2f7db45d"
   },
   "outputs": [
    {
     "data": {
      "text/plain": [
       "array([8, 4, 7, 3, 5, 1, 2, 6])"
      ]
     },
     "execution_count": 46,
     "metadata": {},
     "output_type": "execute_result"
    }
   ],
   "source": [
    "X_test.Income.unique()"
   ]
  },
  {
   "cell_type": "code",
   "execution_count": 47,
   "metadata": {
    "colab": {
     "base_uri": "https://localhost:8080/"
    },
    "id": "EE25SI7mk5l5",
    "outputId": "0ec4451b-3140-457f-9e6b-7c85545a29ce"
   },
   "outputs": [
    {
     "name": "stdout",
     "output_type": "stream",
     "text": [
      "AUC (all participants): 0.7812\n",
      "AUC (Income 1 participants): 0.7158\n",
      "AUC (Income 2 participants): 0.6999\n",
      "AUC (Income 3 participants): 0.7050\n",
      "AUC (Income 4 participants): 0.7319\n",
      "AUC (Income 5 participants): 0.7496\n",
      "AUC (Income 6 participants): 0.7565\n",
      "AUC (Income 7 participants): 0.7740\n",
      "AUC (Income 8 participants): 0.7977\n"
     ]
    }
   ],
   "source": [
    "one_idx = X_test['Income']==1\n",
    "two_idx = X_test['Income']==2\n",
    "three_idx = X_test['Income']==3\n",
    "four_idx = X_test['Income']==4\n",
    "five_idx = X_test['Income']==5\n",
    "six_idx = X_test['Income']==6\n",
    "seven_idx = X_test['Income']==7\n",
    "eight_idx = X_test['Income']==8\n",
    "\n",
    "one_test = y_test.loc[one_idx]\n",
    "two_test = y_test.loc[two_idx]\n",
    "three_test = y_test.loc[three_idx]\n",
    "four_test = y_test.loc[four_idx]\n",
    "five_test = y_test.loc[five_idx]\n",
    "six_test = y_test.loc[six_idx]\n",
    "seven_test = y_test.loc[seven_idx]\n",
    "eight_test = y_test.loc[eight_idx]\n",
    "\n",
    "one_pred  = y_test_pred[one_idx]\n",
    "two_pred = y_test_pred[two_idx]\n",
    "three_pred = y_test_pred[three_idx]\n",
    "four_pred = y_test_pred[four_idx]\n",
    "five_pred = y_test_pred[five_idx]\n",
    "six_pred = y_test_pred[six_idx]\n",
    "seven_pred = y_test_pred[seven_idx]\n",
    "eight_pred = y_test_pred[eight_idx]\n",
    "\n",
    "y_pred_prob = model.predict_proba(X_test)[:, 1]\n",
    "one_score = y_pred_prob[one_idx]\n",
    "two_score = y_pred_prob[two_idx]\n",
    "three_score = y_pred_prob[three_idx]\n",
    "four_score = y_pred_prob[four_idx]\n",
    "five_score = y_pred_prob[five_idx]\n",
    "six_score = y_pred_prob[six_idx]\n",
    "seven_score = y_pred_prob[seven_idx]\n",
    "eight_score = y_pred_prob[eight_idx]\n",
    "\n",
    "\n",
    "true_y = {'all': y_test, 'Income 1':one_test, 'Income 2':two_test, 'Income 3':three_test,\n",
    "          'Income 4':four_test,'Income 5':five_test,'Income 6':six_test,'Income 7':seven_test,'Income 8':eight_test}\n",
    "pred_y = {'Income 1':one_pred, 'Income 2':two_pred, 'Income 3':three_pred,\n",
    "          'Income 4':four_pred,'Income 5':five_pred,'Income 6':six_pred,'Income 7':seven_pred,'Income 8':eight_pred}\n",
    "prob_y = {'all': y_pred_prob, 'Income 1':one_score, 'Income 2':two_score, 'Income 3':three_score,\n",
    "          'Income 4':four_score,'Income 5':five_score,'Income 6':six_score,'Income 7':seven_score,'Income 8':eight_score}\n",
    "\n",
    "\n",
    "for group in ['all', 'Income 1', 'Income 2', 'Income 3', 'Income 4', 'Income 5', 'Income 6', 'Income 7', 'Income 8']:\n",
    "    AUC = metrics.roc_auc_score(true_y[group], prob_y[group])\n",
    "    print(f'AUC ({group} participants): {AUC:.4f}')\n",
    "\n",
    "\n",
    "tn, fp, fn, tp = {}, {}, {}, {}\n",
    "for group in ['Income 1', 'Income 2', 'Income 3', 'Income 4', 'Income 5', 'Income 6', 'Income 7', 'Income 8']:\n",
    "    tn[group], fp[group], fn[group], tp[group] = metrics.confusion_matrix(true_y[group], pred_y[group]).ravel()"
   ]
  },
  {
   "cell_type": "code",
   "execution_count": 48,
   "metadata": {
    "colab": {
     "base_uri": "https://localhost:8080/"
    },
    "id": "imGtSSdYk5l5",
    "outputId": "8c1cf447-9d00-464a-99ce-ed6822ed9df7"
   },
   "outputs": [
    {
     "name": "stdout",
     "output_type": "stream",
     "text": [
      "FNR (Income 1 participants): 0.1711\n",
      "FNR (Income 2 participants): 0.1751\n",
      "FNR (Income 3 participants): 0.2760\n",
      "FNR (Income 4 participants): 0.3122\n",
      "FNR (Income 5 participants): 0.3767\n",
      "FNR (Income 6 participants): 0.4735\n",
      "FNR (Income 7 participants): 0.5623\n",
      "FNR (Income 8 participants): 0.6936\n"
     ]
    }
   ],
   "source": [
    "for group in ['Income 1', 'Income 2', 'Income 3', 'Income 4', 'Income 5', 'Income 6', 'Income 7', 'Income 8']:\n",
    "    FNR = fn[group]/(tp[group]+fn[group])\n",
    "    print(f'FNR ({group} participants): {FNR:.4f}')"
   ]
  },
  {
   "cell_type": "code",
   "execution_count": 49,
   "metadata": {
    "colab": {
     "base_uri": "https://localhost:8080/"
    },
    "id": "VjRZFmUnk5l6",
    "outputId": "cd3445c2-532a-413e-f5e6-d25ee323db68"
   },
   "outputs": [
    {
     "name": "stdout",
     "output_type": "stream",
     "text": [
      "FPR (Income 1 participants): 0.5069\n",
      "FPR (Income 2 participants): 0.5458\n",
      "FPR (Income 3 participants): 0.4199\n",
      "FPR (Income 4 participants): 0.3370\n",
      "FPR (Income 5 participants): 0.2600\n",
      "FPR (Income 6 participants): 0.2072\n",
      "FPR (Income 7 participants): 0.1387\n",
      "FPR (Income 8 participants): 0.0737\n"
     ]
    }
   ],
   "source": [
    "for group in ['Income 1', 'Income 2', 'Income 3', 'Income 4', 'Income 5', 'Income 6', 'Income 7', 'Income 8']:\n",
    "    FPR = fp[group]/(tn[group]+fp[group])\n",
    "    print(f'FPR ({group} participants): {FPR:.4f}')"
   ]
  },
  {
   "cell_type": "code",
   "execution_count": 50,
   "metadata": {
    "colab": {
     "base_uri": "https://localhost:8080/"
    },
    "id": "IYTVPjlik5l6",
    "outputId": "a35f0484-6233-4085-fa3e-06f90aa5362e"
   },
   "outputs": [
    {
     "name": "stdout",
     "output_type": "stream",
     "text": [
      "Fraction positive (Income 1 participants): 0.5880\n",
      "Fraction positive (Income 2 participants): 0.6231\n",
      "Fraction positive (Income 3 participants): 0.4889\n",
      "Fraction positive (Income 4 participants): 0.4065\n",
      "Fraction positive (Income 5 participants): 0.3246\n",
      "Fraction positive (Income 6 participants): 0.2530\n",
      "Fraction positive (Income 7 participants): 0.1741\n",
      "Fraction positive (Income 8 participants): 0.0927\n"
     ]
    }
   ],
   "source": [
    "for group in 'Income 1', 'Income 2', 'Income 3', 'Income 4', 'Income 5', 'Income 6', 'Income 7', 'Income 8':\n",
    "    PR = pred_y[group].mean()\n",
    "    print(f'Fraction positive ({group} participants): {PR:.4f}')"
   ]
  },
  {
   "cell_type": "markdown",
   "metadata": {
    "id": "1E13MH36k5l6"
   },
   "source": [
    "### c. Informative Plots"
   ]
  },
  {
   "cell_type": "code",
   "execution_count": 54,
   "metadata": {
    "colab": {
     "base_uri": "https://localhost:8080/",
     "height": 472
    },
    "id": "MBa5T-Tjk5l6",
    "outputId": "caf37190-8eb2-43cd-868c-221af9505a11"
   },
   "outputs": [
    {
     "data": {
      "image/png": "[encoded data removed]",
      "text/plain": [
       "<Figure size 864x576 with 1 Axes>"
      ]
     },
     "metadata": {
      "needs_background": "light"
     },
     "output_type": "display_data"
    }
   ],
   "source": [
    "train_sizes = np.linspace(0.1, 1.0, 10)\n",
    "train_scores = []\n",
    "\n",
    "for size in train_sizes:\n",
    "    subset_size = int(size * X_train.shape[0])\n",
    "    X_subset, y_subset = X_train[:subset_size], y_train[:subset_size]\n",
    "    model.fit(X_subset, y_subset)\n",
    "    train_scores.append(model.score(X_val, y_val))\n",
    "\n",
    "# Plotting the learning curve over accuracy in validation set\n",
    "plt.figure(figsize=(12,8))\n",
    "plt.plot(train_sizes, train_scores, label='Accuracy')\n",
    "plt.title('Learning Curve')\n",
    "plt.xlabel('Fraction of Training Data Used')\n",
    "plt.ylabel('Accuracy on Validation Set')\n",
    "plt.legend()\n",
    "plt.show()"
   ]
  },
  {
   "cell_type": "code",
   "execution_count": 64,
   "metadata": {},
   "outputs": [
    {
     "data": {
      "image/png": "[encoded data removed]",
      "text/plain": [
       "<Figure size 576x576 with 2 Axes>"
      ]
     },
     "metadata": {
      "needs_background": "light"
     },
     "output_type": "display_data"
    },
    {
     "name": "stdout",
     "output_type": "stream",
     "text": [
      "F1 Score: 0.412\n"
     ]
    }
   ],
   "source": [
    "cm = confusion_matrix(y_test, y_test_pred, labels=[0, 1])\n",
    "disp = metrics.ConfusionMatrixDisplay(confusion_matrix=cm, display_labels=['negative', 'positive'])\n",
    "fig, ax = plt.subplots(figsize=(8,8))\n",
    "disp = disp.plot(cmap=plt.cm.Blues,values_format='g', ax=ax)\n",
    "# disp.plot()\n",
    "plt.title('Naive Bayes')\n",
    "plt.show()\n",
    "# calculate score\n",
    "score = f1_score(y_test, y_test_pred)\n",
    "print('F1 Score: %.3f' % score)"
   ]
  },
  {
   "cell_type": "markdown",
   "metadata": {
    "id": "LgumGWvPk5l6",
    "jp-MarkdownHeadingCollapsed": true,
    "tags": []
   },
   "source": [
    "## Model 2: Logistic Regression\n",
    "### a. Model"
   ]
  },
  {
   "cell_type": "code",
   "execution_count": 65,
   "metadata": {
    "id": "6-aMdaU-k5l6"
   },
   "outputs": [],
   "source": [
    "from sklearn.linear_model import LogisticRegression\n",
    "X = feature_data\n",
    "y = target_data.Diabetes_binary\n",
    "\n",
    "# splitting the data into training and testing sets\n",
    "X_train, X_test, y_train, y_test = train_test_split(X, y, test_size=0.2)\n",
    "\n",
    "# training the logistic regression model\n",
    "logistic_model = LogisticRegression()\n",
    "logistic_model.fit(X_train, y_train)\n",
    "\n",
    "# predicting on the test set\n",
    "y_pred_logreg = logistic_model.predict(X_test)\n",
    "y_pred_proba_logreg = logistic_model.predict_proba(X_test)[:, 1]\n"
   ]
  },
  {
   "cell_type": "markdown",
   "metadata": {
    "id": "0OO_k1Hqk5l6"
   },
   "source": [
    "### b. Evaluation Metrics"
   ]
  },
  {
   "cell_type": "code",
   "execution_count": 66,
   "metadata": {
    "colab": {
     "base_uri": "https://localhost:8080/"
    },
    "id": "1Z25jpnVk5l6",
    "outputId": "00c8fe51-d088-4dad-f89d-65da3e3b0ee9"
   },
   "outputs": [
    {
     "name": "stdout",
     "output_type": "stream",
     "text": [
      "AUC: 0.8089\n",
      "F1 Score: 0.2325\n"
     ]
    }
   ],
   "source": [
    "from sklearn.metrics import roc_auc_score\n",
    "# calculating the AUC and F1 score\n",
    "AUC_logreg = roc_auc_score(y_test, y_pred_proba_logreg)\n",
    "f1_logreg = f1_score(y_test, y_pred_logreg)\n",
    "\n",
    "print(f'AUC: {AUC_logreg:.4f}')\n",
    "print(f'F1 Score: {f1_logreg:.4f}')"
   ]
  },
  {
   "cell_type": "code",
   "execution_count": 67,
   "metadata": {
    "colab": {
     "base_uri": "https://localhost:8080/"
    },
    "id": "FmTA6xCik5l6",
    "outputId": "0ecd865b-6b7d-4a6f-ee13-3576e495bbfa"
   },
   "outputs": [
    {
     "name": "stdout",
     "output_type": "stream",
     "text": [
      "              precision    recall  f1-score   support\n",
      "\n",
      "           0       0.88      0.98      0.92     43685\n",
      "           1       0.52      0.15      0.23      7051\n",
      "\n",
      "    accuracy                           0.86     50736\n",
      "   macro avg       0.70      0.56      0.58     50736\n",
      "weighted avg       0.83      0.86      0.83     50736\n",
      "\n"
     ]
    }
   ],
   "source": [
    "from sklearn.metrics import classification_report\n",
    "print(classification_report(y_test, y_pred_logreg))\n"
   ]
  },
  {
   "cell_type": "code",
   "execution_count": 68,
   "metadata": {
    "colab": {
     "base_uri": "https://localhost:8080/"
    },
    "id": "TpSOPdDWk5l6",
    "outputId": "46c07105-ccdb-4613-ee17-0fbefbf0d2c4"
   },
   "outputs": [
    {
     "name": "stdout",
     "output_type": "stream",
     "text": [
      "Confusion Matrix:\n",
      " [[42692   993]\n",
      " [ 5993  1058]]\n"
     ]
    }
   ],
   "source": [
    "print(\"Confusion Matrix:\\n\", metrics.confusion_matrix(y_test, y_pred_logreg))"
   ]
  },
  {
   "cell_type": "code",
   "execution_count": 69,
   "metadata": {
    "id": "K48wt9sjk5l7"
   },
   "outputs": [],
   "source": [
    "# calculating AUC and FNR for each sensitive attribute subgroup\n",
    "\n",
    "AUC_subgroups = {}\n",
    "FNR_subgroups = {}\n",
    "FPR_subgroups = {}\n",
    "\n",
    "for att in sensitive_attributes:\n",
    "    AUC_subgroups[att] = {}\n",
    "    FNR_subgroups[att] = {}\n",
    "    FPR_subgroups[att] = {}\n",
    "\n",
    "    subgroups = feature_data[att].unique()\n",
    "    for subgroup in subgroups:\n",
    "        curr_subgroup_index = X_test[att] == subgroup\n",
    "        curr_X_test = X_test[curr_subgroup_index]\n",
    "        curr_y_test = y_test[curr_subgroup_index]\n",
    "        curr_y_pred = logistic_model.predict(curr_X_test)\n",
    "        curr_y_pred_proba = logistic_model.predict_proba(curr_X_test)[:, 1]\n",
    "        curr_AUC = roc_auc_score(curr_y_test, curr_y_pred_proba)\n",
    "        tn, fp, fn, tp = confusion_matrix(curr_y_test, curr_y_pred).ravel()\n",
    "        curr_FNR = fn/(tp+fn)\n",
    "        curr_FPR = fp/(tn+fp)\n",
    "\n",
    "        AUC_subgroups[att][subgroup] = curr_AUC\n",
    "        FNR_subgroups[att][subgroup] = curr_FNR\n",
    "        FPR_subgroups[att][subgroup] = curr_FPR"
   ]
  },
  {
   "cell_type": "code",
   "execution_count": 70,
   "metadata": {
    "colab": {
     "base_uri": "https://localhost:8080/",
     "height": 959
    },
    "id": "o273jZjlKr6I",
    "outputId": "0bf9620c-3bc2-47a1-a4f4-3316ddd3c0ca"
   },
   "outputs": [
    {
     "data": {
      "text/html": [
       "<div>\n",
       "<style scoped>\n",
       "    .dataframe tbody tr th:only-of-type {\n",
       "        vertical-align: middle;\n",
       "    }\n",
       "\n",
       "    .dataframe tbody tr th {\n",
       "        vertical-align: top;\n",
       "    }\n",
       "\n",
       "    .dataframe thead th {\n",
       "        text-align: right;\n",
       "    }\n",
       "</style>\n",
       "<table border=\"1\" class=\"dataframe\">\n",
       "  <thead>\n",
       "    <tr style=\"text-align: right;\">\n",
       "      <th></th>\n",
       "      <th>Attribute</th>\n",
       "      <th>Subgroup</th>\n",
       "      <th>AUC</th>\n",
       "      <th>FNR</th>\n",
       "      <th>FPR</th>\n",
       "    </tr>\n",
       "  </thead>\n",
       "  <tbody>\n",
       "    <tr>\n",
       "      <th>0</th>\n",
       "      <td>Sex</td>\n",
       "      <td>0</td>\n",
       "      <td>0.826560</td>\n",
       "      <td>0.842321</td>\n",
       "      <td>0.021971</td>\n",
       "    </tr>\n",
       "    <tr>\n",
       "      <th>1</th>\n",
       "      <td>Sex</td>\n",
       "      <td>1</td>\n",
       "      <td>0.785738</td>\n",
       "      <td>0.858152</td>\n",
       "      <td>0.023720</td>\n",
       "    </tr>\n",
       "    <tr>\n",
       "      <th>2</th>\n",
       "      <td>Age</td>\n",
       "      <td>9</td>\n",
       "      <td>0.794286</td>\n",
       "      <td>0.828877</td>\n",
       "      <td>0.023862</td>\n",
       "    </tr>\n",
       "    <tr>\n",
       "      <th>3</th>\n",
       "      <td>Age</td>\n",
       "      <td>7</td>\n",
       "      <td>0.813663</td>\n",
       "      <td>0.895798</td>\n",
       "      <td>0.014815</td>\n",
       "    </tr>\n",
       "    <tr>\n",
       "      <th>4</th>\n",
       "      <td>Age</td>\n",
       "      <td>11</td>\n",
       "      <td>0.749875</td>\n",
       "      <td>0.826848</td>\n",
       "      <td>0.040526</td>\n",
       "    </tr>\n",
       "    <tr>\n",
       "      <th>5</th>\n",
       "      <td>Age</td>\n",
       "      <td>10</td>\n",
       "      <td>0.775727</td>\n",
       "      <td>0.858570</td>\n",
       "      <td>0.030620</td>\n",
       "    </tr>\n",
       "    <tr>\n",
       "      <th>6</th>\n",
       "      <td>Age</td>\n",
       "      <td>8</td>\n",
       "      <td>0.816522</td>\n",
       "      <td>0.836516</td>\n",
       "      <td>0.019963</td>\n",
       "    </tr>\n",
       "    <tr>\n",
       "      <th>7</th>\n",
       "      <td>Age</td>\n",
       "      <td>13</td>\n",
       "      <td>0.691189</td>\n",
       "      <td>0.786885</td>\n",
       "      <td>0.066595</td>\n",
       "    </tr>\n",
       "    <tr>\n",
       "      <th>8</th>\n",
       "      <td>Age</td>\n",
       "      <td>4</td>\n",
       "      <td>0.796077</td>\n",
       "      <td>0.977612</td>\n",
       "      <td>0.001109</td>\n",
       "    </tr>\n",
       "    <tr>\n",
       "      <th>9</th>\n",
       "      <td>Age</td>\n",
       "      <td>6</td>\n",
       "      <td>0.817758</td>\n",
       "      <td>0.923729</td>\n",
       "      <td>0.008718</td>\n",
       "    </tr>\n",
       "    <tr>\n",
       "      <th>10</th>\n",
       "      <td>Age</td>\n",
       "      <td>2</td>\n",
       "      <td>0.772432</td>\n",
       "      <td>1.000000</td>\n",
       "      <td>0.000683</td>\n",
       "    </tr>\n",
       "    <tr>\n",
       "      <th>11</th>\n",
       "      <td>Age</td>\n",
       "      <td>12</td>\n",
       "      <td>0.719266</td>\n",
       "      <td>0.826866</td>\n",
       "      <td>0.051221</td>\n",
       "    </tr>\n",
       "    <tr>\n",
       "      <th>12</th>\n",
       "      <td>Age</td>\n",
       "      <td>5</td>\n",
       "      <td>0.824351</td>\n",
       "      <td>0.943231</td>\n",
       "      <td>0.006845</td>\n",
       "    </tr>\n",
       "    <tr>\n",
       "      <th>13</th>\n",
       "      <td>Age</td>\n",
       "      <td>1</td>\n",
       "      <td>0.638338</td>\n",
       "      <td>0.941176</td>\n",
       "      <td>0.000898</td>\n",
       "    </tr>\n",
       "    <tr>\n",
       "      <th>14</th>\n",
       "      <td>Age</td>\n",
       "      <td>3</td>\n",
       "      <td>0.759545</td>\n",
       "      <td>0.971429</td>\n",
       "      <td>0.002783</td>\n",
       "    </tr>\n",
       "    <tr>\n",
       "      <th>15</th>\n",
       "      <td>Education</td>\n",
       "      <td>4</td>\n",
       "      <td>0.772531</td>\n",
       "      <td>0.816209</td>\n",
       "      <td>0.039843</td>\n",
       "    </tr>\n",
       "    <tr>\n",
       "      <th>16</th>\n",
       "      <td>Education</td>\n",
       "      <td>6</td>\n",
       "      <td>0.821766</td>\n",
       "      <td>0.945252</td>\n",
       "      <td>0.006091</td>\n",
       "    </tr>\n",
       "    <tr>\n",
       "      <th>17</th>\n",
       "      <td>Education</td>\n",
       "      <td>3</td>\n",
       "      <td>0.750192</td>\n",
       "      <td>0.673469</td>\n",
       "      <td>0.112597</td>\n",
       "    </tr>\n",
       "    <tr>\n",
       "      <th>18</th>\n",
       "      <td>Education</td>\n",
       "      <td>5</td>\n",
       "      <td>0.806226</td>\n",
       "      <td>0.863636</td>\n",
       "      <td>0.018180</td>\n",
       "    </tr>\n",
       "    <tr>\n",
       "      <th>19</th>\n",
       "      <td>Education</td>\n",
       "      <td>2</td>\n",
       "      <td>0.743810</td>\n",
       "      <td>0.560345</td>\n",
       "      <td>0.143608</td>\n",
       "    </tr>\n",
       "    <tr>\n",
       "      <th>20</th>\n",
       "      <td>Education</td>\n",
       "      <td>1</td>\n",
       "      <td>0.870833</td>\n",
       "      <td>0.500000</td>\n",
       "      <td>0.083333</td>\n",
       "    </tr>\n",
       "    <tr>\n",
       "      <th>21</th>\n",
       "      <td>Income</td>\n",
       "      <td>3</td>\n",
       "      <td>0.759714</td>\n",
       "      <td>0.758856</td>\n",
       "      <td>0.066585</td>\n",
       "    </tr>\n",
       "    <tr>\n",
       "      <th>22</th>\n",
       "      <td>Income</td>\n",
       "      <td>1</td>\n",
       "      <td>0.784159</td>\n",
       "      <td>0.624719</td>\n",
       "      <td>0.095808</td>\n",
       "    </tr>\n",
       "    <tr>\n",
       "      <th>23</th>\n",
       "      <td>Income</td>\n",
       "      <td>8</td>\n",
       "      <td>0.823365</td>\n",
       "      <td>0.965174</td>\n",
       "      <td>0.003716</td>\n",
       "    </tr>\n",
       "    <tr>\n",
       "      <th>24</th>\n",
       "      <td>Income</td>\n",
       "      <td>6</td>\n",
       "      <td>0.772904</td>\n",
       "      <td>0.895131</td>\n",
       "      <td>0.017371</td>\n",
       "    </tr>\n",
       "    <tr>\n",
       "      <th>25</th>\n",
       "      <td>Income</td>\n",
       "      <td>4</td>\n",
       "      <td>0.763361</td>\n",
       "      <td>0.809002</td>\n",
       "      <td>0.043064</td>\n",
       "    </tr>\n",
       "    <tr>\n",
       "      <th>26</th>\n",
       "      <td>Income</td>\n",
       "      <td>7</td>\n",
       "      <td>0.805050</td>\n",
       "      <td>0.935805</td>\n",
       "      <td>0.009456</td>\n",
       "    </tr>\n",
       "    <tr>\n",
       "      <th>27</th>\n",
       "      <td>Income</td>\n",
       "      <td>2</td>\n",
       "      <td>0.743732</td>\n",
       "      <td>0.687204</td>\n",
       "      <td>0.104268</td>\n",
       "    </tr>\n",
       "    <tr>\n",
       "      <th>28</th>\n",
       "      <td>Income</td>\n",
       "      <td>5</td>\n",
       "      <td>0.773273</td>\n",
       "      <td>0.848086</td>\n",
       "      <td>0.029658</td>\n",
       "    </tr>\n",
       "  </tbody>\n",
       "</table>\n",
       "</div>"
      ],
      "text/plain": [
       "    Attribute  Subgroup       AUC       FNR       FPR\n",
       "0         Sex         0  0.826560  0.842321  0.021971\n",
       "1         Sex         1  0.785738  0.858152  0.023720\n",
       "2         Age         9  0.794286  0.828877  0.023862\n",
       "3         Age         7  0.813663  0.895798  0.014815\n",
       "4         Age        11  0.749875  0.826848  0.040526\n",
       "5         Age        10  0.775727  0.858570  0.030620\n",
       "6         Age         8  0.816522  0.836516  0.019963\n",
       "7         Age        13  0.691189  0.786885  0.066595\n",
       "8         Age         4  0.796077  0.977612  0.001109\n",
       "9         Age         6  0.817758  0.923729  0.008718\n",
       "10        Age         2  0.772432  1.000000  0.000683\n",
       "11        Age        12  0.719266  0.826866  0.051221\n",
       "12        Age         5  0.824351  0.943231  0.006845\n",
       "13        Age         1  0.638338  0.941176  0.000898\n",
       "14        Age         3  0.759545  0.971429  0.002783\n",
       "15  Education         4  0.772531  0.816209  0.039843\n",
       "16  Education         6  0.821766  0.945252  0.006091\n",
       "17  Education         3  0.750192  0.673469  0.112597\n",
       "18  Education         5  0.806226  0.863636  0.018180\n",
       "19  Education         2  0.743810  0.560345  0.143608\n",
       "20  Education         1  0.870833  0.500000  0.083333\n",
       "21     Income         3  0.759714  0.758856  0.066585\n",
       "22     Income         1  0.784159  0.624719  0.095808\n",
       "23     Income         8  0.823365  0.965174  0.003716\n",
       "24     Income         6  0.772904  0.895131  0.017371\n",
       "25     Income         4  0.763361  0.809002  0.043064\n",
       "26     Income         7  0.805050  0.935805  0.009456\n",
       "27     Income         2  0.743732  0.687204  0.104268\n",
       "28     Income         5  0.773273  0.848086  0.029658"
      ]
     },
     "execution_count": 70,
     "metadata": {},
     "output_type": "execute_result"
    }
   ],
   "source": [
    "# formatting the results into a df\n",
    "\n",
    "data = [(att, subgroup) for att, subgroups in AUC_subgroups.items() for subgroup in subgroups]\n",
    "results_df = pd.DataFrame(data, columns=['Attribute', 'Subgroup'])\n",
    "\n",
    "results_df['AUC'] = [AUC_subgroups[att][subgroup] for att, subgroups in AUC_subgroups.items() for subgroup in subgroups]\n",
    "results_df['FNR'] = [FNR_subgroups[att][subgroup] for att, subgroups in FNR_subgroups.items() for subgroup in subgroups]\n",
    "results_df['FPR'] = [FPR_subgroups[att][subgroup] for att, subgroups in FPR_subgroups.items() for subgroup in subgroups]\n",
    "\n",
    "results_df"
   ]
  },
  {
   "cell_type": "markdown",
   "metadata": {
    "id": "YNcnrQq4k5l7"
   },
   "source": [
    "### c. Informative Plots"
   ]
  },
  {
   "cell_type": "code",
   "execution_count": 71,
   "metadata": {
    "colab": {
     "base_uri": "https://localhost:8080/",
     "height": 1000
    },
    "id": "aQq-MLdOk5l7",
    "outputId": "ec0ec5fb-bf9b-4876-963b-8819d6af581b"
   },
   "outputs": [
    {
     "data": {
      "image/png": "[encoded data removed]",
      "text/plain": [
       "<Figure size 864x1296 with 12 Axes>"
      ]
     },
     "metadata": {
      "needs_background": "light"
     },
     "output_type": "display_data"
    }
   ],
   "source": [
    "# plotting the AUC for each subgroup\n",
    "\n",
    "fig = plt.figure(figsize=(12,18))\n",
    "fig.suptitle('Model metrics across Subgroups',\n",
    "             va='bottom', y=0.9, fontsize=20)\n",
    "fig_count = 1\n",
    "\n",
    "for att in sensitive_attributes:\n",
    "\n",
    "    for metric in ['AUC', 'FNR', 'FPR']:\n",
    "        plt.subplot(4, 3, fig_count)\n",
    "        plt.title(f'{metric} across {att} groups')\n",
    "        sns.barplot(x='Subgroup', y=metric, data=results_df[results_df['Attribute'] == att], palette='Pastel1')\n",
    "        plt.xlabel('')\n",
    "        plt.ylabel('')\n",
    "\n",
    "        fig_count += 1\n",
    "\n",
    "plt.show()\n"
   ]
  },
  {
   "cell_type": "code",
   "execution_count": 72,
   "metadata": {
    "colab": {
     "base_uri": "https://localhost:8080/",
     "height": 428
    },
    "id": "bhx79Es9ldiS",
    "outputId": "f7e403ef-e789-43a5-dd56-d6cc0b541df7"
   },
   "outputs": [
    {
     "data": {
      "text/plain": [
       "Text(33.0, 0.5, 'True')"
      ]
     },
     "execution_count": 72,
     "metadata": {},
     "output_type": "execute_result"
    },
    {
     "data": {
      "image/png": "[encoded data removed]",
      "text/plain": [
       "<Figure size 432x288 with 1 Axes>"
      ]
     },
     "metadata": {
      "needs_background": "light"
     },
     "output_type": "display_data"
    }
   ],
   "source": [
    "# plotting the confusion matrix for the logistic regression model\n",
    "conf_matrix_logreg = confusion_matrix(y_test, y_pred_logreg)\n",
    "\n",
    "plt.figure(figsize=(6,4))\n",
    "plt.title('Confusion Matrix for Logistic Regression Model')\n",
    "sns.heatmap(conf_matrix_logreg, annot=True, fmt='d', cmap='Blues', cbar=False, xticklabels=['No Diabetes', 'Diabetes'], yticklabels=['No Diabetes', 'Diabetes'])\n",
    "plt.xlabel('Predicted')\n",
    "plt.ylabel('True')"
   ]
  },
  {
   "cell_type": "markdown",
   "metadata": {
    "id": "mIMFvUYAk5l7",
    "jp-MarkdownHeadingCollapsed": true,
    "tags": []
   },
   "source": [
    "## Model 3: SVC\n",
    "\n",
    "### a. Model\n"
   ]
  },
  {
   "cell_type": "code",
   "execution_count": 73,
   "metadata": {
    "id": "gCvzINZbk5l7"
   },
   "outputs": [],
   "source": [
    "from imblearn.over_sampling import SMOTE\n",
    "from sklearn.preprocessing import StandardScaler\n",
    "X = feature_data\n",
    "y = target_data['Diabetes_binary']\n",
    "\n",
    "X_scaled = StandardScaler().fit_transform(X)\n",
    "X_train, X_test, y_train, y_test = train_test_split(X_scaled, y, test_size=0.2, random_state=42)\n",
    "\n",
    "smote = SMOTE(random_state=42)\n",
    "X_train_smote, y_train_smote = smote.fit_resample(X_train, y_train)\n",
    "from sklearn.utils import resample\n",
    "from sklearn.svm import LinearSVC\n",
    "\n",
    "# Selecting a random subset of the data\n",
    "X_train_subset, y_train_subset = resample(X_train_smote, y_train_smote, n_samples=int(len(X_train) * 0.1), random_state=42, replace=False)\n",
    "\n",
    "# Training the LinearSVC model on the subset\n",
    "linear_svc_subset_model = LinearSVC(random_state=42, max_iter=1000, C=0.1)\n",
    "linear_svc_subset_model.fit(X_train_subset, y_train_subset)\n",
    "\n",
    "# Predicting on the test set\n",
    "y_pred_subset = linear_svc_subset_model.predict(X_test)"
   ]
  },
  {
   "cell_type": "code",
   "execution_count": 74,
   "metadata": {
    "colab": {
     "base_uri": "https://localhost:8080/"
    },
    "id": "R8JtcrbFLvwF",
    "outputId": "ee3b9651-1a4e-4ef0-c6b2-e688cf4f1e50"
   },
   "outputs": [
    {
     "data": {
      "text/plain": [
       "array([0, 1, 0, ..., 0, 1, 0])"
      ]
     },
     "execution_count": 74,
     "metadata": {},
     "output_type": "execute_result"
    }
   ],
   "source": [
    "y_pred_subset"
   ]
  },
  {
   "cell_type": "markdown",
   "metadata": {
    "id": "hM7-gI0Jk5l7"
   },
   "source": [
    "### b. Evaluation Metrics"
   ]
  },
  {
   "cell_type": "code",
   "execution_count": 75,
   "metadata": {
    "colab": {
     "base_uri": "https://localhost:8080/"
    },
    "id": "mfXX6rgek5l7",
    "outputId": "8aa2d884-7158-4afe-9363-793e1903e030"
   },
   "outputs": [
    {
     "data": {
      "text/plain": [
       "0.7500896062287024"
      ]
     },
     "execution_count": 75,
     "metadata": {},
     "output_type": "execute_result"
    }
   ],
   "source": [
    "from sklearn.metrics import roc_auc_score\n",
    "\n",
    "# Calculating AUC\n",
    "auc_score = roc_auc_score(y_test, y_pred_subset)\n",
    "auc_score\n"
   ]
  },
  {
   "cell_type": "code",
   "execution_count": 92,
   "metadata": {
    "colab": {
     "base_uri": "https://localhost:8080/"
    },
    "id": "1Z25jpnVk5l6",
    "outputId": "00c8fe51-d088-4dad-f89d-65da3e3b0ee9"
   },
   "outputs": [
    {
     "name": "stdout",
     "output_type": "stream",
     "text": [
      "F1 Score: 0.1997\n"
     ]
    }
   ],
   "source": [
    "# calculating the F1 score\n",
    "f1_logreg = f1_score(y_test, y_pred_subset)\n",
    "\n",
    "print(f'F1 Score: {f1_logreg:.4f}')"
   ]
  },
  {
   "cell_type": "code",
   "execution_count": 76,
   "metadata": {
    "colab": {
     "base_uri": "https://localhost:8080/"
    },
    "id": "3vI0Y0htmsbq",
    "outputId": "4a4a9cda-070c-4e49-f0d3-2b3917d2b19c"
   },
   "outputs": [
    {
     "data": {
      "text/plain": [
       "0.7243574582150741"
      ]
     },
     "execution_count": 76,
     "metadata": {},
     "output_type": "execute_result"
    }
   ],
   "source": [
    "# Calculating accuracy for the LinearSVC model trained on the subset\n",
    "accuracy_subset = accuracy_score(y_test, y_pred_subset)\n",
    "accuracy_subset"
   ]
  },
  {
   "cell_type": "code",
   "execution_count": 77,
   "metadata": {
    "colab": {
     "base_uri": "https://localhost:8080/"
    },
    "id": "2B8QIRKgmxLB",
    "outputId": "d79df4c7-d00a-45a7-85d7-6781e9be8451"
   },
   "outputs": [
    {
     "data": {
      "text/plain": [
       "0.21437759039588394"
      ]
     },
     "execution_count": 77,
     "metadata": {},
     "output_type": "execute_result"
    }
   ],
   "source": [
    "from sklearn.metrics import confusion_matrix\n",
    "\n",
    "# Generating the confusion matrix\n",
    "conf_matrix = confusion_matrix(y_test, y_pred_subset)\n",
    "\n",
    "# Extracting false negatives (FN) and true positives (TP)\n",
    "FN = conf_matrix[1][0]\n",
    "TP = conf_matrix[1][1]\n",
    "\n",
    "# Calculating the False Negative Rate (FNR)\n",
    "FNR = FN / (FN + TP)\n",
    "FNR"
   ]
  },
  {
   "cell_type": "code",
   "execution_count": 78,
   "metadata": {
    "colab": {
     "base_uri": "https://localhost:8080/"
    },
    "id": "jxwlgNnInAUA",
    "outputId": "369d88f6-9ffd-4b2e-893a-5028becbdbe1"
   },
   "outputs": [
    {
     "name": "stdout",
     "output_type": "stream",
     "text": [
      "              precision    recall  f1-score   support\n",
      "\n",
      "           0       0.95      0.71      0.82     43739\n",
      "           1       0.31      0.79      0.44      6997\n",
      "\n",
      "    accuracy                           0.72     50736\n",
      "   macro avg       0.63      0.75      0.63     50736\n",
      "weighted avg       0.86      0.72      0.77     50736\n",
      "\n"
     ]
    }
   ],
   "source": [
    "from sklearn.metrics import classification_report\n",
    "\n",
    "# Classification report\n",
    "class_report = classification_report(y_test, y_pred_subset)\n",
    "print(class_report)\n"
   ]
  },
  {
   "cell_type": "code",
   "execution_count": 79,
   "metadata": {
    "colab": {
     "base_uri": "https://localhost:8080/",
     "height": 444
    },
    "id": "WJVlW5bcMDDQ",
    "outputId": "d1029688-5a5e-4732-f539-3a4ebb9d7156"
   },
   "outputs": [
    {
     "data": {
      "text/html": [
       "<div>\n",
       "<style scoped>\n",
       "    .dataframe tbody tr th:only-of-type {\n",
       "        vertical-align: middle;\n",
       "    }\n",
       "\n",
       "    .dataframe tbody tr th {\n",
       "        vertical-align: top;\n",
       "    }\n",
       "\n",
       "    .dataframe thead th {\n",
       "        text-align: right;\n",
       "    }\n",
       "</style>\n",
       "<table border=\"1\" class=\"dataframe\">\n",
       "  <thead>\n",
       "    <tr style=\"text-align: right;\">\n",
       "      <th></th>\n",
       "      <th>HighBP</th>\n",
       "      <th>HighChol</th>\n",
       "      <th>CholCheck</th>\n",
       "      <th>BMI</th>\n",
       "      <th>Smoker</th>\n",
       "      <th>Stroke</th>\n",
       "      <th>HeartDiseaseorAttack</th>\n",
       "      <th>PhysActivity</th>\n",
       "      <th>Fruits</th>\n",
       "      <th>Veggies</th>\n",
       "      <th>...</th>\n",
       "      <th>GenHlth</th>\n",
       "      <th>MentHlth</th>\n",
       "      <th>PhysHlth</th>\n",
       "      <th>DiffWalk</th>\n",
       "      <th>Sex</th>\n",
       "      <th>Age</th>\n",
       "      <th>Education</th>\n",
       "      <th>Income</th>\n",
       "      <th>Predicted_Diabetes_binary</th>\n",
       "      <th>True_Diabetes_binary</th>\n",
       "    </tr>\n",
       "  </thead>\n",
       "  <tbody>\n",
       "    <tr>\n",
       "      <th>0</th>\n",
       "      <td>-0.866785</td>\n",
       "      <td>-0.858182</td>\n",
       "      <td>0.196922</td>\n",
       "      <td>-1.117071</td>\n",
       "      <td>-0.892119</td>\n",
       "      <td>-0.205637</td>\n",
       "      <td>-0.322458</td>\n",
       "      <td>-1.762814</td>\n",
       "      <td>0.759375</td>\n",
       "      <td>0.482087</td>\n",
       "      <td>...</td>\n",
       "      <td>0.457294</td>\n",
       "      <td>-0.024926</td>\n",
       "      <td>0.316350</td>\n",
       "      <td>-0.449718</td>\n",
       "      <td>-0.887021</td>\n",
       "      <td>-0.337933</td>\n",
       "      <td>-1.065595</td>\n",
       "      <td>-1.957312</td>\n",
       "      <td>0</td>\n",
       "      <td>0</td>\n",
       "    </tr>\n",
       "    <tr>\n",
       "      <th>1</th>\n",
       "      <td>1.153688</td>\n",
       "      <td>1.165254</td>\n",
       "      <td>0.196922</td>\n",
       "      <td>-0.057858</td>\n",
       "      <td>-0.892119</td>\n",
       "      <td>-0.205637</td>\n",
       "      <td>-0.322458</td>\n",
       "      <td>0.567275</td>\n",
       "      <td>0.759375</td>\n",
       "      <td>0.482087</td>\n",
       "      <td>...</td>\n",
       "      <td>0.457294</td>\n",
       "      <td>-0.429630</td>\n",
       "      <td>-0.486592</td>\n",
       "      <td>-0.449718</td>\n",
       "      <td>-0.887021</td>\n",
       "      <td>1.626566</td>\n",
       "      <td>0.963272</td>\n",
       "      <td>-0.026012</td>\n",
       "      <td>1</td>\n",
       "      <td>0</td>\n",
       "    </tr>\n",
       "    <tr>\n",
       "      <th>2</th>\n",
       "      <td>-0.866785</td>\n",
       "      <td>-0.858182</td>\n",
       "      <td>0.196922</td>\n",
       "      <td>-0.663122</td>\n",
       "      <td>-0.892119</td>\n",
       "      <td>-0.205637</td>\n",
       "      <td>-0.322458</td>\n",
       "      <td>0.567275</td>\n",
       "      <td>0.759375</td>\n",
       "      <td>0.482087</td>\n",
       "      <td>...</td>\n",
       "      <td>-1.414532</td>\n",
       "      <td>-0.429630</td>\n",
       "      <td>-0.486592</td>\n",
       "      <td>-0.449718</td>\n",
       "      <td>1.127369</td>\n",
       "      <td>-2.302431</td>\n",
       "      <td>-1.065595</td>\n",
       "      <td>0.456813</td>\n",
       "      <td>0</td>\n",
       "      <td>0</td>\n",
       "    </tr>\n",
       "    <tr>\n",
       "      <th>3</th>\n",
       "      <td>-0.866785</td>\n",
       "      <td>-0.858182</td>\n",
       "      <td>0.196922</td>\n",
       "      <td>-0.209174</td>\n",
       "      <td>1.120927</td>\n",
       "      <td>-0.205637</td>\n",
       "      <td>-0.322458</td>\n",
       "      <td>0.567275</td>\n",
       "      <td>-1.316872</td>\n",
       "      <td>0.482087</td>\n",
       "      <td>...</td>\n",
       "      <td>-0.478619</td>\n",
       "      <td>-0.024926</td>\n",
       "      <td>-0.486592</td>\n",
       "      <td>-0.449718</td>\n",
       "      <td>1.127369</td>\n",
       "      <td>-1.975015</td>\n",
       "      <td>-1.065595</td>\n",
       "      <td>0.456813</td>\n",
       "      <td>0</td>\n",
       "      <td>0</td>\n",
       "    </tr>\n",
       "    <tr>\n",
       "      <th>4</th>\n",
       "      <td>-0.866785</td>\n",
       "      <td>1.165254</td>\n",
       "      <td>0.196922</td>\n",
       "      <td>0.396091</td>\n",
       "      <td>1.120927</td>\n",
       "      <td>-0.205637</td>\n",
       "      <td>-0.322458</td>\n",
       "      <td>-1.762814</td>\n",
       "      <td>0.759375</td>\n",
       "      <td>0.482087</td>\n",
       "      <td>...</td>\n",
       "      <td>1.393207</td>\n",
       "      <td>3.212703</td>\n",
       "      <td>2.610472</td>\n",
       "      <td>2.223615</td>\n",
       "      <td>-0.887021</td>\n",
       "      <td>-0.010516</td>\n",
       "      <td>-2.080028</td>\n",
       "      <td>-1.957312</td>\n",
       "      <td>1</td>\n",
       "      <td>0</td>\n",
       "    </tr>\n",
       "    <tr>\n",
       "      <th>...</th>\n",
       "      <td>...</td>\n",
       "      <td>...</td>\n",
       "      <td>...</td>\n",
       "      <td>...</td>\n",
       "      <td>...</td>\n",
       "      <td>...</td>\n",
       "      <td>...</td>\n",
       "      <td>...</td>\n",
       "      <td>...</td>\n",
       "      <td>...</td>\n",
       "      <td>...</td>\n",
       "      <td>...</td>\n",
       "      <td>...</td>\n",
       "      <td>...</td>\n",
       "      <td>...</td>\n",
       "      <td>...</td>\n",
       "      <td>...</td>\n",
       "      <td>...</td>\n",
       "      <td>...</td>\n",
       "      <td>...</td>\n",
       "      <td>...</td>\n",
       "    </tr>\n",
       "    <tr>\n",
       "      <th>50731</th>\n",
       "      <td>1.153688</td>\n",
       "      <td>-0.858182</td>\n",
       "      <td>0.196922</td>\n",
       "      <td>0.093458</td>\n",
       "      <td>1.120927</td>\n",
       "      <td>-0.205637</td>\n",
       "      <td>-0.322458</td>\n",
       "      <td>0.567275</td>\n",
       "      <td>0.759375</td>\n",
       "      <td>0.482087</td>\n",
       "      <td>...</td>\n",
       "      <td>0.457294</td>\n",
       "      <td>-0.429630</td>\n",
       "      <td>0.660468</td>\n",
       "      <td>-0.449718</td>\n",
       "      <td>-0.887021</td>\n",
       "      <td>0.316900</td>\n",
       "      <td>0.963272</td>\n",
       "      <td>0.456813</td>\n",
       "      <td>0</td>\n",
       "      <td>1</td>\n",
       "    </tr>\n",
       "    <tr>\n",
       "      <th>50732</th>\n",
       "      <td>-0.866785</td>\n",
       "      <td>-0.858182</td>\n",
       "      <td>0.196922</td>\n",
       "      <td>-0.511806</td>\n",
       "      <td>-0.892119</td>\n",
       "      <td>-0.205637</td>\n",
       "      <td>-0.322458</td>\n",
       "      <td>0.567275</td>\n",
       "      <td>0.759375</td>\n",
       "      <td>0.482087</td>\n",
       "      <td>...</td>\n",
       "      <td>-0.478619</td>\n",
       "      <td>-0.294728</td>\n",
       "      <td>0.660468</td>\n",
       "      <td>-0.449718</td>\n",
       "      <td>-0.887021</td>\n",
       "      <td>0.644317</td>\n",
       "      <td>-0.051162</td>\n",
       "      <td>0.939638</td>\n",
       "      <td>0</td>\n",
       "      <td>0</td>\n",
       "    </tr>\n",
       "    <tr>\n",
       "      <th>50733</th>\n",
       "      <td>-0.866785</td>\n",
       "      <td>1.165254</td>\n",
       "      <td>0.196922</td>\n",
       "      <td>-0.057858</td>\n",
       "      <td>-0.892119</td>\n",
       "      <td>-0.205637</td>\n",
       "      <td>-0.322458</td>\n",
       "      <td>0.567275</td>\n",
       "      <td>0.759375</td>\n",
       "      <td>0.482087</td>\n",
       "      <td>...</td>\n",
       "      <td>0.457294</td>\n",
       "      <td>-0.024926</td>\n",
       "      <td>-0.486592</td>\n",
       "      <td>-0.449718</td>\n",
       "      <td>1.127369</td>\n",
       "      <td>-0.665349</td>\n",
       "      <td>0.963272</td>\n",
       "      <td>0.939638</td>\n",
       "      <td>0</td>\n",
       "      <td>0</td>\n",
       "    </tr>\n",
       "    <tr>\n",
       "      <th>50734</th>\n",
       "      <td>-0.866785</td>\n",
       "      <td>-0.858182</td>\n",
       "      <td>0.196922</td>\n",
       "      <td>-0.663122</td>\n",
       "      <td>1.120927</td>\n",
       "      <td>-0.205637</td>\n",
       "      <td>-0.322458</td>\n",
       "      <td>-1.762814</td>\n",
       "      <td>-1.316872</td>\n",
       "      <td>0.482087</td>\n",
       "      <td>...</td>\n",
       "      <td>1.393207</td>\n",
       "      <td>-0.429630</td>\n",
       "      <td>-0.486592</td>\n",
       "      <td>-0.449718</td>\n",
       "      <td>1.127369</td>\n",
       "      <td>1.626566</td>\n",
       "      <td>-1.065595</td>\n",
       "      <td>-0.508837</td>\n",
       "      <td>1</td>\n",
       "      <td>0</td>\n",
       "    </tr>\n",
       "    <tr>\n",
       "      <th>50735</th>\n",
       "      <td>-0.866785</td>\n",
       "      <td>-0.858182</td>\n",
       "      <td>0.196922</td>\n",
       "      <td>-0.814438</td>\n",
       "      <td>-0.892119</td>\n",
       "      <td>-0.205637</td>\n",
       "      <td>-0.322458</td>\n",
       "      <td>0.567275</td>\n",
       "      <td>0.759375</td>\n",
       "      <td>0.482087</td>\n",
       "      <td>...</td>\n",
       "      <td>-0.478619</td>\n",
       "      <td>-0.429630</td>\n",
       "      <td>-0.486592</td>\n",
       "      <td>-0.449718</td>\n",
       "      <td>-0.887021</td>\n",
       "      <td>-0.992766</td>\n",
       "      <td>0.963272</td>\n",
       "      <td>0.939638</td>\n",
       "      <td>0</td>\n",
       "      <td>0</td>\n",
       "    </tr>\n",
       "  </tbody>\n",
       "</table>\n",
       "<p>50736 rows × 23 columns</p>\n",
       "</div>"
      ],
      "text/plain": [
       "         HighBP  HighChol  CholCheck       BMI    Smoker    Stroke  \\\n",
       "0     -0.866785 -0.858182   0.196922 -1.117071 -0.892119 -0.205637   \n",
       "1      1.153688  1.165254   0.196922 -0.057858 -0.892119 -0.205637   \n",
       "2     -0.866785 -0.858182   0.196922 -0.663122 -0.892119 -0.205637   \n",
       "3     -0.866785 -0.858182   0.196922 -0.209174  1.120927 -0.205637   \n",
       "4     -0.866785  1.165254   0.196922  0.396091  1.120927 -0.205637   \n",
       "...         ...       ...        ...       ...       ...       ...   \n",
       "50731  1.153688 -0.858182   0.196922  0.093458  1.120927 -0.205637   \n",
       "50732 -0.866785 -0.858182   0.196922 -0.511806 -0.892119 -0.205637   \n",
       "50733 -0.866785  1.165254   0.196922 -0.057858 -0.892119 -0.205637   \n",
       "50734 -0.866785 -0.858182   0.196922 -0.663122  1.120927 -0.205637   \n",
       "50735 -0.866785 -0.858182   0.196922 -0.814438 -0.892119 -0.205637   \n",
       "\n",
       "       HeartDiseaseorAttack  PhysActivity    Fruits   Veggies  ...   GenHlth  \\\n",
       "0                 -0.322458     -1.762814  0.759375  0.482087  ...  0.457294   \n",
       "1                 -0.322458      0.567275  0.759375  0.482087  ...  0.457294   \n",
       "2                 -0.322458      0.567275  0.759375  0.482087  ... -1.414532   \n",
       "3                 -0.322458      0.567275 -1.316872  0.482087  ... -0.478619   \n",
       "4                 -0.322458     -1.762814  0.759375  0.482087  ...  1.393207   \n",
       "...                     ...           ...       ...       ...  ...       ...   \n",
       "50731             -0.322458      0.567275  0.759375  0.482087  ...  0.457294   \n",
       "50732             -0.322458      0.567275  0.759375  0.482087  ... -0.478619   \n",
       "50733             -0.322458      0.567275  0.759375  0.482087  ...  0.457294   \n",
       "50734             -0.322458     -1.762814 -1.316872  0.482087  ...  1.393207   \n",
       "50735             -0.322458      0.567275  0.759375  0.482087  ... -0.478619   \n",
       "\n",
       "       MentHlth  PhysHlth  DiffWalk       Sex       Age  Education    Income  \\\n",
       "0     -0.024926  0.316350 -0.449718 -0.887021 -0.337933  -1.065595 -1.957312   \n",
       "1     -0.429630 -0.486592 -0.449718 -0.887021  1.626566   0.963272 -0.026012   \n",
       "2     -0.429630 -0.486592 -0.449718  1.127369 -2.302431  -1.065595  0.456813   \n",
       "3     -0.024926 -0.486592 -0.449718  1.127369 -1.975015  -1.065595  0.456813   \n",
       "4      3.212703  2.610472  2.223615 -0.887021 -0.010516  -2.080028 -1.957312   \n",
       "...         ...       ...       ...       ...       ...        ...       ...   \n",
       "50731 -0.429630  0.660468 -0.449718 -0.887021  0.316900   0.963272  0.456813   \n",
       "50732 -0.294728  0.660468 -0.449718 -0.887021  0.644317  -0.051162  0.939638   \n",
       "50733 -0.024926 -0.486592 -0.449718  1.127369 -0.665349   0.963272  0.939638   \n",
       "50734 -0.429630 -0.486592 -0.449718  1.127369  1.626566  -1.065595 -0.508837   \n",
       "50735 -0.429630 -0.486592 -0.449718 -0.887021 -0.992766   0.963272  0.939638   \n",
       "\n",
       "       Predicted_Diabetes_binary  True_Diabetes_binary  \n",
       "0                              0                     0  \n",
       "1                              1                     0  \n",
       "2                              0                     0  \n",
       "3                              0                     0  \n",
       "4                              1                     0  \n",
       "...                          ...                   ...  \n",
       "50731                          0                     1  \n",
       "50732                          0                     0  \n",
       "50733                          0                     0  \n",
       "50734                          1                     0  \n",
       "50735                          0                     0  \n",
       "\n",
       "[50736 rows x 23 columns]"
      ]
     },
     "execution_count": 79,
     "metadata": {},
     "output_type": "execute_result"
    }
   ],
   "source": [
    "y_pred_subset_df = pd.DataFrame(y_pred_subset, columns=['Predicted_Diabetes_binary'])\n",
    "\n",
    "if len(y_pred_subset_df) == len(X_test):\n",
    "    # Add the predictions to the test dataset\n",
    "    X_test_df = pd.DataFrame(X_test, columns=feature_data.columns)\n",
    "    test_with_pred_df = X_test_df.reset_index(drop=True)\n",
    "    test_with_pred_df['Predicted_Diabetes_binary'] = y_pred_subset_df.reset_index(drop=True)\n",
    "    test_with_pred_df['True_Diabetes_binary'] = y_test.reset_index(drop=True)\n",
    "else:\n",
    "    result = \"The length of the prediction set does not match the test set, can't proceed with merging.\"\n",
    "\n",
    "# Checking the first few rows\n",
    "test_with_pred_df\n"
   ]
  },
  {
   "cell_type": "code",
   "execution_count": 80,
   "metadata": {
    "id": "TFF_8tX8MiRL"
   },
   "outputs": [],
   "source": [
    "from sklearn.metrics import roc_auc_score, confusion_matrix\n",
    "import numpy as np\n",
    "\n",
    "def calculate_fnr_fpr(y_true, y_pred):\n",
    "    tn, fp, fn, tp = confusion_matrix(y_true, y_pred).ravel()\n",
    "    fnr = fn / (fn + tp) if (fn + tp) > 0 else np.nan\n",
    "    fpr = fp / (fp + tn) if (fp + tn) > 0 else np.nan\n",
    "    return fnr, fpr\n",
    "\n",
    "# Function to calculate AUC\n",
    "def calculate_auc(y_true, y_pred_proba):\n",
    "    # Check if both classes are present\n",
    "    if len(np.unique(y_true)) == 1:\n",
    "        return np.nan\n",
    "    return roc_auc_score(y_true, y_pred_proba)\n",
    "\n",
    "results = {}\n",
    "\n",
    "# Demographic categories\n",
    "categories = ['Sex', 'Income', 'Education', 'Age']\n",
    "\n",
    "# Loop through each category and calculate metrics\n",
    "for cat in categories:\n",
    "    results[cat] = {}\n",
    "    for subgroup in test_with_pred_df[cat].unique():\n",
    "        subgroup_mask = test_with_pred_df[cat] == subgroup\n",
    "        y_true_subgroup = test_with_pred_df[subgroup_mask]['True_Diabetes_binary']\n",
    "        y_pred_subgroup = test_with_pred_df[subgroup_mask]['Predicted_Diabetes_binary']\n",
    "\n",
    "        # Calculate FNR\n",
    "        results[cat][subgroup] = {\n",
    "            'FNR': calculate_fnr_fpr(y_true_subgroup, y_pred_subgroup)\n",
    "        }\n",
    "\n",
    "        results[cat][subgroup]['AUC'] = calculate_auc(y_true_subgroup, y_pred_subgroup)"
   ]
  },
  {
   "cell_type": "code",
   "execution_count": 81,
   "metadata": {
    "colab": {
     "base_uri": "https://localhost:8080/",
     "height": 959
    },
    "id": "ac-jbXSONEPg",
    "outputId": "c8259265-5aff-47d0-a62a-4f5bd05aaa92"
   },
   "outputs": [
    {
     "data": {
      "text/html": [
       "<div>\n",
       "<style scoped>\n",
       "    .dataframe tbody tr th:only-of-type {\n",
       "        vertical-align: middle;\n",
       "    }\n",
       "\n",
       "    .dataframe tbody tr th {\n",
       "        vertical-align: top;\n",
       "    }\n",
       "\n",
       "    .dataframe thead th {\n",
       "        text-align: right;\n",
       "    }\n",
       "</style>\n",
       "<table border=\"1\" class=\"dataframe\">\n",
       "  <thead>\n",
       "    <tr style=\"text-align: right;\">\n",
       "      <th></th>\n",
       "      <th>Demographic</th>\n",
       "      <th>Subgroup</th>\n",
       "      <th>FNR</th>\n",
       "      <th>FPR</th>\n",
       "      <th>AUC</th>\n",
       "    </tr>\n",
       "  </thead>\n",
       "  <tbody>\n",
       "    <tr>\n",
       "      <th>0</th>\n",
       "      <td>Sex</td>\n",
       "      <td>0</td>\n",
       "      <td>0.215456</td>\n",
       "      <td>0.265091</td>\n",
       "      <td>0.759727</td>\n",
       "    </tr>\n",
       "    <tr>\n",
       "      <th>1</th>\n",
       "      <td>Sex</td>\n",
       "      <td>1</td>\n",
       "      <td>0.213193</td>\n",
       "      <td>0.311970</td>\n",
       "      <td>0.737418</td>\n",
       "    </tr>\n",
       "    <tr>\n",
       "      <th>2</th>\n",
       "      <td>Income</td>\n",
       "      <td>-1</td>\n",
       "      <td>0.104478</td>\n",
       "      <td>0.580101</td>\n",
       "      <td>0.657711</td>\n",
       "    </tr>\n",
       "    <tr>\n",
       "      <th>3</th>\n",
       "      <td>Income</td>\n",
       "      <td>0</td>\n",
       "      <td>0.214286</td>\n",
       "      <td>0.329427</td>\n",
       "      <td>0.728144</td>\n",
       "    </tr>\n",
       "    <tr>\n",
       "      <th>4</th>\n",
       "      <td>Income</td>\n",
       "      <td>0</td>\n",
       "      <td>0.278371</td>\n",
       "      <td>0.245519</td>\n",
       "      <td>0.738055</td>\n",
       "    </tr>\n",
       "    <tr>\n",
       "      <th>5</th>\n",
       "      <td>Income</td>\n",
       "      <td>0</td>\n",
       "      <td>0.371284</td>\n",
       "      <td>0.148586</td>\n",
       "      <td>0.740065</td>\n",
       "    </tr>\n",
       "    <tr>\n",
       "      <th>6</th>\n",
       "      <td>Income</td>\n",
       "      <td>0</td>\n",
       "      <td>0.178914</td>\n",
       "      <td>0.379545</td>\n",
       "      <td>0.720771</td>\n",
       "    </tr>\n",
       "    <tr>\n",
       "      <th>7</th>\n",
       "      <td>Income</td>\n",
       "      <td>-1</td>\n",
       "      <td>0.121986</td>\n",
       "      <td>0.508256</td>\n",
       "      <td>0.684879</td>\n",
       "    </tr>\n",
       "    <tr>\n",
       "      <th>8</th>\n",
       "      <td>Income</td>\n",
       "      <td>0</td>\n",
       "      <td>0.136476</td>\n",
       "      <td>0.438575</td>\n",
       "      <td>0.712475</td>\n",
       "    </tr>\n",
       "    <tr>\n",
       "      <th>9</th>\n",
       "      <td>Income</td>\n",
       "      <td>-2</td>\n",
       "      <td>0.090498</td>\n",
       "      <td>0.524199</td>\n",
       "      <td>0.692652</td>\n",
       "    </tr>\n",
       "    <tr>\n",
       "      <th>10</th>\n",
       "      <td>Education</td>\n",
       "      <td>-1</td>\n",
       "      <td>0.176040</td>\n",
       "      <td>0.398069</td>\n",
       "      <td>0.712946</td>\n",
       "    </tr>\n",
       "    <tr>\n",
       "      <th>11</th>\n",
       "      <td>Education</td>\n",
       "      <td>0</td>\n",
       "      <td>0.292910</td>\n",
       "      <td>0.186826</td>\n",
       "      <td>0.760132</td>\n",
       "    </tr>\n",
       "    <tr>\n",
       "      <th>12</th>\n",
       "      <td>Education</td>\n",
       "      <td>-2</td>\n",
       "      <td>0.093126</td>\n",
       "      <td>0.565278</td>\n",
       "      <td>0.670798</td>\n",
       "    </tr>\n",
       "    <tr>\n",
       "      <th>13</th>\n",
       "      <td>Education</td>\n",
       "      <td>0</td>\n",
       "      <td>0.215080</td>\n",
       "      <td>0.296247</td>\n",
       "      <td>0.744337</td>\n",
       "    </tr>\n",
       "    <tr>\n",
       "      <th>14</th>\n",
       "      <td>Education</td>\n",
       "      <td>-3</td>\n",
       "      <td>0.114894</td>\n",
       "      <td>0.646320</td>\n",
       "      <td>0.619393</td>\n",
       "    </tr>\n",
       "    <tr>\n",
       "      <th>15</th>\n",
       "      <td>Education</td>\n",
       "      <td>-4</td>\n",
       "      <td>0.200000</td>\n",
       "      <td>0.400000</td>\n",
       "      <td>0.700000</td>\n",
       "    </tr>\n",
       "    <tr>\n",
       "      <th>16</th>\n",
       "      <td>Age</td>\n",
       "      <td>0</td>\n",
       "      <td>0.315271</td>\n",
       "      <td>0.197809</td>\n",
       "      <td>0.743460</td>\n",
       "    </tr>\n",
       "    <tr>\n",
       "      <th>17</th>\n",
       "      <td>Age</td>\n",
       "      <td>1</td>\n",
       "      <td>0.113269</td>\n",
       "      <td>0.648639</td>\n",
       "      <td>0.619046</td>\n",
       "    </tr>\n",
       "    <tr>\n",
       "      <th>18</th>\n",
       "      <td>Age</td>\n",
       "      <td>-2</td>\n",
       "      <td>0.944444</td>\n",
       "      <td>0.017195</td>\n",
       "      <td>0.519180</td>\n",
       "    </tr>\n",
       "    <tr>\n",
       "      <th>19</th>\n",
       "      <td>Age</td>\n",
       "      <td>-1</td>\n",
       "      <td>0.735294</td>\n",
       "      <td>0.026780</td>\n",
       "      <td>0.618963</td>\n",
       "    </tr>\n",
       "    <tr>\n",
       "      <th>20</th>\n",
       "      <td>Age</td>\n",
       "      <td>0</td>\n",
       "      <td>0.234395</td>\n",
       "      <td>0.270332</td>\n",
       "      <td>0.747636</td>\n",
       "    </tr>\n",
       "    <tr>\n",
       "      <th>21</th>\n",
       "      <td>Age</td>\n",
       "      <td>0</td>\n",
       "      <td>0.160399</td>\n",
       "      <td>0.400632</td>\n",
       "      <td>0.719485</td>\n",
       "    </tr>\n",
       "    <tr>\n",
       "      <th>22</th>\n",
       "      <td>Age</td>\n",
       "      <td>0</td>\n",
       "      <td>0.139336</td>\n",
       "      <td>0.494705</td>\n",
       "      <td>0.682979</td>\n",
       "    </tr>\n",
       "    <tr>\n",
       "      <th>23</th>\n",
       "      <td>Age</td>\n",
       "      <td>-1</td>\n",
       "      <td>0.661017</td>\n",
       "      <td>0.052559</td>\n",
       "      <td>0.643212</td>\n",
       "    </tr>\n",
       "    <tr>\n",
       "      <th>24</th>\n",
       "      <td>Age</td>\n",
       "      <td>-1</td>\n",
       "      <td>0.517544</td>\n",
       "      <td>0.077795</td>\n",
       "      <td>0.702331</td>\n",
       "    </tr>\n",
       "    <tr>\n",
       "      <th>25</th>\n",
       "      <td>Age</td>\n",
       "      <td>1</td>\n",
       "      <td>0.133813</td>\n",
       "      <td>0.566171</td>\n",
       "      <td>0.650008</td>\n",
       "    </tr>\n",
       "    <tr>\n",
       "      <th>26</th>\n",
       "      <td>Age</td>\n",
       "      <td>0</td>\n",
       "      <td>0.469194</td>\n",
       "      <td>0.108072</td>\n",
       "      <td>0.711367</td>\n",
       "    </tr>\n",
       "    <tr>\n",
       "      <th>27</th>\n",
       "      <td>Age</td>\n",
       "      <td>0</td>\n",
       "      <td>0.218371</td>\n",
       "      <td>0.320360</td>\n",
       "      <td>0.730634</td>\n",
       "    </tr>\n",
       "    <tr>\n",
       "      <th>28</th>\n",
       "      <td>Age</td>\n",
       "      <td>0</td>\n",
       "      <td>0.333333</td>\n",
       "      <td>0.142738</td>\n",
       "      <td>0.761964</td>\n",
       "    </tr>\n",
       "  </tbody>\n",
       "</table>\n",
       "</div>"
      ],
      "text/plain": [
       "   Demographic  Subgroup       FNR       FPR       AUC\n",
       "0          Sex         0  0.215456  0.265091  0.759727\n",
       "1          Sex         1  0.213193  0.311970  0.737418\n",
       "2       Income        -1  0.104478  0.580101  0.657711\n",
       "3       Income         0  0.214286  0.329427  0.728144\n",
       "4       Income         0  0.278371  0.245519  0.738055\n",
       "5       Income         0  0.371284  0.148586  0.740065\n",
       "6       Income         0  0.178914  0.379545  0.720771\n",
       "7       Income        -1  0.121986  0.508256  0.684879\n",
       "8       Income         0  0.136476  0.438575  0.712475\n",
       "9       Income        -2  0.090498  0.524199  0.692652\n",
       "10   Education        -1  0.176040  0.398069  0.712946\n",
       "11   Education         0  0.292910  0.186826  0.760132\n",
       "12   Education        -2  0.093126  0.565278  0.670798\n",
       "13   Education         0  0.215080  0.296247  0.744337\n",
       "14   Education        -3  0.114894  0.646320  0.619393\n",
       "15   Education        -4  0.200000  0.400000  0.700000\n",
       "16         Age         0  0.315271  0.197809  0.743460\n",
       "17         Age         1  0.113269  0.648639  0.619046\n",
       "18         Age        -2  0.944444  0.017195  0.519180\n",
       "19         Age        -1  0.735294  0.026780  0.618963\n",
       "20         Age         0  0.234395  0.270332  0.747636\n",
       "21         Age         0  0.160399  0.400632  0.719485\n",
       "22         Age         0  0.139336  0.494705  0.682979\n",
       "23         Age        -1  0.661017  0.052559  0.643212\n",
       "24         Age        -1  0.517544  0.077795  0.702331\n",
       "25         Age         1  0.133813  0.566171  0.650008\n",
       "26         Age         0  0.469194  0.108072  0.711367\n",
       "27         Age         0  0.218371  0.320360  0.730634\n",
       "28         Age         0  0.333333  0.142738  0.761964"
      ]
     },
     "execution_count": 81,
     "metadata": {},
     "output_type": "execute_result"
    }
   ],
   "source": [
    "results_df = pd.DataFrame(columns=['Demographic', 'Subgroup', 'FNR', 'FPR', 'AUC'])\n",
    "\n",
    "for cat in results:\n",
    "    for subgroup in results[cat]:\n",
    "        fnr, fpr = calculate_fnr_fpr(test_with_pred_df[test_with_pred_df[cat] == subgroup]['True_Diabetes_binary'],\n",
    "                                     test_with_pred_df[test_with_pred_df[cat] == subgroup]['Predicted_Diabetes_binary'])\n",
    "        auc = results[cat][subgroup]['AUC']\n",
    "\n",
    "        results_df = results_df.append({\n",
    "            'Demographic': cat,\n",
    "            'Subgroup': subgroup,\n",
    "            'FNR': fnr,\n",
    "            'FPR': fpr,\n",
    "            'AUC': auc\n",
    "        }, ignore_index=True)\n",
    "\n",
    "# Adjusting data types for better formatting\n",
    "results_df['Subgroup'] = results_df['Subgroup'].astype(int)\n",
    "results_df['FNR'] = results_df['FNR'].astype(float)\n",
    "results_df['FPR'] = results_df['FPR'].astype(float)\n",
    "results_df['AUC'] = results_df['AUC'].astype(float)\n",
    "\n",
    "results_df\n"
   ]
  },
  {
   "cell_type": "markdown",
   "metadata": {
    "id": "d6UV_F5tk5l7"
   },
   "source": [
    "### c. Informative Plots"
   ]
  },
  {
   "cell_type": "code",
   "execution_count": 82,
   "metadata": {
    "colab": {
     "base_uri": "https://localhost:8080/",
     "height": 564
    },
    "id": "FGu6ikhyk5l7",
    "outputId": "42e8b4b8-108f-4dcc-f35f-bc89a968c0ec"
   },
   "outputs": [
    {
     "data": {
      "image/png": "[encoded data removed]",
      "text/plain": [
       "<Figure size 576x432 with 1 Axes>"
      ]
     },
     "metadata": {
      "needs_background": "light"
     },
     "output_type": "display_data"
    }
   ],
   "source": [
    "import matplotlib.pyplot as plt\n",
    "import seaborn as sns\n",
    "\n",
    "conf_matrix = confusion_matrix(y_test, y_pred_subset)\n",
    "\n",
    "# Plotting the confusion matrix\n",
    "plt.figure(figsize=(8, 6))\n",
    "sns.heatmap(conf_matrix, annot=True, fmt='d', cmap='Blues', cbar=False)\n",
    "plt.xlabel('Predicted Label')\n",
    "plt.ylabel('True Label')\n",
    "plt.title('Confusion Matrix')\n",
    "plt.xticks(ticks=[0.5, 1.5], labels=['Negative (0)', 'Positive (1)'])\n",
    "plt.yticks(ticks=[0.5, 1.5], labels=['Negative (0)', 'Positive (1)'], rotation=0)\n",
    "plt.show()"
   ]
  },
  {
   "cell_type": "code",
   "execution_count": 83,
   "metadata": {
    "colab": {
     "base_uri": "https://localhost:8080/",
     "height": 1000
    },
    "id": "6CKTJoozmpe5",
    "outputId": "d678e63e-e964-4c03-c6a2-326927d94449"
   },
   "outputs": [
    {
     "data": {
      "image/png": "[encoded data removed]",
      "text/plain": [
       "<Figure size 864x1296 with 12 Axes>"
      ]
     },
     "metadata": {
      "needs_background": "light"
     },
     "output_type": "display_data"
    }
   ],
   "source": [
    "# plotting the AUC for each subgroup\n",
    "\n",
    "fig = plt.figure(figsize=(12,18))\n",
    "fig.suptitle('Model metrics across Subgroups',\n",
    "             va='bottom', y=0.9, fontsize=20)\n",
    "fig_count = 1\n",
    "\n",
    "for att in sensitive_attributes:\n",
    "\n",
    "    for metric in ['AUC', 'FNR', 'FPR']:\n",
    "        plt.subplot(4, 3, fig_count)\n",
    "        plt.title(f'{metric} across {att} groups')\n",
    "        sns.barplot(x='Subgroup', y=metric, data=results_df[results_df['Demographic'] == att], palette='Pastel1')\n",
    "        plt.xlabel('')\n",
    "        plt.ylabel('')\n",
    "\n",
    "        fig_count += 1\n",
    "\n",
    "plt.show()\n"
   ]
  },
  {
   "cell_type": "markdown",
   "metadata": {
    "id": "1kaBQu4uk5l7",
    "tags": []
   },
   "source": [
    "## Model 4: LightGBM\n",
    "### a. Model"
   ]
  },
  {
   "cell_type": "code",
   "execution_count": 93,
   "metadata": {
    "id": "gXjHYUvpKr6J"
   },
   "outputs": [],
   "source": [
    "import pandas as pd\n",
    "import numpy as np\n",
    "import matplotlib.pyplot as plt\n",
    "import seaborn as sns\n",
    "from sklearn import preprocessing\n",
    "from sklearn.model_selection import train_test_split\n",
    "from sklearn import metrics\n",
    "from sklearn.metrics import accuracy_score, confusion_matrix, log_loss, f1_score, ConfusionMatrixDisplay, precision_recall_curve"
   ]
  },
  {
   "cell_type": "code",
   "execution_count": 85,
   "metadata": {
    "id": "wIH4FXA4Kr6J"
   },
   "outputs": [],
   "source": [
    "from ucimlrepo import fetch_ucirepo\n",
    "\n",
    "# fetch dataset\n",
    "cdc_diabetes_health_indicators = fetch_ucirepo(id=891)\n",
    "\n",
    "# data (as pandas dataframes)\n",
    "feature_data = cdc_diabetes_health_indicators.data.features\n",
    "target_data = cdc_diabetes_health_indicators.data.targets"
   ]
  },
  {
   "cell_type": "code",
   "execution_count": 86,
   "metadata": {
    "id": "8B09TUJ1Kr6J"
   },
   "outputs": [],
   "source": [
    "X = feature_data\n",
    "y = target_data.Diabetes_binary"
   ]
  },
  {
   "cell_type": "code",
   "execution_count": 87,
   "metadata": {
    "id": "_0y3Te6HKr6J"
   },
   "outputs": [],
   "source": [
    "X_train_test, X_test, y_train_test, y_test = train_test_split(X, y, test_size=0.2)\n",
    "\n",
    "X_train, X_val, y_train, y_val = train_test_split(X_train_test, y_train_test, test_size=0.25)"
   ]
  },
  {
   "cell_type": "code",
   "execution_count": 88,
   "metadata": {
    "id": "GxqNPJroKr6J"
   },
   "outputs": [],
   "source": [
    "from lightgbm import LGBMClassifier\n",
    "import lightgbm as lgb"
   ]
  },
  {
   "cell_type": "code",
   "execution_count": 89,
   "metadata": {
    "id": "tYtJUMM0Kr6J"
   },
   "outputs": [],
   "source": [
    "lgb_train = lgb.Dataset(X_train, y_train, free_raw_data=False)\n",
    "lgb_val = lgb.Dataset(X_val, y_val, reference=lgb_train, free_raw_data=False)"
   ]
  },
  {
   "cell_type": "code",
   "execution_count": 90,
   "metadata": {
    "id": "SQzCzPZ7Kr6J"
   },
   "outputs": [],
   "source": [
    "params = {\n",
    "    'boosting_type': 'gbdt',\n",
    "    'objective': 'binary',\n",
    "    'metric': 'binary_logloss',\n",
    "\n",
    "    'learning_rate': 0.0001,\n",
    "    'num_leaves': 15, # more leaves increases accuracy, but may lead to overfitting.\n",
    "\n",
    "    'max_depth': 4, # the maximum tree depth. Shallower trees reduce overfitting.\n",
    "    'min_split_gain': 0., # minimal loss gain to perform a split\n",
    "    'min_child_samples': 20, # or min_data_in_leaf: specifies the minimum samples per leaf node.\n",
    "    # 'min_child_weight': 5, # minimal sum hessian in one leaf. Controls overfitting.\n",
    "\n",
    "    # 'lambda_l1': 0.1, # L1 regularization\n",
    "    'lambda_l2': 0.9, # L2 regularization\n",
    "\n",
    "    'feature_fraction': 0.7, # randomly select a fraction of the features before building each tree.\n",
    "    # Speeds up training and controls overfitting.\n",
    "    # 'bagging_fraction': 0.5, # allows for bagging or subsampling of data to speed up training.\n",
    "    # 'bagging_freq': 0, # perform bagging on every Kth iteration, disabled if 0.\n",
    "\n",
    "    'scale_pos_weight': 6, # add a weight to the positive class examples (compensates for imbalance).\n",
    "\n",
    "    # 'subsample_for_bin': 2000, # amount of data to sample to determine histogram bins\n",
    "    # 'max_bin': 10, # the maximum number of bins to bucket feature values in.\n",
    "    # LightGBM autocompresses memory based on this value. Larger bins improves accuracy.\n",
    "    # 'nthread': 4, # number of threads to use for LightGBM, best set to number of actual cores.\n",
    "}"
   ]
  },
  {
   "cell_type": "code",
   "execution_count": 91,
   "metadata": {
    "colab": {
     "base_uri": "https://localhost:8080/",
     "height": 216
    },
    "id": "XEBA4gUBKr6K",
    "outputId": "99ef577f-3997-4843-d31e-51927b01f39a"
   },
   "outputs": [
    {
     "name": "stdout",
     "output_type": "stream",
     "text": [
      "[LightGBM] [Info] Number of positive: 21231, number of negative: 130977\n",
      "[LightGBM] [Warning] Auto-choosing row-wise multi-threading, the overhead of testing was 0.008359 seconds.\n",
      "You can set `force_row_wise=true` to remove the overhead.\n",
      "And if memory is not enough, you can set `force_col_wise=true`.\n",
      "[LightGBM] [Info] Total Bins 201\n",
      "[LightGBM] [Info] Number of data points in the train set: 152208, number of used features: 21\n",
      "[LightGBM] [Info] [binary:BoostFromScore]: pavg=0.139487 -> initscore=-1.819559\n",
      "[LightGBM] [Info] Start training from score -1.819559\n",
      "Training until validation scores don't improve for 50 rounds\n",
      "[100]\ttraining's binary_logloss: 0.401663\tvalid_1's binary_logloss: 0.401925\n",
      "[200]\ttraining's binary_logloss: 0.399465\tvalid_1's binary_logloss: 0.39974\n",
      "[300]\ttraining's binary_logloss: 0.397424\tvalid_1's binary_logloss: 0.397713\n",
      "[400]\ttraining's binary_logloss: 0.395577\tvalid_1's binary_logloss: 0.395879\n",
      "[500]\ttraining's binary_logloss: 0.393886\tvalid_1's binary_logloss: 0.394198\n",
      "[600]\ttraining's binary_logloss: 0.392302\tvalid_1's binary_logloss: 0.392625\n",
      "[700]\ttraining's binary_logloss: 0.390853\tvalid_1's binary_logloss: 0.391188\n",
      "[800]\ttraining's binary_logloss: 0.389543\tvalid_1's binary_logloss: 0.389888\n",
      "[900]\ttraining's binary_logloss: 0.388298\tvalid_1's binary_logloss: 0.388656\n",
      "[1000]\ttraining's binary_logloss: 0.387164\tvalid_1's binary_logloss: 0.387534\n",
      "[1100]\ttraining's binary_logloss: 0.386147\tvalid_1's binary_logloss: 0.386527\n",
      "[1200]\ttraining's binary_logloss: 0.385217\tvalid_1's binary_logloss: 0.385608\n",
      "[1300]\ttraining's binary_logloss: 0.38437\tvalid_1's binary_logloss: 0.384773\n",
      "[1400]\ttraining's binary_logloss: 0.383593\tvalid_1's binary_logloss: 0.384009\n",
      "[1500]\ttraining's binary_logloss: 0.382916\tvalid_1's binary_logloss: 0.383346\n",
      "[1600]\ttraining's binary_logloss: 0.382298\tvalid_1's binary_logloss: 0.38274\n",
      "[1700]\ttraining's binary_logloss: 0.381769\tvalid_1's binary_logloss: 0.382224\n",
      "[1800]\ttraining's binary_logloss: 0.381285\tvalid_1's binary_logloss: 0.381752\n",
      "[1900]\ttraining's binary_logloss: 0.380825\tvalid_1's binary_logloss: 0.381307\n",
      "[2000]\ttraining's binary_logloss: 0.38045\tvalid_1's binary_logloss: 0.380944\n",
      "[2100]\ttraining's binary_logloss: 0.380114\tvalid_1's binary_logloss: 0.38062\n",
      "[2200]\ttraining's binary_logloss: 0.379858\tvalid_1's binary_logloss: 0.380375\n",
      "[2300]\ttraining's binary_logloss: 0.379637\tvalid_1's binary_logloss: 0.380168\n",
      "[2400]\ttraining's binary_logloss: 0.379451\tvalid_1's binary_logloss: 0.379995\n",
      "[2500]\ttraining's binary_logloss: 0.379296\tvalid_1's binary_logloss: 0.379854\n",
      "[2600]\ttraining's binary_logloss: 0.379195\tvalid_1's binary_logloss: 0.379765\n",
      "[2700]\ttraining's binary_logloss: 0.379126\tvalid_1's binary_logloss: 0.379708\n",
      "[2800]\ttraining's binary_logloss: 0.379104\tvalid_1's binary_logloss: 0.379698\n",
      "Early stopping, best iteration is:\n",
      "[2787]\ttraining's binary_logloss: 0.379096\tvalid_1's binary_logloss: 0.37969\n"
     ]
    }
   ],
   "source": [
    "evals_result = {}\n",
    "gbm = lgb.train(params, # parameter dict to use\n",
    "                lgb_train,\n",
    "                num_boost_round=10000, # the boosting rounds or number of iterations.\n",
    "                early_stopping_rounds=50, # early stopping iterations.\n",
    "                # stop training if *no* metric improves on *any* validation data.\n",
    "                valid_sets=[lgb_train, lgb_val],\n",
    "                evals_result=evals_result, # dict to store evaluation results in.\n",
    "                verbose_eval=100) # print evaluations during training."
   ]
  },
  {
   "cell_type": "markdown",
   "metadata": {
    "id": "pCzMZXCbk5l7"
   },
   "source": [
    "### b. Evaluation Metrics"
   ]
  },
  {
   "cell_type": "code",
   "execution_count": 94,
   "metadata": {
    "id": "rcQLQB-uKr6K"
   },
   "outputs": [
    {
     "name": "stdout",
     "output_type": "stream",
     "text": [
      "Best threshold:  0.25684733346144073\n",
      "Best F1-Score:  0.4568621099233344\n"
     ]
    }
   ],
   "source": [
    "y_val_pred = gbm.predict(X_val, num_iteration=gbm.best_iteration)\n",
    "\n",
    "# find best threshold through validation set\n",
    "precision, recall, thresholds = precision_recall_curve(y_val, y_val_pred)\n",
    "f1_scores = 2*recall*precision/(recall+precision)\n",
    "print('Best threshold: ', thresholds[np.argmax(f1_scores)])\n",
    "print('Best F1-Score: ', np.max(f1_scores))"
   ]
  },
  {
   "cell_type": "code",
   "execution_count": 95,
   "metadata": {},
   "outputs": [
    {
     "name": "stdout",
     "output_type": "stream",
     "text": [
      "F1-Score on Validation Set: 0.4567694550953178\n"
     ]
    }
   ],
   "source": [
    "threshold = thresholds[np.argmax(f1_scores)]\n",
    "y_val_pred = np.where(y_val_pred > threshold, 1, 0)\n",
    "f1 = f1_score(y_val, y_val_pred)\n",
    "print(f\"F1-Score on Validation Set: {f1}\")"
   ]
  },
  {
   "cell_type": "code",
   "execution_count": 96,
   "metadata": {
    "id": "2uGusivFKr6K"
   },
   "outputs": [
    {
     "name": "stdout",
     "output_type": "stream",
     "text": [
      "F1-Score on Test Set: 0.4591270273212148\n"
     ]
    }
   ],
   "source": [
    "# Predict on the test set\n",
    "y_test_pred = gbm.predict(X_test, num_iteration=gbm.best_iteration)\n",
    "y_test_pred = np.where(y_test_pred > threshold, 1, 0)\n",
    "# Evaluate the model\n",
    "f1 = f1_score(y_test, y_test_pred)\n",
    "print(f\"F1-Score on Test Set: {f1}\")"
   ]
  },
  {
   "cell_type": "code",
   "execution_count": 97,
   "metadata": {
    "id": "rOwqMUS5Kr6K"
   },
   "outputs": [
    {
     "name": "stdout",
     "output_type": "stream",
     "text": [
      "              precision    recall  f1-score   support\n",
      "\n",
      "           0       0.93      0.84      0.88     43705\n",
      "           1       0.37      0.60      0.46      7031\n",
      "\n",
      "    accuracy                           0.80     50736\n",
      "   macro avg       0.65      0.72      0.67     50736\n",
      "weighted avg       0.85      0.80      0.82     50736\n",
      "\n",
      "Confusion Matrix:\n",
      " [[36580  7125]\n",
      " [ 2813  4218]]\n"
     ]
    }
   ],
   "source": [
    "print(metrics.classification_report(y_test, y_test_pred))\n",
    "print(\"Confusion Matrix:\\n\", metrics.confusion_matrix(y_test, y_test_pred))"
   ]
  },
  {
   "cell_type": "code",
   "execution_count": 98,
   "metadata": {
    "id": "1djy4L5mKr6K"
   },
   "outputs": [
    {
     "name": "stdout",
     "output_type": "stream",
     "text": [
      "AUC (all participants): 0.8195\n",
      "AUC (female participants): 0.8355\n",
      "AUC (male participants): 0.8005\n"
     ]
    }
   ],
   "source": [
    "female_idx = X_test['Sex']==0\n",
    "male_idx = X_test['Sex']==1\n",
    "\n",
    "female_test = y_test.loc[female_idx]\n",
    "male_test = y_test.loc[male_idx]\n",
    "\n",
    "female_pred  = y_test_pred[female_idx]\n",
    "male_pred = y_test_pred[male_idx]\n",
    "\n",
    "y_pred_prob = gbm.predict(X_test, num_iteration=gbm.best_iteration)\n",
    "female_score = y_pred_prob[female_idx]\n",
    "male_score = y_pred_prob[male_idx]\n",
    "\n",
    "true_y = {'all': y_test, 'female':female_test, 'male':male_test}\n",
    "pred_y = {'female':female_pred, 'male':male_pred}\n",
    "prob_y = {'all':y_pred_prob, 'female':female_score, 'male':male_score}\n",
    "\n",
    "for group in ['all', 'female', 'male']:\n",
    "    AUC = metrics.roc_auc_score(true_y[group], prob_y[group])\n",
    "    print(f'AUC ({group} participants): {AUC:.4f}')\n",
    "\n",
    "\n",
    "tn, fp, fn, tp = {}, {}, {}, {}\n",
    "for group in ['female', 'male']:\n",
    "    tn[group], fp[group], fn[group], tp[group] = metrics.confusion_matrix(true_y[group], pred_y[group]).ravel()"
   ]
  },
  {
   "cell_type": "code",
   "execution_count": 99,
   "metadata": {
    "id": "iAH0nFlPKr6K"
   },
   "outputs": [
    {
     "name": "stdout",
     "output_type": "stream",
     "text": [
      "FNR (female participants): 0.3710\n",
      "FNR (male participants): 0.4316\n"
     ]
    }
   ],
   "source": [
    "for group in ['female', 'male']:\n",
    "    FNR = fn[group]/(tp[group]+fn[group])\n",
    "    print(f'FNR ({group} participants): {FNR:.4f}')"
   ]
  },
  {
   "cell_type": "code",
   "execution_count": 100,
   "metadata": {
    "id": "tCZ-5faeKr6K"
   },
   "outputs": [
    {
     "name": "stdout",
     "output_type": "stream",
     "text": [
      "FPR (female participants): 0.1612\n",
      "FPR (male participants): 0.1653\n"
     ]
    }
   ],
   "source": [
    "for group in ['female', 'male']:\n",
    "    FPR = fp[group]/(tn[group]+fp[group])\n",
    "    print(f'FPR ({group} participants): {FPR:.4f}')"
   ]
  },
  {
   "cell_type": "code",
   "execution_count": 101,
   "metadata": {
    "id": "6G4LIJKdKr6K"
   },
   "outputs": [
    {
     "name": "stdout",
     "output_type": "stream",
     "text": [
      "Fraction positive (female participants): 0.2216\n",
      "Fraction positive (male participants): 0.2260\n"
     ]
    }
   ],
   "source": [
    "for group in ['female', 'male']:\n",
    "    PR = pred_y[group].mean()\n",
    "    print(f'Fraction positive ({group} participants): {PR:.4f}')"
   ]
  },
  {
   "cell_type": "code",
   "execution_count": 102,
   "metadata": {
    "id": "pRWQP3YHKr6K"
   },
   "outputs": [
    {
     "name": "stdout",
     "output_type": "stream",
     "text": [
      "AUC (all participants): 0.8195\n",
      "AUC (Income 1 participants): 0.7820\n",
      "AUC (Income 2 participants): 0.7651\n",
      "AUC (Income 3 participants): 0.7754\n",
      "AUC (Income 4 participants): 0.7948\n",
      "AUC (Income 5 participants): 0.7840\n",
      "AUC (Income 6 participants): 0.7937\n",
      "AUC (Income 7 participants): 0.8105\n",
      "AUC (Income 8 participants): 0.8298\n"
     ]
    }
   ],
   "source": [
    "one_idx = X_test['Income']==1\n",
    "two_idx = X_test['Income']==2\n",
    "three_idx = X_test['Income']==3\n",
    "four_idx = X_test['Income']==4\n",
    "five_idx = X_test['Income']==5\n",
    "six_idx = X_test['Income']==6\n",
    "seven_idx = X_test['Income']==7\n",
    "eight_idx = X_test['Income']==8\n",
    "\n",
    "one_test = y_test.loc[one_idx]\n",
    "two_test = y_test.loc[two_idx]\n",
    "three_test = y_test.loc[three_idx]\n",
    "four_test = y_test.loc[four_idx]\n",
    "five_test = y_test.loc[five_idx]\n",
    "six_test = y_test.loc[six_idx]\n",
    "seven_test = y_test.loc[seven_idx]\n",
    "eight_test = y_test.loc[eight_idx]\n",
    "\n",
    "one_pred  = y_test_pred[one_idx]\n",
    "two_pred = y_test_pred[two_idx]\n",
    "three_pred = y_test_pred[three_idx]\n",
    "four_pred = y_test_pred[four_idx]\n",
    "five_pred = y_test_pred[five_idx]\n",
    "six_pred = y_test_pred[six_idx]\n",
    "seven_pred = y_test_pred[seven_idx]\n",
    "eight_pred = y_test_pred[eight_idx]\n",
    "\n",
    "y_pred_prob = gbm.predict(X_test, num_iteration=gbm.best_iteration)\n",
    "one_score = y_pred_prob[one_idx]\n",
    "two_score = y_pred_prob[two_idx]\n",
    "three_score = y_pred_prob[three_idx]\n",
    "four_score = y_pred_prob[four_idx]\n",
    "five_score = y_pred_prob[five_idx]\n",
    "six_score = y_pred_prob[six_idx]\n",
    "seven_score = y_pred_prob[seven_idx]\n",
    "eight_score = y_pred_prob[eight_idx]\n",
    "\n",
    "\n",
    "true_y = {'all': y_test, 'Income 1':one_test, 'Income 2':two_test, 'Income 3':three_test,\n",
    "          'Income 4':four_test,'Income 5':five_test,'Income 6':six_test,'Income 7':seven_test,'Income 8':eight_test}\n",
    "pred_y = {'Income 1':one_pred, 'Income 2':two_pred, 'Income 3':three_pred,\n",
    "          'Income 4':four_pred,'Income 5':five_pred,'Income 6':six_pred,'Income 7':seven_pred,'Income 8':eight_pred}\n",
    "prob_y = {'all': y_pred_prob, 'Income 1':one_score, 'Income 2':two_score, 'Income 3':three_score,\n",
    "          'Income 4':four_score,'Income 5':five_score,'Income 6':six_score,'Income 7':seven_score,'Income 8':eight_score}\n",
    "\n",
    "\n",
    "for group in ['all', 'Income 1', 'Income 2', 'Income 3', 'Income 4', 'Income 5', 'Income 6', 'Income 7', 'Income 8']:\n",
    "    AUC = metrics.roc_auc_score(true_y[group], prob_y[group])\n",
    "    print(f'AUC ({group} participants): {AUC:.4f}')\n",
    "\n",
    "\n",
    "tn, fp, fn, tp = {}, {}, {}, {}\n",
    "for group in ['Income 1', 'Income 2', 'Income 3', 'Income 4', 'Income 5', 'Income 6', 'Income 7', 'Income 8']:\n",
    "    tn[group], fp[group], fn[group], tp[group] = metrics.confusion_matrix(true_y[group], pred_y[group]).ravel()"
   ]
  },
  {
   "cell_type": "code",
   "execution_count": 103,
   "metadata": {
    "id": "_bIBGRqzKr6K"
   },
   "outputs": [
    {
     "name": "stdout",
     "output_type": "stream",
     "text": [
      "FNR (Income 1 participants): 0.2579\n",
      "FNR (Income 2 participants): 0.2592\n",
      "FNR (Income 3 participants): 0.2843\n",
      "FNR (Income 4 participants): 0.3151\n",
      "FNR (Income 5 participants): 0.3622\n",
      "FNR (Income 6 participants): 0.3989\n",
      "FNR (Income 7 participants): 0.4885\n",
      "FNR (Income 8 participants): 0.5698\n"
     ]
    }
   ],
   "source": [
    "for group in ['Income 1', 'Income 2', 'Income 3', 'Income 4', 'Income 5', 'Income 6', 'Income 7', 'Income 8']:\n",
    "    FNR = fn[group]/(tp[group]+fn[group])\n",
    "    print(f'FNR ({group} participants): {FNR:.4f}')"
   ]
  },
  {
   "cell_type": "code",
   "execution_count": 104,
   "metadata": {
    "id": "OIETry-lKr6K"
   },
   "outputs": [
    {
     "name": "stdout",
     "output_type": "stream",
     "text": [
      "FPR (Income 1 participants): 0.3154\n",
      "FPR (Income 2 participants): 0.3580\n",
      "FPR (Income 3 participants): 0.2920\n",
      "FPR (Income 4 participants): 0.2475\n",
      "FPR (Income 5 participants): 0.2319\n",
      "FPR (Income 6 participants): 0.1907\n",
      "FPR (Income 7 participants): 0.1375\n",
      "FPR (Income 8 participants): 0.0781\n"
     ]
    }
   ],
   "source": [
    "for group in ['Income 1', 'Income 2', 'Income 3', 'Income 4', 'Income 5', 'Income 6', 'Income 7', 'Income 8']:\n",
    "    FPR = fp[group]/(tn[group]+fp[group])\n",
    "    print(f'FPR ({group} participants): {FPR:.4f}')"
   ]
  },
  {
   "cell_type": "code",
   "execution_count": 105,
   "metadata": {
    "id": "1oV-ChVxKr6K"
   },
   "outputs": [
    {
     "name": "stdout",
     "output_type": "stream",
     "text": [
      "Fraction positive (Income 1 participants): 0.4181\n",
      "Fraction positive (Income 2 participants): 0.4576\n",
      "Fraction positive (Income 3 participants): 0.3833\n",
      "Fraction positive (Income 4 participants): 0.3398\n",
      "Fraction positive (Income 5 participants): 0.3014\n",
      "Fraction positive (Income 6 participants): 0.2511\n",
      "Fraction positive (Income 7 participants): 0.1820\n",
      "Fraction positive (Income 8 participants): 0.1061\n"
     ]
    }
   ],
   "source": [
    "for group in 'Income 1', 'Income 2', 'Income 3', 'Income 4', 'Income 5', 'Income 6', 'Income 7', 'Income 8':\n",
    "    PR = pred_y[group].mean()\n",
    "    print(f'Fraction positive ({group} participants): {PR:.4f}')"
   ]
  },
  {
   "cell_type": "markdown",
   "metadata": {
    "id": "M-Tm-4iZk5l7"
   },
   "source": [
    "### c. Informative Plots"
   ]
  },
  {
   "cell_type": "code",
   "execution_count": 107,
   "metadata": {
    "id": "0eB-Vh8eYGt7"
   },
   "outputs": [
    {
     "data": {
      "image/png": "[encoded data removed]",
      "text/plain": [
       "<Figure size 432x288 with 2 Axes>"
      ]
     },
     "metadata": {
      "needs_background": "light"
     },
     "output_type": "display_data"
    },
    {
     "name": "stdout",
     "output_type": "stream",
     "text": [
      "F1 Score: 0.459\n"
     ]
    }
   ],
   "source": [
    "cm = confusion_matrix(y_test, y_test_pred, labels=[0, 1])\n",
    "disp = ConfusionMatrixDisplay(confusion_matrix=cm, display_labels=['negative', 'positive'])\n",
    "disp = disp.plot(cmap=plt.cm.Blues,values_format='g')\n",
    "# disp.plot()\n",
    "plt.title(f'LightGBM (threshold={round(threshold, 4)})')\n",
    "plt.show()\n",
    "# calculate score\n",
    "score = f1_score(y_test, y_test_pred)\n",
    "print('F1 Score: %.3f' % score)"
   ]
  },
  {
   "cell_type": "markdown",
   "metadata": {
    "id": "TlH5yESzk5l8"
   },
   "source": [
    "# 5. Results"
   ]
  },
  {
   "cell_type": "markdown",
   "metadata": {
    "id": "wINaZxBbk5l8"
   },
   "source": [
    "### a. Interpret the results of each model"
   ]
  },
  {
   "cell_type": "markdown",
   "metadata": {
    "id": "8V-4Dg2Mk5l8"
   },
   "source": [
    "#### Model 1: Naive Bayes\n",
    "In Model 1, the f1-score was 0.412, with an overall AUC of 0.7812. For most participants, the model predicted their diabetes outcome correctly. When we looked at these metrics for the different subgroups within sex and income, we saw that overall the metrics did not change for each subgroup.\n",
    "\n",
    "Looking at the sex subgroup, female particpants had a FNR of 0.4034 while male participants had a FNR of 0.4622. The slightly higher FNR for male participants could be attributed to the higher number of female participants and thus more data for this subgroup as we highlighted in the summary statistics above.\n",
    "\n",
    "As for different income groups, the AUC score and FNR had a positive relationship with the income group, with lower income groups having a lower AUC and FNR score while higher income groups having higher AUC and FNR scores. The highest FNR recorded was for Income group 8, which are participants who recorded having an income of \\$ 75,000 or more. This result does not follow our initial hypothesis for lower income groups potentially having more unfair results from the model, as the higher income groups having higher FNR and FPR. However, this could also be attributed to a higher representation of high income groups in the dataset. Additionally, the fraction positive proportion had a negative relationship with income subgroups, with lower subgroups having the highest fraction positive such as 0.6299 and 0.6330 for Income 1 and Income 2 participants who have an income level around or less than 10,000. We can hypothesize that lower income groups may be less represented in the dataset, but the ones that did participate in the survey have had history of health issues related to diabetes or high cholestrol.\n",
    "\n",
    "#### Model 2: Logistic Regression\n",
    "For model 2, we started with an overall AUC of 0.81 but the F1 score was not looking so good at 0.24. This is probably due to the unbalanced nature of the dataset and could be address using SMOTE or another balancing method.\n",
    "\n",
    "Still, we tried to see if, as is, the model showed any bias towards any subgroup, so we plotted metrics like AUC, FNR, and FPR for each sensitive attribute. And, while the model seemed to have similar accuracy across groups (AUC was fairly even), the FNR was just too high and both the FNR and FPR showed so much variation across attributes. For instance Almost counter intuitively, the FNR was considerably lower for lower income groups and those with less years of education. Still, this \"lower\" FNR was, at best, over 50% (which was only better if you compare it with the outrageous 90%+ FNRs we got for other groups).\n",
    "\n",
    "With this in mind, based on such poor performance, we can't really trust any of the aforementioned trends. We'll need to tweak the model and stabilize the crazy false negative rates before we can get any meaningful insights from it.\n",
    "\n",
    "#### Model 3: SVC\n",
    "After examining the diabetes prediction model based on Support Vector Classifier (SVC), it became clear that its performance varied across different groups of people. For men and women, the model had a slightly higher tendency to miss diabetes cases in men (with a False Negative Rate, or FNR, of 64.3%) compared to women (FNR of 62.3%). Despite this, the chance of incorrectly identifying someone as diabetic (False Positive Rate, or FPR) hovered around 35% for both genders, and the model's overall accuracy (measured by AUC) was just over 50%, barely better than a random guess.\n",
    "\n",
    "This indicates that the model doesn't particularly favor one gender over the other; however, its effectiveness in accurately predicting diabetes is lacking. AUC values, indicating the model's ability to distinguish between those with and without diabetes, are disappointingly low across various groups, pointing to a struggle in making precise predictions.\n",
    "\n",
    "There is many reasons why SVC model didn't perform well. First, the data used to train the model might lack diversity or fail to include crucial information that significantly impacts diabetes predictions, like dietary habits or physical activity levels. Second, the selected SVC model parameters might not be optimal, potentially making the model too simplistic or overly complex, thus hindering its learning capability.\n",
    "\n",
    "#### Model 4: LightGBM\n",
    "The LightGBM model demonstrated superior performance among all models, boasting an AUC of 0.8195 and an F1 score of 0.459. Specifically, we optimized the model's threshold using the precision-recall curve function on the validation set and applied the same threshold to the test set to achieve the highest F1 score, considering that LightGBM models typically produce probability outputs.\n",
    "\n",
    "Examining sensitive feature subgroups, we observed FNR values of 0.4316 for males and 0.3710 for females. Interestingly, the model's performance aligned closely with that of Naive Bayes, albeit with a notable disparity, possibly indicating overfitting due to LightGBM's inherent complexity compared to Naive Bayes.\n",
    "\n",
    "While the AUC scores appeared consistent across different income groups, we noted an increase in FNR rates and a decrease in FPR rates with higher incomes. Similarly, the proportion of positive cases among various income groups exhibited a negative correlation with income.\n",
    "\n",
    "In summary, although LightGBM demonstrated superior overall performance, closer examination of sensitive subgroups revealed potential challenges, which we aim to address in our future research endeavors.\n",
    "\n",
    "\n"
   ]
  },
  {
   "cell_type": "markdown",
   "metadata": {
    "id": "CnftjcsCk5l8"
   },
   "source": [
    "### b. Compare the performance of your models from part 4 on the evaluation metrics you noted in section 3a"
   ]
  },
  {
   "cell_type": "markdown",
   "metadata": {},
   "source": [
    "In comparing the performance of the four models, Naive Bayes emerges as a moderately performing model, showing consistent metrics across various subgroups. However, it exhibits slightly elevated false negative rates (FNR) for male participants, which could be attributed to the imbalance in the dataset favoring female participants. Despite this, Naive Bayes maintains a relatively stable performance across income groups, with higher AUC scores associated with higher income levels.\n",
    "\n",
    "Conversely, Logistic Regression faces challenges due to unbalanced data, resulting in notably high FNR rates across different attributes. Despite achieving a decent AUC of 0.81, its F1-score remains low at 0.24, indicating suboptimal performance in accurately predicting diabetes cases. Moreover, the model displays unexpected trends, such as lower FNR for lower income groups, suggesting instability in its predictions.\n",
    "\n",
    "Support Vector Classifier (SVC) demonstrates poor overall accuracy, with an AUC just above 50%, indicating performance barely better than random guessing. While it shows similar false positive rates (FPR) across genders, the FNR is considerably higher for males compared to females, suggesting challenges in effectively identifying diabetes cases among male participants. Possible reasons for SVC's underperformance include inadequate data diversity and suboptimal model parameters.\n",
    "\n",
    "On the other hand, LightGBM stands out as the top-performing model, boasting superior metrics with an AUC of 0.8195 and an F1-score of 0.459. Despite similarities in performance with Naive Bayes, LightGBM exhibits slightly higher FNR rates for males. Nevertheless, it maintains consistent AUC scores across income groups, although there's an observed trend of increasing FNR rates and decreasing FPR rates among higher income brackets.\n",
    "\n",
    "In summary, while each model presents its strengths and weaknesses, LightGBM shows the most promise in accurately predicting diabetes cases. However, further refinement is necessary to address challenges, particularly in improving FNR rates, especially among male participants, and ensuring robust performance across various subgroups."
   ]
  },
  {
   "cell_type": "markdown",
   "metadata": {
    "id": "Gm4QTd8Rk5l8"
   },
   "source": [
    "# 6. Contribution Notes\n"
   ]
  },
  {
   "cell_type": "markdown",
   "metadata": {
    "id": "LUY-HFDik5l8"
   },
   "source": [
    "- Hang Tran (hvt6): SVC model, Interpret the results of SVC model, Contribution Notes.\n",
    "- Elizabeth Wei (ew525): NaiveBased model, Research Question, Hypotheses, and Analysis Plan, Interpret the results of NaiveBased model.\n",
    "- I-Feng Wu (iw84): LightGBM model, Interpret the results of LightGBM model, Comparing the performance of all models.\n",
    "- Ariana Rosario (ar943): Data imports & data cleaning, Summary statistics,Logistic Regression model, Interpret the results of Logistic Regression model.\n"
   ]
  },
  {
   "cell_type": "markdown",
   "metadata": {
    "id": "1A--Tjehk5l8"
   },
   "source": [
    "# 7. Sources Cited"
   ]
  },
  {
   "cell_type": "markdown",
   "metadata": {
    "id": "9F2uAp1qk5l8"
   },
   "source": [
    "* Behavioral Risk Factor Surveillance System (BRFSS) 2015 Codebook Report: https://www.cdc.gov/brfss/annual_data/2015/pdf/codebook15_llcp.pdf\n",
    "* INFO 4390 Assignment 1 (answered)\n",
    "* [1] UC Irvine Machine Learning Repository. 2023. CDC Diabetes Health Indicators. https://archive.ics.uci.edu/dataset/891/cdc+diabetes+health+indicators. Accessed February 19th, 2024"
   ]
  }
 ],
 "metadata": {
  "colab": {
   "include_colab_link": true,
   "provenance": []
  },
  "kernelspec": {
   "display_name": "fairalgo",
   "language": "python",
   "name": "fairalgo"
  },
  "language_info": {
   "codemirror_mode": {
    "name": "ipython",
    "version": 3
   },
   "file_extension": ".py",
   "mimetype": "text/x-python",
   "name": "python",
   "nbconvert_exporter": "python",
   "pygments_lexer": "ipython3",
   "version": "3.8.12"
  }
 },
 "nbformat": 4,
 "nbformat_minor": 4
}
