{
 "cells": [
  {
   "cell_type": "code",
   "execution_count": 6,
   "id": "47da347d-7134-484d-904d-98864dbebb53",
   "metadata": {},
   "outputs": [],
   "source": [
    "from ucimlrepo import fetch_ucirepo\n",
    "import pandas as pd\n",
    "\n",
    "# fetch dataset\n",
    "cdc_diabetes_health_indicators = fetch_ucirepo(id=891)\n",
    "\n",
    "# data (as pandas dataframes)\n",
    "feature_data = cdc_diabetes_health_indicators.data.features\n",
    "target_data = cdc_diabetes_health_indicators.data.targets"
   ]
  },
  {
   "cell_type": "code",
   "execution_count": 8,
   "id": "b5ed23e2-9b47-425a-80a9-97d561caa7c9",
   "metadata": {},
   "outputs": [],
   "source": [
    "# save dataframes to a csv file\n",
    "feature_data.to_csv('diabetes_feature.csv', index=False) \n",
    "target_data.to_csv('diabetes_target.csv', index=False) "
   ]
  }
 ],
 "metadata": {
  "kernelspec": {
   "display_name": "Python 3 (ipykernel)",
   "language": "python",
   "name": "python3"
  },
  "language_info": {
   "codemirror_mode": {
    "name": "ipython",
    "version": 3
   },
   "file_extension": ".py",
   "mimetype": "text/x-python",
   "name": "python",
   "nbconvert_exporter": "python",
   "pygments_lexer": "ipython3",
   "version": "3.12.0"
  }
 },
 "nbformat": 4,
 "nbformat_minor": 5
}
