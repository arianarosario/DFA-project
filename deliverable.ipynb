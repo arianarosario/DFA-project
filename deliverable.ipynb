{
  "cells": [
    {
      "cell_type": "markdown",
      "metadata": {
        "id": "view-in-github",
        "colab_type": "text"
      },
      "source": [
        "<a href=\"https://colab.research.google.com/github/arianarosario/DFA-project/blob/main/deliverable.ipynb\" target=\"_parent\"><img src=\"https://colab.research.google.com/assets/colab-badge.svg\" alt=\"Open In Colab\"/></a>"
      ]
    },
    {
      "cell_type": "markdown",
      "metadata": {
        "id": "YdQ4Prjdk5lo"
      },
      "source": [
        "# 1. Data imports & data cleaning"
      ]
    },
    {
      "cell_type": "markdown",
      "metadata": {
        "id": "zjnBiFGMk5lr"
      },
      "source": [
        "### Importing the data"
      ]
    },
    {
      "cell_type": "code",
      "execution_count": 1,
      "metadata": {
        "id": "qlhFVBDTk5lr"
      },
      "outputs": [],
      "source": [
        "from ucimlrepo import fetch_ucirepo\n",
        "\n",
        "# fetch dataset\n",
        "cdc_diabetes_health_indicators = fetch_ucirepo(id=891)\n",
        "\n",
        "# data (as pandas dataframes)\n",
        "feature_data = cdc_diabetes_health_indicators.data.features\n",
        "target_data = cdc_diabetes_health_indicators.data.targets\n"
      ]
    },
    {
      "cell_type": "code",
      "execution_count": 2,
      "metadata": {
        "colab": {
          "base_uri": "https://localhost:8080/"
        },
        "id": "3R0bE_kNk5lt",
        "outputId": "0046b76c-9373-4526-8afd-ab7115dd4332"
      },
      "outputs": [
        {
          "output_type": "execute_result",
          "data": {
            "text/plain": [
              "{'uci_id': 891,\n",
              " 'name': 'CDC Diabetes Health Indicators',\n",
              " 'repository_url': 'https://archive.ics.uci.edu/dataset/891/cdc+diabetes+health+indicators',\n",
              " 'data_url': 'https://archive.ics.uci.edu/static/public/891/data.csv',\n",
              " 'abstract': 'The Diabetes Health Indicators Dataset contains healthcare statistics and lifestyle survey information about people in general along with their diagnosis of diabetes. The 35 features consist of some demographics, lab test results, and answers to survey questions for each patient. The target variable for classification is whether a patient has diabetes, is pre-diabetic, or healthy. ',\n",
              " 'area': 'Health and Medicine',\n",
              " 'tasks': ['Classification'],\n",
              " 'characteristics': ['Tabular', 'Multivariate'],\n",
              " 'num_instances': 253680,\n",
              " 'num_features': 21,\n",
              " 'feature_types': ['Categorical', 'Integer'],\n",
              " 'demographics': ['Sex', 'Age', 'Education Level', 'Income'],\n",
              " 'target_col': ['Diabetes_binary'],\n",
              " 'index_col': ['ID'],\n",
              " 'has_missing_values': 'no',\n",
              " 'missing_values_symbol': None,\n",
              " 'year_of_dataset_creation': 2017,\n",
              " 'last_updated': 'Fri Nov 03 2023',\n",
              " 'dataset_doi': '10.24432/C53919',\n",
              " 'creators': [],\n",
              " 'intro_paper': {'title': 'Incidence of End-Stage Renal Disease Attributed to Diabetes Among Persons with Diagnosed Diabetes — United States and Puerto Rico, 2000–2014',\n",
              "  'authors': 'Nilka Rios Burrows, MPH; Israel Hora, PhD; Linda S. Geiss, MA; Edward W. Gregg, PhD; Ann Albright, PhD',\n",
              "  'published_in': 'Morbidity and Mortality Weekly Report',\n",
              "  'year': 2017,\n",
              "  'url': 'https://www.cdc.gov/mmwr/volumes/66/wr/mm6643a2.htm',\n",
              "  'doi': None},\n",
              " 'additional_info': {'summary': 'Dataset link: https://www.cdc.gov/brfss/annual_data/annual_2014.html',\n",
              "  'purpose': 'To better understand the relationship between  lifestyle and diabetes in the US',\n",
              "  'funded_by': 'The CDC',\n",
              "  'instances_represent': 'Each row represents a person participating in this study.',\n",
              "  'recommended_data_splits': 'Cross validation or a fixed train-test split could be used.',\n",
              "  'sensitive_data': '- Gender\\n- Income\\n- Education level',\n",
              "  'preprocessing_description': 'Bucketing of age',\n",
              "  'variable_info': '- Diabetes diagnosis\\n- Demographics (race, sex)\\n- Personal information (income, educations)\\n- Health history (drinking, smoking, mental health, physical health)',\n",
              "  'citation': None},\n",
              " 'external_url': 'https://www.kaggle.com/datasets/alexteboul/diabetes-health-indicators-dataset'}"
            ]
          },
          "metadata": {},
          "execution_count": 2
        }
      ],
      "source": [
        "# metadata\n",
        "cdc_diabetes_health_indicators.metadata"
      ]
    },
    {
      "cell_type": "code",
      "execution_count": 3,
      "metadata": {
        "colab": {
          "base_uri": "https://localhost:8080/",
          "height": 771
        },
        "id": "lPgGHvsik5lt",
        "outputId": "e91a875a-31c1-49aa-e4c7-dd5432e09a1e"
      },
      "outputs": [
        {
          "output_type": "execute_result",
          "data": {
            "text/plain": [
              "                    name     role     type      demographic  \\\n",
              "0                     ID       ID  Integer             None   \n",
              "1        Diabetes_binary   Target   Binary             None   \n",
              "2                 HighBP  Feature   Binary             None   \n",
              "3               HighChol  Feature   Binary             None   \n",
              "4              CholCheck  Feature   Binary             None   \n",
              "5                    BMI  Feature  Integer             None   \n",
              "6                 Smoker  Feature   Binary             None   \n",
              "7                 Stroke  Feature   Binary             None   \n",
              "8   HeartDiseaseorAttack  Feature   Binary             None   \n",
              "9           PhysActivity  Feature   Binary             None   \n",
              "10                Fruits  Feature   Binary             None   \n",
              "11               Veggies  Feature   Binary             None   \n",
              "12     HvyAlcoholConsump  Feature   Binary             None   \n",
              "13         AnyHealthcare  Feature   Binary             None   \n",
              "14           NoDocbcCost  Feature   Binary             None   \n",
              "15               GenHlth  Feature  Integer             None   \n",
              "16              MentHlth  Feature  Integer             None   \n",
              "17              PhysHlth  Feature  Integer             None   \n",
              "18              DiffWalk  Feature   Binary             None   \n",
              "19                   Sex  Feature   Binary              Sex   \n",
              "20                   Age  Feature  Integer              Age   \n",
              "21             Education  Feature  Integer  Education Level   \n",
              "22                Income  Feature  Integer           Income   \n",
              "\n",
              "                                          description units missing_values  \n",
              "0                                          Patient ID  None             no  \n",
              "1         0 = no diabetes 1 = prediabetes or diabetes  None             no  \n",
              "2                          0 = no high BP 1 = high BP  None             no  \n",
              "3        0 = no high cholesterol 1 = high cholesterol  None             no  \n",
              "4   0 = no cholesterol check in 5 years 1 = yes ch...  None             no  \n",
              "5                                     Body Mass Index  None             no  \n",
              "6   Have you smoked at least 100 cigarettes in you...  None             no  \n",
              "7        (Ever told) you had a stroke. 0 = no 1 = yes  None             no  \n",
              "8   coronary heart disease (CHD) or myocardial inf...  None             no  \n",
              "9   physical activity in past 30 days - not includ...  None             no  \n",
              "10  Consume Fruit 1 or more times per day 0 = no 1...  None             no  \n",
              "11  Consume Vegetables 1 or more times per day 0 =...  None             no  \n",
              "12  Heavy drinkers (adult men having more than 14 ...  None             no  \n",
              "13  Have any kind of health care coverage, includi...  None             no  \n",
              "14  Was there a time in the past 12 months when yo...  None             no  \n",
              "15  Would you say that in general your health is: ...  None             no  \n",
              "16  Now thinking about your mental health, which i...  None             no  \n",
              "17  Now thinking about your physical health, which...  None             no  \n",
              "18  Do you have serious difficulty walking or clim...  None             no  \n",
              "19                                0 = female 1 = male  None             no  \n",
              "20  13-level age category (_AGEG5YR see codebook) ...  None             no  \n",
              "21  Education level (EDUCA see codebook) scale 1-6...  None             no  \n",
              "22  Income scale (INCOME2 see codebook) scale 1-8 ...  None             no  "
            ],
            "text/html": [
              "\n",
              "  <div id=\"df-66f7a6b8-6d63-4ec9-89d6-505e72df3b47\" class=\"colab-df-container\">\n",
              "    <div>\n",
              "<style scoped>\n",
              "    .dataframe tbody tr th:only-of-type {\n",
              "        vertical-align: middle;\n",
              "    }\n",
              "\n",
              "    .dataframe tbody tr th {\n",
              "        vertical-align: top;\n",
              "    }\n",
              "\n",
              "    .dataframe thead th {\n",
              "        text-align: right;\n",
              "    }\n",
              "</style>\n",
              "<table border=\"1\" class=\"dataframe\">\n",
              "  <thead>\n",
              "    <tr style=\"text-align: right;\">\n",
              "      <th></th>\n",
              "      <th>name</th>\n",
              "      <th>role</th>\n",
              "      <th>type</th>\n",
              "      <th>demographic</th>\n",
              "      <th>description</th>\n",
              "      <th>units</th>\n",
              "      <th>missing_values</th>\n",
              "    </tr>\n",
              "  </thead>\n",
              "  <tbody>\n",
              "    <tr>\n",
              "      <th>0</th>\n",
              "      <td>ID</td>\n",
              "      <td>ID</td>\n",
              "      <td>Integer</td>\n",
              "      <td>None</td>\n",
              "      <td>Patient ID</td>\n",
              "      <td>None</td>\n",
              "      <td>no</td>\n",
              "    </tr>\n",
              "    <tr>\n",
              "      <th>1</th>\n",
              "      <td>Diabetes_binary</td>\n",
              "      <td>Target</td>\n",
              "      <td>Binary</td>\n",
              "      <td>None</td>\n",
              "      <td>0 = no diabetes 1 = prediabetes or diabetes</td>\n",
              "      <td>None</td>\n",
              "      <td>no</td>\n",
              "    </tr>\n",
              "    <tr>\n",
              "      <th>2</th>\n",
              "      <td>HighBP</td>\n",
              "      <td>Feature</td>\n",
              "      <td>Binary</td>\n",
              "      <td>None</td>\n",
              "      <td>0 = no high BP 1 = high BP</td>\n",
              "      <td>None</td>\n",
              "      <td>no</td>\n",
              "    </tr>\n",
              "    <tr>\n",
              "      <th>3</th>\n",
              "      <td>HighChol</td>\n",
              "      <td>Feature</td>\n",
              "      <td>Binary</td>\n",
              "      <td>None</td>\n",
              "      <td>0 = no high cholesterol 1 = high cholesterol</td>\n",
              "      <td>None</td>\n",
              "      <td>no</td>\n",
              "    </tr>\n",
              "    <tr>\n",
              "      <th>4</th>\n",
              "      <td>CholCheck</td>\n",
              "      <td>Feature</td>\n",
              "      <td>Binary</td>\n",
              "      <td>None</td>\n",
              "      <td>0 = no cholesterol check in 5 years 1 = yes ch...</td>\n",
              "      <td>None</td>\n",
              "      <td>no</td>\n",
              "    </tr>\n",
              "    <tr>\n",
              "      <th>5</th>\n",
              "      <td>BMI</td>\n",
              "      <td>Feature</td>\n",
              "      <td>Integer</td>\n",
              "      <td>None</td>\n",
              "      <td>Body Mass Index</td>\n",
              "      <td>None</td>\n",
              "      <td>no</td>\n",
              "    </tr>\n",
              "    <tr>\n",
              "      <th>6</th>\n",
              "      <td>Smoker</td>\n",
              "      <td>Feature</td>\n",
              "      <td>Binary</td>\n",
              "      <td>None</td>\n",
              "      <td>Have you smoked at least 100 cigarettes in you...</td>\n",
              "      <td>None</td>\n",
              "      <td>no</td>\n",
              "    </tr>\n",
              "    <tr>\n",
              "      <th>7</th>\n",
              "      <td>Stroke</td>\n",
              "      <td>Feature</td>\n",
              "      <td>Binary</td>\n",
              "      <td>None</td>\n",
              "      <td>(Ever told) you had a stroke. 0 = no 1 = yes</td>\n",
              "      <td>None</td>\n",
              "      <td>no</td>\n",
              "    </tr>\n",
              "    <tr>\n",
              "      <th>8</th>\n",
              "      <td>HeartDiseaseorAttack</td>\n",
              "      <td>Feature</td>\n",
              "      <td>Binary</td>\n",
              "      <td>None</td>\n",
              "      <td>coronary heart disease (CHD) or myocardial inf...</td>\n",
              "      <td>None</td>\n",
              "      <td>no</td>\n",
              "    </tr>\n",
              "    <tr>\n",
              "      <th>9</th>\n",
              "      <td>PhysActivity</td>\n",
              "      <td>Feature</td>\n",
              "      <td>Binary</td>\n",
              "      <td>None</td>\n",
              "      <td>physical activity in past 30 days - not includ...</td>\n",
              "      <td>None</td>\n",
              "      <td>no</td>\n",
              "    </tr>\n",
              "    <tr>\n",
              "      <th>10</th>\n",
              "      <td>Fruits</td>\n",
              "      <td>Feature</td>\n",
              "      <td>Binary</td>\n",
              "      <td>None</td>\n",
              "      <td>Consume Fruit 1 or more times per day 0 = no 1...</td>\n",
              "      <td>None</td>\n",
              "      <td>no</td>\n",
              "    </tr>\n",
              "    <tr>\n",
              "      <th>11</th>\n",
              "      <td>Veggies</td>\n",
              "      <td>Feature</td>\n",
              "      <td>Binary</td>\n",
              "      <td>None</td>\n",
              "      <td>Consume Vegetables 1 or more times per day 0 =...</td>\n",
              "      <td>None</td>\n",
              "      <td>no</td>\n",
              "    </tr>\n",
              "    <tr>\n",
              "      <th>12</th>\n",
              "      <td>HvyAlcoholConsump</td>\n",
              "      <td>Feature</td>\n",
              "      <td>Binary</td>\n",
              "      <td>None</td>\n",
              "      <td>Heavy drinkers (adult men having more than 14 ...</td>\n",
              "      <td>None</td>\n",
              "      <td>no</td>\n",
              "    </tr>\n",
              "    <tr>\n",
              "      <th>13</th>\n",
              "      <td>AnyHealthcare</td>\n",
              "      <td>Feature</td>\n",
              "      <td>Binary</td>\n",
              "      <td>None</td>\n",
              "      <td>Have any kind of health care coverage, includi...</td>\n",
              "      <td>None</td>\n",
              "      <td>no</td>\n",
              "    </tr>\n",
              "    <tr>\n",
              "      <th>14</th>\n",
              "      <td>NoDocbcCost</td>\n",
              "      <td>Feature</td>\n",
              "      <td>Binary</td>\n",
              "      <td>None</td>\n",
              "      <td>Was there a time in the past 12 months when yo...</td>\n",
              "      <td>None</td>\n",
              "      <td>no</td>\n",
              "    </tr>\n",
              "    <tr>\n",
              "      <th>15</th>\n",
              "      <td>GenHlth</td>\n",
              "      <td>Feature</td>\n",
              "      <td>Integer</td>\n",
              "      <td>None</td>\n",
              "      <td>Would you say that in general your health is: ...</td>\n",
              "      <td>None</td>\n",
              "      <td>no</td>\n",
              "    </tr>\n",
              "    <tr>\n",
              "      <th>16</th>\n",
              "      <td>MentHlth</td>\n",
              "      <td>Feature</td>\n",
              "      <td>Integer</td>\n",
              "      <td>None</td>\n",
              "      <td>Now thinking about your mental health, which i...</td>\n",
              "      <td>None</td>\n",
              "      <td>no</td>\n",
              "    </tr>\n",
              "    <tr>\n",
              "      <th>17</th>\n",
              "      <td>PhysHlth</td>\n",
              "      <td>Feature</td>\n",
              "      <td>Integer</td>\n",
              "      <td>None</td>\n",
              "      <td>Now thinking about your physical health, which...</td>\n",
              "      <td>None</td>\n",
              "      <td>no</td>\n",
              "    </tr>\n",
              "    <tr>\n",
              "      <th>18</th>\n",
              "      <td>DiffWalk</td>\n",
              "      <td>Feature</td>\n",
              "      <td>Binary</td>\n",
              "      <td>None</td>\n",
              "      <td>Do you have serious difficulty walking or clim...</td>\n",
              "      <td>None</td>\n",
              "      <td>no</td>\n",
              "    </tr>\n",
              "    <tr>\n",
              "      <th>19</th>\n",
              "      <td>Sex</td>\n",
              "      <td>Feature</td>\n",
              "      <td>Binary</td>\n",
              "      <td>Sex</td>\n",
              "      <td>0 = female 1 = male</td>\n",
              "      <td>None</td>\n",
              "      <td>no</td>\n",
              "    </tr>\n",
              "    <tr>\n",
              "      <th>20</th>\n",
              "      <td>Age</td>\n",
              "      <td>Feature</td>\n",
              "      <td>Integer</td>\n",
              "      <td>Age</td>\n",
              "      <td>13-level age category (_AGEG5YR see codebook) ...</td>\n",
              "      <td>None</td>\n",
              "      <td>no</td>\n",
              "    </tr>\n",
              "    <tr>\n",
              "      <th>21</th>\n",
              "      <td>Education</td>\n",
              "      <td>Feature</td>\n",
              "      <td>Integer</td>\n",
              "      <td>Education Level</td>\n",
              "      <td>Education level (EDUCA see codebook) scale 1-6...</td>\n",
              "      <td>None</td>\n",
              "      <td>no</td>\n",
              "    </tr>\n",
              "    <tr>\n",
              "      <th>22</th>\n",
              "      <td>Income</td>\n",
              "      <td>Feature</td>\n",
              "      <td>Integer</td>\n",
              "      <td>Income</td>\n",
              "      <td>Income scale (INCOME2 see codebook) scale 1-8 ...</td>\n",
              "      <td>None</td>\n",
              "      <td>no</td>\n",
              "    </tr>\n",
              "  </tbody>\n",
              "</table>\n",
              "</div>\n",
              "    <div class=\"colab-df-buttons\">\n",
              "\n",
              "  <div class=\"colab-df-container\">\n",
              "    <button class=\"colab-df-convert\" onclick=\"convertToInteractive('df-66f7a6b8-6d63-4ec9-89d6-505e72df3b47')\"\n",
              "            title=\"Convert this dataframe to an interactive table.\"\n",
              "            style=\"display:none;\">\n",
              "\n",
              "  <svg xmlns=\"http://www.w3.org/2000/svg\" height=\"24px\" viewBox=\"0 -960 960 960\">\n",
              "    <path d=\"M120-120v-720h720v720H120Zm60-500h600v-160H180v160Zm220 220h160v-160H400v160Zm0 220h160v-160H400v160ZM180-400h160v-160H180v160Zm440 0h160v-160H620v160ZM180-180h160v-160H180v160Zm440 0h160v-160H620v160Z\"/>\n",
              "  </svg>\n",
              "    </button>\n",
              "\n",
              "  <style>\n",
              "    .colab-df-container {\n",
              "      display:flex;\n",
              "      gap: 12px;\n",
              "    }\n",
              "\n",
              "    .colab-df-convert {\n",
              "      background-color: #E8F0FE;\n",
              "      border: none;\n",
              "      border-radius: 50%;\n",
              "      cursor: pointer;\n",
              "      display: none;\n",
              "      fill: #1967D2;\n",
              "      height: 32px;\n",
              "      padding: 0 0 0 0;\n",
              "      width: 32px;\n",
              "    }\n",
              "\n",
              "    .colab-df-convert:hover {\n",
              "      background-color: #E2EBFA;\n",
              "      box-shadow: 0px 1px 2px rgba(60, 64, 67, 0.3), 0px 1px 3px 1px rgba(60, 64, 67, 0.15);\n",
              "      fill: #174EA6;\n",
              "    }\n",
              "\n",
              "    .colab-df-buttons div {\n",
              "      margin-bottom: 4px;\n",
              "    }\n",
              "\n",
              "    [theme=dark] .colab-df-convert {\n",
              "      background-color: #3B4455;\n",
              "      fill: #D2E3FC;\n",
              "    }\n",
              "\n",
              "    [theme=dark] .colab-df-convert:hover {\n",
              "      background-color: #434B5C;\n",
              "      box-shadow: 0px 1px 3px 1px rgba(0, 0, 0, 0.15);\n",
              "      filter: drop-shadow(0px 1px 2px rgba(0, 0, 0, 0.3));\n",
              "      fill: #FFFFFF;\n",
              "    }\n",
              "  </style>\n",
              "\n",
              "    <script>\n",
              "      const buttonEl =\n",
              "        document.querySelector('#df-66f7a6b8-6d63-4ec9-89d6-505e72df3b47 button.colab-df-convert');\n",
              "      buttonEl.style.display =\n",
              "        google.colab.kernel.accessAllowed ? 'block' : 'none';\n",
              "\n",
              "      async function convertToInteractive(key) {\n",
              "        const element = document.querySelector('#df-66f7a6b8-6d63-4ec9-89d6-505e72df3b47');\n",
              "        const dataTable =\n",
              "          await google.colab.kernel.invokeFunction('convertToInteractive',\n",
              "                                                    [key], {});\n",
              "        if (!dataTable) return;\n",
              "\n",
              "        const docLinkHtml = 'Like what you see? Visit the ' +\n",
              "          '<a target=\"_blank\" href=https://colab.research.google.com/notebooks/data_table.ipynb>data table notebook</a>'\n",
              "          + ' to learn more about interactive tables.';\n",
              "        element.innerHTML = '';\n",
              "        dataTable['output_type'] = 'display_data';\n",
              "        await google.colab.output.renderOutput(dataTable, element);\n",
              "        const docLink = document.createElement('div');\n",
              "        docLink.innerHTML = docLinkHtml;\n",
              "        element.appendChild(docLink);\n",
              "      }\n",
              "    </script>\n",
              "  </div>\n",
              "\n",
              "\n",
              "<div id=\"df-d1e081cb-93d6-4baf-a110-f21ab6a906f3\">\n",
              "  <button class=\"colab-df-quickchart\" onclick=\"quickchart('df-d1e081cb-93d6-4baf-a110-f21ab6a906f3')\"\n",
              "            title=\"Suggest charts\"\n",
              "            style=\"display:none;\">\n",
              "\n",
              "<svg xmlns=\"http://www.w3.org/2000/svg\" height=\"24px\"viewBox=\"0 0 24 24\"\n",
              "     width=\"24px\">\n",
              "    <g>\n",
              "        <path d=\"M19 3H5c-1.1 0-2 .9-2 2v14c0 1.1.9 2 2 2h14c1.1 0 2-.9 2-2V5c0-1.1-.9-2-2-2zM9 17H7v-7h2v7zm4 0h-2V7h2v10zm4 0h-2v-4h2v4z\"/>\n",
              "    </g>\n",
              "</svg>\n",
              "  </button>\n",
              "\n",
              "<style>\n",
              "  .colab-df-quickchart {\n",
              "      --bg-color: #E8F0FE;\n",
              "      --fill-color: #1967D2;\n",
              "      --hover-bg-color: #E2EBFA;\n",
              "      --hover-fill-color: #174EA6;\n",
              "      --disabled-fill-color: #AAA;\n",
              "      --disabled-bg-color: #DDD;\n",
              "  }\n",
              "\n",
              "  [theme=dark] .colab-df-quickchart {\n",
              "      --bg-color: #3B4455;\n",
              "      --fill-color: #D2E3FC;\n",
              "      --hover-bg-color: #434B5C;\n",
              "      --hover-fill-color: #FFFFFF;\n",
              "      --disabled-bg-color: #3B4455;\n",
              "      --disabled-fill-color: #666;\n",
              "  }\n",
              "\n",
              "  .colab-df-quickchart {\n",
              "    background-color: var(--bg-color);\n",
              "    border: none;\n",
              "    border-radius: 50%;\n",
              "    cursor: pointer;\n",
              "    display: none;\n",
              "    fill: var(--fill-color);\n",
              "    height: 32px;\n",
              "    padding: 0;\n",
              "    width: 32px;\n",
              "  }\n",
              "\n",
              "  .colab-df-quickchart:hover {\n",
              "    background-color: var(--hover-bg-color);\n",
              "    box-shadow: 0 1px 2px rgba(60, 64, 67, 0.3), 0 1px 3px 1px rgba(60, 64, 67, 0.15);\n",
              "    fill: var(--button-hover-fill-color);\n",
              "  }\n",
              "\n",
              "  .colab-df-quickchart-complete:disabled,\n",
              "  .colab-df-quickchart-complete:disabled:hover {\n",
              "    background-color: var(--disabled-bg-color);\n",
              "    fill: var(--disabled-fill-color);\n",
              "    box-shadow: none;\n",
              "  }\n",
              "\n",
              "  .colab-df-spinner {\n",
              "    border: 2px solid var(--fill-color);\n",
              "    border-color: transparent;\n",
              "    border-bottom-color: var(--fill-color);\n",
              "    animation:\n",
              "      spin 1s steps(1) infinite;\n",
              "  }\n",
              "\n",
              "  @keyframes spin {\n",
              "    0% {\n",
              "      border-color: transparent;\n",
              "      border-bottom-color: var(--fill-color);\n",
              "      border-left-color: var(--fill-color);\n",
              "    }\n",
              "    20% {\n",
              "      border-color: transparent;\n",
              "      border-left-color: var(--fill-color);\n",
              "      border-top-color: var(--fill-color);\n",
              "    }\n",
              "    30% {\n",
              "      border-color: transparent;\n",
              "      border-left-color: var(--fill-color);\n",
              "      border-top-color: var(--fill-color);\n",
              "      border-right-color: var(--fill-color);\n",
              "    }\n",
              "    40% {\n",
              "      border-color: transparent;\n",
              "      border-right-color: var(--fill-color);\n",
              "      border-top-color: var(--fill-color);\n",
              "    }\n",
              "    60% {\n",
              "      border-color: transparent;\n",
              "      border-right-color: var(--fill-color);\n",
              "    }\n",
              "    80% {\n",
              "      border-color: transparent;\n",
              "      border-right-color: var(--fill-color);\n",
              "      border-bottom-color: var(--fill-color);\n",
              "    }\n",
              "    90% {\n",
              "      border-color: transparent;\n",
              "      border-bottom-color: var(--fill-color);\n",
              "    }\n",
              "  }\n",
              "</style>\n",
              "\n",
              "  <script>\n",
              "    async function quickchart(key) {\n",
              "      const quickchartButtonEl =\n",
              "        document.querySelector('#' + key + ' button');\n",
              "      quickchartButtonEl.disabled = true;  // To prevent multiple clicks.\n",
              "      quickchartButtonEl.classList.add('colab-df-spinner');\n",
              "      try {\n",
              "        const charts = await google.colab.kernel.invokeFunction(\n",
              "            'suggestCharts', [key], {});\n",
              "      } catch (error) {\n",
              "        console.error('Error during call to suggestCharts:', error);\n",
              "      }\n",
              "      quickchartButtonEl.classList.remove('colab-df-spinner');\n",
              "      quickchartButtonEl.classList.add('colab-df-quickchart-complete');\n",
              "    }\n",
              "    (() => {\n",
              "      let quickchartButtonEl =\n",
              "        document.querySelector('#df-d1e081cb-93d6-4baf-a110-f21ab6a906f3 button');\n",
              "      quickchartButtonEl.style.display =\n",
              "        google.colab.kernel.accessAllowed ? 'block' : 'none';\n",
              "    })();\n",
              "  </script>\n",
              "</div>\n",
              "    </div>\n",
              "  </div>\n"
            ],
            "application/vnd.google.colaboratory.intrinsic+json": {
              "type": "dataframe",
              "variable_name": "variable_info",
              "repr_error": "Out of range float values are not JSON compliant: nan"
            }
          },
          "metadata": {},
          "execution_count": 3
        }
      ],
      "source": [
        "# variable information\n",
        "variable_info = cdc_diabetes_health_indicators.variables\n",
        "variable_info"
      ]
    },
    {
      "cell_type": "markdown",
      "metadata": {
        "id": "rupRs-Bgk5lu"
      },
      "source": [
        "# 2. Summary statistics"
      ]
    },
    {
      "cell_type": "markdown",
      "metadata": {
        "id": "bf-GqJNok5lu"
      },
      "source": [
        "### Exploring the data"
      ]
    },
    {
      "cell_type": "code",
      "execution_count": 4,
      "metadata": {
        "colab": {
          "base_uri": "https://localhost:8080/",
          "height": 256
        },
        "id": "Cb4YKNZyk5lu",
        "outputId": "998c6f82-8069-400a-95ac-79d5d6940537"
      },
      "outputs": [
        {
          "output_type": "execute_result",
          "data": {
            "text/plain": [
              "   HighBP  HighChol  CholCheck  BMI  Smoker  Stroke  HeartDiseaseorAttack  \\\n",
              "0       1         1          1   40       1       0                     0   \n",
              "1       0         0          0   25       1       0                     0   \n",
              "2       1         1          1   28       0       0                     0   \n",
              "3       1         0          1   27       0       0                     0   \n",
              "4       1         1          1   24       0       0                     0   \n",
              "\n",
              "   PhysActivity  Fruits  Veggies  ...  AnyHealthcare  NoDocbcCost  GenHlth  \\\n",
              "0             0       0        1  ...              1            0        5   \n",
              "1             1       0        0  ...              0            1        3   \n",
              "2             0       1        0  ...              1            1        5   \n",
              "3             1       1        1  ...              1            0        2   \n",
              "4             1       1        1  ...              1            0        2   \n",
              "\n",
              "   MentHlth  PhysHlth  DiffWalk  Sex  Age  Education  Income  \n",
              "0        18        15         1    0    9          4       3  \n",
              "1         0         0         0    0    7          6       1  \n",
              "2        30        30         1    0    9          4       8  \n",
              "3         0         0         0    0   11          3       6  \n",
              "4         3         0         0    0   11          5       4  \n",
              "\n",
              "[5 rows x 21 columns]"
            ],
            "text/html": [
              "\n",
              "  <div id=\"df-45902d36-7986-4b18-a3aa-1749e469c1a5\" class=\"colab-df-container\">\n",
              "    <div>\n",
              "<style scoped>\n",
              "    .dataframe tbody tr th:only-of-type {\n",
              "        vertical-align: middle;\n",
              "    }\n",
              "\n",
              "    .dataframe tbody tr th {\n",
              "        vertical-align: top;\n",
              "    }\n",
              "\n",
              "    .dataframe thead th {\n",
              "        text-align: right;\n",
              "    }\n",
              "</style>\n",
              "<table border=\"1\" class=\"dataframe\">\n",
              "  <thead>\n",
              "    <tr style=\"text-align: right;\">\n",
              "      <th></th>\n",
              "      <th>HighBP</th>\n",
              "      <th>HighChol</th>\n",
              "      <th>CholCheck</th>\n",
              "      <th>BMI</th>\n",
              "      <th>Smoker</th>\n",
              "      <th>Stroke</th>\n",
              "      <th>HeartDiseaseorAttack</th>\n",
              "      <th>PhysActivity</th>\n",
              "      <th>Fruits</th>\n",
              "      <th>Veggies</th>\n",
              "      <th>...</th>\n",
              "      <th>AnyHealthcare</th>\n",
              "      <th>NoDocbcCost</th>\n",
              "      <th>GenHlth</th>\n",
              "      <th>MentHlth</th>\n",
              "      <th>PhysHlth</th>\n",
              "      <th>DiffWalk</th>\n",
              "      <th>Sex</th>\n",
              "      <th>Age</th>\n",
              "      <th>Education</th>\n",
              "      <th>Income</th>\n",
              "    </tr>\n",
              "  </thead>\n",
              "  <tbody>\n",
              "    <tr>\n",
              "      <th>0</th>\n",
              "      <td>1</td>\n",
              "      <td>1</td>\n",
              "      <td>1</td>\n",
              "      <td>40</td>\n",
              "      <td>1</td>\n",
              "      <td>0</td>\n",
              "      <td>0</td>\n",
              "      <td>0</td>\n",
              "      <td>0</td>\n",
              "      <td>1</td>\n",
              "      <td>...</td>\n",
              "      <td>1</td>\n",
              "      <td>0</td>\n",
              "      <td>5</td>\n",
              "      <td>18</td>\n",
              "      <td>15</td>\n",
              "      <td>1</td>\n",
              "      <td>0</td>\n",
              "      <td>9</td>\n",
              "      <td>4</td>\n",
              "      <td>3</td>\n",
              "    </tr>\n",
              "    <tr>\n",
              "      <th>1</th>\n",
              "      <td>0</td>\n",
              "      <td>0</td>\n",
              "      <td>0</td>\n",
              "      <td>25</td>\n",
              "      <td>1</td>\n",
              "      <td>0</td>\n",
              "      <td>0</td>\n",
              "      <td>1</td>\n",
              "      <td>0</td>\n",
              "      <td>0</td>\n",
              "      <td>...</td>\n",
              "      <td>0</td>\n",
              "      <td>1</td>\n",
              "      <td>3</td>\n",
              "      <td>0</td>\n",
              "      <td>0</td>\n",
              "      <td>0</td>\n",
              "      <td>0</td>\n",
              "      <td>7</td>\n",
              "      <td>6</td>\n",
              "      <td>1</td>\n",
              "    </tr>\n",
              "    <tr>\n",
              "      <th>2</th>\n",
              "      <td>1</td>\n",
              "      <td>1</td>\n",
              "      <td>1</td>\n",
              "      <td>28</td>\n",
              "      <td>0</td>\n",
              "      <td>0</td>\n",
              "      <td>0</td>\n",
              "      <td>0</td>\n",
              "      <td>1</td>\n",
              "      <td>0</td>\n",
              "      <td>...</td>\n",
              "      <td>1</td>\n",
              "      <td>1</td>\n",
              "      <td>5</td>\n",
              "      <td>30</td>\n",
              "      <td>30</td>\n",
              "      <td>1</td>\n",
              "      <td>0</td>\n",
              "      <td>9</td>\n",
              "      <td>4</td>\n",
              "      <td>8</td>\n",
              "    </tr>\n",
              "    <tr>\n",
              "      <th>3</th>\n",
              "      <td>1</td>\n",
              "      <td>0</td>\n",
              "      <td>1</td>\n",
              "      <td>27</td>\n",
              "      <td>0</td>\n",
              "      <td>0</td>\n",
              "      <td>0</td>\n",
              "      <td>1</td>\n",
              "      <td>1</td>\n",
              "      <td>1</td>\n",
              "      <td>...</td>\n",
              "      <td>1</td>\n",
              "      <td>0</td>\n",
              "      <td>2</td>\n",
              "      <td>0</td>\n",
              "      <td>0</td>\n",
              "      <td>0</td>\n",
              "      <td>0</td>\n",
              "      <td>11</td>\n",
              "      <td>3</td>\n",
              "      <td>6</td>\n",
              "    </tr>\n",
              "    <tr>\n",
              "      <th>4</th>\n",
              "      <td>1</td>\n",
              "      <td>1</td>\n",
              "      <td>1</td>\n",
              "      <td>24</td>\n",
              "      <td>0</td>\n",
              "      <td>0</td>\n",
              "      <td>0</td>\n",
              "      <td>1</td>\n",
              "      <td>1</td>\n",
              "      <td>1</td>\n",
              "      <td>...</td>\n",
              "      <td>1</td>\n",
              "      <td>0</td>\n",
              "      <td>2</td>\n",
              "      <td>3</td>\n",
              "      <td>0</td>\n",
              "      <td>0</td>\n",
              "      <td>0</td>\n",
              "      <td>11</td>\n",
              "      <td>5</td>\n",
              "      <td>4</td>\n",
              "    </tr>\n",
              "  </tbody>\n",
              "</table>\n",
              "<p>5 rows × 21 columns</p>\n",
              "</div>\n",
              "    <div class=\"colab-df-buttons\">\n",
              "\n",
              "  <div class=\"colab-df-container\">\n",
              "    <button class=\"colab-df-convert\" onclick=\"convertToInteractive('df-45902d36-7986-4b18-a3aa-1749e469c1a5')\"\n",
              "            title=\"Convert this dataframe to an interactive table.\"\n",
              "            style=\"display:none;\">\n",
              "\n",
              "  <svg xmlns=\"http://www.w3.org/2000/svg\" height=\"24px\" viewBox=\"0 -960 960 960\">\n",
              "    <path d=\"M120-120v-720h720v720H120Zm60-500h600v-160H180v160Zm220 220h160v-160H400v160Zm0 220h160v-160H400v160ZM180-400h160v-160H180v160Zm440 0h160v-160H620v160ZM180-180h160v-160H180v160Zm440 0h160v-160H620v160Z\"/>\n",
              "  </svg>\n",
              "    </button>\n",
              "\n",
              "  <style>\n",
              "    .colab-df-container {\n",
              "      display:flex;\n",
              "      gap: 12px;\n",
              "    }\n",
              "\n",
              "    .colab-df-convert {\n",
              "      background-color: #E8F0FE;\n",
              "      border: none;\n",
              "      border-radius: 50%;\n",
              "      cursor: pointer;\n",
              "      display: none;\n",
              "      fill: #1967D2;\n",
              "      height: 32px;\n",
              "      padding: 0 0 0 0;\n",
              "      width: 32px;\n",
              "    }\n",
              "\n",
              "    .colab-df-convert:hover {\n",
              "      background-color: #E2EBFA;\n",
              "      box-shadow: 0px 1px 2px rgba(60, 64, 67, 0.3), 0px 1px 3px 1px rgba(60, 64, 67, 0.15);\n",
              "      fill: #174EA6;\n",
              "    }\n",
              "\n",
              "    .colab-df-buttons div {\n",
              "      margin-bottom: 4px;\n",
              "    }\n",
              "\n",
              "    [theme=dark] .colab-df-convert {\n",
              "      background-color: #3B4455;\n",
              "      fill: #D2E3FC;\n",
              "    }\n",
              "\n",
              "    [theme=dark] .colab-df-convert:hover {\n",
              "      background-color: #434B5C;\n",
              "      box-shadow: 0px 1px 3px 1px rgba(0, 0, 0, 0.15);\n",
              "      filter: drop-shadow(0px 1px 2px rgba(0, 0, 0, 0.3));\n",
              "      fill: #FFFFFF;\n",
              "    }\n",
              "  </style>\n",
              "\n",
              "    <script>\n",
              "      const buttonEl =\n",
              "        document.querySelector('#df-45902d36-7986-4b18-a3aa-1749e469c1a5 button.colab-df-convert');\n",
              "      buttonEl.style.display =\n",
              "        google.colab.kernel.accessAllowed ? 'block' : 'none';\n",
              "\n",
              "      async function convertToInteractive(key) {\n",
              "        const element = document.querySelector('#df-45902d36-7986-4b18-a3aa-1749e469c1a5');\n",
              "        const dataTable =\n",
              "          await google.colab.kernel.invokeFunction('convertToInteractive',\n",
              "                                                    [key], {});\n",
              "        if (!dataTable) return;\n",
              "\n",
              "        const docLinkHtml = 'Like what you see? Visit the ' +\n",
              "          '<a target=\"_blank\" href=https://colab.research.google.com/notebooks/data_table.ipynb>data table notebook</a>'\n",
              "          + ' to learn more about interactive tables.';\n",
              "        element.innerHTML = '';\n",
              "        dataTable['output_type'] = 'display_data';\n",
              "        await google.colab.output.renderOutput(dataTable, element);\n",
              "        const docLink = document.createElement('div');\n",
              "        docLink.innerHTML = docLinkHtml;\n",
              "        element.appendChild(docLink);\n",
              "      }\n",
              "    </script>\n",
              "  </div>\n",
              "\n",
              "\n",
              "<div id=\"df-8578109c-14ca-4705-b4a7-ac1cdb0a0b57\">\n",
              "  <button class=\"colab-df-quickchart\" onclick=\"quickchart('df-8578109c-14ca-4705-b4a7-ac1cdb0a0b57')\"\n",
              "            title=\"Suggest charts\"\n",
              "            style=\"display:none;\">\n",
              "\n",
              "<svg xmlns=\"http://www.w3.org/2000/svg\" height=\"24px\"viewBox=\"0 0 24 24\"\n",
              "     width=\"24px\">\n",
              "    <g>\n",
              "        <path d=\"M19 3H5c-1.1 0-2 .9-2 2v14c0 1.1.9 2 2 2h14c1.1 0 2-.9 2-2V5c0-1.1-.9-2-2-2zM9 17H7v-7h2v7zm4 0h-2V7h2v10zm4 0h-2v-4h2v4z\"/>\n",
              "    </g>\n",
              "</svg>\n",
              "  </button>\n",
              "\n",
              "<style>\n",
              "  .colab-df-quickchart {\n",
              "      --bg-color: #E8F0FE;\n",
              "      --fill-color: #1967D2;\n",
              "      --hover-bg-color: #E2EBFA;\n",
              "      --hover-fill-color: #174EA6;\n",
              "      --disabled-fill-color: #AAA;\n",
              "      --disabled-bg-color: #DDD;\n",
              "  }\n",
              "\n",
              "  [theme=dark] .colab-df-quickchart {\n",
              "      --bg-color: #3B4455;\n",
              "      --fill-color: #D2E3FC;\n",
              "      --hover-bg-color: #434B5C;\n",
              "      --hover-fill-color: #FFFFFF;\n",
              "      --disabled-bg-color: #3B4455;\n",
              "      --disabled-fill-color: #666;\n",
              "  }\n",
              "\n",
              "  .colab-df-quickchart {\n",
              "    background-color: var(--bg-color);\n",
              "    border: none;\n",
              "    border-radius: 50%;\n",
              "    cursor: pointer;\n",
              "    display: none;\n",
              "    fill: var(--fill-color);\n",
              "    height: 32px;\n",
              "    padding: 0;\n",
              "    width: 32px;\n",
              "  }\n",
              "\n",
              "  .colab-df-quickchart:hover {\n",
              "    background-color: var(--hover-bg-color);\n",
              "    box-shadow: 0 1px 2px rgba(60, 64, 67, 0.3), 0 1px 3px 1px rgba(60, 64, 67, 0.15);\n",
              "    fill: var(--button-hover-fill-color);\n",
              "  }\n",
              "\n",
              "  .colab-df-quickchart-complete:disabled,\n",
              "  .colab-df-quickchart-complete:disabled:hover {\n",
              "    background-color: var(--disabled-bg-color);\n",
              "    fill: var(--disabled-fill-color);\n",
              "    box-shadow: none;\n",
              "  }\n",
              "\n",
              "  .colab-df-spinner {\n",
              "    border: 2px solid var(--fill-color);\n",
              "    border-color: transparent;\n",
              "    border-bottom-color: var(--fill-color);\n",
              "    animation:\n",
              "      spin 1s steps(1) infinite;\n",
              "  }\n",
              "\n",
              "  @keyframes spin {\n",
              "    0% {\n",
              "      border-color: transparent;\n",
              "      border-bottom-color: var(--fill-color);\n",
              "      border-left-color: var(--fill-color);\n",
              "    }\n",
              "    20% {\n",
              "      border-color: transparent;\n",
              "      border-left-color: var(--fill-color);\n",
              "      border-top-color: var(--fill-color);\n",
              "    }\n",
              "    30% {\n",
              "      border-color: transparent;\n",
              "      border-left-color: var(--fill-color);\n",
              "      border-top-color: var(--fill-color);\n",
              "      border-right-color: var(--fill-color);\n",
              "    }\n",
              "    40% {\n",
              "      border-color: transparent;\n",
              "      border-right-color: var(--fill-color);\n",
              "      border-top-color: var(--fill-color);\n",
              "    }\n",
              "    60% {\n",
              "      border-color: transparent;\n",
              "      border-right-color: var(--fill-color);\n",
              "    }\n",
              "    80% {\n",
              "      border-color: transparent;\n",
              "      border-right-color: var(--fill-color);\n",
              "      border-bottom-color: var(--fill-color);\n",
              "    }\n",
              "    90% {\n",
              "      border-color: transparent;\n",
              "      border-bottom-color: var(--fill-color);\n",
              "    }\n",
              "  }\n",
              "</style>\n",
              "\n",
              "  <script>\n",
              "    async function quickchart(key) {\n",
              "      const quickchartButtonEl =\n",
              "        document.querySelector('#' + key + ' button');\n",
              "      quickchartButtonEl.disabled = true;  // To prevent multiple clicks.\n",
              "      quickchartButtonEl.classList.add('colab-df-spinner');\n",
              "      try {\n",
              "        const charts = await google.colab.kernel.invokeFunction(\n",
              "            'suggestCharts', [key], {});\n",
              "      } catch (error) {\n",
              "        console.error('Error during call to suggestCharts:', error);\n",
              "      }\n",
              "      quickchartButtonEl.classList.remove('colab-df-spinner');\n",
              "      quickchartButtonEl.classList.add('colab-df-quickchart-complete');\n",
              "    }\n",
              "    (() => {\n",
              "      let quickchartButtonEl =\n",
              "        document.querySelector('#df-8578109c-14ca-4705-b4a7-ac1cdb0a0b57 button');\n",
              "      quickchartButtonEl.style.display =\n",
              "        google.colab.kernel.accessAllowed ? 'block' : 'none';\n",
              "    })();\n",
              "  </script>\n",
              "</div>\n",
              "    </div>\n",
              "  </div>\n"
            ],
            "application/vnd.google.colaboratory.intrinsic+json": {
              "type": "dataframe",
              "variable_name": "feature_data"
            }
          },
          "metadata": {},
          "execution_count": 4
        }
      ],
      "source": [
        "# view the first few rows of the data\n",
        "feature_data.head()"
      ]
    },
    {
      "cell_type": "code",
      "execution_count": 5,
      "metadata": {
        "colab": {
          "base_uri": "https://localhost:8080/",
          "height": 350
        },
        "id": "1jIFJb1Lk5lv",
        "outputId": "a951b072-9481-4a72-ea07-d869cb1fc8ae"
      },
      "outputs": [
        {
          "output_type": "execute_result",
          "data": {
            "text/plain": [
              "              HighBP       HighChol      CholCheck            BMI  \\\n",
              "count  253680.000000  253680.000000  253680.000000  253680.000000   \n",
              "mean        0.429001       0.424121       0.962670      28.382364   \n",
              "std         0.494934       0.494210       0.189571       6.608694   \n",
              "min         0.000000       0.000000       0.000000      12.000000   \n",
              "25%         0.000000       0.000000       1.000000      24.000000   \n",
              "50%         0.000000       0.000000       1.000000      27.000000   \n",
              "75%         1.000000       1.000000       1.000000      31.000000   \n",
              "max         1.000000       1.000000       1.000000      98.000000   \n",
              "\n",
              "              Smoker         Stroke  HeartDiseaseorAttack   PhysActivity  \\\n",
              "count  253680.000000  253680.000000         253680.000000  253680.000000   \n",
              "mean        0.443169       0.040571              0.094186       0.756544   \n",
              "std         0.496761       0.197294              0.292087       0.429169   \n",
              "min         0.000000       0.000000              0.000000       0.000000   \n",
              "25%         0.000000       0.000000              0.000000       1.000000   \n",
              "50%         0.000000       0.000000              0.000000       1.000000   \n",
              "75%         1.000000       0.000000              0.000000       1.000000   \n",
              "max         1.000000       1.000000              1.000000       1.000000   \n",
              "\n",
              "              Fruits        Veggies  ...  AnyHealthcare    NoDocbcCost  \\\n",
              "count  253680.000000  253680.000000  ...  253680.000000  253680.000000   \n",
              "mean        0.634256       0.811420  ...       0.951053       0.084177   \n",
              "std         0.481639       0.391175  ...       0.215759       0.277654   \n",
              "min         0.000000       0.000000  ...       0.000000       0.000000   \n",
              "25%         0.000000       1.000000  ...       1.000000       0.000000   \n",
              "50%         1.000000       1.000000  ...       1.000000       0.000000   \n",
              "75%         1.000000       1.000000  ...       1.000000       0.000000   \n",
              "max         1.000000       1.000000  ...       1.000000       1.000000   \n",
              "\n",
              "             GenHlth       MentHlth       PhysHlth       DiffWalk  \\\n",
              "count  253680.000000  253680.000000  253680.000000  253680.000000   \n",
              "mean        2.511392       3.184772       4.242081       0.168224   \n",
              "std         1.068477       7.412847       8.717951       0.374066   \n",
              "min         1.000000       0.000000       0.000000       0.000000   \n",
              "25%         2.000000       0.000000       0.000000       0.000000   \n",
              "50%         2.000000       0.000000       0.000000       0.000000   \n",
              "75%         3.000000       2.000000       3.000000       0.000000   \n",
              "max         5.000000      30.000000      30.000000       1.000000   \n",
              "\n",
              "                 Sex            Age      Education         Income  \n",
              "count  253680.000000  253680.000000  253680.000000  253680.000000  \n",
              "mean        0.440342       8.032119       5.050434       6.053875  \n",
              "std         0.496429       3.054220       0.985774       2.071148  \n",
              "min         0.000000       1.000000       1.000000       1.000000  \n",
              "25%         0.000000       6.000000       4.000000       5.000000  \n",
              "50%         0.000000       8.000000       5.000000       7.000000  \n",
              "75%         1.000000      10.000000       6.000000       8.000000  \n",
              "max         1.000000      13.000000       6.000000       8.000000  \n",
              "\n",
              "[8 rows x 21 columns]"
            ],
            "text/html": [
              "\n",
              "  <div id=\"df-15a3c7de-9f77-4d7a-bf9d-e40178f774d7\" class=\"colab-df-container\">\n",
              "    <div>\n",
              "<style scoped>\n",
              "    .dataframe tbody tr th:only-of-type {\n",
              "        vertical-align: middle;\n",
              "    }\n",
              "\n",
              "    .dataframe tbody tr th {\n",
              "        vertical-align: top;\n",
              "    }\n",
              "\n",
              "    .dataframe thead th {\n",
              "        text-align: right;\n",
              "    }\n",
              "</style>\n",
              "<table border=\"1\" class=\"dataframe\">\n",
              "  <thead>\n",
              "    <tr style=\"text-align: right;\">\n",
              "      <th></th>\n",
              "      <th>HighBP</th>\n",
              "      <th>HighChol</th>\n",
              "      <th>CholCheck</th>\n",
              "      <th>BMI</th>\n",
              "      <th>Smoker</th>\n",
              "      <th>Stroke</th>\n",
              "      <th>HeartDiseaseorAttack</th>\n",
              "      <th>PhysActivity</th>\n",
              "      <th>Fruits</th>\n",
              "      <th>Veggies</th>\n",
              "      <th>...</th>\n",
              "      <th>AnyHealthcare</th>\n",
              "      <th>NoDocbcCost</th>\n",
              "      <th>GenHlth</th>\n",
              "      <th>MentHlth</th>\n",
              "      <th>PhysHlth</th>\n",
              "      <th>DiffWalk</th>\n",
              "      <th>Sex</th>\n",
              "      <th>Age</th>\n",
              "      <th>Education</th>\n",
              "      <th>Income</th>\n",
              "    </tr>\n",
              "  </thead>\n",
              "  <tbody>\n",
              "    <tr>\n",
              "      <th>count</th>\n",
              "      <td>253680.000000</td>\n",
              "      <td>253680.000000</td>\n",
              "      <td>253680.000000</td>\n",
              "      <td>253680.000000</td>\n",
              "      <td>253680.000000</td>\n",
              "      <td>253680.000000</td>\n",
              "      <td>253680.000000</td>\n",
              "      <td>253680.000000</td>\n",
              "      <td>253680.000000</td>\n",
              "      <td>253680.000000</td>\n",
              "      <td>...</td>\n",
              "      <td>253680.000000</td>\n",
              "      <td>253680.000000</td>\n",
              "      <td>253680.000000</td>\n",
              "      <td>253680.000000</td>\n",
              "      <td>253680.000000</td>\n",
              "      <td>253680.000000</td>\n",
              "      <td>253680.000000</td>\n",
              "      <td>253680.000000</td>\n",
              "      <td>253680.000000</td>\n",
              "      <td>253680.000000</td>\n",
              "    </tr>\n",
              "    <tr>\n",
              "      <th>mean</th>\n",
              "      <td>0.429001</td>\n",
              "      <td>0.424121</td>\n",
              "      <td>0.962670</td>\n",
              "      <td>28.382364</td>\n",
              "      <td>0.443169</td>\n",
              "      <td>0.040571</td>\n",
              "      <td>0.094186</td>\n",
              "      <td>0.756544</td>\n",
              "      <td>0.634256</td>\n",
              "      <td>0.811420</td>\n",
              "      <td>...</td>\n",
              "      <td>0.951053</td>\n",
              "      <td>0.084177</td>\n",
              "      <td>2.511392</td>\n",
              "      <td>3.184772</td>\n",
              "      <td>4.242081</td>\n",
              "      <td>0.168224</td>\n",
              "      <td>0.440342</td>\n",
              "      <td>8.032119</td>\n",
              "      <td>5.050434</td>\n",
              "      <td>6.053875</td>\n",
              "    </tr>\n",
              "    <tr>\n",
              "      <th>std</th>\n",
              "      <td>0.494934</td>\n",
              "      <td>0.494210</td>\n",
              "      <td>0.189571</td>\n",
              "      <td>6.608694</td>\n",
              "      <td>0.496761</td>\n",
              "      <td>0.197294</td>\n",
              "      <td>0.292087</td>\n",
              "      <td>0.429169</td>\n",
              "      <td>0.481639</td>\n",
              "      <td>0.391175</td>\n",
              "      <td>...</td>\n",
              "      <td>0.215759</td>\n",
              "      <td>0.277654</td>\n",
              "      <td>1.068477</td>\n",
              "      <td>7.412847</td>\n",
              "      <td>8.717951</td>\n",
              "      <td>0.374066</td>\n",
              "      <td>0.496429</td>\n",
              "      <td>3.054220</td>\n",
              "      <td>0.985774</td>\n",
              "      <td>2.071148</td>\n",
              "    </tr>\n",
              "    <tr>\n",
              "      <th>min</th>\n",
              "      <td>0.000000</td>\n",
              "      <td>0.000000</td>\n",
              "      <td>0.000000</td>\n",
              "      <td>12.000000</td>\n",
              "      <td>0.000000</td>\n",
              "      <td>0.000000</td>\n",
              "      <td>0.000000</td>\n",
              "      <td>0.000000</td>\n",
              "      <td>0.000000</td>\n",
              "      <td>0.000000</td>\n",
              "      <td>...</td>\n",
              "      <td>0.000000</td>\n",
              "      <td>0.000000</td>\n",
              "      <td>1.000000</td>\n",
              "      <td>0.000000</td>\n",
              "      <td>0.000000</td>\n",
              "      <td>0.000000</td>\n",
              "      <td>0.000000</td>\n",
              "      <td>1.000000</td>\n",
              "      <td>1.000000</td>\n",
              "      <td>1.000000</td>\n",
              "    </tr>\n",
              "    <tr>\n",
              "      <th>25%</th>\n",
              "      <td>0.000000</td>\n",
              "      <td>0.000000</td>\n",
              "      <td>1.000000</td>\n",
              "      <td>24.000000</td>\n",
              "      <td>0.000000</td>\n",
              "      <td>0.000000</td>\n",
              "      <td>0.000000</td>\n",
              "      <td>1.000000</td>\n",
              "      <td>0.000000</td>\n",
              "      <td>1.000000</td>\n",
              "      <td>...</td>\n",
              "      <td>1.000000</td>\n",
              "      <td>0.000000</td>\n",
              "      <td>2.000000</td>\n",
              "      <td>0.000000</td>\n",
              "      <td>0.000000</td>\n",
              "      <td>0.000000</td>\n",
              "      <td>0.000000</td>\n",
              "      <td>6.000000</td>\n",
              "      <td>4.000000</td>\n",
              "      <td>5.000000</td>\n",
              "    </tr>\n",
              "    <tr>\n",
              "      <th>50%</th>\n",
              "      <td>0.000000</td>\n",
              "      <td>0.000000</td>\n",
              "      <td>1.000000</td>\n",
              "      <td>27.000000</td>\n",
              "      <td>0.000000</td>\n",
              "      <td>0.000000</td>\n",
              "      <td>0.000000</td>\n",
              "      <td>1.000000</td>\n",
              "      <td>1.000000</td>\n",
              "      <td>1.000000</td>\n",
              "      <td>...</td>\n",
              "      <td>1.000000</td>\n",
              "      <td>0.000000</td>\n",
              "      <td>2.000000</td>\n",
              "      <td>0.000000</td>\n",
              "      <td>0.000000</td>\n",
              "      <td>0.000000</td>\n",
              "      <td>0.000000</td>\n",
              "      <td>8.000000</td>\n",
              "      <td>5.000000</td>\n",
              "      <td>7.000000</td>\n",
              "    </tr>\n",
              "    <tr>\n",
              "      <th>75%</th>\n",
              "      <td>1.000000</td>\n",
              "      <td>1.000000</td>\n",
              "      <td>1.000000</td>\n",
              "      <td>31.000000</td>\n",
              "      <td>1.000000</td>\n",
              "      <td>0.000000</td>\n",
              "      <td>0.000000</td>\n",
              "      <td>1.000000</td>\n",
              "      <td>1.000000</td>\n",
              "      <td>1.000000</td>\n",
              "      <td>...</td>\n",
              "      <td>1.000000</td>\n",
              "      <td>0.000000</td>\n",
              "      <td>3.000000</td>\n",
              "      <td>2.000000</td>\n",
              "      <td>3.000000</td>\n",
              "      <td>0.000000</td>\n",
              "      <td>1.000000</td>\n",
              "      <td>10.000000</td>\n",
              "      <td>6.000000</td>\n",
              "      <td>8.000000</td>\n",
              "    </tr>\n",
              "    <tr>\n",
              "      <th>max</th>\n",
              "      <td>1.000000</td>\n",
              "      <td>1.000000</td>\n",
              "      <td>1.000000</td>\n",
              "      <td>98.000000</td>\n",
              "      <td>1.000000</td>\n",
              "      <td>1.000000</td>\n",
              "      <td>1.000000</td>\n",
              "      <td>1.000000</td>\n",
              "      <td>1.000000</td>\n",
              "      <td>1.000000</td>\n",
              "      <td>...</td>\n",
              "      <td>1.000000</td>\n",
              "      <td>1.000000</td>\n",
              "      <td>5.000000</td>\n",
              "      <td>30.000000</td>\n",
              "      <td>30.000000</td>\n",
              "      <td>1.000000</td>\n",
              "      <td>1.000000</td>\n",
              "      <td>13.000000</td>\n",
              "      <td>6.000000</td>\n",
              "      <td>8.000000</td>\n",
              "    </tr>\n",
              "  </tbody>\n",
              "</table>\n",
              "<p>8 rows × 21 columns</p>\n",
              "</div>\n",
              "    <div class=\"colab-df-buttons\">\n",
              "\n",
              "  <div class=\"colab-df-container\">\n",
              "    <button class=\"colab-df-convert\" onclick=\"convertToInteractive('df-15a3c7de-9f77-4d7a-bf9d-e40178f774d7')\"\n",
              "            title=\"Convert this dataframe to an interactive table.\"\n",
              "            style=\"display:none;\">\n",
              "\n",
              "  <svg xmlns=\"http://www.w3.org/2000/svg\" height=\"24px\" viewBox=\"0 -960 960 960\">\n",
              "    <path d=\"M120-120v-720h720v720H120Zm60-500h600v-160H180v160Zm220 220h160v-160H400v160Zm0 220h160v-160H400v160ZM180-400h160v-160H180v160Zm440 0h160v-160H620v160ZM180-180h160v-160H180v160Zm440 0h160v-160H620v160Z\"/>\n",
              "  </svg>\n",
              "    </button>\n",
              "\n",
              "  <style>\n",
              "    .colab-df-container {\n",
              "      display:flex;\n",
              "      gap: 12px;\n",
              "    }\n",
              "\n",
              "    .colab-df-convert {\n",
              "      background-color: #E8F0FE;\n",
              "      border: none;\n",
              "      border-radius: 50%;\n",
              "      cursor: pointer;\n",
              "      display: none;\n",
              "      fill: #1967D2;\n",
              "      height: 32px;\n",
              "      padding: 0 0 0 0;\n",
              "      width: 32px;\n",
              "    }\n",
              "\n",
              "    .colab-df-convert:hover {\n",
              "      background-color: #E2EBFA;\n",
              "      box-shadow: 0px 1px 2px rgba(60, 64, 67, 0.3), 0px 1px 3px 1px rgba(60, 64, 67, 0.15);\n",
              "      fill: #174EA6;\n",
              "    }\n",
              "\n",
              "    .colab-df-buttons div {\n",
              "      margin-bottom: 4px;\n",
              "    }\n",
              "\n",
              "    [theme=dark] .colab-df-convert {\n",
              "      background-color: #3B4455;\n",
              "      fill: #D2E3FC;\n",
              "    }\n",
              "\n",
              "    [theme=dark] .colab-df-convert:hover {\n",
              "      background-color: #434B5C;\n",
              "      box-shadow: 0px 1px 3px 1px rgba(0, 0, 0, 0.15);\n",
              "      filter: drop-shadow(0px 1px 2px rgba(0, 0, 0, 0.3));\n",
              "      fill: #FFFFFF;\n",
              "    }\n",
              "  </style>\n",
              "\n",
              "    <script>\n",
              "      const buttonEl =\n",
              "        document.querySelector('#df-15a3c7de-9f77-4d7a-bf9d-e40178f774d7 button.colab-df-convert');\n",
              "      buttonEl.style.display =\n",
              "        google.colab.kernel.accessAllowed ? 'block' : 'none';\n",
              "\n",
              "      async function convertToInteractive(key) {\n",
              "        const element = document.querySelector('#df-15a3c7de-9f77-4d7a-bf9d-e40178f774d7');\n",
              "        const dataTable =\n",
              "          await google.colab.kernel.invokeFunction('convertToInteractive',\n",
              "                                                    [key], {});\n",
              "        if (!dataTable) return;\n",
              "\n",
              "        const docLinkHtml = 'Like what you see? Visit the ' +\n",
              "          '<a target=\"_blank\" href=https://colab.research.google.com/notebooks/data_table.ipynb>data table notebook</a>'\n",
              "          + ' to learn more about interactive tables.';\n",
              "        element.innerHTML = '';\n",
              "        dataTable['output_type'] = 'display_data';\n",
              "        await google.colab.output.renderOutput(dataTable, element);\n",
              "        const docLink = document.createElement('div');\n",
              "        docLink.innerHTML = docLinkHtml;\n",
              "        element.appendChild(docLink);\n",
              "      }\n",
              "    </script>\n",
              "  </div>\n",
              "\n",
              "\n",
              "<div id=\"df-869a27c7-9114-47d2-ba3b-2d35f4c329f8\">\n",
              "  <button class=\"colab-df-quickchart\" onclick=\"quickchart('df-869a27c7-9114-47d2-ba3b-2d35f4c329f8')\"\n",
              "            title=\"Suggest charts\"\n",
              "            style=\"display:none;\">\n",
              "\n",
              "<svg xmlns=\"http://www.w3.org/2000/svg\" height=\"24px\"viewBox=\"0 0 24 24\"\n",
              "     width=\"24px\">\n",
              "    <g>\n",
              "        <path d=\"M19 3H5c-1.1 0-2 .9-2 2v14c0 1.1.9 2 2 2h14c1.1 0 2-.9 2-2V5c0-1.1-.9-2-2-2zM9 17H7v-7h2v7zm4 0h-2V7h2v10zm4 0h-2v-4h2v4z\"/>\n",
              "    </g>\n",
              "</svg>\n",
              "  </button>\n",
              "\n",
              "<style>\n",
              "  .colab-df-quickchart {\n",
              "      --bg-color: #E8F0FE;\n",
              "      --fill-color: #1967D2;\n",
              "      --hover-bg-color: #E2EBFA;\n",
              "      --hover-fill-color: #174EA6;\n",
              "      --disabled-fill-color: #AAA;\n",
              "      --disabled-bg-color: #DDD;\n",
              "  }\n",
              "\n",
              "  [theme=dark] .colab-df-quickchart {\n",
              "      --bg-color: #3B4455;\n",
              "      --fill-color: #D2E3FC;\n",
              "      --hover-bg-color: #434B5C;\n",
              "      --hover-fill-color: #FFFFFF;\n",
              "      --disabled-bg-color: #3B4455;\n",
              "      --disabled-fill-color: #666;\n",
              "  }\n",
              "\n",
              "  .colab-df-quickchart {\n",
              "    background-color: var(--bg-color);\n",
              "    border: none;\n",
              "    border-radius: 50%;\n",
              "    cursor: pointer;\n",
              "    display: none;\n",
              "    fill: var(--fill-color);\n",
              "    height: 32px;\n",
              "    padding: 0;\n",
              "    width: 32px;\n",
              "  }\n",
              "\n",
              "  .colab-df-quickchart:hover {\n",
              "    background-color: var(--hover-bg-color);\n",
              "    box-shadow: 0 1px 2px rgba(60, 64, 67, 0.3), 0 1px 3px 1px rgba(60, 64, 67, 0.15);\n",
              "    fill: var(--button-hover-fill-color);\n",
              "  }\n",
              "\n",
              "  .colab-df-quickchart-complete:disabled,\n",
              "  .colab-df-quickchart-complete:disabled:hover {\n",
              "    background-color: var(--disabled-bg-color);\n",
              "    fill: var(--disabled-fill-color);\n",
              "    box-shadow: none;\n",
              "  }\n",
              "\n",
              "  .colab-df-spinner {\n",
              "    border: 2px solid var(--fill-color);\n",
              "    border-color: transparent;\n",
              "    border-bottom-color: var(--fill-color);\n",
              "    animation:\n",
              "      spin 1s steps(1) infinite;\n",
              "  }\n",
              "\n",
              "  @keyframes spin {\n",
              "    0% {\n",
              "      border-color: transparent;\n",
              "      border-bottom-color: var(--fill-color);\n",
              "      border-left-color: var(--fill-color);\n",
              "    }\n",
              "    20% {\n",
              "      border-color: transparent;\n",
              "      border-left-color: var(--fill-color);\n",
              "      border-top-color: var(--fill-color);\n",
              "    }\n",
              "    30% {\n",
              "      border-color: transparent;\n",
              "      border-left-color: var(--fill-color);\n",
              "      border-top-color: var(--fill-color);\n",
              "      border-right-color: var(--fill-color);\n",
              "    }\n",
              "    40% {\n",
              "      border-color: transparent;\n",
              "      border-right-color: var(--fill-color);\n",
              "      border-top-color: var(--fill-color);\n",
              "    }\n",
              "    60% {\n",
              "      border-color: transparent;\n",
              "      border-right-color: var(--fill-color);\n",
              "    }\n",
              "    80% {\n",
              "      border-color: transparent;\n",
              "      border-right-color: var(--fill-color);\n",
              "      border-bottom-color: var(--fill-color);\n",
              "    }\n",
              "    90% {\n",
              "      border-color: transparent;\n",
              "      border-bottom-color: var(--fill-color);\n",
              "    }\n",
              "  }\n",
              "</style>\n",
              "\n",
              "  <script>\n",
              "    async function quickchart(key) {\n",
              "      const quickchartButtonEl =\n",
              "        document.querySelector('#' + key + ' button');\n",
              "      quickchartButtonEl.disabled = true;  // To prevent multiple clicks.\n",
              "      quickchartButtonEl.classList.add('colab-df-spinner');\n",
              "      try {\n",
              "        const charts = await google.colab.kernel.invokeFunction(\n",
              "            'suggestCharts', [key], {});\n",
              "      } catch (error) {\n",
              "        console.error('Error during call to suggestCharts:', error);\n",
              "      }\n",
              "      quickchartButtonEl.classList.remove('colab-df-spinner');\n",
              "      quickchartButtonEl.classList.add('colab-df-quickchart-complete');\n",
              "    }\n",
              "    (() => {\n",
              "      let quickchartButtonEl =\n",
              "        document.querySelector('#df-869a27c7-9114-47d2-ba3b-2d35f4c329f8 button');\n",
              "      quickchartButtonEl.style.display =\n",
              "        google.colab.kernel.accessAllowed ? 'block' : 'none';\n",
              "    })();\n",
              "  </script>\n",
              "</div>\n",
              "    </div>\n",
              "  </div>\n"
            ],
            "application/vnd.google.colaboratory.intrinsic+json": {
              "type": "dataframe"
            }
          },
          "metadata": {},
          "execution_count": 5
        }
      ],
      "source": [
        "feature_data.describe(include='all')"
      ]
    },
    {
      "cell_type": "code",
      "execution_count": 6,
      "metadata": {
        "colab": {
          "base_uri": "https://localhost:8080/"
        },
        "id": "efbUAKAUk5lv",
        "outputId": "d9b36aa9-7f60-493c-b3b9-173f4e43ffa7"
      },
      "outputs": [
        {
          "output_type": "execute_result",
          "data": {
            "text/plain": [
              "HighBP                  int64\n",
              "HighChol                int64\n",
              "CholCheck               int64\n",
              "BMI                     int64\n",
              "Smoker                  int64\n",
              "Stroke                  int64\n",
              "HeartDiseaseorAttack    int64\n",
              "PhysActivity            int64\n",
              "Fruits                  int64\n",
              "Veggies                 int64\n",
              "HvyAlcoholConsump       int64\n",
              "AnyHealthcare           int64\n",
              "NoDocbcCost             int64\n",
              "GenHlth                 int64\n",
              "MentHlth                int64\n",
              "PhysHlth                int64\n",
              "DiffWalk                int64\n",
              "Sex                     int64\n",
              "Age                     int64\n",
              "Education               int64\n",
              "Income                  int64\n",
              "dtype: object"
            ]
          },
          "metadata": {},
          "execution_count": 6
        }
      ],
      "source": [
        "feature_data.dtypes"
      ]
    },
    {
      "cell_type": "code",
      "execution_count": 7,
      "metadata": {
        "colab": {
          "base_uri": "https://localhost:8080/",
          "height": 175
        },
        "id": "xerp2gPZk5lv",
        "outputId": "d4bb3a91-3524-436e-9396-b21c9314f9ea"
      },
      "outputs": [
        {
          "output_type": "execute_result",
          "data": {
            "text/plain": [
              "         name     role     type      demographic  \\\n",
              "19        Sex  Feature   Binary              Sex   \n",
              "20        Age  Feature  Integer              Age   \n",
              "21  Education  Feature  Integer  Education Level   \n",
              "22     Income  Feature  Integer           Income   \n",
              "\n",
              "                                          description units missing_values  \n",
              "19                                0 = female 1 = male  None             no  \n",
              "20  13-level age category (_AGEG5YR see codebook) ...  None             no  \n",
              "21  Education level (EDUCA see codebook) scale 1-6...  None             no  \n",
              "22  Income scale (INCOME2 see codebook) scale 1-8 ...  None             no  "
            ],
            "text/html": [
              "\n",
              "  <div id=\"df-c85f111a-f6ed-4205-8302-f35e11db705b\" class=\"colab-df-container\">\n",
              "    <div>\n",
              "<style scoped>\n",
              "    .dataframe tbody tr th:only-of-type {\n",
              "        vertical-align: middle;\n",
              "    }\n",
              "\n",
              "    .dataframe tbody tr th {\n",
              "        vertical-align: top;\n",
              "    }\n",
              "\n",
              "    .dataframe thead th {\n",
              "        text-align: right;\n",
              "    }\n",
              "</style>\n",
              "<table border=\"1\" class=\"dataframe\">\n",
              "  <thead>\n",
              "    <tr style=\"text-align: right;\">\n",
              "      <th></th>\n",
              "      <th>name</th>\n",
              "      <th>role</th>\n",
              "      <th>type</th>\n",
              "      <th>demographic</th>\n",
              "      <th>description</th>\n",
              "      <th>units</th>\n",
              "      <th>missing_values</th>\n",
              "    </tr>\n",
              "  </thead>\n",
              "  <tbody>\n",
              "    <tr>\n",
              "      <th>19</th>\n",
              "      <td>Sex</td>\n",
              "      <td>Feature</td>\n",
              "      <td>Binary</td>\n",
              "      <td>Sex</td>\n",
              "      <td>0 = female 1 = male</td>\n",
              "      <td>None</td>\n",
              "      <td>no</td>\n",
              "    </tr>\n",
              "    <tr>\n",
              "      <th>20</th>\n",
              "      <td>Age</td>\n",
              "      <td>Feature</td>\n",
              "      <td>Integer</td>\n",
              "      <td>Age</td>\n",
              "      <td>13-level age category (_AGEG5YR see codebook) ...</td>\n",
              "      <td>None</td>\n",
              "      <td>no</td>\n",
              "    </tr>\n",
              "    <tr>\n",
              "      <th>21</th>\n",
              "      <td>Education</td>\n",
              "      <td>Feature</td>\n",
              "      <td>Integer</td>\n",
              "      <td>Education Level</td>\n",
              "      <td>Education level (EDUCA see codebook) scale 1-6...</td>\n",
              "      <td>None</td>\n",
              "      <td>no</td>\n",
              "    </tr>\n",
              "    <tr>\n",
              "      <th>22</th>\n",
              "      <td>Income</td>\n",
              "      <td>Feature</td>\n",
              "      <td>Integer</td>\n",
              "      <td>Income</td>\n",
              "      <td>Income scale (INCOME2 see codebook) scale 1-8 ...</td>\n",
              "      <td>None</td>\n",
              "      <td>no</td>\n",
              "    </tr>\n",
              "  </tbody>\n",
              "</table>\n",
              "</div>\n",
              "    <div class=\"colab-df-buttons\">\n",
              "\n",
              "  <div class=\"colab-df-container\">\n",
              "    <button class=\"colab-df-convert\" onclick=\"convertToInteractive('df-c85f111a-f6ed-4205-8302-f35e11db705b')\"\n",
              "            title=\"Convert this dataframe to an interactive table.\"\n",
              "            style=\"display:none;\">\n",
              "\n",
              "  <svg xmlns=\"http://www.w3.org/2000/svg\" height=\"24px\" viewBox=\"0 -960 960 960\">\n",
              "    <path d=\"M120-120v-720h720v720H120Zm60-500h600v-160H180v160Zm220 220h160v-160H400v160Zm0 220h160v-160H400v160ZM180-400h160v-160H180v160Zm440 0h160v-160H620v160ZM180-180h160v-160H180v160Zm440 0h160v-160H620v160Z\"/>\n",
              "  </svg>\n",
              "    </button>\n",
              "\n",
              "  <style>\n",
              "    .colab-df-container {\n",
              "      display:flex;\n",
              "      gap: 12px;\n",
              "    }\n",
              "\n",
              "    .colab-df-convert {\n",
              "      background-color: #E8F0FE;\n",
              "      border: none;\n",
              "      border-radius: 50%;\n",
              "      cursor: pointer;\n",
              "      display: none;\n",
              "      fill: #1967D2;\n",
              "      height: 32px;\n",
              "      padding: 0 0 0 0;\n",
              "      width: 32px;\n",
              "    }\n",
              "\n",
              "    .colab-df-convert:hover {\n",
              "      background-color: #E2EBFA;\n",
              "      box-shadow: 0px 1px 2px rgba(60, 64, 67, 0.3), 0px 1px 3px 1px rgba(60, 64, 67, 0.15);\n",
              "      fill: #174EA6;\n",
              "    }\n",
              "\n",
              "    .colab-df-buttons div {\n",
              "      margin-bottom: 4px;\n",
              "    }\n",
              "\n",
              "    [theme=dark] .colab-df-convert {\n",
              "      background-color: #3B4455;\n",
              "      fill: #D2E3FC;\n",
              "    }\n",
              "\n",
              "    [theme=dark] .colab-df-convert:hover {\n",
              "      background-color: #434B5C;\n",
              "      box-shadow: 0px 1px 3px 1px rgba(0, 0, 0, 0.15);\n",
              "      filter: drop-shadow(0px 1px 2px rgba(0, 0, 0, 0.3));\n",
              "      fill: #FFFFFF;\n",
              "    }\n",
              "  </style>\n",
              "\n",
              "    <script>\n",
              "      const buttonEl =\n",
              "        document.querySelector('#df-c85f111a-f6ed-4205-8302-f35e11db705b button.colab-df-convert');\n",
              "      buttonEl.style.display =\n",
              "        google.colab.kernel.accessAllowed ? 'block' : 'none';\n",
              "\n",
              "      async function convertToInteractive(key) {\n",
              "        const element = document.querySelector('#df-c85f111a-f6ed-4205-8302-f35e11db705b');\n",
              "        const dataTable =\n",
              "          await google.colab.kernel.invokeFunction('convertToInteractive',\n",
              "                                                    [key], {});\n",
              "        if (!dataTable) return;\n",
              "\n",
              "        const docLinkHtml = 'Like what you see? Visit the ' +\n",
              "          '<a target=\"_blank\" href=https://colab.research.google.com/notebooks/data_table.ipynb>data table notebook</a>'\n",
              "          + ' to learn more about interactive tables.';\n",
              "        element.innerHTML = '';\n",
              "        dataTable['output_type'] = 'display_data';\n",
              "        await google.colab.output.renderOutput(dataTable, element);\n",
              "        const docLink = document.createElement('div');\n",
              "        docLink.innerHTML = docLinkHtml;\n",
              "        element.appendChild(docLink);\n",
              "      }\n",
              "    </script>\n",
              "  </div>\n",
              "\n",
              "\n",
              "<div id=\"df-c800a7bb-b1db-4ffa-8283-2fbc6577104b\">\n",
              "  <button class=\"colab-df-quickchart\" onclick=\"quickchart('df-c800a7bb-b1db-4ffa-8283-2fbc6577104b')\"\n",
              "            title=\"Suggest charts\"\n",
              "            style=\"display:none;\">\n",
              "\n",
              "<svg xmlns=\"http://www.w3.org/2000/svg\" height=\"24px\"viewBox=\"0 0 24 24\"\n",
              "     width=\"24px\">\n",
              "    <g>\n",
              "        <path d=\"M19 3H5c-1.1 0-2 .9-2 2v14c0 1.1.9 2 2 2h14c1.1 0 2-.9 2-2V5c0-1.1-.9-2-2-2zM9 17H7v-7h2v7zm4 0h-2V7h2v10zm4 0h-2v-4h2v4z\"/>\n",
              "    </g>\n",
              "</svg>\n",
              "  </button>\n",
              "\n",
              "<style>\n",
              "  .colab-df-quickchart {\n",
              "      --bg-color: #E8F0FE;\n",
              "      --fill-color: #1967D2;\n",
              "      --hover-bg-color: #E2EBFA;\n",
              "      --hover-fill-color: #174EA6;\n",
              "      --disabled-fill-color: #AAA;\n",
              "      --disabled-bg-color: #DDD;\n",
              "  }\n",
              "\n",
              "  [theme=dark] .colab-df-quickchart {\n",
              "      --bg-color: #3B4455;\n",
              "      --fill-color: #D2E3FC;\n",
              "      --hover-bg-color: #434B5C;\n",
              "      --hover-fill-color: #FFFFFF;\n",
              "      --disabled-bg-color: #3B4455;\n",
              "      --disabled-fill-color: #666;\n",
              "  }\n",
              "\n",
              "  .colab-df-quickchart {\n",
              "    background-color: var(--bg-color);\n",
              "    border: none;\n",
              "    border-radius: 50%;\n",
              "    cursor: pointer;\n",
              "    display: none;\n",
              "    fill: var(--fill-color);\n",
              "    height: 32px;\n",
              "    padding: 0;\n",
              "    width: 32px;\n",
              "  }\n",
              "\n",
              "  .colab-df-quickchart:hover {\n",
              "    background-color: var(--hover-bg-color);\n",
              "    box-shadow: 0 1px 2px rgba(60, 64, 67, 0.3), 0 1px 3px 1px rgba(60, 64, 67, 0.15);\n",
              "    fill: var(--button-hover-fill-color);\n",
              "  }\n",
              "\n",
              "  .colab-df-quickchart-complete:disabled,\n",
              "  .colab-df-quickchart-complete:disabled:hover {\n",
              "    background-color: var(--disabled-bg-color);\n",
              "    fill: var(--disabled-fill-color);\n",
              "    box-shadow: none;\n",
              "  }\n",
              "\n",
              "  .colab-df-spinner {\n",
              "    border: 2px solid var(--fill-color);\n",
              "    border-color: transparent;\n",
              "    border-bottom-color: var(--fill-color);\n",
              "    animation:\n",
              "      spin 1s steps(1) infinite;\n",
              "  }\n",
              "\n",
              "  @keyframes spin {\n",
              "    0% {\n",
              "      border-color: transparent;\n",
              "      border-bottom-color: var(--fill-color);\n",
              "      border-left-color: var(--fill-color);\n",
              "    }\n",
              "    20% {\n",
              "      border-color: transparent;\n",
              "      border-left-color: var(--fill-color);\n",
              "      border-top-color: var(--fill-color);\n",
              "    }\n",
              "    30% {\n",
              "      border-color: transparent;\n",
              "      border-left-color: var(--fill-color);\n",
              "      border-top-color: var(--fill-color);\n",
              "      border-right-color: var(--fill-color);\n",
              "    }\n",
              "    40% {\n",
              "      border-color: transparent;\n",
              "      border-right-color: var(--fill-color);\n",
              "      border-top-color: var(--fill-color);\n",
              "    }\n",
              "    60% {\n",
              "      border-color: transparent;\n",
              "      border-right-color: var(--fill-color);\n",
              "    }\n",
              "    80% {\n",
              "      border-color: transparent;\n",
              "      border-right-color: var(--fill-color);\n",
              "      border-bottom-color: var(--fill-color);\n",
              "    }\n",
              "    90% {\n",
              "      border-color: transparent;\n",
              "      border-bottom-color: var(--fill-color);\n",
              "    }\n",
              "  }\n",
              "</style>\n",
              "\n",
              "  <script>\n",
              "    async function quickchart(key) {\n",
              "      const quickchartButtonEl =\n",
              "        document.querySelector('#' + key + ' button');\n",
              "      quickchartButtonEl.disabled = true;  // To prevent multiple clicks.\n",
              "      quickchartButtonEl.classList.add('colab-df-spinner');\n",
              "      try {\n",
              "        const charts = await google.colab.kernel.invokeFunction(\n",
              "            'suggestCharts', [key], {});\n",
              "      } catch (error) {\n",
              "        console.error('Error during call to suggestCharts:', error);\n",
              "      }\n",
              "      quickchartButtonEl.classList.remove('colab-df-spinner');\n",
              "      quickchartButtonEl.classList.add('colab-df-quickchart-complete');\n",
              "    }\n",
              "    (() => {\n",
              "      let quickchartButtonEl =\n",
              "        document.querySelector('#df-c800a7bb-b1db-4ffa-8283-2fbc6577104b button');\n",
              "      quickchartButtonEl.style.display =\n",
              "        google.colab.kernel.accessAllowed ? 'block' : 'none';\n",
              "    })();\n",
              "  </script>\n",
              "</div>\n",
              "    </div>\n",
              "  </div>\n"
            ],
            "application/vnd.google.colaboratory.intrinsic+json": {
              "type": "dataframe",
              "repr_error": "0"
            }
          },
          "metadata": {},
          "execution_count": 7
        }
      ],
      "source": [
        "sensitive_attributes = ['Sex', 'Age', 'Education', 'Income']\n",
        "\n",
        "variable_info[variable_info['name'].isin(sensitive_attributes)]"
      ]
    },
    {
      "cell_type": "code",
      "execution_count": 8,
      "metadata": {
        "id": "9FgxrfIwk5lv"
      },
      "outputs": [],
      "source": [
        "# Variable Detailed Description from Codebook\n",
        "# source: https://www.cdc.gov/brfss/annual_data/2015/pdf/codebook15_llcp.pdf\n",
        "\n",
        "Sex_desc = {\n",
        "    0: 'Female',\n",
        "    1: 'Male'\n",
        "}\n",
        "\n",
        "Age_desc = {\n",
        "    1: 'Age 18 to 24',\n",
        "    2: 'Age 25 to 29',\n",
        "    3: 'Age 30 to 34',\n",
        "    4: 'Age 35 to 39',\n",
        "    5: 'Age 40 to 44',\n",
        "    6: 'Age 45 to 49',\n",
        "    7: 'Age 50 to 54',\n",
        "    8: 'Age 55 to 59',\n",
        "    9: 'Age 60 to 64',\n",
        "    10: 'Age 65 to 69',\n",
        "    11: 'Age 70 to 74',\n",
        "    12: 'Age 75 to 79',\n",
        "    13: 'Age 80 or older'\n",
        "    }\n",
        "\n",
        "Education_desc = {\n",
        "    1: 'Never attended school or only kindergarten',\n",
        "    2: 'Grades 1 through 8 (Elementary)',\n",
        "    3: 'Grades 9 through 11 (Some high school)',\n",
        "    4: 'Grade 12 or GED (High school graduate)',\n",
        "    5: 'College 1 year to 3 years (Some college or technical school)',\n",
        "    6: 'College 4 years or more (College graduate)'\n",
        "}\n",
        "\n",
        "Income_desc = {\n",
        "    1: 'Less than $10,000',\n",
        "    2: 'Less than $15,000 ($10,000 to less than $15,000)',\n",
        "    3: 'Less than $20,000 ($15,000 to less than $20,000)',\n",
        "    4: 'Less than $25,000 ($20,000 to less than $25,000)',\n",
        "    5: 'Less than $35,000 ($25,000 to less than $35,000)',\n",
        "    6: 'Less than $50,000 ($35,000 to less than $50,000)',\n",
        "    7: 'Less than $75,000 ($50,000 to less than $75,000)',\n",
        "    8: '$75,000 or more',\n",
        "}"
      ]
    },
    {
      "cell_type": "markdown",
      "metadata": {
        "id": "7k9uQqERk5lw"
      },
      "source": [
        "### a. How many rows & columns of data do you have, both overall, and per sensitive attribute subgroup?"
      ]
    },
    {
      "cell_type": "code",
      "execution_count": 9,
      "metadata": {
        "colab": {
          "base_uri": "https://localhost:8080/"
        },
        "id": "YVZQVYmkk5lw",
        "outputId": "c3e87a29-1cfe-4ffd-fff8-8607196aa213"
      },
      "outputs": [
        {
          "output_type": "stream",
          "name": "stdout",
          "text": [
            "There are 253680 rows and 21 columns in the dataset\n",
            "\n",
            "Sex Variable:\n",
            "  0 (Female): 141974 rows\n",
            "  1 (Male): 111706 rows\n",
            "\n",
            "Age Variable:\n",
            "  1 (Age 18 to 24): 5700 rows\n",
            "  2 (Age 25 to 29): 7598 rows\n",
            "  3 (Age 30 to 34): 11123 rows\n",
            "  4 (Age 35 to 39): 13823 rows\n",
            "  5 (Age 40 to 44): 16157 rows\n",
            "  6 (Age 45 to 49): 19819 rows\n",
            "  7 (Age 50 to 54): 26314 rows\n",
            "  8 (Age 55 to 59): 30832 rows\n",
            "  9 (Age 60 to 64): 33244 rows\n",
            "  10 (Age 65 to 69): 32194 rows\n",
            "  11 (Age 70 to 74): 23533 rows\n",
            "  12 (Age 75 to 79): 15980 rows\n",
            "  13 (Age 80 or older): 17363 rows\n",
            "\n",
            "Education Variable:\n",
            "  1 (Never attended school or only kindergarten): 174 rows\n",
            "  2 (Grades 1 through 8 (Elementary)): 4043 rows\n",
            "  3 (Grades 9 through 11 (Some high school)): 9478 rows\n",
            "  4 (Grade 12 or GED (High school graduate)): 62750 rows\n",
            "  5 (College 1 year to 3 years (Some college or technical school)): 69910 rows\n",
            "  6 (College 4 years or more (College graduate)): 107325 rows\n",
            "\n",
            "Income Variable:\n",
            "  1 (Less than $10,000): 9811 rows\n",
            "  2 (Less than $15,000 ($10,000 to less than $15,000)): 11783 rows\n",
            "  3 (Less than $20,000 ($15,000 to less than $20,000)): 15994 rows\n",
            "  4 (Less than $25,000 ($20,000 to less than $25,000)): 20135 rows\n",
            "  5 (Less than $35,000 ($25,000 to less than $35,000)): 25883 rows\n",
            "  6 (Less than $50,000 ($35,000 to less than $50,000)): 36470 rows\n",
            "  7 (Less than $75,000 ($50,000 to less than $75,000)): 43219 rows\n",
            "  8 ($75,000 or more): 90385 rows\n"
          ]
        }
      ],
      "source": [
        "# How many rows & columns of data do you have, both overall, and per sensitive attribute subgroup?\n",
        "\n",
        "rows, columns = feature_data.shape\n",
        "print(f'There are {rows} rows and {columns} columns in the dataset')\n",
        "\n",
        "for att in sensitive_attributes:\n",
        "    print(f'\\n{att} Variable:')\n",
        "\n",
        "    n_subgroups = feature_data[att].nunique()\n",
        "    desc_dict_name = att + '_desc'\n",
        "    if att=='Sex':\n",
        "        first_val = 0\n",
        "    else:\n",
        "        first_val = 1\n",
        "\n",
        "    for subgroup in range(first_val, n_subgroups + first_val):\n",
        "\n",
        "        subgroup_name = eval(desc_dict_name)[subgroup]\n",
        "        print(f'  {subgroup} ({subgroup_name}): {len(feature_data[feature_data[att] == subgroup])} rows')\n",
        ""
      ]
    },
    {
      "cell_type": "markdown",
      "metadata": {
        "id": "IC3IPjfRk5lw"
      },
      "source": [
        "### b. What are your outcome variables of interest?\n",
        "> Our outcome variable is called *\"Diabetes_binary\"* and is stored in target_data\n"
      ]
    },
    {
      "cell_type": "code",
      "execution_count": 10,
      "metadata": {
        "colab": {
          "base_uri": "https://localhost:8080/",
          "height": 300
        },
        "id": "cg7YypjQk5lw",
        "outputId": "b450c739-8cb9-4817-f0ea-9ef75f44655f"
      },
      "outputs": [
        {
          "output_type": "execute_result",
          "data": {
            "text/plain": [
              "       Diabetes_binary\n",
              "count    253680.000000\n",
              "mean          0.139333\n",
              "std           0.346294\n",
              "min           0.000000\n",
              "25%           0.000000\n",
              "50%           0.000000\n",
              "75%           0.000000\n",
              "max           1.000000"
            ],
            "text/html": [
              "\n",
              "  <div id=\"df-9669cfcf-a38d-4019-8818-fb2d6a296365\" class=\"colab-df-container\">\n",
              "    <div>\n",
              "<style scoped>\n",
              "    .dataframe tbody tr th:only-of-type {\n",
              "        vertical-align: middle;\n",
              "    }\n",
              "\n",
              "    .dataframe tbody tr th {\n",
              "        vertical-align: top;\n",
              "    }\n",
              "\n",
              "    .dataframe thead th {\n",
              "        text-align: right;\n",
              "    }\n",
              "</style>\n",
              "<table border=\"1\" class=\"dataframe\">\n",
              "  <thead>\n",
              "    <tr style=\"text-align: right;\">\n",
              "      <th></th>\n",
              "      <th>Diabetes_binary</th>\n",
              "    </tr>\n",
              "  </thead>\n",
              "  <tbody>\n",
              "    <tr>\n",
              "      <th>count</th>\n",
              "      <td>253680.000000</td>\n",
              "    </tr>\n",
              "    <tr>\n",
              "      <th>mean</th>\n",
              "      <td>0.139333</td>\n",
              "    </tr>\n",
              "    <tr>\n",
              "      <th>std</th>\n",
              "      <td>0.346294</td>\n",
              "    </tr>\n",
              "    <tr>\n",
              "      <th>min</th>\n",
              "      <td>0.000000</td>\n",
              "    </tr>\n",
              "    <tr>\n",
              "      <th>25%</th>\n",
              "      <td>0.000000</td>\n",
              "    </tr>\n",
              "    <tr>\n",
              "      <th>50%</th>\n",
              "      <td>0.000000</td>\n",
              "    </tr>\n",
              "    <tr>\n",
              "      <th>75%</th>\n",
              "      <td>0.000000</td>\n",
              "    </tr>\n",
              "    <tr>\n",
              "      <th>max</th>\n",
              "      <td>1.000000</td>\n",
              "    </tr>\n",
              "  </tbody>\n",
              "</table>\n",
              "</div>\n",
              "    <div class=\"colab-df-buttons\">\n",
              "\n",
              "  <div class=\"colab-df-container\">\n",
              "    <button class=\"colab-df-convert\" onclick=\"convertToInteractive('df-9669cfcf-a38d-4019-8818-fb2d6a296365')\"\n",
              "            title=\"Convert this dataframe to an interactive table.\"\n",
              "            style=\"display:none;\">\n",
              "\n",
              "  <svg xmlns=\"http://www.w3.org/2000/svg\" height=\"24px\" viewBox=\"0 -960 960 960\">\n",
              "    <path d=\"M120-120v-720h720v720H120Zm60-500h600v-160H180v160Zm220 220h160v-160H400v160Zm0 220h160v-160H400v160ZM180-400h160v-160H180v160Zm440 0h160v-160H620v160ZM180-180h160v-160H180v160Zm440 0h160v-160H620v160Z\"/>\n",
              "  </svg>\n",
              "    </button>\n",
              "\n",
              "  <style>\n",
              "    .colab-df-container {\n",
              "      display:flex;\n",
              "      gap: 12px;\n",
              "    }\n",
              "\n",
              "    .colab-df-convert {\n",
              "      background-color: #E8F0FE;\n",
              "      border: none;\n",
              "      border-radius: 50%;\n",
              "      cursor: pointer;\n",
              "      display: none;\n",
              "      fill: #1967D2;\n",
              "      height: 32px;\n",
              "      padding: 0 0 0 0;\n",
              "      width: 32px;\n",
              "    }\n",
              "\n",
              "    .colab-df-convert:hover {\n",
              "      background-color: #E2EBFA;\n",
              "      box-shadow: 0px 1px 2px rgba(60, 64, 67, 0.3), 0px 1px 3px 1px rgba(60, 64, 67, 0.15);\n",
              "      fill: #174EA6;\n",
              "    }\n",
              "\n",
              "    .colab-df-buttons div {\n",
              "      margin-bottom: 4px;\n",
              "    }\n",
              "\n",
              "    [theme=dark] .colab-df-convert {\n",
              "      background-color: #3B4455;\n",
              "      fill: #D2E3FC;\n",
              "    }\n",
              "\n",
              "    [theme=dark] .colab-df-convert:hover {\n",
              "      background-color: #434B5C;\n",
              "      box-shadow: 0px 1px 3px 1px rgba(0, 0, 0, 0.15);\n",
              "      filter: drop-shadow(0px 1px 2px rgba(0, 0, 0, 0.3));\n",
              "      fill: #FFFFFF;\n",
              "    }\n",
              "  </style>\n",
              "\n",
              "    <script>\n",
              "      const buttonEl =\n",
              "        document.querySelector('#df-9669cfcf-a38d-4019-8818-fb2d6a296365 button.colab-df-convert');\n",
              "      buttonEl.style.display =\n",
              "        google.colab.kernel.accessAllowed ? 'block' : 'none';\n",
              "\n",
              "      async function convertToInteractive(key) {\n",
              "        const element = document.querySelector('#df-9669cfcf-a38d-4019-8818-fb2d6a296365');\n",
              "        const dataTable =\n",
              "          await google.colab.kernel.invokeFunction('convertToInteractive',\n",
              "                                                    [key], {});\n",
              "        if (!dataTable) return;\n",
              "\n",
              "        const docLinkHtml = 'Like what you see? Visit the ' +\n",
              "          '<a target=\"_blank\" href=https://colab.research.google.com/notebooks/data_table.ipynb>data table notebook</a>'\n",
              "          + ' to learn more about interactive tables.';\n",
              "        element.innerHTML = '';\n",
              "        dataTable['output_type'] = 'display_data';\n",
              "        await google.colab.output.renderOutput(dataTable, element);\n",
              "        const docLink = document.createElement('div');\n",
              "        docLink.innerHTML = docLinkHtml;\n",
              "        element.appendChild(docLink);\n",
              "      }\n",
              "    </script>\n",
              "  </div>\n",
              "\n",
              "\n",
              "<div id=\"df-a2df2717-4145-4270-95a4-fdac5784e37e\">\n",
              "  <button class=\"colab-df-quickchart\" onclick=\"quickchart('df-a2df2717-4145-4270-95a4-fdac5784e37e')\"\n",
              "            title=\"Suggest charts\"\n",
              "            style=\"display:none;\">\n",
              "\n",
              "<svg xmlns=\"http://www.w3.org/2000/svg\" height=\"24px\"viewBox=\"0 0 24 24\"\n",
              "     width=\"24px\">\n",
              "    <g>\n",
              "        <path d=\"M19 3H5c-1.1 0-2 .9-2 2v14c0 1.1.9 2 2 2h14c1.1 0 2-.9 2-2V5c0-1.1-.9-2-2-2zM9 17H7v-7h2v7zm4 0h-2V7h2v10zm4 0h-2v-4h2v4z\"/>\n",
              "    </g>\n",
              "</svg>\n",
              "  </button>\n",
              "\n",
              "<style>\n",
              "  .colab-df-quickchart {\n",
              "      --bg-color: #E8F0FE;\n",
              "      --fill-color: #1967D2;\n",
              "      --hover-bg-color: #E2EBFA;\n",
              "      --hover-fill-color: #174EA6;\n",
              "      --disabled-fill-color: #AAA;\n",
              "      --disabled-bg-color: #DDD;\n",
              "  }\n",
              "\n",
              "  [theme=dark] .colab-df-quickchart {\n",
              "      --bg-color: #3B4455;\n",
              "      --fill-color: #D2E3FC;\n",
              "      --hover-bg-color: #434B5C;\n",
              "      --hover-fill-color: #FFFFFF;\n",
              "      --disabled-bg-color: #3B4455;\n",
              "      --disabled-fill-color: #666;\n",
              "  }\n",
              "\n",
              "  .colab-df-quickchart {\n",
              "    background-color: var(--bg-color);\n",
              "    border: none;\n",
              "    border-radius: 50%;\n",
              "    cursor: pointer;\n",
              "    display: none;\n",
              "    fill: var(--fill-color);\n",
              "    height: 32px;\n",
              "    padding: 0;\n",
              "    width: 32px;\n",
              "  }\n",
              "\n",
              "  .colab-df-quickchart:hover {\n",
              "    background-color: var(--hover-bg-color);\n",
              "    box-shadow: 0 1px 2px rgba(60, 64, 67, 0.3), 0 1px 3px 1px rgba(60, 64, 67, 0.15);\n",
              "    fill: var(--button-hover-fill-color);\n",
              "  }\n",
              "\n",
              "  .colab-df-quickchart-complete:disabled,\n",
              "  .colab-df-quickchart-complete:disabled:hover {\n",
              "    background-color: var(--disabled-bg-color);\n",
              "    fill: var(--disabled-fill-color);\n",
              "    box-shadow: none;\n",
              "  }\n",
              "\n",
              "  .colab-df-spinner {\n",
              "    border: 2px solid var(--fill-color);\n",
              "    border-color: transparent;\n",
              "    border-bottom-color: var(--fill-color);\n",
              "    animation:\n",
              "      spin 1s steps(1) infinite;\n",
              "  }\n",
              "\n",
              "  @keyframes spin {\n",
              "    0% {\n",
              "      border-color: transparent;\n",
              "      border-bottom-color: var(--fill-color);\n",
              "      border-left-color: var(--fill-color);\n",
              "    }\n",
              "    20% {\n",
              "      border-color: transparent;\n",
              "      border-left-color: var(--fill-color);\n",
              "      border-top-color: var(--fill-color);\n",
              "    }\n",
              "    30% {\n",
              "      border-color: transparent;\n",
              "      border-left-color: var(--fill-color);\n",
              "      border-top-color: var(--fill-color);\n",
              "      border-right-color: var(--fill-color);\n",
              "    }\n",
              "    40% {\n",
              "      border-color: transparent;\n",
              "      border-right-color: var(--fill-color);\n",
              "      border-top-color: var(--fill-color);\n",
              "    }\n",
              "    60% {\n",
              "      border-color: transparent;\n",
              "      border-right-color: var(--fill-color);\n",
              "    }\n",
              "    80% {\n",
              "      border-color: transparent;\n",
              "      border-right-color: var(--fill-color);\n",
              "      border-bottom-color: var(--fill-color);\n",
              "    }\n",
              "    90% {\n",
              "      border-color: transparent;\n",
              "      border-bottom-color: var(--fill-color);\n",
              "    }\n",
              "  }\n",
              "</style>\n",
              "\n",
              "  <script>\n",
              "    async function quickchart(key) {\n",
              "      const quickchartButtonEl =\n",
              "        document.querySelector('#' + key + ' button');\n",
              "      quickchartButtonEl.disabled = true;  // To prevent multiple clicks.\n",
              "      quickchartButtonEl.classList.add('colab-df-spinner');\n",
              "      try {\n",
              "        const charts = await google.colab.kernel.invokeFunction(\n",
              "            'suggestCharts', [key], {});\n",
              "      } catch (error) {\n",
              "        console.error('Error during call to suggestCharts:', error);\n",
              "      }\n",
              "      quickchartButtonEl.classList.remove('colab-df-spinner');\n",
              "      quickchartButtonEl.classList.add('colab-df-quickchart-complete');\n",
              "    }\n",
              "    (() => {\n",
              "      let quickchartButtonEl =\n",
              "        document.querySelector('#df-a2df2717-4145-4270-95a4-fdac5784e37e button');\n",
              "      quickchartButtonEl.style.display =\n",
              "        google.colab.kernel.accessAllowed ? 'block' : 'none';\n",
              "    })();\n",
              "  </script>\n",
              "</div>\n",
              "    </div>\n",
              "  </div>\n"
            ],
            "application/vnd.google.colaboratory.intrinsic+json": {
              "type": "dataframe",
              "summary": "{\n  \"name\": \"target_data\",\n  \"rows\": 8,\n  \"fields\": [\n    {\n      \"column\": \"Diabetes_binary\",\n      \"properties\": {\n        \"dtype\": \"number\",\n        \"std\": 89689.34909084291,\n        \"min\": 0.0,\n        \"max\": 253680.0,\n        \"num_unique_values\": 5,\n        \"samples\": [\n          0.13933301797540207,\n          1.0,\n          0.34629438458921347\n        ],\n        \"semantic_type\": \"\",\n        \"description\": \"\"\n      }\n    }\n  ]\n}"
            }
          },
          "metadata": {},
          "execution_count": 10
        }
      ],
      "source": [
        "# What mean / median / standard deviation values do the outcome variables have overall?\n",
        "\n",
        "target_data.describe()"
      ]
    },
    {
      "cell_type": "code",
      "execution_count": 11,
      "metadata": {
        "colab": {
          "base_uri": "https://localhost:8080/"
        },
        "id": "ssGlLzbwk5lw",
        "outputId": "3c8ddc24-ee98-4ec3-ee15-7b4e3f2daacf"
      },
      "outputs": [
        {
          "output_type": "stream",
          "name": "stdout",
          "text": [
            "\n",
            "Sex Variable:\n",
            "\t0 (Female): \t12.97% have diabetes\n",
            "\t1 (Male): \t15.16% have diabetes\n",
            "\n",
            "Age Variable:\n",
            "\t1 (Age 18 to 24): \t1.37% have diabetes\n",
            "\t2 (Age 25 to 29): \t1.84% have diabetes\n",
            "\t3 (Age 30 to 34): \t2.82% have diabetes\n",
            "\t4 (Age 35 to 39): \t4.53% have diabetes\n",
            "\t5 (Age 40 to 44): \t6.50% have diabetes\n",
            "\t6 (Age 45 to 49): \t8.79% have diabetes\n",
            "\t7 (Age 50 to 54): \t11.74% have diabetes\n",
            "\t8 (Age 55 to 59): \t13.83% have diabetes\n",
            "\t9 (Age 60 to 64): \t17.25% have diabetes\n",
            "\t10 (Age 65 to 69): \t20.37% have diabetes\n",
            "\t11 (Age 70 to 74): \t21.85% have diabetes\n",
            "\t12 (Age 75 to 79): \t21.30% have diabetes\n",
            "\t13 (Age 80 or older): \t18.48% have diabetes\n",
            "\n",
            "Education Variable:\n",
            "\t1 (Never attended school or only kindergarten): \t27.01% have diabetes\n",
            "\t2 (Grades 1 through 8 (Elementary)): \t29.26% have diabetes\n",
            "\t3 (Grades 9 through 11 (Some high school)): \t24.22% have diabetes\n",
            "\t4 (Grade 12 or GED (High school graduate)): \t17.64% have diabetes\n",
            "\t5 (College 1 year to 3 years (Some college or technical school)): \t14.81% have diabetes\n",
            "\t6 (College 4 years or more (College graduate)): \t9.69% have diabetes\n",
            "\n",
            "Income Variable:\n",
            "\t1 (Less than $10,000): \t24.29% have diabetes\n",
            "\t2 (Less than $15,000 ($10,000 to less than $15,000)): \t26.19% have diabetes\n",
            "\t3 (Less than $20,000 ($15,000 to less than $20,000)): \t22.31% have diabetes\n",
            "\t4 (Less than $25,000 ($20,000 to less than $25,000)): \t20.13% have diabetes\n",
            "\t5 (Less than $35,000 ($25,000 to less than $35,000)): \t17.40% have diabetes\n",
            "\t6 (Less than $50,000 ($35,000 to less than $50,000)): \t14.51% have diabetes\n",
            "\t7 (Less than $75,000 ($50,000 to less than $75,000)): \t12.18% have diabetes\n",
            "\t8 ($75,000 or more): \t7.96% have diabetes\n"
          ]
        }
      ],
      "source": [
        "# What about these statistics within each relevant sensitive attribute subgroup?\n",
        "\n",
        "# merging target and feature data\n",
        "merged_data = feature_data.copy()\n",
        "merged_data['Diabetes_binary'] = target_data\n",
        "\n",
        "for att in sensitive_attributes:\n",
        "    print(f'\\n{att} Variable:')\n",
        "\n",
        "    n_subgroups = merged_data[att].nunique()\n",
        "    desc_dict_name = att + '_desc'\n",
        "    if att=='Sex':\n",
        "        first_val = 0\n",
        "    else:\n",
        "        first_val = 1\n",
        "\n",
        "    for subgroup in range(first_val, n_subgroups + first_val):\n",
        "\n",
        "        subgroup_name = eval(desc_dict_name)[subgroup]\n",
        "        subgroup_diabetes_percent = merged_data[merged_data[att] == subgroup]['Diabetes_binary'].mean()\n",
        "        print(f'\\t{subgroup} ({subgroup_name}): \\t{subgroup_diabetes_percent:.2%} have diabetes')\n"
      ]
    },
    {
      "cell_type": "markdown",
      "metadata": {
        "id": "VX6D-65pk5lx"
      },
      "source": [
        "### c. Plot at least as many figures as your # group members, and explain concisely but meaningfully what the plot shows in markdown text"
      ]
    },
    {
      "cell_type": "code",
      "execution_count": 12,
      "metadata": {
        "id": "APCtVe0Tk5lx"
      },
      "outputs": [],
      "source": [
        "# helper function to plot a varible distribution\n",
        "\n",
        "import matplotlib.pyplot as plt\n",
        "import seaborn as sns\n",
        "\n",
        "def plot_dist(data, col, labels):\n",
        "    sns.countplot(x=col, data=data,\n",
        "                  stat=\"percent\", palette=['lightcoral','skyblue'])\n",
        "    if labels:\n",
        "        plt.xticks(ticks=[0,1], labels=labels.values())\n",
        "        plt.xlabel('')\n"
      ]
    },
    {
      "cell_type": "markdown",
      "metadata": {
        "id": "PSHpAMQ8k5lx"
      },
      "source": [
        "#### Relative Distribution of Binary Variables"
      ]
    },
    {
      "cell_type": "code",
      "execution_count": 13,
      "metadata": {
        "colab": {
          "base_uri": "https://localhost:8080/",
          "height": 1000
        },
        "id": "BfhHUDi9k5lx",
        "outputId": "fa8bdf37-5319-40ef-b61e-dac3a5e81f6f"
      },
      "outputs": [
        {
          "output_type": "display_data",
          "data": {
            "text/plain": [
              "<Figure size 1000x2000 with 15 Axes>"
            ],
            "image/png": "[encoded data removed]"
          },
          "metadata": {}
        }
      ],
      "source": [
        "# hiding warnings\n",
        "import warnings\n",
        "warnings.filterwarnings('ignore')\n",
        "\n",
        "# setting up multi plot\n",
        "fig = plt.figure(figsize=(10,20))\n",
        "plt.suptitle('Relative Distribution of Binary Variables',\n",
        "             va='bottom', y=0.9, fontsize=20)\n",
        "fig_count = 1\n",
        "\n",
        "# plotting target variable\n",
        "col = 'Diabetes_binary'\n",
        "x_labels = {0:'No',1:'Yes'}\n",
        "\n",
        "plt.subplot(5, 3, fig_count)\n",
        "plt.title(\"#\"+str(fig_count)+\": \"+col)\n",
        "plot_dist(target_data, col, x_labels)\n",
        "\n",
        "# plotting binary features (14 out of 21)\n",
        "binary_features = feature_data.columns[feature_data.nunique() == 2]\n",
        "\n",
        "for col in binary_features:\n",
        "    fig_count += 1\n",
        "\n",
        "    if col == 'Sex':\n",
        "        x_labels = {0:'Female',1:'Male'}\n",
        "\n",
        "    plt.subplot(5, 3, fig_count)\n",
        "    plt.title(\"#\"+str(fig_count)+\": \"+col)\n",
        "    plot_dist(feature_data, col, x_labels)\n",
        "\n",
        "plt.show()\n"
      ]
    },
    {
      "cell_type": "markdown",
      "metadata": {
        "id": "PsoyexWUk5lx"
      },
      "source": [
        "#### Relative Distribution of Other Variables"
      ]
    },
    {
      "cell_type": "code",
      "execution_count": 14,
      "metadata": {
        "colab": {
          "base_uri": "https://localhost:8080/",
          "height": 1000
        },
        "id": "rcIvJvOUk5lx",
        "outputId": "d4490be3-e823-48f7-804c-8e0cf76fed04"
      },
      "outputs": [
        {
          "output_type": "display_data",
          "data": {
            "text/plain": [
              "<Figure size 1000x2000 with 7 Axes>"
            ],
            "image/png": "[encoded data removed]"
          },
          "metadata": {}
        }
      ],
      "source": [
        "other_features = [feat for feat in feature_data.columns if feat not in binary_features]\n",
        "\n",
        "# setting up multi plot\n",
        "fig = plt.figure(figsize=(10,20))\n",
        "plt.suptitle('Relative Distribution of Other Variables',\n",
        "             va='bottom', y=0.9, fontsize=20)\n",
        "fig_count = 1\n",
        "\n",
        "for att in other_features:\n",
        "    plt.subplot(4, 2, fig_count)\n",
        "    sns.histplot(x=att , data=merged_data, stat=\"percent\", shrink=5)\n",
        "    plt.xlabel('')\n",
        "\n",
        "    plt.title(\"#\"+str(fig_count+15)+\": \"+att)\n",
        "\n",
        "    fig_count += 1\n",
        "plt.show()"
      ]
    },
    {
      "cell_type": "markdown",
      "metadata": {
        "id": "cpvDWQI3k5lx"
      },
      "source": [
        "#### Correlation Heatmap"
      ]
    },
    {
      "cell_type": "code",
      "execution_count": 15,
      "metadata": {
        "colab": {
          "base_uri": "https://localhost:8080/",
          "height": 986
        },
        "id": "OARKLyVAk5lx",
        "outputId": "8e20c280-4382-4fd1-c345-8170cd974c3e"
      },
      "outputs": [
        {
          "output_type": "execute_result",
          "data": {
            "text/plain": [
              "<Axes: >"
            ]
          },
          "metadata": {},
          "execution_count": 15
        },
        {
          "output_type": "display_data",
          "data": {
            "text/plain": [
              "<Figure size 1200x1000 with 2 Axes>"
            ],
            "image/png": "[encoded data removed]"
          },
          "metadata": {}
        }
      ],
      "source": [
        "# creating a heatmap to show correlation between the features\n",
        "plt.figure(figsize=(12,10))\n",
        "correlation = feature_data.corr()\n",
        "\n",
        "# selecting the highly correlated features (abs corr > 0.25)\n",
        "hi_corr = correlation.copy()\n",
        "threshold = 0.25\n",
        "hi_corr[(abs(hi_corr) < threshold) | (abs(hi_corr) > 0.99)] = 0\n",
        "sns.heatmap(hi_corr, annot=False, cmap='coolwarm', center=0)\n"
      ]
    },
    {
      "cell_type": "markdown",
      "metadata": {
        "id": "L8VtsUouk5ly"
      },
      "source": [
        "# 3. Research Question, Hypotheses, and Analysis Plan"
      ]
    },
    {
      "cell_type": "markdown",
      "metadata": {
        "id": "wSgnVEeak5ly"
      },
      "source": [
        "### a. Concretely, what is (are) your research question(s)? Be specific: what are the inputs, outputs, and evaluation metrics you are interested in, and why?\n",
        "\n",
        "> * Does diabetes prediction accuracy change across income groups?\n",
        "> * Does diabetes prediction accuracy change across sex groups?\n",
        "> * If there do exist differences, what are the driving factors?\n",
        "\n",
        "#### Inputs\n",
        "> * Our inputs include: HighBP, HighChol, CholCheck, BMI, Smoker, Stroke, HeartDiseaseorAttack, PhysActivity, Fruits, Veggies, HvyAlcoholConsump, AnyHealthcare, NoDocbcCost, GenHlth, MentHlth, PhysHlth, and DiffWalk.\n",
        "> * The demographic input data are Sex, Age, Education, and Income.\n",
        "\n",
        "#### Outputs\n",
        "> Our output is the binary prediction such that 1 is the patient is diagnosed with diabetes or prediabetes and 0 represents that the patient is not diabetic.\n",
        "\n",
        "#### Evaluation metrics\n",
        "> The evaluation metrics we want to use for our algorithm include assessing if the accuracy, precision, recall, and FNR is different for various income and sex groups.\n",
        "\n",
        "### b. What are your hypotheses? e.g., do you notice any potential biases from your summary statistics? What are they, and why might these exist?\n",
        "\n",
        "> * From the summary statistics, we observe that there are about **27% more females** than males identified in the data.\n",
        "> * Additionally, almost all participants had indicated that they had their cholesterol check in the past 5 years. There could be a bias in the dataset towards individuals that are more health conscious, have had family history of high cholesterol, and previous concerns regarding their cholesterol levels and are predisposed to a diagnosis related to their cholesterol levels. Additionally, this indicator could be associated with most of the participants having an income level of around $75,000 or more. Many of the participants in this dataset could have the financial ability to upkeep with annual check ups and take preventative cautions in regards to cholesterol levels and a potential diabetes diagnosis.\n",
        "\n",
        "### c. What analyses are you going to run (in section 4) to test your hypotheses presented above?\n",
        "> * We will be testing our hypotheses with the following models: Linear Regression, SVM, LightGBM, Naive Bayes, and Random Forest.\n",
        "> * To observe potential biases in prediction, we will utilize upsampling methods for minority groups and compare with its reciprocal model without upsampling methods employed.\n",
        "\n",
        "\n",
        "\n"
      ]
    },
    {
      "cell_type": "markdown",
      "metadata": {
        "id": "aGRmHJFmk5ly"
      },
      "source": [
        "# 4. Modeling"
      ]
    },
    {
      "cell_type": "markdown",
      "metadata": {
        "id": "_QnGug5Ak5ly"
      },
      "source": [
        "## Model 1: Naive Bayes\n",
        "### a. Model"
      ]
    },
    {
      "cell_type": "code",
      "execution_count": 16,
      "metadata": {
        "id": "LOizCciAk5ly"
      },
      "outputs": [],
      "source": [
        "import pandas as pd\n",
        "import numpy as np\n",
        "import matplotlib.pyplot as plt\n",
        "from sklearn import preprocessing\n",
        "from sklearn.model_selection import train_test_split\n",
        "from sklearn import metrics\n",
        "from sklearn.metrics import accuracy_score\n",
        "from sklearn.metrics import log_loss\n",
        "from sklearn.naive_bayes import GaussianNB\n",
        "from sklearn.metrics import f1_score"
      ]
    },
    {
      "cell_type": "code",
      "execution_count": 17,
      "metadata": {
        "id": "weoR5eaOk5ly"
      },
      "outputs": [],
      "source": [
        "X = feature_data\n",
        "y = target_data.Diabetes_binary"
      ]
    },
    {
      "cell_type": "code",
      "execution_count": 18,
      "metadata": {
        "id": "85Jf-zt-k5ly"
      },
      "outputs": [],
      "source": [
        "X_train_test, X_test, y_train_test, y_test = train_test_split(X, y, test_size=0.2)\n",
        "\n",
        "X_train, X_val, y_train, y_val = train_test_split(X_train_test, y_train_test, test_size=0.25)"
      ]
    },
    {
      "cell_type": "code",
      "execution_count": 19,
      "metadata": {
        "colab": {
          "base_uri": "https://localhost:8080/",
          "height": 75
        },
        "id": "dTMbku-dk5ly",
        "outputId": "2c81ed5c-8dd1-41ee-e30e-18f7c4a25e2f"
      },
      "outputs": [
        {
          "output_type": "execute_result",
          "data": {
            "text/plain": [
              "GaussianNB()"
            ],
            "text/html": [
              "<style>#sk-container-id-1 {color: black;background-color: white;}#sk-container-id-1 pre{padding: 0;}#sk-container-id-1 div.sk-toggleable {background-color: white;}#sk-container-id-1 label.sk-toggleable__label {cursor: pointer;display: block;width: 100%;margin-bottom: 0;padding: 0.3em;box-sizing: border-box;text-align: center;}#sk-container-id-1 label.sk-toggleable__label-arrow:before {content: \"▸\";float: left;margin-right: 0.25em;color: #696969;}#sk-container-id-1 label.sk-toggleable__label-arrow:hover:before {color: black;}#sk-container-id-1 div.sk-estimator:hover label.sk-toggleable__label-arrow:before {color: black;}#sk-container-id-1 div.sk-toggleable__content {max-height: 0;max-width: 0;overflow: hidden;text-align: left;background-color: #f0f8ff;}#sk-container-id-1 div.sk-toggleable__content pre {margin: 0.2em;color: black;border-radius: 0.25em;background-color: #f0f8ff;}#sk-container-id-1 input.sk-toggleable__control:checked~div.sk-toggleable__content {max-height: 200px;max-width: 100%;overflow: auto;}#sk-container-id-1 input.sk-toggleable__control:checked~label.sk-toggleable__label-arrow:before {content: \"▾\";}#sk-container-id-1 div.sk-estimator input.sk-toggleable__control:checked~label.sk-toggleable__label {background-color: #d4ebff;}#sk-container-id-1 div.sk-label input.sk-toggleable__control:checked~label.sk-toggleable__label {background-color: #d4ebff;}#sk-container-id-1 input.sk-hidden--visually {border: 0;clip: rect(1px 1px 1px 1px);clip: rect(1px, 1px, 1px, 1px);height: 1px;margin: -1px;overflow: hidden;padding: 0;position: absolute;width: 1px;}#sk-container-id-1 div.sk-estimator {font-family: monospace;background-color: #f0f8ff;border: 1px dotted black;border-radius: 0.25em;box-sizing: border-box;margin-bottom: 0.5em;}#sk-container-id-1 div.sk-estimator:hover {background-color: #d4ebff;}#sk-container-id-1 div.sk-parallel-item::after {content: \"\";width: 100%;border-bottom: 1px solid gray;flex-grow: 1;}#sk-container-id-1 div.sk-label:hover label.sk-toggleable__label {background-color: #d4ebff;}#sk-container-id-1 div.sk-serial::before {content: \"\";position: absolute;border-left: 1px solid gray;box-sizing: border-box;top: 0;bottom: 0;left: 50%;z-index: 0;}#sk-container-id-1 div.sk-serial {display: flex;flex-direction: column;align-items: center;background-color: white;padding-right: 0.2em;padding-left: 0.2em;position: relative;}#sk-container-id-1 div.sk-item {position: relative;z-index: 1;}#sk-container-id-1 div.sk-parallel {display: flex;align-items: stretch;justify-content: center;background-color: white;position: relative;}#sk-container-id-1 div.sk-item::before, #sk-container-id-1 div.sk-parallel-item::before {content: \"\";position: absolute;border-left: 1px solid gray;box-sizing: border-box;top: 0;bottom: 0;left: 50%;z-index: -1;}#sk-container-id-1 div.sk-parallel-item {display: flex;flex-direction: column;z-index: 1;position: relative;background-color: white;}#sk-container-id-1 div.sk-parallel-item:first-child::after {align-self: flex-end;width: 50%;}#sk-container-id-1 div.sk-parallel-item:last-child::after {align-self: flex-start;width: 50%;}#sk-container-id-1 div.sk-parallel-item:only-child::after {width: 0;}#sk-container-id-1 div.sk-dashed-wrapped {border: 1px dashed gray;margin: 0 0.4em 0.5em 0.4em;box-sizing: border-box;padding-bottom: 0.4em;background-color: white;}#sk-container-id-1 div.sk-label label {font-family: monospace;font-weight: bold;display: inline-block;line-height: 1.2em;}#sk-container-id-1 div.sk-label-container {text-align: center;}#sk-container-id-1 div.sk-container {/* jupyter's `normalize.less` sets `[hidden] { display: none; }` but bootstrap.min.css set `[hidden] { display: none !important; }` so we also need the `!important` here to be able to override the default hidden behavior on the sphinx rendered scikit-learn.org. See: https://github.com/scikit-learn/scikit-learn/issues/21755 */display: inline-block !important;position: relative;}#sk-container-id-1 div.sk-text-repr-fallback {display: none;}</style><div id=\"sk-container-id-1\" class=\"sk-top-container\"><div class=\"sk-text-repr-fallback\"><pre>GaussianNB()</pre><b>In a Jupyter environment, please rerun this cell to show the HTML representation or trust the notebook. <br />On GitHub, the HTML representation is unable to render, please try loading this page with nbviewer.org.</b></div><div class=\"sk-container\" hidden><div class=\"sk-item\"><div class=\"sk-estimator sk-toggleable\"><input class=\"sk-toggleable__control sk-hidden--visually\" id=\"sk-estimator-id-1\" type=\"checkbox\" checked><label for=\"sk-estimator-id-1\" class=\"sk-toggleable__label sk-toggleable__label-arrow\">GaussianNB</label><div class=\"sk-toggleable__content\"><pre>GaussianNB()</pre></div></div></div></div></div>"
            ]
          },
          "metadata": {},
          "execution_count": 19
        }
      ],
      "source": [
        "# Train the model\n",
        "model = GaussianNB()\n",
        "model.fit(X_train, y_train)"
      ]
    },
    {
      "cell_type": "markdown",
      "metadata": {
        "id": "sfBLAM1tk5ly"
      },
      "source": [
        "### b. Evaluation Metrics"
      ]
    },
    {
      "cell_type": "code",
      "execution_count": 20,
      "metadata": {
        "id": "ojsQVzdgk5ly"
      },
      "outputs": [],
      "source": [
        "# Predict on the validation set\n",
        "y_val_pred = model.predict(X_val)"
      ]
    },
    {
      "cell_type": "code",
      "execution_count": 21,
      "metadata": {
        "colab": {
          "base_uri": "https://localhost:8080/"
        },
        "id": "iEFLlpSlk5ly",
        "outputId": "c42c94cc-ef78-4b63-aeae-8db12814404e"
      },
      "outputs": [
        {
          "output_type": "stream",
          "name": "stdout",
          "text": [
            "F1-Score on Validation Set: 0.7977224990016676\n"
          ]
        }
      ],
      "source": [
        "# Evaluate the model\n",
        "f1 = f1_score(y_val, y_val_pred, average='weighted')\n",
        "print(f\"F1-Score on Validation Set: {f1}\")"
      ]
    },
    {
      "cell_type": "code",
      "execution_count": 22,
      "metadata": {
        "colab": {
          "base_uri": "https://localhost:8080/"
        },
        "id": "SXkGaaqek5lz",
        "outputId": "9d3bfd1a-191d-42e0-c4bf-fe6fc0936a45"
      },
      "outputs": [
        {
          "output_type": "stream",
          "name": "stdout",
          "text": [
            "F1-Score on Test Set: 0.7969864797591786\n"
          ]
        }
      ],
      "source": [
        "# Predict on the test set\n",
        "y_test_pred = model.predict(X_test)\n",
        "\n",
        "# Evaluate the model\n",
        "f1 = f1_score(y_test, y_test_pred, average='weighted')\n",
        "print(f\"F1-Score on Test Set: {f1}\")"
      ]
    },
    {
      "cell_type": "markdown",
      "metadata": {
        "id": "mYz1Cholk5lz"
      },
      "source": [
        "Since the f1-score for the validation set and test set are comparable, we can state that there are no signs of overfitting."
      ]
    },
    {
      "cell_type": "code",
      "execution_count": 23,
      "metadata": {
        "colab": {
          "base_uri": "https://localhost:8080/"
        },
        "id": "sw0kcSx_k5lz",
        "outputId": "a59dbb11-1882-45fa-d853-d580e872a087"
      },
      "outputs": [
        {
          "output_type": "stream",
          "name": "stdout",
          "text": [
            "              precision    recall  f1-score   support\n",
            "\n",
            "           0       0.92      0.81      0.86     43546\n",
            "           1       0.33      0.56      0.41      7190\n",
            "\n",
            "    accuracy                           0.77     50736\n",
            "   macro avg       0.62      0.69      0.64     50736\n",
            "weighted avg       0.83      0.77      0.80     50736\n",
            "\n",
            "Confusion Matrix:\n",
            " [[35220  8326]\n",
            " [ 3131  4059]]\n"
          ]
        }
      ],
      "source": [
        "print(metrics.classification_report(y_test, y_test_pred))\n",
        "print(\"Confusion Matrix:\\n\", metrics.confusion_matrix(y_test, y_test_pred))"
      ]
    },
    {
      "cell_type": "markdown",
      "metadata": {
        "id": "ht8yEU4sk5l5"
      },
      "source": [
        "3087 participants were identified as non-diabetic when they were diabetic or prediabetic in actuality. The FNR from utilizing Naive Bayes is 0.432."
      ]
    },
    {
      "cell_type": "code",
      "execution_count": 24,
      "metadata": {
        "colab": {
          "base_uri": "https://localhost:8080/"
        },
        "id": "XmgFo_Ink5l5",
        "outputId": "e1a6bf50-02ac-4d5a-ddba-99e23de6e538"
      },
      "outputs": [
        {
          "output_type": "stream",
          "name": "stdout",
          "text": [
            "AUC (all participants): 0.7839\n",
            "AUC (female participants): 0.7942\n",
            "AUC (male participants): 0.7732\n"
          ]
        }
      ],
      "source": [
        "female_idx = X_test['Sex']==0\n",
        "male_idx = X_test['Sex']==1\n",
        "\n",
        "female_test = y_test.loc[female_idx]\n",
        "male_test = y_test.loc[male_idx]\n",
        "\n",
        "female_pred  = y_test_pred[female_idx]\n",
        "male_pred = y_test_pred[male_idx]\n",
        "\n",
        "y_pred_prob = model.predict_proba(X_test)[:, 1]\n",
        "female_score = y_pred_prob[female_idx]\n",
        "male_score = y_pred_prob[male_idx]\n",
        "\n",
        "true_y = {'all': y_test, 'female':female_test, 'male':male_test}\n",
        "pred_y = {'female':female_pred, 'male':male_pred}\n",
        "prob_y = {'all':y_pred_prob, 'female':female_score, 'male':male_score}\n",
        "\n",
        "for group in ['all', 'female', 'male']:\n",
        "    AUC = metrics.roc_auc_score(true_y[group], prob_y[group])\n",
        "    print(f'AUC ({group} participants): {AUC:.4f}')\n",
        "\n",
        "\n",
        "tn, fp, fn, tp = {}, {}, {}, {}\n",
        "for group in ['female', 'male']:\n",
        "    tn[group], fp[group], fn[group], tp[group] = metrics.confusion_matrix(true_y[group], pred_y[group]).ravel()"
      ]
    },
    {
      "cell_type": "code",
      "execution_count": 25,
      "metadata": {
        "colab": {
          "base_uri": "https://localhost:8080/"
        },
        "id": "4VJXUZKzk5l5",
        "outputId": "0c3eaf00-442c-430d-8a93-f933c949d5a2"
      },
      "outputs": [
        {
          "output_type": "stream",
          "name": "stdout",
          "text": [
            "FNR (female participants): 0.4051\n",
            "FNR (male participants): 0.4677\n"
          ]
        }
      ],
      "source": [
        "for group in ['female', 'male']:\n",
        "    FNR = fn[group]/(tp[group]+fn[group])\n",
        "    print(f'FNR ({group} participants): {FNR:.4f}')"
      ]
    },
    {
      "cell_type": "code",
      "execution_count": 26,
      "metadata": {
        "colab": {
          "base_uri": "https://localhost:8080/"
        },
        "id": "P8LuIVM6k5l5",
        "outputId": "c503dabc-beb4-4f66-ee87-1bd61ea2f1f3"
      },
      "outputs": [
        {
          "output_type": "stream",
          "name": "stdout",
          "text": [
            "FPR (female participants): 0.1950\n",
            "FPR (male participants): 0.1863\n"
          ]
        }
      ],
      "source": [
        "for group in ['female', 'male']:\n",
        "    FPR = fp[group]/(tn[group]+fp[group])\n",
        "    print(f'FPR ({group} participants): {FPR:.4f}')"
      ]
    },
    {
      "cell_type": "code",
      "execution_count": 27,
      "metadata": {
        "colab": {
          "base_uri": "https://localhost:8080/"
        },
        "id": "8tDWDCsik5l5",
        "outputId": "36aef784-628b-4832-bc63-7e6f1b765550"
      },
      "outputs": [
        {
          "output_type": "stream",
          "name": "stdout",
          "text": [
            "Fraction positive (female participants): 0.2475\n",
            "Fraction positive (male participants): 0.2399\n"
          ]
        }
      ],
      "source": [
        "for group in ['female', 'male']:\n",
        "    PR = pred_y[group].mean()\n",
        "    print(f'Fraction positive ({group} participants): {PR:.4f}')"
      ]
    },
    {
      "cell_type": "code",
      "execution_count": 28,
      "metadata": {
        "colab": {
          "base_uri": "https://localhost:8080/"
        },
        "id": "GTbvYGT7k5l5",
        "outputId": "160c9f20-e0c4-4636-90ee-0123f8b041b6"
      },
      "outputs": [
        {
          "output_type": "execute_result",
          "data": {
            "text/plain": [
              "array([7, 8, 6, 3, 5, 1, 2, 4])"
            ]
          },
          "metadata": {},
          "execution_count": 28
        }
      ],
      "source": [
        "X_test.Income.unique()"
      ]
    },
    {
      "cell_type": "code",
      "execution_count": 29,
      "metadata": {
        "colab": {
          "base_uri": "https://localhost:8080/"
        },
        "id": "EE25SI7mk5l5",
        "outputId": "f03dd8f4-5084-4a35-cfc9-229c61dcd43a"
      },
      "outputs": [
        {
          "output_type": "stream",
          "name": "stdout",
          "text": [
            "AUC (all participants): 0.7839\n",
            "AUC (Income 1 participants): 0.7028\n",
            "AUC (Income 2 participants): 0.6794\n",
            "AUC (Income 3 participants): 0.7312\n",
            "AUC (Income 4 participants): 0.7464\n",
            "AUC (Income 5 participants): 0.7546\n",
            "AUC (Income 6 participants): 0.7519\n",
            "AUC (Income 7 participants): 0.7828\n",
            "AUC (Income 8 participants): 0.7974\n"
          ]
        }
      ],
      "source": [
        "one_idx = X_test['Income']==1\n",
        "two_idx = X_test['Income']==2\n",
        "three_idx = X_test['Income']==3\n",
        "four_idx = X_test['Income']==4\n",
        "five_idx = X_test['Income']==5\n",
        "six_idx = X_test['Income']==6\n",
        "seven_idx = X_test['Income']==7\n",
        "eight_idx = X_test['Income']==8\n",
        "\n",
        "one_test = y_test.loc[one_idx]\n",
        "two_test = y_test.loc[two_idx]\n",
        "three_test = y_test.loc[three_idx]\n",
        "four_test = y_test.loc[four_idx]\n",
        "five_test = y_test.loc[five_idx]\n",
        "six_test = y_test.loc[six_idx]\n",
        "seven_test = y_test.loc[seven_idx]\n",
        "eight_test = y_test.loc[eight_idx]\n",
        "\n",
        "one_pred  = y_test_pred[one_idx]\n",
        "two_pred = y_test_pred[two_idx]\n",
        "three_pred = y_test_pred[three_idx]\n",
        "four_pred = y_test_pred[four_idx]\n",
        "five_pred = y_test_pred[five_idx]\n",
        "six_pred = y_test_pred[six_idx]\n",
        "seven_pred = y_test_pred[seven_idx]\n",
        "eight_pred = y_test_pred[eight_idx]\n",
        "\n",
        "y_pred_prob = model.predict_proba(X_test)[:, 1]\n",
        "one_score = y_pred_prob[one_idx]\n",
        "two_score = y_pred_prob[two_idx]\n",
        "three_score = y_pred_prob[three_idx]\n",
        "four_score = y_pred_prob[four_idx]\n",
        "five_score = y_pred_prob[five_idx]\n",
        "six_score = y_pred_prob[six_idx]\n",
        "seven_score = y_pred_prob[seven_idx]\n",
        "eight_score = y_pred_prob[eight_idx]\n",
        "\n",
        "\n",
        "true_y = {'all': y_test, 'Income 1':one_test, 'Income 2':two_test, 'Income 3':three_test,\n",
        "          'Income 4':four_test,'Income 5':five_test,'Income 6':six_test,'Income 7':seven_test,'Income 8':eight_test}\n",
        "pred_y = {'Income 1':one_pred, 'Income 2':two_pred, 'Income 3':three_pred,\n",
        "          'Income 4':four_pred,'Income 5':five_pred,'Income 6':six_pred,'Income 7':seven_pred,'Income 8':eight_pred}\n",
        "prob_y = {'all': y_pred_prob, 'Income 1':one_score, 'Income 2':two_score, 'Income 3':three_score,\n",
        "          'Income 4':four_score,'Income 5':five_score,'Income 6':six_score,'Income 7':seven_score,'Income 8':eight_score}\n",
        "\n",
        "\n",
        "for group in ['all', 'Income 1', 'Income 2', 'Income 3', 'Income 4', 'Income 5', 'Income 6', 'Income 7', 'Income 8']:\n",
        "    AUC = metrics.roc_auc_score(true_y[group], prob_y[group])\n",
        "    print(f'AUC ({group} participants): {AUC:.4f}')\n",
        "\n",
        "\n",
        "tn, fp, fn, tp = {}, {}, {}, {}\n",
        "for group in ['Income 1', 'Income 2', 'Income 3', 'Income 4', 'Income 5', 'Income 6', 'Income 7', 'Income 8']:\n",
        "    tn[group], fp[group], fn[group], tp[group] = metrics.confusion_matrix(true_y[group], pred_y[group]).ravel()"
      ]
    },
    {
      "cell_type": "code",
      "execution_count": 30,
      "metadata": {
        "colab": {
          "base_uri": "https://localhost:8080/"
        },
        "id": "imGtSSdYk5l5",
        "outputId": "20a984ec-78e6-40e0-b8e5-ee918bdb276d"
      },
      "outputs": [
        {
          "output_type": "stream",
          "name": "stdout",
          "text": [
            "FNR (Income 1 participants): 0.1600\n",
            "FNR (Income 2 participants): 0.1801\n",
            "FNR (Income 3 participants): 0.2440\n",
            "FNR (Income 4 participants): 0.3174\n",
            "FNR (Income 5 participants): 0.3831\n",
            "FNR (Income 6 participants): 0.5019\n",
            "FNR (Income 7 participants): 0.5627\n",
            "FNR (Income 8 participants): 0.6890\n"
          ]
        }
      ],
      "source": [
        "for group in ['Income 1', 'Income 2', 'Income 3', 'Income 4', 'Income 5', 'Income 6', 'Income 7', 'Income 8']:\n",
        "    FNR = fn[group]/(tp[group]+fn[group])\n",
        "    print(f'FNR ({group} participants): {FNR:.4f}')"
      ]
    },
    {
      "cell_type": "code",
      "execution_count": 31,
      "metadata": {
        "colab": {
          "base_uri": "https://localhost:8080/"
        },
        "id": "VjRZFmUnk5l6",
        "outputId": "50ca85a8-29d8-40ca-cd6c-c845ef7efd01"
      },
      "outputs": [
        {
          "output_type": "stream",
          "name": "stdout",
          "text": [
            "FPR (Income 1 participants): 0.5355\n",
            "FPR (Income 2 participants): 0.5483\n",
            "FPR (Income 3 participants): 0.4076\n",
            "FPR (Income 4 participants): 0.3329\n",
            "FPR (Income 5 participants): 0.2538\n",
            "FPR (Income 6 participants): 0.1880\n",
            "FPR (Income 7 participants): 0.1353\n",
            "FPR (Income 8 participants): 0.0721\n"
          ]
        }
      ],
      "source": [
        "for group in ['Income 1', 'Income 2', 'Income 3', 'Income 4', 'Income 5', 'Income 6', 'Income 7', 'Income 8']:\n",
        "    FPR = fp[group]/(tn[group]+fp[group])\n",
        "    print(f'FPR ({group} participants): {FPR:.4f}')"
      ]
    },
    {
      "cell_type": "code",
      "execution_count": 32,
      "metadata": {
        "colab": {
          "base_uri": "https://localhost:8080/"
        },
        "id": "IYTVPjlik5l6",
        "outputId": "fc690a19-e666-499b-f602-1d263ea6e781"
      },
      "outputs": [
        {
          "output_type": "stream",
          "name": "stdout",
          "text": [
            "Fraction positive (Income 1 participants): 0.6095\n",
            "Fraction positive (Income 2 participants): 0.6181\n",
            "Fraction positive (Income 3 participants): 0.4881\n",
            "Fraction positive (Income 4 participants): 0.4067\n",
            "Fraction positive (Income 5 participants): 0.3159\n",
            "Fraction positive (Income 6 participants): 0.2336\n",
            "Fraction positive (Income 7 participants): 0.1726\n",
            "Fraction positive (Income 8 participants): 0.0917\n"
          ]
        }
      ],
      "source": [
        "for group in 'Income 1', 'Income 2', 'Income 3', 'Income 4', 'Income 5', 'Income 6', 'Income 7', 'Income 8':\n",
        "    PR = pred_y[group].mean()\n",
        "    print(f'Fraction positive ({group} participants): {PR:.4f}')"
      ]
    },
    {
      "cell_type": "markdown",
      "metadata": {
        "id": "1E13MH36k5l6"
      },
      "source": [
        "### c. Informative Plots"
      ]
    },
    {
      "cell_type": "code",
      "execution_count": 33,
      "metadata": {
        "colab": {
          "base_uri": "https://localhost:8080/",
          "height": 472
        },
        "id": "MBa5T-Tjk5l6",
        "outputId": "34452e2d-e8c8-4557-cff1-9cf5aa0a61c6"
      },
      "outputs": [
        {
          "output_type": "display_data",
          "data": {
            "text/plain": [
              "<Figure size 640x480 with 1 Axes>"
            ],
            "image/png": "[encoded data removed]"
          },
          "metadata": {}
        }
      ],
      "source": [
        "train_sizes = np.linspace(0.1, 1.0, 10)\n",
        "train_scores = []\n",
        "\n",
        "for size in train_sizes:\n",
        "    subset_size = int(size * X_train.shape[0])\n",
        "    X_subset, y_subset = X_train[:subset_size], y_train[:subset_size]\n",
        "    model.fit(X_subset, y_subset)\n",
        "    train_scores.append(model.score(X_val, y_val))\n",
        "\n",
        "# Plotting the learning curve over accuracy in validation set\n",
        "plt.plot(train_sizes, train_scores, label='Accuracy')\n",
        "plt.title('Learning Curve')\n",
        "plt.xlabel('Fraction of Training Data Used')\n",
        "plt.ylabel('Accuracy on Validation Set')\n",
        "plt.legend()\n",
        "plt.show()"
      ]
    },
    {
      "cell_type": "code",
      "execution_count": 34,
      "metadata": {
        "colab": {
          "base_uri": "https://localhost:8080/",
          "height": 452
        },
        "id": "Sqqo18n_k5l6",
        "outputId": "eb8eb4a1-0904-4a9f-fdae-ba408e755e8c"
      },
      "outputs": [
        {
          "output_type": "display_data",
          "data": {
            "text/plain": [
              "<Figure size 640x480 with 2 Axes>"
            ],
            "image/png": "[encoded data removed]"
          },
          "metadata": {}
        }
      ],
      "source": [
        "cm_display = metrics.ConfusionMatrixDisplay(confusion_matrix = metrics.confusion_matrix(y_test, y_test_pred), display_labels = [False, True])\n",
        "\n",
        "cm_display.plot()\n",
        "plt.show()"
      ]
    },
    {
      "cell_type": "markdown",
      "metadata": {
        "id": "LgumGWvPk5l6"
      },
      "source": [
        "## Model 2: Logistic Regression\n",
        "### a. Model"
      ]
    },
    {
      "cell_type": "code",
      "execution_count": 36,
      "metadata": {
        "id": "6-aMdaU-k5l6"
      },
      "outputs": [],
      "source": [
        "from sklearn.linear_model import LogisticRegression\n",
        "X = feature_data\n",
        "y = target_data.Diabetes_binary\n",
        "\n",
        "# splitting the data into training and testing sets\n",
        "X_train, X_test, y_train, y_test = train_test_split(X, y, test_size=0.2)\n",
        "\n",
        "# training the logistic regression model\n",
        "logistic_model = LogisticRegression()\n",
        "logistic_model.fit(X_train, y_train)\n",
        "\n",
        "# predicting on the test set\n",
        "y_pred_logreg = logistic_model.predict(X_test)\n",
        "y_pred_proba_logreg = logistic_model.predict_proba(X_test)[:, 1]\n"
      ]
    },
    {
      "cell_type": "markdown",
      "metadata": {
        "id": "0OO_k1Hqk5l6"
      },
      "source": [
        "### b. Evaluation Metrics"
      ]
    },
    {
      "cell_type": "code",
      "execution_count": 38,
      "metadata": {
        "colab": {
          "base_uri": "https://localhost:8080/"
        },
        "id": "1Z25jpnVk5l6",
        "outputId": "44656611-6570-4161-e87c-aa64d76a3118"
      },
      "outputs": [
        {
          "output_type": "stream",
          "name": "stdout",
          "text": [
            "AUC: 0.8142\n",
            "F1 Score: 0.2244\n"
          ]
        }
      ],
      "source": [
        "from sklearn.metrics import roc_auc_score\n",
        "# calculating the AUC and F1 score\n",
        "AUC_logreg = roc_auc_score(y_test, y_pred_proba_logreg)\n",
        "f1_logreg = f1_score(y_test, y_pred_logreg)\n",
        "\n",
        "print(f'AUC: {AUC_logreg:.4f}')\n",
        "print(f'F1 Score: {f1_logreg:.4f}')"
      ]
    },
    {
      "cell_type": "code",
      "execution_count": 40,
      "metadata": {
        "colab": {
          "base_uri": "https://localhost:8080/"
        },
        "id": "FmTA6xCik5l6",
        "outputId": "fd6f977b-2b54-457f-9c68-93dbd254c81e"
      },
      "outputs": [
        {
          "output_type": "stream",
          "name": "stdout",
          "text": [
            "              precision    recall  f1-score   support\n",
            "\n",
            "           0       0.87      0.98      0.92     43588\n",
            "           1       0.52      0.14      0.22      7148\n",
            "\n",
            "    accuracy                           0.86     50736\n",
            "   macro avg       0.70      0.56      0.57     50736\n",
            "weighted avg       0.82      0.86      0.82     50736\n",
            "\n"
          ]
        }
      ],
      "source": [
        "from sklearn.metrics import classification_report\n",
        "print(classification_report(y_test, y_pred_logreg))\n"
      ]
    },
    {
      "cell_type": "code",
      "execution_count": 41,
      "metadata": {
        "colab": {
          "base_uri": "https://localhost:8080/"
        },
        "id": "TpSOPdDWk5l6",
        "outputId": "725c9be3-f6e1-42c4-ecd5-5f4905d49c02"
      },
      "outputs": [
        {
          "output_type": "stream",
          "name": "stdout",
          "text": [
            "Confusion Matrix:\n",
            " [[42642   946]\n",
            " [ 6125  1023]]\n"
          ]
        }
      ],
      "source": [
        "print(\"Confusion Matrix:\\n\", metrics.confusion_matrix(y_test, y_pred_logreg))"
      ]
    },
    {
      "cell_type": "code",
      "execution_count": null,
      "metadata": {
        "id": "K48wt9sjk5l7"
      },
      "outputs": [],
      "source": [
        "# calculating AUC and FNR for each sensitive attribute subgroup\n",
        "\n"
      ]
    },
    {
      "cell_type": "markdown",
      "metadata": {
        "id": "YNcnrQq4k5l7"
      },
      "source": [
        "### c. Informative Plots"
      ]
    },
    {
      "cell_type": "code",
      "execution_count": null,
      "metadata": {
        "id": "aQq-MLdOk5l7"
      },
      "outputs": [],
      "source": [
        "#[insert plot code here]"
      ]
    },
    {
      "cell_type": "markdown",
      "metadata": {
        "id": "mIMFvUYAk5l7"
      },
      "source": [
        "## Model 3: SVC\n",
        "\n",
        "### a. Model\n"
      ]
    },
    {
      "cell_type": "code",
      "execution_count": 43,
      "metadata": {
        "id": "gCvzINZbk5l7"
      },
      "outputs": [],
      "source": [
        "from imblearn.over_sampling import SMOTE\n",
        "from sklearn.preprocessing import StandardScaler\n",
        "X = feature_data\n",
        "y = target_data['Diabetes_binary']\n",
        "\n",
        "X_scaled = StandardScaler().fit_transform(X)\n",
        "X_train, X_test, y_train, y_test = train_test_split(X_scaled, y, test_size=0.2, random_state=42)\n",
        "\n",
        "smote = SMOTE(random_state=42)\n",
        "X_train_smote, y_train_smote = smote.fit_resample(X_train, y_train)\n",
        "from sklearn.utils import resample\n",
        "from sklearn.svm import LinearSVC\n",
        "\n",
        "# Selecting a random subset of the data: here we choose 10% of the data as an example\n",
        "X_train_subset, y_train_subset = resample(X_train_smote, y_train_smote, n_samples=int(len(X_train) * 0.1), random_state=42, replace=False)\n",
        "\n",
        "# Training the LinearSVC model on the subset\n",
        "linear_svc_subset_model = LinearSVC(random_state=42, max_iter=1000, C=0.1)\n",
        "linear_svc_subset_model.fit(X_train_subset, y_train_subset)\n",
        "\n",
        "# Predicting on the test set\n",
        "y_pred_subset = linear_svc_subset_model.predict(X_test)"
      ]
    },
    {
      "cell_type": "markdown",
      "metadata": {
        "id": "hM7-gI0Jk5l7"
      },
      "source": [
        "### b. Evaluation Metrics"
      ]
    },
    {
      "cell_type": "code",
      "execution_count": 45,
      "metadata": {
        "colab": {
          "base_uri": "https://localhost:8080/"
        },
        "id": "mfXX6rgek5l7",
        "outputId": "ec91aae0-d68d-45f2-b70f-27c436e1d52b"
      },
      "outputs": [
        {
          "output_type": "execute_result",
          "data": {
            "text/plain": [
              "0.7501239005655642"
            ]
          },
          "metadata": {},
          "execution_count": 45
        }
      ],
      "source": [
        "from sklearn.metrics import roc_auc_score\n",
        "\n",
        "# Calculating AUC\n",
        "auc_score = roc_auc_score(y_test, y_pred_subset)\n",
        "auc_score\n"
      ]
    },
    {
      "cell_type": "code",
      "source": [
        "# Calculating accuracy for the LinearSVC model trained on the subset\n",
        "accuracy_subset = accuracy_score(y_test, y_pred_subset)\n",
        "accuracy_subset"
      ],
      "metadata": {
        "colab": {
          "base_uri": "https://localhost:8080/"
        },
        "id": "3vI0Y0htmsbq",
        "outputId": "27faf548-c059-474e-99b4-1d2ad6229218"
      },
      "execution_count": 46,
      "outputs": [
        {
          "output_type": "execute_result",
          "data": {
            "text/plain": [
              "0.7244165878271839"
            ]
          },
          "metadata": {},
          "execution_count": 46
        }
      ]
    },
    {
      "cell_type": "code",
      "source": [
        "from sklearn.metrics import confusion_matrix\n",
        "\n",
        "# Generating the confusion matrix\n",
        "conf_matrix = confusion_matrix(y_test, y_pred_subset)\n",
        "\n",
        "# Extracting false negatives (FN) and true positives (TP)\n",
        "FN = conf_matrix[1][0]\n",
        "TP = conf_matrix[1][1]\n",
        "\n",
        "# Calculating the False Negative Rate (FNR)\n",
        "FNR = FN / (FN + TP)\n",
        "FNR"
      ],
      "metadata": {
        "colab": {
          "base_uri": "https://localhost:8080/"
        },
        "id": "2B8QIRKgmxLB",
        "outputId": "22f20346-3757-4219-cac5-5e627802194d"
      },
      "execution_count": 47,
      "outputs": [
        {
          "output_type": "execute_result",
          "data": {
            "text/plain": [
              "0.21437759039588394"
            ]
          },
          "metadata": {},
          "execution_count": 47
        }
      ]
    },
    {
      "cell_type": "code",
      "source": [
        "from sklearn.metrics import classification_report\n",
        "\n",
        "# Generating a classification report\n",
        "class_report = classification_report(y_test, y_pred_subset)\n",
        "print(class_report)\n"
      ],
      "metadata": {
        "colab": {
          "base_uri": "https://localhost:8080/"
        },
        "id": "jxwlgNnInAUA",
        "outputId": "4593b078-1a56-4cfe-f8b7-94ffec4a1ee0"
      },
      "execution_count": 49,
      "outputs": [
        {
          "output_type": "stream",
          "name": "stdout",
          "text": [
            "              precision    recall  f1-score   support\n",
            "\n",
            "           0       0.95      0.71      0.82     43739\n",
            "           1       0.31      0.79      0.44      6997\n",
            "\n",
            "    accuracy                           0.72     50736\n",
            "   macro avg       0.63      0.75      0.63     50736\n",
            "weighted avg       0.86      0.72      0.77     50736\n",
            "\n"
          ]
        }
      ]
    },
    {
      "cell_type": "markdown",
      "metadata": {
        "id": "d6UV_F5tk5l7"
      },
      "source": [
        "### c. Informative Plots"
      ]
    },
    {
      "cell_type": "code",
      "execution_count": 48,
      "metadata": {
        "colab": {
          "base_uri": "https://localhost:8080/",
          "height": 564
        },
        "id": "FGu6ikhyk5l7",
        "outputId": "9163f381-d948-425a-b96f-fc11bb22936b"
      },
      "outputs": [
        {
          "output_type": "display_data",
          "data": {
            "text/plain": [
              "<Figure size 800x600 with 1 Axes>"
            ],
            "image/png": "[encoded data removed]"
          },
          "metadata": {}
        }
      ],
      "source": [
        "import matplotlib.pyplot as plt\n",
        "import seaborn as sns\n",
        "\n",
        "conf_matrix = confusion_matrix(y_test, y_pred_subset)\n",
        "\n",
        "# Plotting the confusion matrix\n",
        "plt.figure(figsize=(8, 6))\n",
        "sns.heatmap(conf_matrix, annot=True, fmt='d', cmap='Blues', cbar=False)\n",
        "plt.xlabel('Predicted Label')\n",
        "plt.ylabel('True Label')\n",
        "plt.title('Confusion Matrix')\n",
        "plt.xticks(ticks=[0.5, 1.5], labels=['Negative (0)', 'Positive (1)'])\n",
        "plt.yticks(ticks=[0.5, 1.5], labels=['Negative (0)', 'Positive (1)'], rotation=0)\n",
        "plt.show()"
      ]
    },
    {
      "cell_type": "markdown",
      "metadata": {
        "id": "1kaBQu4uk5l7"
      },
      "source": [
        "## Model 4: X\n",
        "### a. Model"
      ]
    },
    {
      "cell_type": "code",
      "execution_count": null,
      "metadata": {
        "id": "0iOE58hRk5l7"
      },
      "outputs": [],
      "source": [
        "#[insert model 1 code here]"
      ]
    },
    {
      "cell_type": "markdown",
      "metadata": {
        "id": "pCzMZXCbk5l7"
      },
      "source": [
        "### b. Evaluation Metrics"
      ]
    },
    {
      "cell_type": "code",
      "execution_count": null,
      "metadata": {
        "id": "iSFqST4tk5l7"
      },
      "outputs": [],
      "source": [
        "#[insert eval metrics code here]"
      ]
    },
    {
      "cell_type": "markdown",
      "metadata": {
        "id": "M-Tm-4iZk5l7"
      },
      "source": [
        "### c. Informative Plots"
      ]
    },
    {
      "cell_type": "code",
      "execution_count": null,
      "metadata": {
        "id": "bg47xl8xk5l8"
      },
      "outputs": [],
      "source": [
        "#[insert plot code here]"
      ]
    },
    {
      "cell_type": "markdown",
      "metadata": {
        "id": "TlH5yESzk5l8"
      },
      "source": [
        "# 5. Results"
      ]
    },
    {
      "cell_type": "markdown",
      "metadata": {
        "id": "wINaZxBbk5l8"
      },
      "source": [
        "### a. Interpret the results of each model"
      ]
    },
    {
      "cell_type": "markdown",
      "metadata": {
        "id": "8V-4Dg2Mk5l8"
      },
      "source": [
        "In Model 1, the f1-score was 0.795, with an overall AUC of 0.7828, and FNR of 0.432. For most participants, the model predicted their diabetes outcome correctly. When we looked at these metrics for the different subgroups within sex and income, we saw that overall the metrics did not change for each subgroup. Looking at the sex subgroup, female particpants had a FNR of 0.3943 while male participants had a FNR of 0.4735. The slightly higher FNR for male participants could be attributed to the higher number of female participants and thus more data for this subgroup as we highlighted in the summary statistics above. As for different income groups, the AUC score and FNR had a positive relationship with the income group, with lower income groups having a lower AUC and FNR score while higher income groups having higher AUC and FNR scores. The highest FNR recorded was for Income group 8, which are participants who recorded having an income of \\$ 75,000 or more. This result does not follow our initial hypothesis for lower income groups potentially having more unfair results from the model, as the higher income groups having higher FNR and FPR. However, this could also be attributed to a higher representation of high income groups in the dataset. Additionally, the fraction positive proportion had a negative relationship with income subgroups, with lower subgroups having the highest fraction positive such as 0.6299 and 0.6330 for Income 1 and Income 2 participants who have an income level around or less than 10,000. We can hypothesize that lower income groups may be less represented in the dataset, but the ones that did participate in the survey have had history of health issues related to diabetes or high cholestrol."
      ]
    },
    {
      "cell_type": "markdown",
      "metadata": {
        "id": "CnftjcsCk5l8"
      },
      "source": [
        "### b. Compare the performance of your models from part 4 on the evaluation metrics you noted in section 3a"
      ]
    },
    {
      "cell_type": "markdown",
      "metadata": {
        "id": "Gm4QTd8Rk5l8"
      },
      "source": [
        "# 6. Contribution Notes\n"
      ]
    },
    {
      "cell_type": "markdown",
      "metadata": {
        "id": "LUY-HFDik5l8"
      },
      "source": [
        "[ here ]"
      ]
    },
    {
      "cell_type": "markdown",
      "metadata": {
        "id": "1A--Tjehk5l8"
      },
      "source": [
        "# 7. Sources Cited"
      ]
    },
    {
      "cell_type": "markdown",
      "metadata": {
        "id": "9F2uAp1qk5l8"
      },
      "source": [
        "* Behavioral Risk Factor Surveillance System (BRFSS) 2015 Codebook Report: https://www.cdc.gov/brfss/annual_data/2015/pdf/codebook15_llcp.pdf\n",
        "* INFO 4390 Assignment 1 (answered)\n",
        "* [1] UC Irvine Machine Learning Repository. 2023. CDC Diabetes Health Indicators. https://archive.ics.uci.edu/dataset/891/cdc+diabetes+health+indicators. Accessed February 19th, 2024"
      ]
    }
  ],
  "metadata": {
    "kernelspec": {
      "display_name": "Python 3 (ipykernel)",
      "language": "python",
      "name": "python3"
    },
    "language_info": {
      "codemirror_mode": {
        "name": "ipython",
        "version": 3
      },
      "file_extension": ".py",
      "mimetype": "text/x-python",
      "name": "python",
      "nbconvert_exporter": "python",
      "pygments_lexer": "ipython3",
      "version": "3.12.2"
    },
    "colab": {
      "provenance": [],
      "include_colab_link": true
    }
  },
  "nbformat": 4,
  "nbformat_minor": 0
}