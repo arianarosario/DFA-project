{
  "cells": [
    {
      "cell_type": "markdown",
      "metadata": {
        "colab_type": "text",
        "id": "view-in-github"
      },
      "source": [
        "<a href=\"https://colab.research.google.com/github/arianarosario/DFA-project/blob/main/deliverable.ipynb\" target=\"_parent\"><img src=\"https://colab.research.google.com/assets/colab-badge.svg\" alt=\"Open In Colab\"/></a>"
      ]
    },
    {
      "cell_type": "markdown",
      "metadata": {
        "id": "YdQ4Prjdk5lo"
      },
      "source": [
        "# 1. Data imports & data cleaning"
      ]
    },
    {
      "cell_type": "markdown",
      "metadata": {
        "id": "zjnBiFGMk5lr"
      },
      "source": [
        "### Importing the data"
      ]
    },
    {
      "cell_type": "code",
      "execution_count": 208,
      "metadata": {
        "id": "qlhFVBDTk5lr"
      },
      "outputs": [],
      "source": [
        "from ucimlrepo import fetch_ucirepo\n",
        "\n",
        "# fetch dataset\n",
        "cdc_diabetes_health_indicators = fetch_ucirepo(id=891)\n",
        "\n",
        "# data (as pandas dataframes)\n",
        "feature_data = cdc_diabetes_health_indicators.data.features\n",
        "target_data = cdc_diabetes_health_indicators.data.targets\n"
      ]
    },
    {
      "cell_type": "code",
      "execution_count": 209,
      "metadata": {
        "colab": {
          "base_uri": "https://localhost:8080/"
        },
        "id": "3R0bE_kNk5lt",
        "outputId": "b4f3e6fd-2ad9-49ef-d85a-6ea3bb30f08f"
      },
      "outputs": [
        {
          "data": {
            "text/plain": [
              "{'uci_id': 891,\n",
              " 'name': 'CDC Diabetes Health Indicators',\n",
              " 'repository_url': 'https://archive.ics.uci.edu/dataset/891/cdc+diabetes+health+indicators',\n",
              " 'data_url': 'https://archive.ics.uci.edu/static/public/891/data.csv',\n",
              " 'abstract': 'The Diabetes Health Indicators Dataset contains healthcare statistics and lifestyle survey information about people in general along with their diagnosis of diabetes. The 35 features consist of some demographics, lab test results, and answers to survey questions for each patient. The target variable for classification is whether a patient has diabetes, is pre-diabetic, or healthy. ',\n",
              " 'area': 'Health and Medicine',\n",
              " 'tasks': ['Classification'],\n",
              " 'characteristics': ['Tabular', 'Multivariate'],\n",
              " 'num_instances': 253680,\n",
              " 'num_features': 21,\n",
              " 'feature_types': ['Categorical', 'Integer'],\n",
              " 'demographics': ['Sex', 'Age', 'Education Level', 'Income'],\n",
              " 'target_col': ['Diabetes_binary'],\n",
              " 'index_col': ['ID'],\n",
              " 'has_missing_values': 'no',\n",
              " 'missing_values_symbol': None,\n",
              " 'year_of_dataset_creation': 2017,\n",
              " 'last_updated': 'Fri Nov 03 2023',\n",
              " 'dataset_doi': '10.24432/C53919',\n",
              " 'creators': [],\n",
              " 'intro_paper': {'title': 'Incidence of End-Stage Renal Disease Attributed to Diabetes Among Persons with Diagnosed Diabetes — United States and Puerto Rico, 2000–2014',\n",
              "  'authors': 'Nilka Rios Burrows, MPH; Israel Hora, PhD; Linda S. Geiss, MA; Edward W. Gregg, PhD; Ann Albright, PhD',\n",
              "  'published_in': 'Morbidity and Mortality Weekly Report',\n",
              "  'year': 2017,\n",
              "  'url': 'https://www.cdc.gov/mmwr/volumes/66/wr/mm6643a2.htm',\n",
              "  'doi': None},\n",
              " 'additional_info': {'summary': 'Dataset link: https://www.cdc.gov/brfss/annual_data/annual_2014.html',\n",
              "  'purpose': 'To better understand the relationship between  lifestyle and diabetes in the US',\n",
              "  'funded_by': 'The CDC',\n",
              "  'instances_represent': 'Each row represents a person participating in this study.',\n",
              "  'recommended_data_splits': 'Cross validation or a fixed train-test split could be used.',\n",
              "  'sensitive_data': '- Gender\\n- Income\\n- Education level',\n",
              "  'preprocessing_description': 'Bucketing of age',\n",
              "  'variable_info': '- Diabetes diagnosis\\n- Demographics (race, sex)\\n- Personal information (income, educations)\\n- Health history (drinking, smoking, mental health, physical health)',\n",
              "  'citation': None},\n",
              " 'external_url': 'https://www.kaggle.com/datasets/alexteboul/diabetes-health-indicators-dataset'}"
            ]
          },
          "execution_count": 209,
          "metadata": {},
          "output_type": "execute_result"
        }
      ],
      "source": [
        "# metadata\n",
        "cdc_diabetes_health_indicators.metadata"
      ]
    },
    {
      "cell_type": "code",
      "execution_count": 210,
      "metadata": {
        "colab": {
          "base_uri": "https://localhost:8080/",
          "height": 771
        },
        "id": "lPgGHvsik5lt",
        "outputId": "f74d0e15-4d2c-405f-840e-85dc595573a4"
      },
      "outputs": [
        {
          "data": {
            "text/html": [
              "<div>\n",
              "<style scoped>\n",
              "    .dataframe tbody tr th:only-of-type {\n",
              "        vertical-align: middle;\n",
              "    }\n",
              "\n",
              "    .dataframe tbody tr th {\n",
              "        vertical-align: top;\n",
              "    }\n",
              "\n",
              "    .dataframe thead th {\n",
              "        text-align: right;\n",
              "    }\n",
              "</style>\n",
              "<table border=\"1\" class=\"dataframe\">\n",
              "  <thead>\n",
              "    <tr style=\"text-align: right;\">\n",
              "      <th></th>\n",
              "      <th>name</th>\n",
              "      <th>role</th>\n",
              "      <th>type</th>\n",
              "      <th>demographic</th>\n",
              "      <th>description</th>\n",
              "      <th>units</th>\n",
              "      <th>missing_values</th>\n",
              "    </tr>\n",
              "  </thead>\n",
              "  <tbody>\n",
              "    <tr>\n",
              "      <th>0</th>\n",
              "      <td>ID</td>\n",
              "      <td>ID</td>\n",
              "      <td>Integer</td>\n",
              "      <td>None</td>\n",
              "      <td>Patient ID</td>\n",
              "      <td>None</td>\n",
              "      <td>no</td>\n",
              "    </tr>\n",
              "    <tr>\n",
              "      <th>1</th>\n",
              "      <td>Diabetes_binary</td>\n",
              "      <td>Target</td>\n",
              "      <td>Binary</td>\n",
              "      <td>None</td>\n",
              "      <td>0 = no diabetes 1 = prediabetes or diabetes</td>\n",
              "      <td>None</td>\n",
              "      <td>no</td>\n",
              "    </tr>\n",
              "    <tr>\n",
              "      <th>2</th>\n",
              "      <td>HighBP</td>\n",
              "      <td>Feature</td>\n",
              "      <td>Binary</td>\n",
              "      <td>None</td>\n",
              "      <td>0 = no high BP 1 = high BP</td>\n",
              "      <td>None</td>\n",
              "      <td>no</td>\n",
              "    </tr>\n",
              "    <tr>\n",
              "      <th>3</th>\n",
              "      <td>HighChol</td>\n",
              "      <td>Feature</td>\n",
              "      <td>Binary</td>\n",
              "      <td>None</td>\n",
              "      <td>0 = no high cholesterol 1 = high cholesterol</td>\n",
              "      <td>None</td>\n",
              "      <td>no</td>\n",
              "    </tr>\n",
              "    <tr>\n",
              "      <th>4</th>\n",
              "      <td>CholCheck</td>\n",
              "      <td>Feature</td>\n",
              "      <td>Binary</td>\n",
              "      <td>None</td>\n",
              "      <td>0 = no cholesterol check in 5 years 1 = yes ch...</td>\n",
              "      <td>None</td>\n",
              "      <td>no</td>\n",
              "    </tr>\n",
              "    <tr>\n",
              "      <th>5</th>\n",
              "      <td>BMI</td>\n",
              "      <td>Feature</td>\n",
              "      <td>Integer</td>\n",
              "      <td>None</td>\n",
              "      <td>Body Mass Index</td>\n",
              "      <td>None</td>\n",
              "      <td>no</td>\n",
              "    </tr>\n",
              "    <tr>\n",
              "      <th>6</th>\n",
              "      <td>Smoker</td>\n",
              "      <td>Feature</td>\n",
              "      <td>Binary</td>\n",
              "      <td>None</td>\n",
              "      <td>Have you smoked at least 100 cigarettes in you...</td>\n",
              "      <td>None</td>\n",
              "      <td>no</td>\n",
              "    </tr>\n",
              "    <tr>\n",
              "      <th>7</th>\n",
              "      <td>Stroke</td>\n",
              "      <td>Feature</td>\n",
              "      <td>Binary</td>\n",
              "      <td>None</td>\n",
              "      <td>(Ever told) you had a stroke. 0 = no 1 = yes</td>\n",
              "      <td>None</td>\n",
              "      <td>no</td>\n",
              "    </tr>\n",
              "    <tr>\n",
              "      <th>8</th>\n",
              "      <td>HeartDiseaseorAttack</td>\n",
              "      <td>Feature</td>\n",
              "      <td>Binary</td>\n",
              "      <td>None</td>\n",
              "      <td>coronary heart disease (CHD) or myocardial inf...</td>\n",
              "      <td>None</td>\n",
              "      <td>no</td>\n",
              "    </tr>\n",
              "    <tr>\n",
              "      <th>9</th>\n",
              "      <td>PhysActivity</td>\n",
              "      <td>Feature</td>\n",
              "      <td>Binary</td>\n",
              "      <td>None</td>\n",
              "      <td>physical activity in past 30 days - not includ...</td>\n",
              "      <td>None</td>\n",
              "      <td>no</td>\n",
              "    </tr>\n",
              "    <tr>\n",
              "      <th>10</th>\n",
              "      <td>Fruits</td>\n",
              "      <td>Feature</td>\n",
              "      <td>Binary</td>\n",
              "      <td>None</td>\n",
              "      <td>Consume Fruit 1 or more times per day 0 = no 1...</td>\n",
              "      <td>None</td>\n",
              "      <td>no</td>\n",
              "    </tr>\n",
              "    <tr>\n",
              "      <th>11</th>\n",
              "      <td>Veggies</td>\n",
              "      <td>Feature</td>\n",
              "      <td>Binary</td>\n",
              "      <td>None</td>\n",
              "      <td>Consume Vegetables 1 or more times per day 0 =...</td>\n",
              "      <td>None</td>\n",
              "      <td>no</td>\n",
              "    </tr>\n",
              "    <tr>\n",
              "      <th>12</th>\n",
              "      <td>HvyAlcoholConsump</td>\n",
              "      <td>Feature</td>\n",
              "      <td>Binary</td>\n",
              "      <td>None</td>\n",
              "      <td>Heavy drinkers (adult men having more than 14 ...</td>\n",
              "      <td>None</td>\n",
              "      <td>no</td>\n",
              "    </tr>\n",
              "    <tr>\n",
              "      <th>13</th>\n",
              "      <td>AnyHealthcare</td>\n",
              "      <td>Feature</td>\n",
              "      <td>Binary</td>\n",
              "      <td>None</td>\n",
              "      <td>Have any kind of health care coverage, includi...</td>\n",
              "      <td>None</td>\n",
              "      <td>no</td>\n",
              "    </tr>\n",
              "    <tr>\n",
              "      <th>14</th>\n",
              "      <td>NoDocbcCost</td>\n",
              "      <td>Feature</td>\n",
              "      <td>Binary</td>\n",
              "      <td>None</td>\n",
              "      <td>Was there a time in the past 12 months when yo...</td>\n",
              "      <td>None</td>\n",
              "      <td>no</td>\n",
              "    </tr>\n",
              "    <tr>\n",
              "      <th>15</th>\n",
              "      <td>GenHlth</td>\n",
              "      <td>Feature</td>\n",
              "      <td>Integer</td>\n",
              "      <td>None</td>\n",
              "      <td>Would you say that in general your health is: ...</td>\n",
              "      <td>None</td>\n",
              "      <td>no</td>\n",
              "    </tr>\n",
              "    <tr>\n",
              "      <th>16</th>\n",
              "      <td>MentHlth</td>\n",
              "      <td>Feature</td>\n",
              "      <td>Integer</td>\n",
              "      <td>None</td>\n",
              "      <td>Now thinking about your mental health, which i...</td>\n",
              "      <td>None</td>\n",
              "      <td>no</td>\n",
              "    </tr>\n",
              "    <tr>\n",
              "      <th>17</th>\n",
              "      <td>PhysHlth</td>\n",
              "      <td>Feature</td>\n",
              "      <td>Integer</td>\n",
              "      <td>None</td>\n",
              "      <td>Now thinking about your physical health, which...</td>\n",
              "      <td>None</td>\n",
              "      <td>no</td>\n",
              "    </tr>\n",
              "    <tr>\n",
              "      <th>18</th>\n",
              "      <td>DiffWalk</td>\n",
              "      <td>Feature</td>\n",
              "      <td>Binary</td>\n",
              "      <td>None</td>\n",
              "      <td>Do you have serious difficulty walking or clim...</td>\n",
              "      <td>None</td>\n",
              "      <td>no</td>\n",
              "    </tr>\n",
              "    <tr>\n",
              "      <th>19</th>\n",
              "      <td>Sex</td>\n",
              "      <td>Feature</td>\n",
              "      <td>Binary</td>\n",
              "      <td>Sex</td>\n",
              "      <td>0 = female 1 = male</td>\n",
              "      <td>None</td>\n",
              "      <td>no</td>\n",
              "    </tr>\n",
              "    <tr>\n",
              "      <th>20</th>\n",
              "      <td>Age</td>\n",
              "      <td>Feature</td>\n",
              "      <td>Integer</td>\n",
              "      <td>Age</td>\n",
              "      <td>13-level age category (_AGEG5YR see codebook) ...</td>\n",
              "      <td>None</td>\n",
              "      <td>no</td>\n",
              "    </tr>\n",
              "    <tr>\n",
              "      <th>21</th>\n",
              "      <td>Education</td>\n",
              "      <td>Feature</td>\n",
              "      <td>Integer</td>\n",
              "      <td>Education Level</td>\n",
              "      <td>Education level (EDUCA see codebook) scale 1-6...</td>\n",
              "      <td>None</td>\n",
              "      <td>no</td>\n",
              "    </tr>\n",
              "    <tr>\n",
              "      <th>22</th>\n",
              "      <td>Income</td>\n",
              "      <td>Feature</td>\n",
              "      <td>Integer</td>\n",
              "      <td>Income</td>\n",
              "      <td>Income scale (INCOME2 see codebook) scale 1-8 ...</td>\n",
              "      <td>None</td>\n",
              "      <td>no</td>\n",
              "    </tr>\n",
              "  </tbody>\n",
              "</table>\n",
              "</div>"
            ],
            "text/plain": [
              "                    name     role     type      demographic  \\\n",
              "0                     ID       ID  Integer             None   \n",
              "1        Diabetes_binary   Target   Binary             None   \n",
              "2                 HighBP  Feature   Binary             None   \n",
              "3               HighChol  Feature   Binary             None   \n",
              "4              CholCheck  Feature   Binary             None   \n",
              "5                    BMI  Feature  Integer             None   \n",
              "6                 Smoker  Feature   Binary             None   \n",
              "7                 Stroke  Feature   Binary             None   \n",
              "8   HeartDiseaseorAttack  Feature   Binary             None   \n",
              "9           PhysActivity  Feature   Binary             None   \n",
              "10                Fruits  Feature   Binary             None   \n",
              "11               Veggies  Feature   Binary             None   \n",
              "12     HvyAlcoholConsump  Feature   Binary             None   \n",
              "13         AnyHealthcare  Feature   Binary             None   \n",
              "14           NoDocbcCost  Feature   Binary             None   \n",
              "15               GenHlth  Feature  Integer             None   \n",
              "16              MentHlth  Feature  Integer             None   \n",
              "17              PhysHlth  Feature  Integer             None   \n",
              "18              DiffWalk  Feature   Binary             None   \n",
              "19                   Sex  Feature   Binary              Sex   \n",
              "20                   Age  Feature  Integer              Age   \n",
              "21             Education  Feature  Integer  Education Level   \n",
              "22                Income  Feature  Integer           Income   \n",
              "\n",
              "                                          description units missing_values  \n",
              "0                                          Patient ID  None             no  \n",
              "1         0 = no diabetes 1 = prediabetes or diabetes  None             no  \n",
              "2                          0 = no high BP 1 = high BP  None             no  \n",
              "3        0 = no high cholesterol 1 = high cholesterol  None             no  \n",
              "4   0 = no cholesterol check in 5 years 1 = yes ch...  None             no  \n",
              "5                                     Body Mass Index  None             no  \n",
              "6   Have you smoked at least 100 cigarettes in you...  None             no  \n",
              "7        (Ever told) you had a stroke. 0 = no 1 = yes  None             no  \n",
              "8   coronary heart disease (CHD) or myocardial inf...  None             no  \n",
              "9   physical activity in past 30 days - not includ...  None             no  \n",
              "10  Consume Fruit 1 or more times per day 0 = no 1...  None             no  \n",
              "11  Consume Vegetables 1 or more times per day 0 =...  None             no  \n",
              "12  Heavy drinkers (adult men having more than 14 ...  None             no  \n",
              "13  Have any kind of health care coverage, includi...  None             no  \n",
              "14  Was there a time in the past 12 months when yo...  None             no  \n",
              "15  Would you say that in general your health is: ...  None             no  \n",
              "16  Now thinking about your mental health, which i...  None             no  \n",
              "17  Now thinking about your physical health, which...  None             no  \n",
              "18  Do you have serious difficulty walking or clim...  None             no  \n",
              "19                                0 = female 1 = male  None             no  \n",
              "20  13-level age category (_AGEG5YR see codebook) ...  None             no  \n",
              "21  Education level (EDUCA see codebook) scale 1-6...  None             no  \n",
              "22  Income scale (INCOME2 see codebook) scale 1-8 ...  None             no  "
            ]
          },
          "execution_count": 210,
          "metadata": {},
          "output_type": "execute_result"
        }
      ],
      "source": [
        "# variable information\n",
        "variable_info = cdc_diabetes_health_indicators.variables\n",
        "variable_info"
      ]
    },
    {
      "cell_type": "markdown",
      "metadata": {
        "id": "rupRs-Bgk5lu"
      },
      "source": [
        "# 2. Summary statistics"
      ]
    },
    {
      "cell_type": "markdown",
      "metadata": {
        "id": "bf-GqJNok5lu"
      },
      "source": [
        "### Exploring the data"
      ]
    },
    {
      "cell_type": "code",
      "execution_count": 211,
      "metadata": {
        "colab": {
          "base_uri": "https://localhost:8080/",
          "height": 256
        },
        "id": "Cb4YKNZyk5lu",
        "outputId": "c8f16746-950f-4611-eb52-574f92121742"
      },
      "outputs": [
        {
          "data": {
            "text/html": [
              "<div>\n",
              "<style scoped>\n",
              "    .dataframe tbody tr th:only-of-type {\n",
              "        vertical-align: middle;\n",
              "    }\n",
              "\n",
              "    .dataframe tbody tr th {\n",
              "        vertical-align: top;\n",
              "    }\n",
              "\n",
              "    .dataframe thead th {\n",
              "        text-align: right;\n",
              "    }\n",
              "</style>\n",
              "<table border=\"1\" class=\"dataframe\">\n",
              "  <thead>\n",
              "    <tr style=\"text-align: right;\">\n",
              "      <th></th>\n",
              "      <th>HighBP</th>\n",
              "      <th>HighChol</th>\n",
              "      <th>CholCheck</th>\n",
              "      <th>BMI</th>\n",
              "      <th>Smoker</th>\n",
              "      <th>Stroke</th>\n",
              "      <th>HeartDiseaseorAttack</th>\n",
              "      <th>PhysActivity</th>\n",
              "      <th>Fruits</th>\n",
              "      <th>Veggies</th>\n",
              "      <th>...</th>\n",
              "      <th>AnyHealthcare</th>\n",
              "      <th>NoDocbcCost</th>\n",
              "      <th>GenHlth</th>\n",
              "      <th>MentHlth</th>\n",
              "      <th>PhysHlth</th>\n",
              "      <th>DiffWalk</th>\n",
              "      <th>Sex</th>\n",
              "      <th>Age</th>\n",
              "      <th>Education</th>\n",
              "      <th>Income</th>\n",
              "    </tr>\n",
              "  </thead>\n",
              "  <tbody>\n",
              "    <tr>\n",
              "      <th>0</th>\n",
              "      <td>1</td>\n",
              "      <td>1</td>\n",
              "      <td>1</td>\n",
              "      <td>40</td>\n",
              "      <td>1</td>\n",
              "      <td>0</td>\n",
              "      <td>0</td>\n",
              "      <td>0</td>\n",
              "      <td>0</td>\n",
              "      <td>1</td>\n",
              "      <td>...</td>\n",
              "      <td>1</td>\n",
              "      <td>0</td>\n",
              "      <td>5</td>\n",
              "      <td>18</td>\n",
              "      <td>15</td>\n",
              "      <td>1</td>\n",
              "      <td>0</td>\n",
              "      <td>9</td>\n",
              "      <td>4</td>\n",
              "      <td>3</td>\n",
              "    </tr>\n",
              "    <tr>\n",
              "      <th>1</th>\n",
              "      <td>0</td>\n",
              "      <td>0</td>\n",
              "      <td>0</td>\n",
              "      <td>25</td>\n",
              "      <td>1</td>\n",
              "      <td>0</td>\n",
              "      <td>0</td>\n",
              "      <td>1</td>\n",
              "      <td>0</td>\n",
              "      <td>0</td>\n",
              "      <td>...</td>\n",
              "      <td>0</td>\n",
              "      <td>1</td>\n",
              "      <td>3</td>\n",
              "      <td>0</td>\n",
              "      <td>0</td>\n",
              "      <td>0</td>\n",
              "      <td>0</td>\n",
              "      <td>7</td>\n",
              "      <td>6</td>\n",
              "      <td>1</td>\n",
              "    </tr>\n",
              "    <tr>\n",
              "      <th>2</th>\n",
              "      <td>1</td>\n",
              "      <td>1</td>\n",
              "      <td>1</td>\n",
              "      <td>28</td>\n",
              "      <td>0</td>\n",
              "      <td>0</td>\n",
              "      <td>0</td>\n",
              "      <td>0</td>\n",
              "      <td>1</td>\n",
              "      <td>0</td>\n",
              "      <td>...</td>\n",
              "      <td>1</td>\n",
              "      <td>1</td>\n",
              "      <td>5</td>\n",
              "      <td>30</td>\n",
              "      <td>30</td>\n",
              "      <td>1</td>\n",
              "      <td>0</td>\n",
              "      <td>9</td>\n",
              "      <td>4</td>\n",
              "      <td>8</td>\n",
              "    </tr>\n",
              "    <tr>\n",
              "      <th>3</th>\n",
              "      <td>1</td>\n",
              "      <td>0</td>\n",
              "      <td>1</td>\n",
              "      <td>27</td>\n",
              "      <td>0</td>\n",
              "      <td>0</td>\n",
              "      <td>0</td>\n",
              "      <td>1</td>\n",
              "      <td>1</td>\n",
              "      <td>1</td>\n",
              "      <td>...</td>\n",
              "      <td>1</td>\n",
              "      <td>0</td>\n",
              "      <td>2</td>\n",
              "      <td>0</td>\n",
              "      <td>0</td>\n",
              "      <td>0</td>\n",
              "      <td>0</td>\n",
              "      <td>11</td>\n",
              "      <td>3</td>\n",
              "      <td>6</td>\n",
              "    </tr>\n",
              "    <tr>\n",
              "      <th>4</th>\n",
              "      <td>1</td>\n",
              "      <td>1</td>\n",
              "      <td>1</td>\n",
              "      <td>24</td>\n",
              "      <td>0</td>\n",
              "      <td>0</td>\n",
              "      <td>0</td>\n",
              "      <td>1</td>\n",
              "      <td>1</td>\n",
              "      <td>1</td>\n",
              "      <td>...</td>\n",
              "      <td>1</td>\n",
              "      <td>0</td>\n",
              "      <td>2</td>\n",
              "      <td>3</td>\n",
              "      <td>0</td>\n",
              "      <td>0</td>\n",
              "      <td>0</td>\n",
              "      <td>11</td>\n",
              "      <td>5</td>\n",
              "      <td>4</td>\n",
              "    </tr>\n",
              "  </tbody>\n",
              "</table>\n",
              "<p>5 rows × 21 columns</p>\n",
              "</div>"
            ],
            "text/plain": [
              "   HighBP  HighChol  CholCheck  BMI  Smoker  Stroke  HeartDiseaseorAttack  \\\n",
              "0       1         1          1   40       1       0                     0   \n",
              "1       0         0          0   25       1       0                     0   \n",
              "2       1         1          1   28       0       0                     0   \n",
              "3       1         0          1   27       0       0                     0   \n",
              "4       1         1          1   24       0       0                     0   \n",
              "\n",
              "   PhysActivity  Fruits  Veggies  ...  AnyHealthcare  NoDocbcCost  GenHlth  \\\n",
              "0             0       0        1  ...              1            0        5   \n",
              "1             1       0        0  ...              0            1        3   \n",
              "2             0       1        0  ...              1            1        5   \n",
              "3             1       1        1  ...              1            0        2   \n",
              "4             1       1        1  ...              1            0        2   \n",
              "\n",
              "   MentHlth  PhysHlth  DiffWalk  Sex  Age  Education  Income  \n",
              "0        18        15         1    0    9          4       3  \n",
              "1         0         0         0    0    7          6       1  \n",
              "2        30        30         1    0    9          4       8  \n",
              "3         0         0         0    0   11          3       6  \n",
              "4         3         0         0    0   11          5       4  \n",
              "\n",
              "[5 rows x 21 columns]"
            ]
          },
          "execution_count": 211,
          "metadata": {},
          "output_type": "execute_result"
        }
      ],
      "source": [
        "# view the first few rows of the data\n",
        "feature_data.head()"
      ]
    },
    {
      "cell_type": "code",
      "execution_count": 212,
      "metadata": {
        "colab": {
          "base_uri": "https://localhost:8080/",
          "height": 350
        },
        "id": "1jIFJb1Lk5lv",
        "outputId": "af939ce5-6169-46f7-a13a-b53f6e56995e"
      },
      "outputs": [
        {
          "data": {
            "text/html": [
              "<div>\n",
              "<style scoped>\n",
              "    .dataframe tbody tr th:only-of-type {\n",
              "        vertical-align: middle;\n",
              "    }\n",
              "\n",
              "    .dataframe tbody tr th {\n",
              "        vertical-align: top;\n",
              "    }\n",
              "\n",
              "    .dataframe thead th {\n",
              "        text-align: right;\n",
              "    }\n",
              "</style>\n",
              "<table border=\"1\" class=\"dataframe\">\n",
              "  <thead>\n",
              "    <tr style=\"text-align: right;\">\n",
              "      <th></th>\n",
              "      <th>HighBP</th>\n",
              "      <th>HighChol</th>\n",
              "      <th>CholCheck</th>\n",
              "      <th>BMI</th>\n",
              "      <th>Smoker</th>\n",
              "      <th>Stroke</th>\n",
              "      <th>HeartDiseaseorAttack</th>\n",
              "      <th>PhysActivity</th>\n",
              "      <th>Fruits</th>\n",
              "      <th>Veggies</th>\n",
              "      <th>...</th>\n",
              "      <th>AnyHealthcare</th>\n",
              "      <th>NoDocbcCost</th>\n",
              "      <th>GenHlth</th>\n",
              "      <th>MentHlth</th>\n",
              "      <th>PhysHlth</th>\n",
              "      <th>DiffWalk</th>\n",
              "      <th>Sex</th>\n",
              "      <th>Age</th>\n",
              "      <th>Education</th>\n",
              "      <th>Income</th>\n",
              "    </tr>\n",
              "  </thead>\n",
              "  <tbody>\n",
              "    <tr>\n",
              "      <th>count</th>\n",
              "      <td>253680.000000</td>\n",
              "      <td>253680.000000</td>\n",
              "      <td>253680.000000</td>\n",
              "      <td>253680.000000</td>\n",
              "      <td>253680.000000</td>\n",
              "      <td>253680.000000</td>\n",
              "      <td>253680.000000</td>\n",
              "      <td>253680.000000</td>\n",
              "      <td>253680.000000</td>\n",
              "      <td>253680.000000</td>\n",
              "      <td>...</td>\n",
              "      <td>253680.000000</td>\n",
              "      <td>253680.000000</td>\n",
              "      <td>253680.000000</td>\n",
              "      <td>253680.000000</td>\n",
              "      <td>253680.000000</td>\n",
              "      <td>253680.000000</td>\n",
              "      <td>253680.000000</td>\n",
              "      <td>253680.000000</td>\n",
              "      <td>253680.000000</td>\n",
              "      <td>253680.000000</td>\n",
              "    </tr>\n",
              "    <tr>\n",
              "      <th>mean</th>\n",
              "      <td>0.429001</td>\n",
              "      <td>0.424121</td>\n",
              "      <td>0.962670</td>\n",
              "      <td>28.382364</td>\n",
              "      <td>0.443169</td>\n",
              "      <td>0.040571</td>\n",
              "      <td>0.094186</td>\n",
              "      <td>0.756544</td>\n",
              "      <td>0.634256</td>\n",
              "      <td>0.811420</td>\n",
              "      <td>...</td>\n",
              "      <td>0.951053</td>\n",
              "      <td>0.084177</td>\n",
              "      <td>2.511392</td>\n",
              "      <td>3.184772</td>\n",
              "      <td>4.242081</td>\n",
              "      <td>0.168224</td>\n",
              "      <td>0.440342</td>\n",
              "      <td>8.032119</td>\n",
              "      <td>5.050434</td>\n",
              "      <td>6.053875</td>\n",
              "    </tr>\n",
              "    <tr>\n",
              "      <th>std</th>\n",
              "      <td>0.494934</td>\n",
              "      <td>0.494210</td>\n",
              "      <td>0.189571</td>\n",
              "      <td>6.608694</td>\n",
              "      <td>0.496761</td>\n",
              "      <td>0.197294</td>\n",
              "      <td>0.292087</td>\n",
              "      <td>0.429169</td>\n",
              "      <td>0.481639</td>\n",
              "      <td>0.391175</td>\n",
              "      <td>...</td>\n",
              "      <td>0.215759</td>\n",
              "      <td>0.277654</td>\n",
              "      <td>1.068477</td>\n",
              "      <td>7.412847</td>\n",
              "      <td>8.717951</td>\n",
              "      <td>0.374066</td>\n",
              "      <td>0.496429</td>\n",
              "      <td>3.054220</td>\n",
              "      <td>0.985774</td>\n",
              "      <td>2.071148</td>\n",
              "    </tr>\n",
              "    <tr>\n",
              "      <th>min</th>\n",
              "      <td>0.000000</td>\n",
              "      <td>0.000000</td>\n",
              "      <td>0.000000</td>\n",
              "      <td>12.000000</td>\n",
              "      <td>0.000000</td>\n",
              "      <td>0.000000</td>\n",
              "      <td>0.000000</td>\n",
              "      <td>0.000000</td>\n",
              "      <td>0.000000</td>\n",
              "      <td>0.000000</td>\n",
              "      <td>...</td>\n",
              "      <td>0.000000</td>\n",
              "      <td>0.000000</td>\n",
              "      <td>1.000000</td>\n",
              "      <td>0.000000</td>\n",
              "      <td>0.000000</td>\n",
              "      <td>0.000000</td>\n",
              "      <td>0.000000</td>\n",
              "      <td>1.000000</td>\n",
              "      <td>1.000000</td>\n",
              "      <td>1.000000</td>\n",
              "    </tr>\n",
              "    <tr>\n",
              "      <th>25%</th>\n",
              "      <td>0.000000</td>\n",
              "      <td>0.000000</td>\n",
              "      <td>1.000000</td>\n",
              "      <td>24.000000</td>\n",
              "      <td>0.000000</td>\n",
              "      <td>0.000000</td>\n",
              "      <td>0.000000</td>\n",
              "      <td>1.000000</td>\n",
              "      <td>0.000000</td>\n",
              "      <td>1.000000</td>\n",
              "      <td>...</td>\n",
              "      <td>1.000000</td>\n",
              "      <td>0.000000</td>\n",
              "      <td>2.000000</td>\n",
              "      <td>0.000000</td>\n",
              "      <td>0.000000</td>\n",
              "      <td>0.000000</td>\n",
              "      <td>0.000000</td>\n",
              "      <td>6.000000</td>\n",
              "      <td>4.000000</td>\n",
              "      <td>5.000000</td>\n",
              "    </tr>\n",
              "    <tr>\n",
              "      <th>50%</th>\n",
              "      <td>0.000000</td>\n",
              "      <td>0.000000</td>\n",
              "      <td>1.000000</td>\n",
              "      <td>27.000000</td>\n",
              "      <td>0.000000</td>\n",
              "      <td>0.000000</td>\n",
              "      <td>0.000000</td>\n",
              "      <td>1.000000</td>\n",
              "      <td>1.000000</td>\n",
              "      <td>1.000000</td>\n",
              "      <td>...</td>\n",
              "      <td>1.000000</td>\n",
              "      <td>0.000000</td>\n",
              "      <td>2.000000</td>\n",
              "      <td>0.000000</td>\n",
              "      <td>0.000000</td>\n",
              "      <td>0.000000</td>\n",
              "      <td>0.000000</td>\n",
              "      <td>8.000000</td>\n",
              "      <td>5.000000</td>\n",
              "      <td>7.000000</td>\n",
              "    </tr>\n",
              "    <tr>\n",
              "      <th>75%</th>\n",
              "      <td>1.000000</td>\n",
              "      <td>1.000000</td>\n",
              "      <td>1.000000</td>\n",
              "      <td>31.000000</td>\n",
              "      <td>1.000000</td>\n",
              "      <td>0.000000</td>\n",
              "      <td>0.000000</td>\n",
              "      <td>1.000000</td>\n",
              "      <td>1.000000</td>\n",
              "      <td>1.000000</td>\n",
              "      <td>...</td>\n",
              "      <td>1.000000</td>\n",
              "      <td>0.000000</td>\n",
              "      <td>3.000000</td>\n",
              "      <td>2.000000</td>\n",
              "      <td>3.000000</td>\n",
              "      <td>0.000000</td>\n",
              "      <td>1.000000</td>\n",
              "      <td>10.000000</td>\n",
              "      <td>6.000000</td>\n",
              "      <td>8.000000</td>\n",
              "    </tr>\n",
              "    <tr>\n",
              "      <th>max</th>\n",
              "      <td>1.000000</td>\n",
              "      <td>1.000000</td>\n",
              "      <td>1.000000</td>\n",
              "      <td>98.000000</td>\n",
              "      <td>1.000000</td>\n",
              "      <td>1.000000</td>\n",
              "      <td>1.000000</td>\n",
              "      <td>1.000000</td>\n",
              "      <td>1.000000</td>\n",
              "      <td>1.000000</td>\n",
              "      <td>...</td>\n",
              "      <td>1.000000</td>\n",
              "      <td>1.000000</td>\n",
              "      <td>5.000000</td>\n",
              "      <td>30.000000</td>\n",
              "      <td>30.000000</td>\n",
              "      <td>1.000000</td>\n",
              "      <td>1.000000</td>\n",
              "      <td>13.000000</td>\n",
              "      <td>6.000000</td>\n",
              "      <td>8.000000</td>\n",
              "    </tr>\n",
              "  </tbody>\n",
              "</table>\n",
              "<p>8 rows × 21 columns</p>\n",
              "</div>"
            ],
            "text/plain": [
              "              HighBP       HighChol      CholCheck            BMI  \\\n",
              "count  253680.000000  253680.000000  253680.000000  253680.000000   \n",
              "mean        0.429001       0.424121       0.962670      28.382364   \n",
              "std         0.494934       0.494210       0.189571       6.608694   \n",
              "min         0.000000       0.000000       0.000000      12.000000   \n",
              "25%         0.000000       0.000000       1.000000      24.000000   \n",
              "50%         0.000000       0.000000       1.000000      27.000000   \n",
              "75%         1.000000       1.000000       1.000000      31.000000   \n",
              "max         1.000000       1.000000       1.000000      98.000000   \n",
              "\n",
              "              Smoker         Stroke  HeartDiseaseorAttack   PhysActivity  \\\n",
              "count  253680.000000  253680.000000         253680.000000  253680.000000   \n",
              "mean        0.443169       0.040571              0.094186       0.756544   \n",
              "std         0.496761       0.197294              0.292087       0.429169   \n",
              "min         0.000000       0.000000              0.000000       0.000000   \n",
              "25%         0.000000       0.000000              0.000000       1.000000   \n",
              "50%         0.000000       0.000000              0.000000       1.000000   \n",
              "75%         1.000000       0.000000              0.000000       1.000000   \n",
              "max         1.000000       1.000000              1.000000       1.000000   \n",
              "\n",
              "              Fruits        Veggies  ...  AnyHealthcare    NoDocbcCost  \\\n",
              "count  253680.000000  253680.000000  ...  253680.000000  253680.000000   \n",
              "mean        0.634256       0.811420  ...       0.951053       0.084177   \n",
              "std         0.481639       0.391175  ...       0.215759       0.277654   \n",
              "min         0.000000       0.000000  ...       0.000000       0.000000   \n",
              "25%         0.000000       1.000000  ...       1.000000       0.000000   \n",
              "50%         1.000000       1.000000  ...       1.000000       0.000000   \n",
              "75%         1.000000       1.000000  ...       1.000000       0.000000   \n",
              "max         1.000000       1.000000  ...       1.000000       1.000000   \n",
              "\n",
              "             GenHlth       MentHlth       PhysHlth       DiffWalk  \\\n",
              "count  253680.000000  253680.000000  253680.000000  253680.000000   \n",
              "mean        2.511392       3.184772       4.242081       0.168224   \n",
              "std         1.068477       7.412847       8.717951       0.374066   \n",
              "min         1.000000       0.000000       0.000000       0.000000   \n",
              "25%         2.000000       0.000000       0.000000       0.000000   \n",
              "50%         2.000000       0.000000       0.000000       0.000000   \n",
              "75%         3.000000       2.000000       3.000000       0.000000   \n",
              "max         5.000000      30.000000      30.000000       1.000000   \n",
              "\n",
              "                 Sex            Age      Education         Income  \n",
              "count  253680.000000  253680.000000  253680.000000  253680.000000  \n",
              "mean        0.440342       8.032119       5.050434       6.053875  \n",
              "std         0.496429       3.054220       0.985774       2.071148  \n",
              "min         0.000000       1.000000       1.000000       1.000000  \n",
              "25%         0.000000       6.000000       4.000000       5.000000  \n",
              "50%         0.000000       8.000000       5.000000       7.000000  \n",
              "75%         1.000000      10.000000       6.000000       8.000000  \n",
              "max         1.000000      13.000000       6.000000       8.000000  \n",
              "\n",
              "[8 rows x 21 columns]"
            ]
          },
          "execution_count": 212,
          "metadata": {},
          "output_type": "execute_result"
        }
      ],
      "source": [
        "feature_data.describe(include='all')"
      ]
    },
    {
      "cell_type": "code",
      "execution_count": 213,
      "metadata": {
        "colab": {
          "base_uri": "https://localhost:8080/"
        },
        "id": "efbUAKAUk5lv",
        "outputId": "7386db53-fc10-4da2-f70b-7653176ccbda"
      },
      "outputs": [
        {
          "data": {
            "text/plain": [
              "HighBP                  int64\n",
              "HighChol                int64\n",
              "CholCheck               int64\n",
              "BMI                     int64\n",
              "Smoker                  int64\n",
              "Stroke                  int64\n",
              "HeartDiseaseorAttack    int64\n",
              "PhysActivity            int64\n",
              "Fruits                  int64\n",
              "Veggies                 int64\n",
              "HvyAlcoholConsump       int64\n",
              "AnyHealthcare           int64\n",
              "NoDocbcCost             int64\n",
              "GenHlth                 int64\n",
              "MentHlth                int64\n",
              "PhysHlth                int64\n",
              "DiffWalk                int64\n",
              "Sex                     int64\n",
              "Age                     int64\n",
              "Education               int64\n",
              "Income                  int64\n",
              "dtype: object"
            ]
          },
          "execution_count": 213,
          "metadata": {},
          "output_type": "execute_result"
        }
      ],
      "source": [
        "feature_data.dtypes"
      ]
    },
    {
      "cell_type": "code",
      "execution_count": 214,
      "metadata": {
        "colab": {
          "base_uri": "https://localhost:8080/",
          "height": 175
        },
        "id": "xerp2gPZk5lv",
        "outputId": "15b72f98-a9b4-436b-ae5b-a22aa4714b34"
      },
      "outputs": [
        {
          "data": {
            "text/html": [
              "<div>\n",
              "<style scoped>\n",
              "    .dataframe tbody tr th:only-of-type {\n",
              "        vertical-align: middle;\n",
              "    }\n",
              "\n",
              "    .dataframe tbody tr th {\n",
              "        vertical-align: top;\n",
              "    }\n",
              "\n",
              "    .dataframe thead th {\n",
              "        text-align: right;\n",
              "    }\n",
              "</style>\n",
              "<table border=\"1\" class=\"dataframe\">\n",
              "  <thead>\n",
              "    <tr style=\"text-align: right;\">\n",
              "      <th></th>\n",
              "      <th>name</th>\n",
              "      <th>role</th>\n",
              "      <th>type</th>\n",
              "      <th>demographic</th>\n",
              "      <th>description</th>\n",
              "      <th>units</th>\n",
              "      <th>missing_values</th>\n",
              "    </tr>\n",
              "  </thead>\n",
              "  <tbody>\n",
              "    <tr>\n",
              "      <th>19</th>\n",
              "      <td>Sex</td>\n",
              "      <td>Feature</td>\n",
              "      <td>Binary</td>\n",
              "      <td>Sex</td>\n",
              "      <td>0 = female 1 = male</td>\n",
              "      <td>None</td>\n",
              "      <td>no</td>\n",
              "    </tr>\n",
              "    <tr>\n",
              "      <th>20</th>\n",
              "      <td>Age</td>\n",
              "      <td>Feature</td>\n",
              "      <td>Integer</td>\n",
              "      <td>Age</td>\n",
              "      <td>13-level age category (_AGEG5YR see codebook) ...</td>\n",
              "      <td>None</td>\n",
              "      <td>no</td>\n",
              "    </tr>\n",
              "    <tr>\n",
              "      <th>21</th>\n",
              "      <td>Education</td>\n",
              "      <td>Feature</td>\n",
              "      <td>Integer</td>\n",
              "      <td>Education Level</td>\n",
              "      <td>Education level (EDUCA see codebook) scale 1-6...</td>\n",
              "      <td>None</td>\n",
              "      <td>no</td>\n",
              "    </tr>\n",
              "    <tr>\n",
              "      <th>22</th>\n",
              "      <td>Income</td>\n",
              "      <td>Feature</td>\n",
              "      <td>Integer</td>\n",
              "      <td>Income</td>\n",
              "      <td>Income scale (INCOME2 see codebook) scale 1-8 ...</td>\n",
              "      <td>None</td>\n",
              "      <td>no</td>\n",
              "    </tr>\n",
              "  </tbody>\n",
              "</table>\n",
              "</div>"
            ],
            "text/plain": [
              "         name     role     type      demographic  \\\n",
              "19        Sex  Feature   Binary              Sex   \n",
              "20        Age  Feature  Integer              Age   \n",
              "21  Education  Feature  Integer  Education Level   \n",
              "22     Income  Feature  Integer           Income   \n",
              "\n",
              "                                          description units missing_values  \n",
              "19                                0 = female 1 = male  None             no  \n",
              "20  13-level age category (_AGEG5YR see codebook) ...  None             no  \n",
              "21  Education level (EDUCA see codebook) scale 1-6...  None             no  \n",
              "22  Income scale (INCOME2 see codebook) scale 1-8 ...  None             no  "
            ]
          },
          "execution_count": 214,
          "metadata": {},
          "output_type": "execute_result"
        }
      ],
      "source": [
        "sensitive_attributes = ['Sex', 'Age', 'Education', 'Income']\n",
        "\n",
        "variable_info[variable_info['name'].isin(sensitive_attributes)]"
      ]
    },
    {
      "cell_type": "code",
      "execution_count": 215,
      "metadata": {
        "id": "9FgxrfIwk5lv"
      },
      "outputs": [],
      "source": [
        "# Variable Detailed Description from Codebook\n",
        "# source: https://www.cdc.gov/brfss/annual_data/2015/pdf/codebook15_llcp.pdf\n",
        "\n",
        "Sex_desc = {\n",
        "    0: 'Female',\n",
        "    1: 'Male'\n",
        "}\n",
        "\n",
        "Age_desc = {\n",
        "    1: 'Age 18 to 24',\n",
        "    2: 'Age 25 to 29',\n",
        "    3: 'Age 30 to 34',\n",
        "    4: 'Age 35 to 39',\n",
        "    5: 'Age 40 to 44',\n",
        "    6: 'Age 45 to 49',\n",
        "    7: 'Age 50 to 54',\n",
        "    8: 'Age 55 to 59',\n",
        "    9: 'Age 60 to 64',\n",
        "    10: 'Age 65 to 69',\n",
        "    11: 'Age 70 to 74',\n",
        "    12: 'Age 75 to 79',\n",
        "    13: 'Age 80 or older'\n",
        "    }\n",
        "\n",
        "Education_desc = {\n",
        "    1: 'Never attended school or only kindergarten',\n",
        "    2: 'Grades 1 through 8 (Elementary)',\n",
        "    3: 'Grades 9 through 11 (Some high school)',\n",
        "    4: 'Grade 12 or GED (High school graduate)',\n",
        "    5: 'College 1 year to 3 years (Some college or technical school)',\n",
        "    6: 'College 4 years or more (College graduate)'\n",
        "}\n",
        "\n",
        "Income_desc = {\n",
        "    1: 'Less than $10,000',\n",
        "    2: 'Less than $15,000 ($10,000 to less than $15,000)',\n",
        "    3: 'Less than $20,000 ($15,000 to less than $20,000)',\n",
        "    4: 'Less than $25,000 ($20,000 to less than $25,000)',\n",
        "    5: 'Less than $35,000 ($25,000 to less than $35,000)',\n",
        "    6: 'Less than $50,000 ($35,000 to less than $50,000)',\n",
        "    7: 'Less than $75,000 ($50,000 to less than $75,000)',\n",
        "    8: '$75,000 or more',\n",
        "}"
      ]
    },
    {
      "cell_type": "markdown",
      "metadata": {
        "id": "7k9uQqERk5lw"
      },
      "source": [
        "### a. How many rows & columns of data do you have, both overall, and per sensitive attribute subgroup?"
      ]
    },
    {
      "cell_type": "code",
      "execution_count": 216,
      "metadata": {
        "colab": {
          "base_uri": "https://localhost:8080/"
        },
        "id": "YVZQVYmkk5lw",
        "outputId": "30cfa98f-4514-449b-b4a2-698e3859773c"
      },
      "outputs": [
        {
          "name": "stdout",
          "output_type": "stream",
          "text": [
            "There are 253680 rows and 21 columns in the dataset\n",
            "\n",
            "Sex Variable:\n",
            "  0 (Female): 141974 rows\n",
            "  1 (Male): 111706 rows\n",
            "\n",
            "Age Variable:\n",
            "  1 (Age 18 to 24): 5700 rows\n",
            "  2 (Age 25 to 29): 7598 rows\n",
            "  3 (Age 30 to 34): 11123 rows\n",
            "  4 (Age 35 to 39): 13823 rows\n",
            "  5 (Age 40 to 44): 16157 rows\n",
            "  6 (Age 45 to 49): 19819 rows\n",
            "  7 (Age 50 to 54): 26314 rows\n",
            "  8 (Age 55 to 59): 30832 rows\n",
            "  9 (Age 60 to 64): 33244 rows\n",
            "  10 (Age 65 to 69): 32194 rows\n",
            "  11 (Age 70 to 74): 23533 rows\n",
            "  12 (Age 75 to 79): 15980 rows\n",
            "  13 (Age 80 or older): 17363 rows\n",
            "\n",
            "Education Variable:\n",
            "  1 (Never attended school or only kindergarten): 174 rows\n",
            "  2 (Grades 1 through 8 (Elementary)): 4043 rows\n",
            "  3 (Grades 9 through 11 (Some high school)): 9478 rows\n",
            "  4 (Grade 12 or GED (High school graduate)): 62750 rows\n",
            "  5 (College 1 year to 3 years (Some college or technical school)): 69910 rows\n",
            "  6 (College 4 years or more (College graduate)): 107325 rows\n",
            "\n",
            "Income Variable:\n",
            "  1 (Less than $10,000): 9811 rows\n",
            "  2 (Less than $15,000 ($10,000 to less than $15,000)): 11783 rows\n",
            "  3 (Less than $20,000 ($15,000 to less than $20,000)): 15994 rows\n",
            "  4 (Less than $25,000 ($20,000 to less than $25,000)): 20135 rows\n",
            "  5 (Less than $35,000 ($25,000 to less than $35,000)): 25883 rows\n",
            "  6 (Less than $50,000 ($35,000 to less than $50,000)): 36470 rows\n",
            "  7 (Less than $75,000 ($50,000 to less than $75,000)): 43219 rows\n",
            "  8 ($75,000 or more): 90385 rows\n"
          ]
        }
      ],
      "source": [
        "# How many rows & columns of data do you have, both overall, and per sensitive attribute subgroup?\n",
        "\n",
        "rows, columns = feature_data.shape\n",
        "print(f'There are {rows} rows and {columns} columns in the dataset')\n",
        "\n",
        "for att in sensitive_attributes:\n",
        "    print(f'\\n{att} Variable:')\n",
        "\n",
        "    n_subgroups = feature_data[att].nunique()\n",
        "    desc_dict_name = att + '_desc'\n",
        "    if att=='Sex':\n",
        "        first_val = 0\n",
        "    else:\n",
        "        first_val = 1\n",
        "\n",
        "    for subgroup in range(first_val, n_subgroups + first_val):\n",
        "\n",
        "        subgroup_name = eval(desc_dict_name)[subgroup]\n",
        "        print(f'  {subgroup} ({subgroup_name}): {len(feature_data[feature_data[att] == subgroup])} rows')\n"
      ]
    },
    {
      "cell_type": "markdown",
      "metadata": {
        "id": "IC3IPjfRk5lw"
      },
      "source": [
        "### b. What are your outcome variables of interest?\n",
        "> Our outcome variable is called *\"Diabetes_binary\"* and is stored in target_data\n"
      ]
    },
    {
      "cell_type": "code",
      "execution_count": 217,
      "metadata": {
        "colab": {
          "base_uri": "https://localhost:8080/",
          "height": 300
        },
        "id": "cg7YypjQk5lw",
        "outputId": "550a0bef-0986-4be0-df9f-8fbf03c53038"
      },
      "outputs": [
        {
          "data": {
            "text/html": [
              "<div>\n",
              "<style scoped>\n",
              "    .dataframe tbody tr th:only-of-type {\n",
              "        vertical-align: middle;\n",
              "    }\n",
              "\n",
              "    .dataframe tbody tr th {\n",
              "        vertical-align: top;\n",
              "    }\n",
              "\n",
              "    .dataframe thead th {\n",
              "        text-align: right;\n",
              "    }\n",
              "</style>\n",
              "<table border=\"1\" class=\"dataframe\">\n",
              "  <thead>\n",
              "    <tr style=\"text-align: right;\">\n",
              "      <th></th>\n",
              "      <th>Diabetes_binary</th>\n",
              "    </tr>\n",
              "  </thead>\n",
              "  <tbody>\n",
              "    <tr>\n",
              "      <th>count</th>\n",
              "      <td>253680.000000</td>\n",
              "    </tr>\n",
              "    <tr>\n",
              "      <th>mean</th>\n",
              "      <td>0.139333</td>\n",
              "    </tr>\n",
              "    <tr>\n",
              "      <th>std</th>\n",
              "      <td>0.346294</td>\n",
              "    </tr>\n",
              "    <tr>\n",
              "      <th>min</th>\n",
              "      <td>0.000000</td>\n",
              "    </tr>\n",
              "    <tr>\n",
              "      <th>25%</th>\n",
              "      <td>0.000000</td>\n",
              "    </tr>\n",
              "    <tr>\n",
              "      <th>50%</th>\n",
              "      <td>0.000000</td>\n",
              "    </tr>\n",
              "    <tr>\n",
              "      <th>75%</th>\n",
              "      <td>0.000000</td>\n",
              "    </tr>\n",
              "    <tr>\n",
              "      <th>max</th>\n",
              "      <td>1.000000</td>\n",
              "    </tr>\n",
              "  </tbody>\n",
              "</table>\n",
              "</div>"
            ],
            "text/plain": [
              "       Diabetes_binary\n",
              "count    253680.000000\n",
              "mean          0.139333\n",
              "std           0.346294\n",
              "min           0.000000\n",
              "25%           0.000000\n",
              "50%           0.000000\n",
              "75%           0.000000\n",
              "max           1.000000"
            ]
          },
          "execution_count": 217,
          "metadata": {},
          "output_type": "execute_result"
        }
      ],
      "source": [
        "# What mean / median / standard deviation values do the outcome variables have overall?\n",
        "\n",
        "target_data.describe()"
      ]
    },
    {
      "cell_type": "code",
      "execution_count": 218,
      "metadata": {
        "colab": {
          "base_uri": "https://localhost:8080/"
        },
        "id": "ssGlLzbwk5lw",
        "outputId": "a7b1f1be-1cd6-4dc7-fd07-ad61c0c93bb5"
      },
      "outputs": [
        {
          "name": "stdout",
          "output_type": "stream",
          "text": [
            "\n",
            "Sex Variable:\n",
            "\t0 (Female): \t12.97% have diabetes\n",
            "\t1 (Male): \t15.16% have diabetes\n",
            "\n",
            "Age Variable:\n",
            "\t1 (Age 18 to 24): \t1.37% have diabetes\n",
            "\t2 (Age 25 to 29): \t1.84% have diabetes\n",
            "\t3 (Age 30 to 34): \t2.82% have diabetes\n",
            "\t4 (Age 35 to 39): \t4.53% have diabetes\n",
            "\t5 (Age 40 to 44): \t6.50% have diabetes\n",
            "\t6 (Age 45 to 49): \t8.79% have diabetes\n",
            "\t7 (Age 50 to 54): \t11.74% have diabetes\n",
            "\t8 (Age 55 to 59): \t13.83% have diabetes\n",
            "\t9 (Age 60 to 64): \t17.25% have diabetes\n",
            "\t10 (Age 65 to 69): \t20.37% have diabetes\n",
            "\t11 (Age 70 to 74): \t21.85% have diabetes\n",
            "\t12 (Age 75 to 79): \t21.30% have diabetes\n",
            "\t13 (Age 80 or older): \t18.48% have diabetes\n",
            "\n",
            "Education Variable:\n",
            "\t1 (Never attended school or only kindergarten): \t27.01% have diabetes\n",
            "\t2 (Grades 1 through 8 (Elementary)): \t29.26% have diabetes\n",
            "\t3 (Grades 9 through 11 (Some high school)): \t24.22% have diabetes\n",
            "\t4 (Grade 12 or GED (High school graduate)): \t17.64% have diabetes\n",
            "\t5 (College 1 year to 3 years (Some college or technical school)): \t14.81% have diabetes\n",
            "\t6 (College 4 years or more (College graduate)): \t9.69% have diabetes\n",
            "\n",
            "Income Variable:\n",
            "\t1 (Less than $10,000): \t24.29% have diabetes\n",
            "\t2 (Less than $15,000 ($10,000 to less than $15,000)): \t26.19% have diabetes\n",
            "\t3 (Less than $20,000 ($15,000 to less than $20,000)): \t22.31% have diabetes\n",
            "\t4 (Less than $25,000 ($20,000 to less than $25,000)): \t20.13% have diabetes\n",
            "\t5 (Less than $35,000 ($25,000 to less than $35,000)): \t17.40% have diabetes\n",
            "\t6 (Less than $50,000 ($35,000 to less than $50,000)): \t14.51% have diabetes\n",
            "\t7 (Less than $75,000 ($50,000 to less than $75,000)): \t12.18% have diabetes\n",
            "\t8 ($75,000 or more): \t7.96% have diabetes\n"
          ]
        }
      ],
      "source": [
        "# What about these statistics within each relevant sensitive attribute subgroup?\n",
        "\n",
        "# merging target and feature data\n",
        "merged_data = feature_data.copy()\n",
        "merged_data['Diabetes_binary'] = target_data\n",
        "\n",
        "for att in sensitive_attributes:\n",
        "    print(f'\\n{att} Variable:')\n",
        "\n",
        "    n_subgroups = merged_data[att].nunique()\n",
        "    desc_dict_name = att + '_desc'\n",
        "    if att=='Sex':\n",
        "        first_val = 0\n",
        "    else:\n",
        "        first_val = 1\n",
        "\n",
        "    for subgroup in range(first_val, n_subgroups + first_val):\n",
        "\n",
        "        subgroup_name = eval(desc_dict_name)[subgroup]\n",
        "        subgroup_diabetes_percent = merged_data[merged_data[att] == subgroup]['Diabetes_binary'].mean()\n",
        "        print(f'\\t{subgroup} ({subgroup_name}): \\t{subgroup_diabetes_percent:.2%} have diabetes')\n"
      ]
    },
    {
      "cell_type": "markdown",
      "metadata": {
        "id": "VX6D-65pk5lx"
      },
      "source": [
        "### c. Plot at least as many figures as your # group members, and explain concisely but meaningfully what the plot shows in markdown text"
      ]
    },
    {
      "cell_type": "code",
      "execution_count": 219,
      "metadata": {
        "id": "APCtVe0Tk5lx"
      },
      "outputs": [],
      "source": [
        "# helper function to plot a varible distribution\n",
        "\n",
        "import matplotlib.pyplot as plt\n",
        "import seaborn as sns\n",
        "\n",
        "def plot_dist(data, col, labels):\n",
        "    sns.countplot(x=col, data=data,\n",
        "                  stat=\"percent\", palette=['lightcoral','skyblue'])\n",
        "    if labels:\n",
        "        plt.xticks(ticks=[0,1], labels=labels.values())\n",
        "        plt.xlabel('')\n"
      ]
    },
    {
      "cell_type": "markdown",
      "metadata": {
        "id": "PSHpAMQ8k5lx"
      },
      "source": [
        "#### Relative Distribution of Binary Variables"
      ]
    },
    {
      "cell_type": "code",
      "execution_count": 220,
      "metadata": {
        "colab": {
          "base_uri": "https://localhost:8080/",
          "height": 1000
        },
        "id": "BfhHUDi9k5lx",
        "outputId": "2f73d4d9-48ac-4421-bcd4-d66be92383c1"
      },
      "outputs": [
        {
          "data": {
            "image/png": "[encoded data removed]",
            "text/plain": [
              "<Figure size 1000x2000 with 15 Axes>"
            ]
          },
          "metadata": {},
          "output_type": "display_data"
        }
      ],
      "source": [
        "# hiding warnings\n",
        "import warnings\n",
        "warnings.filterwarnings('ignore')\n",
        "\n",
        "# setting up multi plot\n",
        "fig = plt.figure(figsize=(10,20))\n",
        "plt.suptitle('Relative Distribution of Binary Variables',\n",
        "             va='bottom', y=0.9, fontsize=20)\n",
        "fig_count = 1\n",
        "\n",
        "# plotting target variable\n",
        "col = 'Diabetes_binary'\n",
        "x_labels = {0:'No',1:'Yes'}\n",
        "\n",
        "plt.subplot(5, 3, fig_count)\n",
        "plt.title(\"#\"+str(fig_count)+\": \"+col)\n",
        "plot_dist(target_data, col, x_labels)\n",
        "\n",
        "# plotting binary features (14 out of 21)\n",
        "binary_features = feature_data.columns[feature_data.nunique() == 2]\n",
        "\n",
        "for col in binary_features:\n",
        "    fig_count += 1\n",
        "\n",
        "    if col == 'Sex':\n",
        "        x_labels = {0:'Female',1:'Male'}\n",
        "\n",
        "    plt.subplot(5, 3, fig_count)\n",
        "    plt.title(\"#\"+str(fig_count)+\": \"+col)\n",
        "    plot_dist(feature_data, col, x_labels)\n",
        "\n",
        "plt.show()\n"
      ]
    },
    {
      "cell_type": "markdown",
      "metadata": {
        "id": "PsoyexWUk5lx"
      },
      "source": [
        "#### Relative Distribution of Other Variables"
      ]
    },
    {
      "cell_type": "code",
      "execution_count": 221,
      "metadata": {
        "colab": {
          "base_uri": "https://localhost:8080/",
          "height": 1000
        },
        "id": "rcIvJvOUk5lx",
        "outputId": "b401e2b0-9650-4e74-8681-089865b7445a"
      },
      "outputs": [
        {
          "data": {
            "image/png": "[encoded data removed]",
            "text/plain": [
              "<Figure size 1000x2000 with 7 Axes>"
            ]
          },
          "metadata": {},
          "output_type": "display_data"
        }
      ],
      "source": [
        "other_features = [feat for feat in feature_data.columns if feat not in binary_features]\n",
        "\n",
        "# setting up multi plot\n",
        "fig = plt.figure(figsize=(10,20))\n",
        "plt.suptitle('Relative Distribution of Other Variables',\n",
        "             va='bottom', y=0.9, fontsize=20)\n",
        "fig_count = 1\n",
        "\n",
        "for att in other_features:\n",
        "    plt.subplot(4, 2, fig_count)\n",
        "    sns.histplot(x=att , data=merged_data, stat=\"percent\", shrink=5, palette='Pastel1')\n",
        "    plt.xlabel('')\n",
        "\n",
        "    plt.title(\"#\"+str(fig_count+15)+\": \"+att)\n",
        "\n",
        "    fig_count += 1\n",
        "plt.show()"
      ]
    },
    {
      "cell_type": "markdown",
      "metadata": {
        "id": "cpvDWQI3k5lx"
      },
      "source": [
        "#### Correlation Heatmap"
      ]
    },
    {
      "cell_type": "code",
      "execution_count": 222,
      "metadata": {
        "colab": {
          "base_uri": "https://localhost:8080/",
          "height": 986
        },
        "id": "OARKLyVAk5lx",
        "outputId": "f81d072a-38a7-49ab-a135-041357e5daab"
      },
      "outputs": [
        {
          "data": {
            "text/plain": [
              "<Axes: >"
            ]
          },
          "execution_count": 222,
          "metadata": {},
          "output_type": "execute_result"
        },
        {
          "data": {
            "image/png": "[encoded data removed]",
            "text/plain": [
              "<Figure size 1200x1000 with 2 Axes>"
            ]
          },
          "metadata": {},
          "output_type": "display_data"
        }
      ],
      "source": [
        "# creating a heatmap to show correlation between the features\n",
        "plt.figure(figsize=(12,10))\n",
        "correlation = feature_data.corr()\n",
        "\n",
        "# selecting the highly correlated features (abs corr > 0.25)\n",
        "hi_corr = correlation.copy()\n",
        "threshold = 0.25\n",
        "hi_corr[(abs(hi_corr) < threshold) | (abs(hi_corr) > 0.99)] = 0\n",
        "sns.heatmap(hi_corr, annot=False, cmap='coolwarm', center=0)\n"
      ]
    },
    {
      "cell_type": "markdown",
      "metadata": {
        "id": "L8VtsUouk5ly"
      },
      "source": [
        "# 3. Research Question, Hypotheses, and Analysis Plan"
      ]
    },
    {
      "cell_type": "markdown",
      "metadata": {
        "id": "wSgnVEeak5ly"
      },
      "source": [
        "### a. Concretely, what is (are) your research question(s)? Be specific: what are the inputs, outputs, and evaluation metrics you are interested in, and why?\n",
        "\n",
        "> * Does diabetes prediction accuracy change across income groups?\n",
        "> * Does diabetes prediction accuracy change across sex groups?\n",
        "> * If there do exist differences, what are the driving factors?\n",
        "\n",
        "#### Inputs\n",
        "> * Our inputs include: HighBP, HighChol, CholCheck, BMI, Smoker, Stroke, HeartDiseaseorAttack, PhysActivity, Fruits, Veggies, HvyAlcoholConsump, AnyHealthcare, NoDocbcCost, GenHlth, MentHlth, PhysHlth, and DiffWalk.\n",
        "> * The demographic input data are Sex, Age, Education, and Income.\n",
        "\n",
        "#### Outputs\n",
        "> Our output is the binary prediction such that 1 is the patient is diagnosed with diabetes or prediabetes and 0 represents that the patient is not diabetic.\n",
        "\n",
        "#### Evaluation metrics\n",
        "> The evaluation metrics we want to use for our algorithm include assessing if the accuracy, precision, recall, and FNR is different for various income and sex groups.\n",
        "\n",
        "### b. What are your hypotheses? e.g., do you notice any potential biases from your summary statistics? What are they, and why might these exist?\n",
        "\n",
        "> * From the summary statistics, we observe that there are about **27% more females** than males identified in the data.\n",
        "> * Additionally, almost all participants had indicated that they had their cholesterol check in the past 5 years. There could be a bias in the dataset towards individuals that are more health conscious, have had family history of high cholesterol, and previous concerns regarding their cholesterol levels and are predisposed to a diagnosis related to their cholesterol levels. Additionally, this indicator could be associated with most of the participants having an income level of around $75,000 or more. Many of the participants in this dataset could have the financial ability to upkeep with annual check ups and take preventative cautions in regards to cholesterol levels and a potential diabetes diagnosis.\n",
        "\n",
        "### c. What analyses are you going to run (in section 4) to test your hypotheses presented above?\n",
        "> * We will be testing our hypotheses with the following models: Linear Regression, SVM, LightGBM, Naive Bayes, and Random Forest.\n",
        "> * To observe potential biases in prediction, we will utilize upsampling methods for minority groups and compare with its reciprocal model without upsampling methods employed.\n",
        "\n",
        "\n",
        "\n"
      ]
    },
    {
      "cell_type": "markdown",
      "metadata": {
        "id": "aGRmHJFmk5ly"
      },
      "source": [
        "# 4. Modeling"
      ]
    },
    {
      "cell_type": "markdown",
      "metadata": {
        "id": "_QnGug5Ak5ly"
      },
      "source": [
        "## Model 1: Naive Bayes\n",
        "### a. Model"
      ]
    },
    {
      "cell_type": "code",
      "execution_count": 223,
      "metadata": {
        "id": "LOizCciAk5ly"
      },
      "outputs": [],
      "source": [
        "import pandas as pd\n",
        "import numpy as np\n",
        "import matplotlib.pyplot as plt\n",
        "from sklearn import preprocessing\n",
        "from sklearn.model_selection import train_test_split\n",
        "from sklearn import metrics\n",
        "from sklearn.metrics import accuracy_score, recall_score, precision_score, f1_score, auc, roc_curve, roc_auc_score, confusion_matrix\n",
        "from sklearn.naive_bayes import GaussianNB\n",
        "from sklearn.metrics import f1_score"
      ]
    },
    {
      "cell_type": "code",
      "execution_count": 224,
      "metadata": {
        "id": "weoR5eaOk5ly"
      },
      "outputs": [],
      "source": [
        "X = feature_data\n",
        "y = target_data.Diabetes_binary"
      ]
    },
    {
      "cell_type": "code",
      "execution_count": 225,
      "metadata": {
        "id": "85Jf-zt-k5ly"
      },
      "outputs": [],
      "source": [
        "X_train_test, X_test, y_train_test, y_test = train_test_split(X, y, test_size=0.2)\n",
        "\n",
        "X_train, X_val, y_train, y_val = train_test_split(X_train_test, y_train_test, test_size=0.25)"
      ]
    },
    {
      "cell_type": "code",
      "execution_count": 226,
      "metadata": {
        "colab": {
          "base_uri": "https://localhost:8080/",
          "height": 75
        },
        "id": "dTMbku-dk5ly",
        "outputId": "1e0ca0e5-10cf-4334-9e78-15293bcf727d"
      },
      "outputs": [
        {
          "data": {
            "text/html": [
              "<style>#sk-container-id-5 {color: black;}#sk-container-id-5 pre{padding: 0;}#sk-container-id-5 div.sk-toggleable {background-color: white;}#sk-container-id-5 label.sk-toggleable__label {cursor: pointer;display: block;width: 100%;margin-bottom: 0;padding: 0.3em;box-sizing: border-box;text-align: center;}#sk-container-id-5 label.sk-toggleable__label-arrow:before {content: \"▸\";float: left;margin-right: 0.25em;color: #696969;}#sk-container-id-5 label.sk-toggleable__label-arrow:hover:before {color: black;}#sk-container-id-5 div.sk-estimator:hover label.sk-toggleable__label-arrow:before {color: black;}#sk-container-id-5 div.sk-toggleable__content {max-height: 0;max-width: 0;overflow: hidden;text-align: left;background-color: #f0f8ff;}#sk-container-id-5 div.sk-toggleable__content pre {margin: 0.2em;color: black;border-radius: 0.25em;background-color: #f0f8ff;}#sk-container-id-5 input.sk-toggleable__control:checked~div.sk-toggleable__content {max-height: 200px;max-width: 100%;overflow: auto;}#sk-container-id-5 input.sk-toggleable__control:checked~label.sk-toggleable__label-arrow:before {content: \"▾\";}#sk-container-id-5 div.sk-estimator input.sk-toggleable__control:checked~label.sk-toggleable__label {background-color: #d4ebff;}#sk-container-id-5 div.sk-label input.sk-toggleable__control:checked~label.sk-toggleable__label {background-color: #d4ebff;}#sk-container-id-5 input.sk-hidden--visually {border: 0;clip: rect(1px 1px 1px 1px);clip: rect(1px, 1px, 1px, 1px);height: 1px;margin: -1px;overflow: hidden;padding: 0;position: absolute;width: 1px;}#sk-container-id-5 div.sk-estimator {font-family: monospace;background-color: #f0f8ff;border: 1px dotted black;border-radius: 0.25em;box-sizing: border-box;margin-bottom: 0.5em;}#sk-container-id-5 div.sk-estimator:hover {background-color: #d4ebff;}#sk-container-id-5 div.sk-parallel-item::after {content: \"\";width: 100%;border-bottom: 1px solid gray;flex-grow: 1;}#sk-container-id-5 div.sk-label:hover label.sk-toggleable__label {background-color: #d4ebff;}#sk-container-id-5 div.sk-serial::before {content: \"\";position: absolute;border-left: 1px solid gray;box-sizing: border-box;top: 0;bottom: 0;left: 50%;z-index: 0;}#sk-container-id-5 div.sk-serial {display: flex;flex-direction: column;align-items: center;background-color: white;padding-right: 0.2em;padding-left: 0.2em;position: relative;}#sk-container-id-5 div.sk-item {position: relative;z-index: 1;}#sk-container-id-5 div.sk-parallel {display: flex;align-items: stretch;justify-content: center;background-color: white;position: relative;}#sk-container-id-5 div.sk-item::before, #sk-container-id-5 div.sk-parallel-item::before {content: \"\";position: absolute;border-left: 1px solid gray;box-sizing: border-box;top: 0;bottom: 0;left: 50%;z-index: -1;}#sk-container-id-5 div.sk-parallel-item {display: flex;flex-direction: column;z-index: 1;position: relative;background-color: white;}#sk-container-id-5 div.sk-parallel-item:first-child::after {align-self: flex-end;width: 50%;}#sk-container-id-5 div.sk-parallel-item:last-child::after {align-self: flex-start;width: 50%;}#sk-container-id-5 div.sk-parallel-item:only-child::after {width: 0;}#sk-container-id-5 div.sk-dashed-wrapped {border: 1px dashed gray;margin: 0 0.4em 0.5em 0.4em;box-sizing: border-box;padding-bottom: 0.4em;background-color: white;}#sk-container-id-5 div.sk-label label {font-family: monospace;font-weight: bold;display: inline-block;line-height: 1.2em;}#sk-container-id-5 div.sk-label-container {text-align: center;}#sk-container-id-5 div.sk-container {/* jupyter's `normalize.less` sets `[hidden] { display: none; }` but bootstrap.min.css set `[hidden] { display: none !important; }` so we also need the `!important` here to be able to override the default hidden behavior on the sphinx rendered scikit-learn.org. See: https://github.com/scikit-learn/scikit-learn/issues/21755 */display: inline-block !important;position: relative;}#sk-container-id-5 div.sk-text-repr-fallback {display: none;}</style><div id=\"sk-container-id-5\" class=\"sk-top-container\"><div class=\"sk-text-repr-fallback\"><pre>GaussianNB()</pre><b>In a Jupyter environment, please rerun this cell to show the HTML representation or trust the notebook. <br />On GitHub, the HTML representation is unable to render, please try loading this page with nbviewer.org.</b></div><div class=\"sk-container\" hidden><div class=\"sk-item\"><div class=\"sk-estimator sk-toggleable\"><input class=\"sk-toggleable__control sk-hidden--visually\" id=\"sk-estimator-id-5\" type=\"checkbox\" checked><label for=\"sk-estimator-id-5\" class=\"sk-toggleable__label sk-toggleable__label-arrow\">GaussianNB</label><div class=\"sk-toggleable__content\"><pre>GaussianNB()</pre></div></div></div></div></div>"
            ],
            "text/plain": [
              "GaussianNB()"
            ]
          },
          "execution_count": 226,
          "metadata": {},
          "output_type": "execute_result"
        }
      ],
      "source": [
        "# Train the model\n",
        "model = GaussianNB()\n",
        "model.fit(X_train, y_train)"
      ]
    },
    {
      "cell_type": "markdown",
      "metadata": {
        "id": "sfBLAM1tk5ly"
      },
      "source": [
        "### b. Evaluation Metrics"
      ]
    },
    {
      "cell_type": "code",
      "execution_count": 227,
      "metadata": {
        "id": "ojsQVzdgk5ly"
      },
      "outputs": [],
      "source": [
        "# Predict on the validation set\n",
        "y_val_pred = model.predict(X_val)"
      ]
    },
    {
      "cell_type": "code",
      "execution_count": 228,
      "metadata": {
        "colab": {
          "base_uri": "https://localhost:8080/"
        },
        "id": "iEFLlpSlk5ly",
        "outputId": "dbc04c73-452d-433a-84fe-2279fdcb5026"
      },
      "outputs": [
        {
          "name": "stdout",
          "output_type": "stream",
          "text": [
            "F1-Score on Validation Set: 0.7967622135542755\n"
          ]
        }
      ],
      "source": [
        "# Evaluate the model\n",
        "f1 = f1_score(y_val, y_val_pred, average='weighted')\n",
        "print(f\"F1-Score on Validation Set: {f1}\")"
      ]
    },
    {
      "cell_type": "code",
      "execution_count": 229,
      "metadata": {
        "colab": {
          "base_uri": "https://localhost:8080/"
        },
        "id": "SXkGaaqek5lz",
        "outputId": "1780b0f3-6106-418c-a628-c239ff192e48"
      },
      "outputs": [
        {
          "name": "stdout",
          "output_type": "stream",
          "text": [
            "F1-Score on Test Set: 0.7950311079077598\n"
          ]
        }
      ],
      "source": [
        "# Predict on the test set\n",
        "y_test_pred = model.predict(X_test)\n",
        "\n",
        "# Evaluate the model\n",
        "f1 = f1_score(y_test, y_test_pred, average='weighted')\n",
        "print(f\"F1-Score on Test Set: {f1}\")"
      ]
    },
    {
      "cell_type": "markdown",
      "metadata": {
        "id": "mYz1Cholk5lz"
      },
      "source": [
        "Since the f1-score for the validation set and test set are comparable, we can state that there are no signs of overfitting."
      ]
    },
    {
      "cell_type": "code",
      "execution_count": 230,
      "metadata": {
        "colab": {
          "base_uri": "https://localhost:8080/"
        },
        "id": "sw0kcSx_k5lz",
        "outputId": "a3a3274a-bd62-4e1e-ddee-a99d161e2f58"
      },
      "outputs": [
        {
          "name": "stdout",
          "output_type": "stream",
          "text": [
            "              precision    recall  f1-score   support\n",
            "\n",
            "           0       0.92      0.80      0.86     43540\n",
            "           1       0.33      0.57      0.42      7196\n",
            "\n",
            "    accuracy                           0.77     50736\n",
            "   macro avg       0.62      0.69      0.64     50736\n",
            "weighted avg       0.84      0.77      0.80     50736\n",
            "\n",
            "Confusion Matrix:\n",
            " [[34996  8544]\n",
            " [ 3066  4130]]\n"
          ]
        }
      ],
      "source": [
        "print(metrics.classification_report(y_test, y_test_pred))\n",
        "print(\"Confusion Matrix:\\n\", metrics.confusion_matrix(y_test, y_test_pred))"
      ]
    },
    {
      "cell_type": "markdown",
      "metadata": {
        "id": "ht8yEU4sk5l5"
      },
      "source": [
        "3087 participants were identified as non-diabetic when they were diabetic or prediabetic in actuality. The FNR from utilizing Naive Bayes is 0.432."
      ]
    },
    {
      "cell_type": "code",
      "execution_count": 231,
      "metadata": {
        "colab": {
          "base_uri": "https://localhost:8080/"
        },
        "id": "XmgFo_Ink5l5",
        "outputId": "765a9a13-9186-4457-8a85-c9140af23aab"
      },
      "outputs": [
        {
          "name": "stdout",
          "output_type": "stream",
          "text": [
            "AUC (all participants): 0.7831\n",
            "AUC (female participants): 0.7945\n",
            "AUC (male participants): 0.7711\n"
          ]
        }
      ],
      "source": [
        "female_idx = X_test['Sex']==0\n",
        "male_idx = X_test['Sex']==1\n",
        "\n",
        "female_test = y_test.loc[female_idx]\n",
        "male_test = y_test.loc[male_idx]\n",
        "\n",
        "female_pred  = y_test_pred[female_idx]\n",
        "male_pred = y_test_pred[male_idx]\n",
        "\n",
        "y_pred_prob = model.predict_proba(X_test)[:, 1]\n",
        "female_score = y_pred_prob[female_idx]\n",
        "male_score = y_pred_prob[male_idx]\n",
        "\n",
        "true_y = {'all': y_test, 'female':female_test, 'male':male_test}\n",
        "pred_y = {'female':female_pred, 'male':male_pred}\n",
        "prob_y = {'all':y_pred_prob, 'female':female_score, 'male':male_score}\n",
        "\n",
        "for group in ['all', 'female', 'male']:\n",
        "    AUC = metrics.roc_auc_score(true_y[group], prob_y[group])\n",
        "    print(f'AUC ({group} participants): {AUC:.4f}')\n",
        "\n",
        "\n",
        "tn, fp, fn, tp = {}, {}, {}, {}\n",
        "for group in ['female', 'male']:\n",
        "    tn[group], fp[group], fn[group], tp[group] = metrics.confusion_matrix(true_y[group], pred_y[group]).ravel()"
      ]
    },
    {
      "cell_type": "code",
      "execution_count": 232,
      "metadata": {
        "colab": {
          "base_uri": "https://localhost:8080/"
        },
        "id": "4VJXUZKzk5l5",
        "outputId": "ef19de10-7b3c-4e19-fa55-ec9b1bd99d6d"
      },
      "outputs": [
        {
          "name": "stdout",
          "output_type": "stream",
          "text": [
            "FNR (female participants): 0.3988\n",
            "FNR (male participants): 0.4562\n"
          ]
        }
      ],
      "source": [
        "for group in ['female', 'male']:\n",
        "    FNR = fn[group]/(tp[group]+fn[group])\n",
        "    print(f'FNR ({group} participants): {FNR:.4f}')"
      ]
    },
    {
      "cell_type": "code",
      "execution_count": 233,
      "metadata": {
        "colab": {
          "base_uri": "https://localhost:8080/"
        },
        "id": "P8LuIVM6k5l5",
        "outputId": "33cd2ceb-5037-4d5f-cd65-bf19aa55fc4c"
      },
      "outputs": [
        {
          "name": "stdout",
          "output_type": "stream",
          "text": [
            "FPR (female participants): 0.2010\n",
            "FPR (male participants): 0.1899\n"
          ]
        }
      ],
      "source": [
        "for group in ['female', 'male']:\n",
        "    FPR = fp[group]/(tn[group]+fp[group])\n",
        "    print(f'FPR ({group} participants): {FPR:.4f}')"
      ]
    },
    {
      "cell_type": "code",
      "execution_count": 234,
      "metadata": {
        "colab": {
          "base_uri": "https://localhost:8080/"
        },
        "id": "8tDWDCsik5l5",
        "outputId": "428ae99d-33fb-497b-f0ad-6b324b575011"
      },
      "outputs": [
        {
          "name": "stdout",
          "output_type": "stream",
          "text": [
            "Fraction positive (female participants): 0.2541\n",
            "Fraction positive (male participants): 0.2443\n"
          ]
        }
      ],
      "source": [
        "for group in ['female', 'male']:\n",
        "    PR = pred_y[group].mean()\n",
        "    print(f'Fraction positive ({group} participants): {PR:.4f}')"
      ]
    },
    {
      "cell_type": "code",
      "execution_count": 235,
      "metadata": {
        "colab": {
          "base_uri": "https://localhost:8080/"
        },
        "id": "GTbvYGT7k5l5",
        "outputId": "d2c3b965-4bc7-46a7-c4df-7014e4686f89"
      },
      "outputs": [
        {
          "data": {
            "text/plain": [
              "array([8, 7, 6, 2, 5, 1, 3, 4], dtype=int64)"
            ]
          },
          "execution_count": 235,
          "metadata": {},
          "output_type": "execute_result"
        }
      ],
      "source": [
        "X_test.Income.unique()"
      ]
    },
    {
      "cell_type": "code",
      "execution_count": 236,
      "metadata": {
        "colab": {
          "base_uri": "https://localhost:8080/"
        },
        "id": "EE25SI7mk5l5",
        "outputId": "ccfa2ac9-8014-4162-cc58-52e9bc036fbc"
      },
      "outputs": [
        {
          "name": "stdout",
          "output_type": "stream",
          "text": [
            "AUC (all participants): 0.7831\n",
            "AUC (Income 1 participants): 0.7118\n",
            "AUC (Income 2 participants): 0.7167\n",
            "AUC (Income 3 participants): 0.7206\n",
            "AUC (Income 4 participants): 0.7341\n",
            "AUC (Income 5 participants): 0.7384\n",
            "AUC (Income 6 participants): 0.7590\n",
            "AUC (Income 7 participants): 0.7834\n",
            "AUC (Income 8 participants): 0.7978\n"
          ]
        }
      ],
      "source": [
        "one_idx = X_test['Income']==1\n",
        "two_idx = X_test['Income']==2\n",
        "three_idx = X_test['Income']==3\n",
        "four_idx = X_test['Income']==4\n",
        "five_idx = X_test['Income']==5\n",
        "six_idx = X_test['Income']==6\n",
        "seven_idx = X_test['Income']==7\n",
        "eight_idx = X_test['Income']==8\n",
        "\n",
        "one_test = y_test.loc[one_idx]\n",
        "two_test = y_test.loc[two_idx]\n",
        "three_test = y_test.loc[three_idx]\n",
        "four_test = y_test.loc[four_idx]\n",
        "five_test = y_test.loc[five_idx]\n",
        "six_test = y_test.loc[six_idx]\n",
        "seven_test = y_test.loc[seven_idx]\n",
        "eight_test = y_test.loc[eight_idx]\n",
        "\n",
        "one_pred  = y_test_pred[one_idx]\n",
        "two_pred = y_test_pred[two_idx]\n",
        "three_pred = y_test_pred[three_idx]\n",
        "four_pred = y_test_pred[four_idx]\n",
        "five_pred = y_test_pred[five_idx]\n",
        "six_pred = y_test_pred[six_idx]\n",
        "seven_pred = y_test_pred[seven_idx]\n",
        "eight_pred = y_test_pred[eight_idx]\n",
        "\n",
        "y_pred_prob = model.predict_proba(X_test)[:, 1]\n",
        "one_score = y_pred_prob[one_idx]\n",
        "two_score = y_pred_prob[two_idx]\n",
        "three_score = y_pred_prob[three_idx]\n",
        "four_score = y_pred_prob[four_idx]\n",
        "five_score = y_pred_prob[five_idx]\n",
        "six_score = y_pred_prob[six_idx]\n",
        "seven_score = y_pred_prob[seven_idx]\n",
        "eight_score = y_pred_prob[eight_idx]\n",
        "\n",
        "\n",
        "true_y = {'all': y_test, 'Income 1':one_test, 'Income 2':two_test, 'Income 3':three_test,\n",
        "          'Income 4':four_test,'Income 5':five_test,'Income 6':six_test,'Income 7':seven_test,'Income 8':eight_test}\n",
        "pred_y = {'Income 1':one_pred, 'Income 2':two_pred, 'Income 3':three_pred,\n",
        "          'Income 4':four_pred,'Income 5':five_pred,'Income 6':six_pred,'Income 7':seven_pred,'Income 8':eight_pred}\n",
        "prob_y = {'all': y_pred_prob, 'Income 1':one_score, 'Income 2':two_score, 'Income 3':three_score,\n",
        "          'Income 4':four_score,'Income 5':five_score,'Income 6':six_score,'Income 7':seven_score,'Income 8':eight_score}\n",
        "\n",
        "\n",
        "for group in ['all', 'Income 1', 'Income 2', 'Income 3', 'Income 4', 'Income 5', 'Income 6', 'Income 7', 'Income 8']:\n",
        "    AUC = metrics.roc_auc_score(true_y[group], prob_y[group])\n",
        "    print(f'AUC ({group} participants): {AUC:.4f}')\n",
        "\n",
        "\n",
        "tn, fp, fn, tp = {}, {}, {}, {}\n",
        "for group in ['Income 1', 'Income 2', 'Income 3', 'Income 4', 'Income 5', 'Income 6', 'Income 7', 'Income 8']:\n",
        "    tn[group], fp[group], fn[group], tp[group] = metrics.confusion_matrix(true_y[group], pred_y[group]).ravel()"
      ]
    },
    {
      "cell_type": "code",
      "execution_count": 237,
      "metadata": {
        "colab": {
          "base_uri": "https://localhost:8080/"
        },
        "id": "imGtSSdYk5l5",
        "outputId": "1107f558-c811-4c1c-e385-e7f6f2a25f12"
      },
      "outputs": [
        {
          "name": "stdout",
          "output_type": "stream",
          "text": [
            "FNR (Income 1 participants): 0.1444\n",
            "FNR (Income 2 participants): 0.1471\n",
            "FNR (Income 3 participants): 0.2421\n",
            "FNR (Income 4 participants): 0.3275\n",
            "FNR (Income 5 participants): 0.3968\n",
            "FNR (Income 6 participants): 0.4835\n",
            "FNR (Income 7 participants): 0.5689\n",
            "FNR (Income 8 participants): 0.6688\n"
          ]
        }
      ],
      "source": [
        "for group in ['Income 1', 'Income 2', 'Income 3', 'Income 4', 'Income 5', 'Income 6', 'Income 7', 'Income 8']:\n",
        "    FNR = fn[group]/(tp[group]+fn[group])\n",
        "    print(f'FNR ({group} participants): {FNR:.4f}')"
      ]
    },
    {
      "cell_type": "code",
      "execution_count": 238,
      "metadata": {
        "colab": {
          "base_uri": "https://localhost:8080/"
        },
        "id": "VjRZFmUnk5l6",
        "outputId": "6356c67f-a814-40a3-fc0d-c1ea92f11976"
      },
      "outputs": [
        {
          "name": "stdout",
          "output_type": "stream",
          "text": [
            "FPR (Income 1 participants): 0.5333\n",
            "FPR (Income 2 participants): 0.5389\n",
            "FPR (Income 3 participants): 0.4219\n",
            "FPR (Income 4 participants): 0.3419\n",
            "FPR (Income 5 participants): 0.2671\n",
            "FPR (Income 6 participants): 0.1989\n",
            "FPR (Income 7 participants): 0.1351\n",
            "FPR (Income 8 participants): 0.0722\n"
          ]
        }
      ],
      "source": [
        "for group in ['Income 1', 'Income 2', 'Income 3', 'Income 4', 'Income 5', 'Income 6', 'Income 7', 'Income 8']:\n",
        "    FPR = fp[group]/(tn[group]+fp[group])\n",
        "    print(f'FPR ({group} participants): {FPR:.4f}')"
      ]
    },
    {
      "cell_type": "code",
      "execution_count": 239,
      "metadata": {
        "colab": {
          "base_uri": "https://localhost:8080/"
        },
        "id": "IYTVPjlik5l6",
        "outputId": "09cb25fa-5f2d-436e-e35f-e33e0ba81e79"
      },
      "outputs": [
        {
          "name": "stdout",
          "output_type": "stream",
          "text": [
            "Fraction positive (Income 1 participants): 0.6086\n",
            "Fraction positive (Income 2 participants): 0.6211\n",
            "Fraction positive (Income 3 participants): 0.4972\n",
            "Fraction positive (Income 4 participants): 0.4115\n",
            "Fraction positive (Income 5 participants): 0.3280\n",
            "Fraction positive (Income 6 participants): 0.2453\n",
            "Fraction positive (Income 7 participants): 0.1719\n",
            "Fraction positive (Income 8 participants): 0.0928\n"
          ]
        }
      ],
      "source": [
        "for group in 'Income 1', 'Income 2', 'Income 3', 'Income 4', 'Income 5', 'Income 6', 'Income 7', 'Income 8':\n",
        "    PR = pred_y[group].mean()\n",
        "    print(f'Fraction positive ({group} participants): {PR:.4f}')"
      ]
    },
    {
      "cell_type": "markdown",
      "metadata": {
        "id": "1E13MH36k5l6"
      },
      "source": [
        "### c. Informative Plots"
      ]
    },
    {
      "cell_type": "code",
      "execution_count": 240,
      "metadata": {
        "colab": {
          "base_uri": "https://localhost:8080/",
          "height": 472
        },
        "id": "MBa5T-Tjk5l6",
        "outputId": "724527d4-6f15-4e73-a600-65f5e9e0745b"
      },
      "outputs": [
        {
          "data": {
            "image/png": "[encoded data removed]",
            "text/plain": [
              "<Figure size 640x480 with 1 Axes>"
            ]
          },
          "metadata": {},
          "output_type": "display_data"
        }
      ],
      "source": [
        "train_sizes = np.linspace(0.1, 1.0, 10)\n",
        "train_scores = []\n",
        "\n",
        "for size in train_sizes:\n",
        "    subset_size = int(size * X_train.shape[0])\n",
        "    X_subset, y_subset = X_train[:subset_size], y_train[:subset_size]\n",
        "    model.fit(X_subset, y_subset)\n",
        "    train_scores.append(model.score(X_val, y_val))\n",
        "\n",
        "# Plotting the learning curve over accuracy in validation set\n",
        "plt.plot(train_sizes, train_scores, label='Accuracy')\n",
        "plt.title('Learning Curve')\n",
        "plt.xlabel('Fraction of Training Data Used')\n",
        "plt.ylabel('Accuracy on Validation Set')\n",
        "plt.legend()\n",
        "plt.show()"
      ]
    },
    {
      "cell_type": "code",
      "execution_count": 241,
      "metadata": {
        "colab": {
          "base_uri": "https://localhost:8080/",
          "height": 452
        },
        "id": "Sqqo18n_k5l6",
        "outputId": "be17f54e-4ff7-4fc7-d54b-7be85ac0ba80"
      },
      "outputs": [
        {
          "data": {
            "image/png": "[encoded data removed]",
            "text/plain": [
              "<Figure size 640x480 with 2 Axes>"
            ]
          },
          "metadata": {},
          "output_type": "display_data"
        }
      ],
      "source": [
        "cm_display = metrics.ConfusionMatrixDisplay(confusion_matrix = metrics.confusion_matrix(y_test, y_test_pred), display_labels = [False, True])\n",
        "\n",
        "cm_display.plot()\n",
        "plt.show()"
      ]
    },
    {
      "cell_type": "markdown",
      "metadata": {
        "id": "LgumGWvPk5l6"
      },
      "source": [
        "## Model 2: Logistic Regression\n",
        "### a. Model"
      ]
    },
    {
      "cell_type": "code",
      "execution_count": 242,
      "metadata": {
        "id": "6-aMdaU-k5l6"
      },
      "outputs": [],
      "source": [
        "from sklearn.linear_model import LogisticRegression\n",
        "X = feature_data\n",
        "y = target_data.Diabetes_binary\n",
        "\n",
        "# splitting the data into training and testing sets\n",
        "X_train, X_test, y_train, y_test = train_test_split(X, y, test_size=0.2)\n",
        "\n",
        "# training the logistic regression model\n",
        "logistic_model = LogisticRegression()\n",
        "logistic_model.fit(X_train, y_train)\n",
        "\n",
        "# predicting on the test set\n",
        "y_pred_logreg = logistic_model.predict(X_test)\n",
        "y_pred_proba_logreg = logistic_model.predict_proba(X_test)[:, 1]\n"
      ]
    },
    {
      "cell_type": "markdown",
      "metadata": {
        "id": "0OO_k1Hqk5l6"
      },
      "source": [
        "### b. Evaluation Metrics"
      ]
    },
    {
      "cell_type": "code",
      "execution_count": 243,
      "metadata": {
        "colab": {
          "base_uri": "https://localhost:8080/"
        },
        "id": "1Z25jpnVk5l6",
        "outputId": "d384175c-31e8-4c7d-fa61-7fc723134a0f"
      },
      "outputs": [
        {
          "name": "stdout",
          "output_type": "stream",
          "text": [
            "AUC: 0.8097\n",
            "F1 Score: 0.2412\n"
          ]
        }
      ],
      "source": [
        "from sklearn.metrics import roc_auc_score\n",
        "# calculating the AUC and F1 score\n",
        "AUC_logreg = roc_auc_score(y_test, y_pred_proba_logreg)\n",
        "f1_logreg = f1_score(y_test, y_pred_logreg)\n",
        "\n",
        "print(f'AUC: {AUC_logreg:.4f}')\n",
        "print(f'F1 Score: {f1_logreg:.4f}')"
      ]
    },
    {
      "cell_type": "code",
      "execution_count": 244,
      "metadata": {
        "colab": {
          "base_uri": "https://localhost:8080/"
        },
        "id": "FmTA6xCik5l6",
        "outputId": "c6ddaf48-710a-4b8b-a42c-178a666ed068"
      },
      "outputs": [
        {
          "name": "stdout",
          "output_type": "stream",
          "text": [
            "              precision    recall  f1-score   support\n",
            "\n",
            "           0       0.88      0.97      0.92     43783\n",
            "           1       0.50      0.16      0.24      6953\n",
            "\n",
            "    accuracy                           0.86     50736\n",
            "   macro avg       0.69      0.57      0.58     50736\n",
            "weighted avg       0.83      0.86      0.83     50736\n",
            "\n"
          ]
        }
      ],
      "source": [
        "from sklearn.metrics import classification_report\n",
        "print(classification_report(y_test, y_pred_logreg))\n"
      ]
    },
    {
      "cell_type": "code",
      "execution_count": 245,
      "metadata": {
        "colab": {
          "base_uri": "https://localhost:8080/"
        },
        "id": "TpSOPdDWk5l6",
        "outputId": "11a0b481-5a3e-4b1f-8af6-ead798018aa8"
      },
      "outputs": [
        {
          "name": "stdout",
          "output_type": "stream",
          "text": [
            "Confusion Matrix:\n",
            " [[42687  1096]\n",
            " [ 5849  1104]]\n"
          ]
        }
      ],
      "source": [
        "print(\"Confusion Matrix:\\n\", metrics.confusion_matrix(y_test, y_pred_logreg))"
      ]
    },
    {
      "cell_type": "code",
      "execution_count": 246,
      "metadata": {
        "id": "K48wt9sjk5l7"
      },
      "outputs": [],
      "source": [
        "# calculating AUC and FNR for each sensitive attribute subgroup\n",
        "\n",
        "AUC_subgroups = {}\n",
        "FNR_subgroups = {}\n",
        "FPR_subgroups = {}\n",
        "\n",
        "for att in sensitive_attributes:\n",
        "    AUC_subgroups[att] = {}\n",
        "    FNR_subgroups[att] = {}\n",
        "    FPR_subgroups[att] = {}\n",
        "\n",
        "    subgroups = feature_data[att].unique()\n",
        "    for subgroup in subgroups:\n",
        "        curr_subgroup_index = X_test[att] == subgroup\n",
        "        curr_X_test = X_test[curr_subgroup_index]\n",
        "        curr_y_test = y_test[curr_subgroup_index]\n",
        "        curr_y_pred = logistic_model.predict(curr_X_test)\n",
        "        curr_y_pred_proba = logistic_model.predict_proba(curr_X_test)[:, 1]\n",
        "        curr_AUC = roc_auc_score(curr_y_test, curr_y_pred_proba)\n",
        "        tn, fp, fn, tp = confusion_matrix(curr_y_test, curr_y_pred).ravel()\n",
        "        curr_FNR = fn/(tp+fn)\n",
        "        curr_FPR = fp/(tn+fp)\n",
        "\n",
        "        AUC_subgroups[att][subgroup] = curr_AUC\n",
        "        FNR_subgroups[att][subgroup] = curr_FNR\n",
        "        FPR_subgroups[att][subgroup] = curr_FPR"
      ]
    },
    {
      "cell_type": "code",
      "execution_count": 247,
      "metadata": {
        "colab": {
          "base_uri": "https://localhost:8080/",
          "height": 959
        },
        "id": "o273jZjlKr6I",
        "outputId": "5e1cf4e3-4618-4f0d-e245-42eb8ecb9844"
      },
      "outputs": [
        {
          "data": {
            "text/html": [
              "<div>\n",
              "<style scoped>\n",
              "    .dataframe tbody tr th:only-of-type {\n",
              "        vertical-align: middle;\n",
              "    }\n",
              "\n",
              "    .dataframe tbody tr th {\n",
              "        vertical-align: top;\n",
              "    }\n",
              "\n",
              "    .dataframe thead th {\n",
              "        text-align: right;\n",
              "    }\n",
              "</style>\n",
              "<table border=\"1\" class=\"dataframe\">\n",
              "  <thead>\n",
              "    <tr style=\"text-align: right;\">\n",
              "      <th></th>\n",
              "      <th>Attribute</th>\n",
              "      <th>Subgroup</th>\n",
              "      <th>AUC</th>\n",
              "      <th>FNR</th>\n",
              "      <th>FPR</th>\n",
              "    </tr>\n",
              "  </thead>\n",
              "  <tbody>\n",
              "    <tr>\n",
              "      <th>0</th>\n",
              "      <td>Sex</td>\n",
              "      <td>0</td>\n",
              "      <td>0.824945</td>\n",
              "      <td>0.828317</td>\n",
              "      <td>0.024876</td>\n",
              "    </tr>\n",
              "    <tr>\n",
              "      <th>1</th>\n",
              "      <td>Sex</td>\n",
              "      <td>1</td>\n",
              "      <td>0.789996</td>\n",
              "      <td>0.854978</td>\n",
              "      <td>0.025236</td>\n",
              "    </tr>\n",
              "    <tr>\n",
              "      <th>2</th>\n",
              "      <td>Age</td>\n",
              "      <td>9</td>\n",
              "      <td>0.796689</td>\n",
              "      <td>0.841441</td>\n",
              "      <td>0.024412</td>\n",
              "    </tr>\n",
              "    <tr>\n",
              "      <th>3</th>\n",
              "      <td>Age</td>\n",
              "      <td>7</td>\n",
              "      <td>0.818920</td>\n",
              "      <td>0.850000</td>\n",
              "      <td>0.016202</td>\n",
              "    </tr>\n",
              "    <tr>\n",
              "      <th>4</th>\n",
              "      <td>Age</td>\n",
              "      <td>11</td>\n",
              "      <td>0.732312</td>\n",
              "      <td>0.830800</td>\n",
              "      <td>0.038726</td>\n",
              "    </tr>\n",
              "    <tr>\n",
              "      <th>5</th>\n",
              "      <td>Age</td>\n",
              "      <td>10</td>\n",
              "      <td>0.768297</td>\n",
              "      <td>0.846847</td>\n",
              "      <td>0.036371</td>\n",
              "    </tr>\n",
              "    <tr>\n",
              "      <th>6</th>\n",
              "      <td>Age</td>\n",
              "      <td>8</td>\n",
              "      <td>0.823568</td>\n",
              "      <td>0.833918</td>\n",
              "      <td>0.022070</td>\n",
              "    </tr>\n",
              "    <tr>\n",
              "      <th>7</th>\n",
              "      <td>Age</td>\n",
              "      <td>13</td>\n",
              "      <td>0.688605</td>\n",
              "      <td>0.774845</td>\n",
              "      <td>0.075518</td>\n",
              "    </tr>\n",
              "    <tr>\n",
              "      <th>8</th>\n",
              "      <td>Age</td>\n",
              "      <td>4</td>\n",
              "      <td>0.795107</td>\n",
              "      <td>0.952381</td>\n",
              "      <td>0.002295</td>\n",
              "    </tr>\n",
              "    <tr>\n",
              "      <th>9</th>\n",
              "      <td>Age</td>\n",
              "      <td>6</td>\n",
              "      <td>0.821778</td>\n",
              "      <td>0.896067</td>\n",
              "      <td>0.008906</td>\n",
              "    </tr>\n",
              "    <tr>\n",
              "      <th>10</th>\n",
              "      <td>Age</td>\n",
              "      <td>2</td>\n",
              "      <td>0.847090</td>\n",
              "      <td>0.931034</td>\n",
              "      <td>0.001360</td>\n",
              "    </tr>\n",
              "    <tr>\n",
              "      <th>11</th>\n",
              "      <td>Age</td>\n",
              "      <td>12</td>\n",
              "      <td>0.698197</td>\n",
              "      <td>0.822059</td>\n",
              "      <td>0.058869</td>\n",
              "    </tr>\n",
              "    <tr>\n",
              "      <th>12</th>\n",
              "      <td>Age</td>\n",
              "      <td>5</td>\n",
              "      <td>0.840890</td>\n",
              "      <td>0.913793</td>\n",
              "      <td>0.007331</td>\n",
              "    </tr>\n",
              "    <tr>\n",
              "      <th>13</th>\n",
              "      <td>Age</td>\n",
              "      <td>1</td>\n",
              "      <td>0.704384</td>\n",
              "      <td>0.933333</td>\n",
              "      <td>0.001765</td>\n",
              "    </tr>\n",
              "    <tr>\n",
              "      <th>14</th>\n",
              "      <td>Age</td>\n",
              "      <td>3</td>\n",
              "      <td>0.784749</td>\n",
              "      <td>0.984615</td>\n",
              "      <td>0.003210</td>\n",
              "    </tr>\n",
              "    <tr>\n",
              "      <th>15</th>\n",
              "      <td>Education</td>\n",
              "      <td>4</td>\n",
              "      <td>0.777709</td>\n",
              "      <td>0.824490</td>\n",
              "      <td>0.040466</td>\n",
              "    </tr>\n",
              "    <tr>\n",
              "      <th>16</th>\n",
              "      <td>Education</td>\n",
              "      <td>6</td>\n",
              "      <td>0.820958</td>\n",
              "      <td>0.903382</td>\n",
              "      <td>0.009521</td>\n",
              "    </tr>\n",
              "    <tr>\n",
              "      <th>17</th>\n",
              "      <td>Education</td>\n",
              "      <td>3</td>\n",
              "      <td>0.750759</td>\n",
              "      <td>0.696759</td>\n",
              "      <td>0.078019</td>\n",
              "    </tr>\n",
              "    <tr>\n",
              "      <th>18</th>\n",
              "      <td>Education</td>\n",
              "      <td>5</td>\n",
              "      <td>0.804529</td>\n",
              "      <td>0.852113</td>\n",
              "      <td>0.025219</td>\n",
              "    </tr>\n",
              "    <tr>\n",
              "      <th>19</th>\n",
              "      <td>Education</td>\n",
              "      <td>2</td>\n",
              "      <td>0.767507</td>\n",
              "      <td>0.649194</td>\n",
              "      <td>0.117745</td>\n",
              "    </tr>\n",
              "    <tr>\n",
              "      <th>20</th>\n",
              "      <td>Education</td>\n",
              "      <td>1</td>\n",
              "      <td>0.734615</td>\n",
              "      <td>0.500000</td>\n",
              "      <td>0.153846</td>\n",
              "    </tr>\n",
              "    <tr>\n",
              "      <th>21</th>\n",
              "      <td>Income</td>\n",
              "      <td>3</td>\n",
              "      <td>0.762472</td>\n",
              "      <td>0.727654</td>\n",
              "      <td>0.070384</td>\n",
              "    </tr>\n",
              "    <tr>\n",
              "      <th>22</th>\n",
              "      <td>Income</td>\n",
              "      <td>1</td>\n",
              "      <td>0.783317</td>\n",
              "      <td>0.579186</td>\n",
              "      <td>0.124748</td>\n",
              "    </tr>\n",
              "    <tr>\n",
              "      <th>23</th>\n",
              "      <td>Income</td>\n",
              "      <td>8</td>\n",
              "      <td>0.819508</td>\n",
              "      <td>0.960227</td>\n",
              "      <td>0.003310</td>\n",
              "    </tr>\n",
              "    <tr>\n",
              "      <th>24</th>\n",
              "      <td>Income</td>\n",
              "      <td>6</td>\n",
              "      <td>0.790719</td>\n",
              "      <td>0.895833</td>\n",
              "      <td>0.017733</td>\n",
              "    </tr>\n",
              "    <tr>\n",
              "      <th>25</th>\n",
              "      <td>Income</td>\n",
              "      <td>4</td>\n",
              "      <td>0.750838</td>\n",
              "      <td>0.808219</td>\n",
              "      <td>0.052377</td>\n",
              "    </tr>\n",
              "    <tr>\n",
              "      <th>26</th>\n",
              "      <td>Income</td>\n",
              "      <td>7</td>\n",
              "      <td>0.802554</td>\n",
              "      <td>0.929709</td>\n",
              "      <td>0.009072</td>\n",
              "    </tr>\n",
              "    <tr>\n",
              "      <th>27</th>\n",
              "      <td>Income</td>\n",
              "      <td>2</td>\n",
              "      <td>0.758216</td>\n",
              "      <td>0.662866</td>\n",
              "      <td>0.112903</td>\n",
              "    </tr>\n",
              "    <tr>\n",
              "      <th>28</th>\n",
              "      <td>Income</td>\n",
              "      <td>5</td>\n",
              "      <td>0.773770</td>\n",
              "      <td>0.859218</td>\n",
              "      <td>0.029993</td>\n",
              "    </tr>\n",
              "  </tbody>\n",
              "</table>\n",
              "</div>"
            ],
            "text/plain": [
              "    Attribute  Subgroup       AUC       FNR       FPR\n",
              "0         Sex         0  0.824945  0.828317  0.024876\n",
              "1         Sex         1  0.789996  0.854978  0.025236\n",
              "2         Age         9  0.796689  0.841441  0.024412\n",
              "3         Age         7  0.818920  0.850000  0.016202\n",
              "4         Age        11  0.732312  0.830800  0.038726\n",
              "5         Age        10  0.768297  0.846847  0.036371\n",
              "6         Age         8  0.823568  0.833918  0.022070\n",
              "7         Age        13  0.688605  0.774845  0.075518\n",
              "8         Age         4  0.795107  0.952381  0.002295\n",
              "9         Age         6  0.821778  0.896067  0.008906\n",
              "10        Age         2  0.847090  0.931034  0.001360\n",
              "11        Age        12  0.698197  0.822059  0.058869\n",
              "12        Age         5  0.840890  0.913793  0.007331\n",
              "13        Age         1  0.704384  0.933333  0.001765\n",
              "14        Age         3  0.784749  0.984615  0.003210\n",
              "15  Education         4  0.777709  0.824490  0.040466\n",
              "16  Education         6  0.820958  0.903382  0.009521\n",
              "17  Education         3  0.750759  0.696759  0.078019\n",
              "18  Education         5  0.804529  0.852113  0.025219\n",
              "19  Education         2  0.767507  0.649194  0.117745\n",
              "20  Education         1  0.734615  0.500000  0.153846\n",
              "21     Income         3  0.762472  0.727654  0.070384\n",
              "22     Income         1  0.783317  0.579186  0.124748\n",
              "23     Income         8  0.819508  0.960227  0.003310\n",
              "24     Income         6  0.790719  0.895833  0.017733\n",
              "25     Income         4  0.750838  0.808219  0.052377\n",
              "26     Income         7  0.802554  0.929709  0.009072\n",
              "27     Income         2  0.758216  0.662866  0.112903\n",
              "28     Income         5  0.773770  0.859218  0.029993"
            ]
          },
          "execution_count": 247,
          "metadata": {},
          "output_type": "execute_result"
        }
      ],
      "source": [
        "# formatting the results into a df\n",
        "\n",
        "data = [(att, subgroup) for att, subgroups in AUC_subgroups.items() for subgroup in subgroups]\n",
        "results_df = pd.DataFrame(data, columns=['Attribute', 'Subgroup'])\n",
        "\n",
        "results_df['AUC'] = [AUC_subgroups[att][subgroup] for att, subgroups in AUC_subgroups.items() for subgroup in subgroups]\n",
        "results_df['FNR'] = [FNR_subgroups[att][subgroup] for att, subgroups in FNR_subgroups.items() for subgroup in subgroups]\n",
        "results_df['FPR'] = [FPR_subgroups[att][subgroup] for att, subgroups in FPR_subgroups.items() for subgroup in subgroups]\n",
        "\n",
        "results_df"
      ]
    },
    {
      "cell_type": "markdown",
      "metadata": {
        "id": "YNcnrQq4k5l7"
      },
      "source": [
        "### c. Informative Plots"
      ]
    },
    {
      "cell_type": "code",
      "execution_count": 248,
      "metadata": {
        "id": "aQq-MLdOk5l7"
      },
      "outputs": [
        {
          "data": {
            "image/png": "[encoded data removed]",
            "text/plain": [
              "<Figure size 1200x1800 with 12 Axes>"
            ]
          },
          "metadata": {},
          "output_type": "display_data"
        }
      ],
      "source": [
        "# plotting the AUC for each subgroup\n",
        "\n",
        "fig = plt.figure(figsize=(12,18))\n",
        "fig.suptitle('Model metrics across Subgroups',\n",
        "             va='bottom', y=0.9, fontsize=20)\n",
        "fig_count = 1\n",
        "\n",
        "for att in sensitive_attributes:\n",
        "\n",
        "    for metric in ['AUC', 'FNR', 'FPR']:\n",
        "        plt.subplot(4, 3, fig_count)\n",
        "        plt.title(f'{metric} across {att} groups')\n",
        "        sns.barplot(x='Subgroup', y=metric, data=results_df[results_df['Attribute'] == att], palette='Pastel1')\n",
        "        plt.xlabel('')\n",
        "        plt.ylabel('')\n",
        "\n",
        "        fig_count += 1\n",
        "\n",
        "plt.show()\n"
      ]
    },
    {
      "cell_type": "code",
      "execution_count": 249,
      "metadata": {},
      "outputs": [
        {
          "data": {
            "text/plain": [
              "Text(45.72222222222221, 0.5, 'True')"
            ]
          },
          "execution_count": 249,
          "metadata": {},
          "output_type": "execute_result"
        },
        {
          "data": {
            "image/png": "[encoded data removed]",
            "text/plain": [
              "<Figure size 600x400 with 1 Axes>"
            ]
          },
          "metadata": {},
          "output_type": "display_data"
        }
      ],
      "source": [
        "# plotting the confusion matrix for the logistic regression model\n",
        "conf_matrix_logreg = confusion_matrix(y_test, y_pred_logreg)\n",
        "\n",
        "plt.figure(figsize=(6,4))\n",
        "plt.title('Confusion Matrix for Logistic Regression Model')\n",
        "sns.heatmap(conf_matrix_logreg, annot=True, fmt='d', cmap='Blues', cbar=False, xticklabels=['No Diabetes', 'Diabetes'], yticklabels=['No Diabetes', 'Diabetes'])\n",
        "plt.xlabel('Predicted')\n",
        "plt.ylabel('True')"
      ]
    },
    {
      "cell_type": "markdown",
      "metadata": {
        "id": "mIMFvUYAk5l7"
      },
      "source": [
        "## Model 3: SVC\n",
        "\n",
        "### a. Model\n"
      ]
    },
    {
      "cell_type": "code",
      "execution_count": 250,
      "metadata": {
        "id": "gCvzINZbk5l7"
      },
      "outputs": [],
      "source": [
        "from imblearn.over_sampling import SMOTE\n",
        "from sklearn.preprocessing import StandardScaler\n",
        "X = feature_data\n",
        "y = target_data['Diabetes_binary']\n",
        "\n",
        "X_scaled = StandardScaler().fit_transform(X)\n",
        "X_train, X_test, y_train, y_test = train_test_split(X_scaled, y, test_size=0.2, random_state=42)\n",
        "\n",
        "smote = SMOTE(random_state=42)\n",
        "X_train_smote, y_train_smote = smote.fit_resample(X_train, y_train)\n",
        "from sklearn.utils import resample\n",
        "from sklearn.svm import LinearSVC\n",
        "\n",
        "# Selecting a random subset of the data\n",
        "X_train_subset, y_train_subset = resample(X_train_smote, y_train_smote, n_samples=int(len(X_train) * 0.1), random_state=42, replace=False)\n",
        "\n",
        "# Training the LinearSVC model on the subset\n",
        "linear_svc_subset_model = LinearSVC(random_state=42, max_iter=1000, C=0.1)\n",
        "linear_svc_subset_model.fit(X_train_subset, y_train_subset)\n",
        "\n",
        "# Predicting on the test set\n",
        "y_pred_subset = linear_svc_subset_model.predict(X_test)"
      ]
    },
    {
      "cell_type": "code",
      "execution_count": 251,
      "metadata": {
        "colab": {
          "base_uri": "https://localhost:8080/"
        },
        "id": "R8JtcrbFLvwF",
        "outputId": "17301df6-c1a3-4176-aa34-40a14238ea1c"
      },
      "outputs": [
        {
          "data": {
            "text/plain": [
              "array([0, 1, 0, ..., 0, 1, 0], dtype=int64)"
            ]
          },
          "execution_count": 251,
          "metadata": {},
          "output_type": "execute_result"
        }
      ],
      "source": [
        "y_pred_subset"
      ]
    },
    {
      "cell_type": "markdown",
      "metadata": {
        "id": "hM7-gI0Jk5l7"
      },
      "source": [
        "### b. Evaluation Metrics"
      ]
    },
    {
      "cell_type": "code",
      "execution_count": 252,
      "metadata": {
        "colab": {
          "base_uri": "https://localhost:8080/"
        },
        "id": "mfXX6rgek5l7",
        "outputId": "4174d2dd-41f4-4812-c097-1600afbcb1ed"
      },
      "outputs": [
        {
          "data": {
            "text/plain": [
              "0.750101037674323"
            ]
          },
          "execution_count": 252,
          "metadata": {},
          "output_type": "execute_result"
        }
      ],
      "source": [
        "from sklearn.metrics import roc_auc_score\n",
        "\n",
        "# Calculating AUC\n",
        "auc_score = roc_auc_score(y_test, y_pred_subset)\n",
        "auc_score\n"
      ]
    },
    {
      "cell_type": "code",
      "execution_count": 253,
      "metadata": {
        "colab": {
          "base_uri": "https://localhost:8080/"
        },
        "id": "3vI0Y0htmsbq",
        "outputId": "11b54c68-4e3d-4ddb-d50b-4b9c75451da1"
      },
      "outputs": [
        {
          "data": {
            "text/plain": [
              "0.7243771680857773"
            ]
          },
          "execution_count": 253,
          "metadata": {},
          "output_type": "execute_result"
        }
      ],
      "source": [
        "# Calculating accuracy for the LinearSVC model trained on the subset\n",
        "accuracy_subset = accuracy_score(y_test, y_pred_subset)\n",
        "accuracy_subset"
      ]
    },
    {
      "cell_type": "code",
      "execution_count": 254,
      "metadata": {
        "colab": {
          "base_uri": "https://localhost:8080/"
        },
        "id": "2B8QIRKgmxLB",
        "outputId": "5839fd7c-8207-494a-8070-ef4b9c11dfba"
      },
      "outputs": [
        {
          "data": {
            "text/plain": [
              "0.21437759039588394"
            ]
          },
          "execution_count": 254,
          "metadata": {},
          "output_type": "execute_result"
        }
      ],
      "source": [
        "from sklearn.metrics import confusion_matrix\n",
        "\n",
        "# Generating the confusion matrix\n",
        "conf_matrix = confusion_matrix(y_test, y_pred_subset)\n",
        "\n",
        "# Extracting false negatives (FN) and true positives (TP)\n",
        "FN = conf_matrix[1][0]\n",
        "TP = conf_matrix[1][1]\n",
        "\n",
        "# Calculating the False Negative Rate (FNR)\n",
        "FNR = FN / (FN + TP)\n",
        "FNR"
      ]
    },
    {
      "cell_type": "code",
      "execution_count": 255,
      "metadata": {
        "colab": {
          "base_uri": "https://localhost:8080/"
        },
        "id": "jxwlgNnInAUA",
        "outputId": "7157d70b-6968-4173-8bdb-40f2eac4f39d"
      },
      "outputs": [
        {
          "name": "stdout",
          "output_type": "stream",
          "text": [
            "              precision    recall  f1-score   support\n",
            "\n",
            "           0       0.95      0.71      0.82     43739\n",
            "           1       0.31      0.79      0.44      6997\n",
            "\n",
            "    accuracy                           0.72     50736\n",
            "   macro avg       0.63      0.75      0.63     50736\n",
            "weighted avg       0.86      0.72      0.77     50736\n",
            "\n"
          ]
        }
      ],
      "source": [
        "from sklearn.metrics import classification_report\n",
        "\n",
        "# Classification report\n",
        "class_report = classification_report(y_test, y_pred_subset)\n",
        "print(class_report)\n"
      ]
    },
    {
      "cell_type": "code",
      "execution_count": 256,
      "metadata": {
        "colab": {
          "base_uri": "https://localhost:8080/",
          "height": 444
        },
        "id": "WJVlW5bcMDDQ",
        "outputId": "c8b5656b-a93e-4202-b83c-8c463cb31093"
      },
      "outputs": [
        {
          "data": {
            "text/html": [
              "<div>\n",
              "<style scoped>\n",
              "    .dataframe tbody tr th:only-of-type {\n",
              "        vertical-align: middle;\n",
              "    }\n",
              "\n",
              "    .dataframe tbody tr th {\n",
              "        vertical-align: top;\n",
              "    }\n",
              "\n",
              "    .dataframe thead th {\n",
              "        text-align: right;\n",
              "    }\n",
              "</style>\n",
              "<table border=\"1\" class=\"dataframe\">\n",
              "  <thead>\n",
              "    <tr style=\"text-align: right;\">\n",
              "      <th></th>\n",
              "      <th>HighBP</th>\n",
              "      <th>HighChol</th>\n",
              "      <th>CholCheck</th>\n",
              "      <th>BMI</th>\n",
              "      <th>Smoker</th>\n",
              "      <th>Stroke</th>\n",
              "      <th>HeartDiseaseorAttack</th>\n",
              "      <th>PhysActivity</th>\n",
              "      <th>Fruits</th>\n",
              "      <th>Veggies</th>\n",
              "      <th>...</th>\n",
              "      <th>GenHlth</th>\n",
              "      <th>MentHlth</th>\n",
              "      <th>PhysHlth</th>\n",
              "      <th>DiffWalk</th>\n",
              "      <th>Sex</th>\n",
              "      <th>Age</th>\n",
              "      <th>Education</th>\n",
              "      <th>Income</th>\n",
              "      <th>Predicted_Diabetes_binary</th>\n",
              "      <th>True_Diabetes_binary</th>\n",
              "    </tr>\n",
              "  </thead>\n",
              "  <tbody>\n",
              "    <tr>\n",
              "      <th>0</th>\n",
              "      <td>-0.866785</td>\n",
              "      <td>-0.858182</td>\n",
              "      <td>0.196922</td>\n",
              "      <td>-1.117071</td>\n",
              "      <td>-0.892119</td>\n",
              "      <td>-0.205637</td>\n",
              "      <td>-0.322458</td>\n",
              "      <td>-1.762814</td>\n",
              "      <td>0.759375</td>\n",
              "      <td>0.482087</td>\n",
              "      <td>...</td>\n",
              "      <td>0.457294</td>\n",
              "      <td>-0.024926</td>\n",
              "      <td>0.316350</td>\n",
              "      <td>-0.449718</td>\n",
              "      <td>-0.887021</td>\n",
              "      <td>-0.337933</td>\n",
              "      <td>-1.065595</td>\n",
              "      <td>-1.957312</td>\n",
              "      <td>0</td>\n",
              "      <td>0</td>\n",
              "    </tr>\n",
              "    <tr>\n",
              "      <th>1</th>\n",
              "      <td>1.153688</td>\n",
              "      <td>1.165254</td>\n",
              "      <td>0.196922</td>\n",
              "      <td>-0.057858</td>\n",
              "      <td>-0.892119</td>\n",
              "      <td>-0.205637</td>\n",
              "      <td>-0.322458</td>\n",
              "      <td>0.567275</td>\n",
              "      <td>0.759375</td>\n",
              "      <td>0.482087</td>\n",
              "      <td>...</td>\n",
              "      <td>0.457294</td>\n",
              "      <td>-0.429630</td>\n",
              "      <td>-0.486592</td>\n",
              "      <td>-0.449718</td>\n",
              "      <td>-0.887021</td>\n",
              "      <td>1.626566</td>\n",
              "      <td>0.963272</td>\n",
              "      <td>-0.026012</td>\n",
              "      <td>1</td>\n",
              "      <td>0</td>\n",
              "    </tr>\n",
              "    <tr>\n",
              "      <th>2</th>\n",
              "      <td>-0.866785</td>\n",
              "      <td>-0.858182</td>\n",
              "      <td>0.196922</td>\n",
              "      <td>-0.663122</td>\n",
              "      <td>-0.892119</td>\n",
              "      <td>-0.205637</td>\n",
              "      <td>-0.322458</td>\n",
              "      <td>0.567275</td>\n",
              "      <td>0.759375</td>\n",
              "      <td>0.482087</td>\n",
              "      <td>...</td>\n",
              "      <td>-1.414532</td>\n",
              "      <td>-0.429630</td>\n",
              "      <td>-0.486592</td>\n",
              "      <td>-0.449718</td>\n",
              "      <td>1.127369</td>\n",
              "      <td>-2.302431</td>\n",
              "      <td>-1.065595</td>\n",
              "      <td>0.456813</td>\n",
              "      <td>0</td>\n",
              "      <td>0</td>\n",
              "    </tr>\n",
              "    <tr>\n",
              "      <th>3</th>\n",
              "      <td>-0.866785</td>\n",
              "      <td>-0.858182</td>\n",
              "      <td>0.196922</td>\n",
              "      <td>-0.209174</td>\n",
              "      <td>1.120927</td>\n",
              "      <td>-0.205637</td>\n",
              "      <td>-0.322458</td>\n",
              "      <td>0.567275</td>\n",
              "      <td>-1.316872</td>\n",
              "      <td>0.482087</td>\n",
              "      <td>...</td>\n",
              "      <td>-0.478619</td>\n",
              "      <td>-0.024926</td>\n",
              "      <td>-0.486592</td>\n",
              "      <td>-0.449718</td>\n",
              "      <td>1.127369</td>\n",
              "      <td>-1.975015</td>\n",
              "      <td>-1.065595</td>\n",
              "      <td>0.456813</td>\n",
              "      <td>0</td>\n",
              "      <td>0</td>\n",
              "    </tr>\n",
              "    <tr>\n",
              "      <th>4</th>\n",
              "      <td>-0.866785</td>\n",
              "      <td>1.165254</td>\n",
              "      <td>0.196922</td>\n",
              "      <td>0.396091</td>\n",
              "      <td>1.120927</td>\n",
              "      <td>-0.205637</td>\n",
              "      <td>-0.322458</td>\n",
              "      <td>-1.762814</td>\n",
              "      <td>0.759375</td>\n",
              "      <td>0.482087</td>\n",
              "      <td>...</td>\n",
              "      <td>1.393207</td>\n",
              "      <td>3.212703</td>\n",
              "      <td>2.610472</td>\n",
              "      <td>2.223615</td>\n",
              "      <td>-0.887021</td>\n",
              "      <td>-0.010516</td>\n",
              "      <td>-2.080028</td>\n",
              "      <td>-1.957312</td>\n",
              "      <td>1</td>\n",
              "      <td>0</td>\n",
              "    </tr>\n",
              "    <tr>\n",
              "      <th>...</th>\n",
              "      <td>...</td>\n",
              "      <td>...</td>\n",
              "      <td>...</td>\n",
              "      <td>...</td>\n",
              "      <td>...</td>\n",
              "      <td>...</td>\n",
              "      <td>...</td>\n",
              "      <td>...</td>\n",
              "      <td>...</td>\n",
              "      <td>...</td>\n",
              "      <td>...</td>\n",
              "      <td>...</td>\n",
              "      <td>...</td>\n",
              "      <td>...</td>\n",
              "      <td>...</td>\n",
              "      <td>...</td>\n",
              "      <td>...</td>\n",
              "      <td>...</td>\n",
              "      <td>...</td>\n",
              "      <td>...</td>\n",
              "      <td>...</td>\n",
              "    </tr>\n",
              "    <tr>\n",
              "      <th>50731</th>\n",
              "      <td>1.153688</td>\n",
              "      <td>-0.858182</td>\n",
              "      <td>0.196922</td>\n",
              "      <td>0.093458</td>\n",
              "      <td>1.120927</td>\n",
              "      <td>-0.205637</td>\n",
              "      <td>-0.322458</td>\n",
              "      <td>0.567275</td>\n",
              "      <td>0.759375</td>\n",
              "      <td>0.482087</td>\n",
              "      <td>...</td>\n",
              "      <td>0.457294</td>\n",
              "      <td>-0.429630</td>\n",
              "      <td>0.660468</td>\n",
              "      <td>-0.449718</td>\n",
              "      <td>-0.887021</td>\n",
              "      <td>0.316900</td>\n",
              "      <td>0.963272</td>\n",
              "      <td>0.456813</td>\n",
              "      <td>0</td>\n",
              "      <td>1</td>\n",
              "    </tr>\n",
              "    <tr>\n",
              "      <th>50732</th>\n",
              "      <td>-0.866785</td>\n",
              "      <td>-0.858182</td>\n",
              "      <td>0.196922</td>\n",
              "      <td>-0.511806</td>\n",
              "      <td>-0.892119</td>\n",
              "      <td>-0.205637</td>\n",
              "      <td>-0.322458</td>\n",
              "      <td>0.567275</td>\n",
              "      <td>0.759375</td>\n",
              "      <td>0.482087</td>\n",
              "      <td>...</td>\n",
              "      <td>-0.478619</td>\n",
              "      <td>-0.294728</td>\n",
              "      <td>0.660468</td>\n",
              "      <td>-0.449718</td>\n",
              "      <td>-0.887021</td>\n",
              "      <td>0.644317</td>\n",
              "      <td>-0.051162</td>\n",
              "      <td>0.939638</td>\n",
              "      <td>0</td>\n",
              "      <td>0</td>\n",
              "    </tr>\n",
              "    <tr>\n",
              "      <th>50733</th>\n",
              "      <td>-0.866785</td>\n",
              "      <td>1.165254</td>\n",
              "      <td>0.196922</td>\n",
              "      <td>-0.057858</td>\n",
              "      <td>-0.892119</td>\n",
              "      <td>-0.205637</td>\n",
              "      <td>-0.322458</td>\n",
              "      <td>0.567275</td>\n",
              "      <td>0.759375</td>\n",
              "      <td>0.482087</td>\n",
              "      <td>...</td>\n",
              "      <td>0.457294</td>\n",
              "      <td>-0.024926</td>\n",
              "      <td>-0.486592</td>\n",
              "      <td>-0.449718</td>\n",
              "      <td>1.127369</td>\n",
              "      <td>-0.665349</td>\n",
              "      <td>0.963272</td>\n",
              "      <td>0.939638</td>\n",
              "      <td>0</td>\n",
              "      <td>0</td>\n",
              "    </tr>\n",
              "    <tr>\n",
              "      <th>50734</th>\n",
              "      <td>-0.866785</td>\n",
              "      <td>-0.858182</td>\n",
              "      <td>0.196922</td>\n",
              "      <td>-0.663122</td>\n",
              "      <td>1.120927</td>\n",
              "      <td>-0.205637</td>\n",
              "      <td>-0.322458</td>\n",
              "      <td>-1.762814</td>\n",
              "      <td>-1.316872</td>\n",
              "      <td>0.482087</td>\n",
              "      <td>...</td>\n",
              "      <td>1.393207</td>\n",
              "      <td>-0.429630</td>\n",
              "      <td>-0.486592</td>\n",
              "      <td>-0.449718</td>\n",
              "      <td>1.127369</td>\n",
              "      <td>1.626566</td>\n",
              "      <td>-1.065595</td>\n",
              "      <td>-0.508837</td>\n",
              "      <td>1</td>\n",
              "      <td>0</td>\n",
              "    </tr>\n",
              "    <tr>\n",
              "      <th>50735</th>\n",
              "      <td>-0.866785</td>\n",
              "      <td>-0.858182</td>\n",
              "      <td>0.196922</td>\n",
              "      <td>-0.814438</td>\n",
              "      <td>-0.892119</td>\n",
              "      <td>-0.205637</td>\n",
              "      <td>-0.322458</td>\n",
              "      <td>0.567275</td>\n",
              "      <td>0.759375</td>\n",
              "      <td>0.482087</td>\n",
              "      <td>...</td>\n",
              "      <td>-0.478619</td>\n",
              "      <td>-0.429630</td>\n",
              "      <td>-0.486592</td>\n",
              "      <td>-0.449718</td>\n",
              "      <td>-0.887021</td>\n",
              "      <td>-0.992766</td>\n",
              "      <td>0.963272</td>\n",
              "      <td>0.939638</td>\n",
              "      <td>0</td>\n",
              "      <td>0</td>\n",
              "    </tr>\n",
              "  </tbody>\n",
              "</table>\n",
              "<p>50736 rows × 23 columns</p>\n",
              "</div>"
            ],
            "text/plain": [
              "         HighBP  HighChol  CholCheck       BMI    Smoker    Stroke  \\\n",
              "0     -0.866785 -0.858182   0.196922 -1.117071 -0.892119 -0.205637   \n",
              "1      1.153688  1.165254   0.196922 -0.057858 -0.892119 -0.205637   \n",
              "2     -0.866785 -0.858182   0.196922 -0.663122 -0.892119 -0.205637   \n",
              "3     -0.866785 -0.858182   0.196922 -0.209174  1.120927 -0.205637   \n",
              "4     -0.866785  1.165254   0.196922  0.396091  1.120927 -0.205637   \n",
              "...         ...       ...        ...       ...       ...       ...   \n",
              "50731  1.153688 -0.858182   0.196922  0.093458  1.120927 -0.205637   \n",
              "50732 -0.866785 -0.858182   0.196922 -0.511806 -0.892119 -0.205637   \n",
              "50733 -0.866785  1.165254   0.196922 -0.057858 -0.892119 -0.205637   \n",
              "50734 -0.866785 -0.858182   0.196922 -0.663122  1.120927 -0.205637   \n",
              "50735 -0.866785 -0.858182   0.196922 -0.814438 -0.892119 -0.205637   \n",
              "\n",
              "       HeartDiseaseorAttack  PhysActivity    Fruits   Veggies  ...   GenHlth  \\\n",
              "0                 -0.322458     -1.762814  0.759375  0.482087  ...  0.457294   \n",
              "1                 -0.322458      0.567275  0.759375  0.482087  ...  0.457294   \n",
              "2                 -0.322458      0.567275  0.759375  0.482087  ... -1.414532   \n",
              "3                 -0.322458      0.567275 -1.316872  0.482087  ... -0.478619   \n",
              "4                 -0.322458     -1.762814  0.759375  0.482087  ...  1.393207   \n",
              "...                     ...           ...       ...       ...  ...       ...   \n",
              "50731             -0.322458      0.567275  0.759375  0.482087  ...  0.457294   \n",
              "50732             -0.322458      0.567275  0.759375  0.482087  ... -0.478619   \n",
              "50733             -0.322458      0.567275  0.759375  0.482087  ...  0.457294   \n",
              "50734             -0.322458     -1.762814 -1.316872  0.482087  ...  1.393207   \n",
              "50735             -0.322458      0.567275  0.759375  0.482087  ... -0.478619   \n",
              "\n",
              "       MentHlth  PhysHlth  DiffWalk       Sex       Age  Education    Income  \\\n",
              "0     -0.024926  0.316350 -0.449718 -0.887021 -0.337933  -1.065595 -1.957312   \n",
              "1     -0.429630 -0.486592 -0.449718 -0.887021  1.626566   0.963272 -0.026012   \n",
              "2     -0.429630 -0.486592 -0.449718  1.127369 -2.302431  -1.065595  0.456813   \n",
              "3     -0.024926 -0.486592 -0.449718  1.127369 -1.975015  -1.065595  0.456813   \n",
              "4      3.212703  2.610472  2.223615 -0.887021 -0.010516  -2.080028 -1.957312   \n",
              "...         ...       ...       ...       ...       ...        ...       ...   \n",
              "50731 -0.429630  0.660468 -0.449718 -0.887021  0.316900   0.963272  0.456813   \n",
              "50732 -0.294728  0.660468 -0.449718 -0.887021  0.644317  -0.051162  0.939638   \n",
              "50733 -0.024926 -0.486592 -0.449718  1.127369 -0.665349   0.963272  0.939638   \n",
              "50734 -0.429630 -0.486592 -0.449718  1.127369  1.626566  -1.065595 -0.508837   \n",
              "50735 -0.429630 -0.486592 -0.449718 -0.887021 -0.992766   0.963272  0.939638   \n",
              "\n",
              "       Predicted_Diabetes_binary  True_Diabetes_binary  \n",
              "0                              0                     0  \n",
              "1                              1                     0  \n",
              "2                              0                     0  \n",
              "3                              0                     0  \n",
              "4                              1                     0  \n",
              "...                          ...                   ...  \n",
              "50731                          0                     1  \n",
              "50732                          0                     0  \n",
              "50733                          0                     0  \n",
              "50734                          1                     0  \n",
              "50735                          0                     0  \n",
              "\n",
              "[50736 rows x 23 columns]"
            ]
          },
          "execution_count": 256,
          "metadata": {},
          "output_type": "execute_result"
        }
      ],
      "source": [
        "y_pred_subset_df = pd.DataFrame(y_pred_subset, columns=['Predicted_Diabetes_binary'])\n",
        "\n",
        "if len(y_pred_subset_df) == len(X_test):\n",
        "    # Add the predictions to the test dataset\n",
        "    X_test_df = pd.DataFrame(X_test, columns=feature_data.columns)\n",
        "    test_with_pred_df = X_test_df.reset_index(drop=True)\n",
        "    test_with_pred_df['Predicted_Diabetes_binary'] = y_pred_subset_df.reset_index(drop=True)\n",
        "    test_with_pred_df['True_Diabetes_binary'] = y_test.reset_index(drop=True)\n",
        "else:\n",
        "    result = \"The length of the prediction set does not match the test set, can't proceed with merging.\"\n",
        "\n",
        "# Checking the first few rows\n",
        "test_with_pred_df\n"
      ]
    },
    {
      "cell_type": "code",
      "execution_count": 257,
      "metadata": {
        "id": "TFF_8tX8MiRL"
      },
      "outputs": [],
      "source": [
        "from sklearn.metrics import roc_auc_score, confusion_matrix\n",
        "import numpy as np\n",
        "\n",
        "def calculate_fnr_fpr(y_true, y_pred):\n",
        "    tn, fp, fn, tp = confusion_matrix(y_true, y_pred).ravel()\n",
        "    fnr = fn / (fn + tp) if (fn + tp) > 0 else np.nan\n",
        "    fpr = fp / (fp + tn) if (fp + tn) > 0 else np.nan\n",
        "    return fnr, fpr\n",
        "\n",
        "# Function to calculate AUC\n",
        "def calculate_auc(y_true, y_pred_proba):\n",
        "    # Check if both classes are present\n",
        "    if len(np.unique(y_true)) == 1:\n",
        "        return np.nan\n",
        "    return roc_auc_score(y_true, y_pred_proba)\n",
        "\n",
        "results = {}\n",
        "\n",
        "# Demographic categories\n",
        "categories = ['Sex', 'Income', 'Education', 'Age']\n",
        "\n",
        "# Loop through each category and calculate metrics\n",
        "for cat in categories:\n",
        "    results[cat] = {}\n",
        "    for subgroup in test_with_pred_df[cat].unique():\n",
        "        subgroup_mask = test_with_pred_df[cat] == subgroup\n",
        "        y_true_subgroup = test_with_pred_df[subgroup_mask]['True_Diabetes_binary']\n",
        "        y_pred_subgroup = test_with_pred_df[subgroup_mask]['Predicted_Diabetes_binary']\n",
        "\n",
        "        # Calculate FNR\n",
        "        results[cat][subgroup] = {\n",
        "            'FNR': calculate_fnr_fpr(y_true_subgroup, y_pred_subgroup)\n",
        "        }\n",
        "\n",
        "        results[cat][subgroup]['AUC'] = calculate_auc(y_true_subgroup, y_pred_subgroup)"
      ]
    },
    {
      "cell_type": "code",
      "execution_count": 258,
      "metadata": {
        "colab": {
          "base_uri": "https://localhost:8080/",
          "height": 959
        },
        "id": "ac-jbXSONEPg",
        "outputId": "0b3ca606-8fec-4db0-ab50-8ee486705f2f"
      },
      "outputs": [
        {
          "ename": "AttributeError",
          "evalue": "'DataFrame' object has no attribute 'append'",
          "output_type": "error",
          "traceback": [
            "\u001b[1;31m---------------------------------------------------------------------------\u001b[0m",
            "\u001b[1;31mAttributeError\u001b[0m                            Traceback (most recent call last)",
            "\u001b[1;32m~\\AppData\\Local\\Temp\\ipykernel_20596\\730159912.py\u001b[0m in \u001b[0;36m?\u001b[1;34m()\u001b[0m\n\u001b[0;32m      5\u001b[0m         fnr, fpr = calculate_fnr_fpr(test_with_pred_df[test_with_pred_df[cat] == subgroup]['True_Diabetes_binary'],\n\u001b[0;32m      6\u001b[0m                                      \u001b[0mtest_with_pred_df\u001b[0m\u001b[1;33m[\u001b[0m\u001b[0mtest_with_pred_df\u001b[0m\u001b[1;33m[\u001b[0m\u001b[0mcat\u001b[0m\u001b[1;33m]\u001b[0m \u001b[1;33m==\u001b[0m \u001b[0msubgroup\u001b[0m\u001b[1;33m]\u001b[0m\u001b[1;33m[\u001b[0m\u001b[1;34m'Predicted_Diabetes_binary'\u001b[0m\u001b[1;33m]\u001b[0m\u001b[1;33m)\u001b[0m\u001b[1;33m\u001b[0m\u001b[1;33m\u001b[0m\u001b[0m\n\u001b[0;32m      7\u001b[0m         \u001b[0mauc\u001b[0m \u001b[1;33m=\u001b[0m \u001b[0mresults\u001b[0m\u001b[1;33m[\u001b[0m\u001b[0mcat\u001b[0m\u001b[1;33m]\u001b[0m\u001b[1;33m[\u001b[0m\u001b[0msubgroup\u001b[0m\u001b[1;33m]\u001b[0m\u001b[1;33m[\u001b[0m\u001b[1;34m'AUC'\u001b[0m\u001b[1;33m]\u001b[0m\u001b[1;33m\u001b[0m\u001b[1;33m\u001b[0m\u001b[0m\n\u001b[0;32m      8\u001b[0m \u001b[1;33m\u001b[0m\u001b[0m\n\u001b[1;32m----> 9\u001b[1;33m         results_df = results_df.append({\n\u001b[0m\u001b[0;32m     10\u001b[0m             \u001b[1;34m'Demographic'\u001b[0m\u001b[1;33m:\u001b[0m \u001b[0mcat\u001b[0m\u001b[1;33m,\u001b[0m\u001b[1;33m\u001b[0m\u001b[1;33m\u001b[0m\u001b[0m\n\u001b[0;32m     11\u001b[0m             \u001b[1;34m'Subgroup'\u001b[0m\u001b[1;33m:\u001b[0m \u001b[0msubgroup\u001b[0m\u001b[1;33m,\u001b[0m\u001b[1;33m\u001b[0m\u001b[1;33m\u001b[0m\u001b[0m\n\u001b[0;32m     12\u001b[0m             \u001b[1;34m'FNR'\u001b[0m\u001b[1;33m:\u001b[0m \u001b[0mfnr\u001b[0m\u001b[1;33m,\u001b[0m\u001b[1;33m\u001b[0m\u001b[1;33m\u001b[0m\u001b[0m\n",
            "\u001b[1;32mc:\\Users\\arian\\miniconda3\\envs\\DFA\\Lib\\site-packages\\pandas\\core\\generic.py\u001b[0m in \u001b[0;36m?\u001b[1;34m(self, name)\u001b[0m\n\u001b[0;32m   6200\u001b[0m             \u001b[1;32mand\u001b[0m \u001b[0mname\u001b[0m \u001b[1;32mnot\u001b[0m \u001b[1;32min\u001b[0m \u001b[0mself\u001b[0m\u001b[1;33m.\u001b[0m\u001b[0m_accessors\u001b[0m\u001b[1;33m\u001b[0m\u001b[1;33m\u001b[0m\u001b[0m\n\u001b[0;32m   6201\u001b[0m             \u001b[1;32mand\u001b[0m \u001b[0mself\u001b[0m\u001b[1;33m.\u001b[0m\u001b[0m_info_axis\u001b[0m\u001b[1;33m.\u001b[0m\u001b[0m_can_hold_identifiers_and_holds_name\u001b[0m\u001b[1;33m(\u001b[0m\u001b[0mname\u001b[0m\u001b[1;33m)\u001b[0m\u001b[1;33m\u001b[0m\u001b[1;33m\u001b[0m\u001b[0m\n\u001b[0;32m   6202\u001b[0m         \u001b[1;33m)\u001b[0m\u001b[1;33m:\u001b[0m\u001b[1;33m\u001b[0m\u001b[1;33m\u001b[0m\u001b[0m\n\u001b[0;32m   6203\u001b[0m             \u001b[1;32mreturn\u001b[0m \u001b[0mself\u001b[0m\u001b[1;33m[\u001b[0m\u001b[0mname\u001b[0m\u001b[1;33m]\u001b[0m\u001b[1;33m\u001b[0m\u001b[1;33m\u001b[0m\u001b[0m\n\u001b[1;32m-> 6204\u001b[1;33m         \u001b[1;32mreturn\u001b[0m \u001b[0mobject\u001b[0m\u001b[1;33m.\u001b[0m\u001b[0m__getattribute__\u001b[0m\u001b[1;33m(\u001b[0m\u001b[0mself\u001b[0m\u001b[1;33m,\u001b[0m \u001b[0mname\u001b[0m\u001b[1;33m)\u001b[0m\u001b[1;33m\u001b[0m\u001b[1;33m\u001b[0m\u001b[0m\n\u001b[0m",
            "\u001b[1;31mAttributeError\u001b[0m: 'DataFrame' object has no attribute 'append'"
          ]
        }
      ],
      "source": [
        "results_df = pd.DataFrame(columns=['Demographic', 'Subgroup', 'FNR', 'FPR', 'AUC'])\n",
        "\n",
        "for cat in results:\n",
        "    for subgroup in results[cat]:\n",
        "        fnr, fpr = calculate_fnr_fpr(test_with_pred_df[test_with_pred_df[cat] == subgroup]['True_Diabetes_binary'],\n",
        "                                     test_with_pred_df[test_with_pred_df[cat] == subgroup]['Predicted_Diabetes_binary'])\n",
        "        auc = results[cat][subgroup]['AUC']\n",
        "\n",
        "        results_df = results_df.append({\n",
        "            'Demographic': cat,\n",
        "            'Subgroup': subgroup,\n",
        "            'FNR': fnr,\n",
        "            'FPR': fpr,\n",
        "            'AUC': auc\n",
        "        }, ignore_index=True)\n",
        "\n",
        "# Adjusting data types for better formatting\n",
        "results_df['Subgroup'] = results_df['Subgroup'].astype(int)\n",
        "results_df['FNR'] = results_df['FNR'].astype(float)\n",
        "results_df['FPR'] = results_df['FPR'].astype(float)\n",
        "results_df['AUC'] = results_df['AUC'].astype(float)\n",
        "\n",
        "results_df\n"
      ]
    },
    {
      "cell_type": "markdown",
      "metadata": {
        "id": "d6UV_F5tk5l7"
      },
      "source": [
        "### c. Informative Plots"
      ]
    },
    {
      "cell_type": "code",
      "execution_count": null,
      "metadata": {
        "colab": {
          "base_uri": "https://localhost:8080/",
          "height": 564
        },
        "id": "FGu6ikhyk5l7",
        "outputId": "887df683-b144-4373-a733-f1d1ff2956e0"
      },
      "outputs": [
        {
          "data": {
            "image/png": "[encoded data removed]",
            "text/plain": [
              "<Figure size 800x600 with 1 Axes>"
            ]
          },
          "metadata": {},
          "output_type": "display_data"
        }
      ],
      "source": [
        "import matplotlib.pyplot as plt\n",
        "import seaborn as sns\n",
        "\n",
        "conf_matrix = confusion_matrix(y_test, y_pred_subset)\n",
        "\n",
        "# Plotting the confusion matrix\n",
        "plt.figure(figsize=(8, 6))\n",
        "sns.heatmap(conf_matrix, annot=True, fmt='d', cmap='Blues', cbar=False)\n",
        "plt.xlabel('Predicted Label')\n",
        "plt.ylabel('True Label')\n",
        "plt.title('Confusion Matrix')\n",
        "plt.xticks(ticks=[0.5, 1.5], labels=['Negative (0)', 'Positive (1)'])\n",
        "plt.yticks(ticks=[0.5, 1.5], labels=['Negative (0)', 'Positive (1)'], rotation=0)\n",
        "plt.show()"
      ]
    },
    {
      "cell_type": "markdown",
      "metadata": {
        "id": "1kaBQu4uk5l7"
      },
      "source": [
        "## Model 4: LightGBM\n",
        "### a. Model"
      ]
    },
    {
      "cell_type": "code",
      "execution_count": null,
      "metadata": {
        "id": "gXjHYUvpKr6J"
      },
      "outputs": [],
      "source": [
        "import pandas as pd\n",
        "import numpy as np\n",
        "import matplotlib.pyplot as plt\n",
        "import seaborn as sns\n",
        "from sklearn import preprocessing\n",
        "from sklearn.model_selection import train_test_split\n",
        "from sklearn import metrics\n",
        "from sklearn.metrics import accuracy_score, confusion_matrix, log_loss, f1_score, ConfusionMatrixDisplay"
      ]
    },
    {
      "cell_type": "code",
      "execution_count": null,
      "metadata": {
        "id": "wIH4FXA4Kr6J"
      },
      "outputs": [],
      "source": [
        "from ucimlrepo import fetch_ucirepo\n",
        "\n",
        "# fetch dataset\n",
        "cdc_diabetes_health_indicators = fetch_ucirepo(id=891)\n",
        "\n",
        "# data (as pandas dataframes)\n",
        "feature_data = cdc_diabetes_health_indicators.data.features\n",
        "target_data = cdc_diabetes_health_indicators.data.targets"
      ]
    },
    {
      "cell_type": "code",
      "execution_count": null,
      "metadata": {
        "id": "8B09TUJ1Kr6J"
      },
      "outputs": [],
      "source": [
        "X = feature_data\n",
        "y = target_data.Diabetes_binary"
      ]
    },
    {
      "cell_type": "code",
      "execution_count": null,
      "metadata": {
        "id": "_0y3Te6HKr6J"
      },
      "outputs": [],
      "source": [
        "X_train_test, X_test, y_train_test, y_test = train_test_split(X, y, test_size=0.2)\n",
        "\n",
        "X_train, X_val, y_train, y_val = train_test_split(X_train_test, y_train_test, test_size=0.25)"
      ]
    },
    {
      "cell_type": "code",
      "execution_count": null,
      "metadata": {
        "id": "GxqNPJroKr6J"
      },
      "outputs": [],
      "source": [
        "from lightgbm import LGBMClassifier\n",
        "import lightgbm as lgb"
      ]
    },
    {
      "cell_type": "code",
      "execution_count": null,
      "metadata": {
        "id": "tYtJUMM0Kr6J"
      },
      "outputs": [],
      "source": [
        "lgb_train = lgb.Dataset(X_train, y_train, free_raw_data=False)\n",
        "lgb_val = lgb.Dataset(X_val, y_val, reference=lgb_train, free_raw_data=False)"
      ]
    },
    {
      "cell_type": "code",
      "execution_count": null,
      "metadata": {
        "id": "SQzCzPZ7Kr6J"
      },
      "outputs": [],
      "source": [
        "params = {\n",
        "    'boosting_type': 'gbdt',\n",
        "    'objective': 'binary',\n",
        "    'metric': 'binary_logloss',\n",
        "\n",
        "    'learning_rate': 0.0001,\n",
        "    'num_leaves': 15, # more leaves increases accuracy, but may lead to overfitting.\n",
        "\n",
        "    'max_depth': 4, # the maximum tree depth. Shallower trees reduce overfitting.\n",
        "    'min_split_gain': 0., # minimal loss gain to perform a split\n",
        "    'min_child_samples': 20, # or min_data_in_leaf: specifies the minimum samples per leaf node.\n",
        "    # 'min_child_weight': 5, # minimal sum hessian in one leaf. Controls overfitting.\n",
        "\n",
        "    # 'lambda_l1': 0.1, # L1 regularization\n",
        "    'lambda_l2': 0.9, # L2 regularization\n",
        "\n",
        "    'feature_fraction': 0.7, # randomly select a fraction of the features before building each tree.\n",
        "    # Speeds up training and controls overfitting.\n",
        "    # 'bagging_fraction': 0.5, # allows for bagging or subsampling of data to speed up training.\n",
        "    # 'bagging_freq': 0, # perform bagging on every Kth iteration, disabled if 0.\n",
        "\n",
        "    'scale_pos_weight': 6, # add a weight to the positive class examples (compensates for imbalance).\n",
        "\n",
        "    # 'subsample_for_bin': 2000, # amount of data to sample to determine histogram bins\n",
        "    # 'max_bin': 10, # the maximum number of bins to bucket feature values in.\n",
        "    # LightGBM autocompresses memory based on this value. Larger bins improves accuracy.\n",
        "    # 'nthread': 4, # number of threads to use for LightGBM, best set to number of actual cores.\n",
        "}"
      ]
    },
    {
      "cell_type": "code",
      "execution_count": null,
      "metadata": {
        "id": "XEBA4gUBKr6K",
        "outputId": "709d18c0-c757-49cc-82a3-54d0eba8b84a"
      },
      "outputs": [
        {
          "name": "stderr",
          "output_type": "stream",
          "text": [
            "/opt/homebrew/Caskroom/miniforge/base/envs/base_env/lib/python3.8/site-packages/lightgbm/engine.py:181: UserWarning: 'early_stopping_rounds' argument is deprecated and will be removed in a future release of LightGBM. Pass 'early_stopping()' callback via 'callbacks' argument instead.\n",
            "  _log_warning(\"'early_stopping_rounds' argument is deprecated and will be removed in a future release of LightGBM. \"\n",
            "/opt/homebrew/Caskroom/miniforge/base/envs/base_env/lib/python3.8/site-packages/lightgbm/engine.py:239: UserWarning: 'verbose_eval' argument is deprecated and will be removed in a future release of LightGBM. Pass 'log_evaluation()' callback via 'callbacks' argument instead.\n",
            "  _log_warning(\"'verbose_eval' argument is deprecated and will be removed in a future release of LightGBM. \"\n",
            "/opt/homebrew/Caskroom/miniforge/base/envs/base_env/lib/python3.8/site-packages/lightgbm/engine.py:260: UserWarning: 'evals_result' argument is deprecated and will be removed in a future release of LightGBM. Pass 'record_evaluation()' callback via 'callbacks' argument instead.\n",
            "  _log_warning(\"'evals_result' argument is deprecated and will be removed in a future release of LightGBM. \"\n"
          ]
        },
        {
          "name": "stdout",
          "output_type": "stream",
          "text": [
            "[LightGBM] [Info] Number of positive: 21133, number of negative: 131075\n",
            "[LightGBM] [Warning] Auto-choosing row-wise multi-threading, the overhead of testing was 0.010549 seconds.\n",
            "You can set `force_row_wise=true` to remove the overhead.\n",
            "And if memory is not enough, you can set `force_col_wise=true`.\n",
            "[LightGBM] [Info] Total Bins 200\n",
            "[LightGBM] [Info] Number of data points in the train set: 152208, number of used features: 21\n",
            "[LightGBM] [Info] [binary:BoostFromScore]: pavg=0.138843 -> initscore=-1.824934\n",
            "[LightGBM] [Info] Start training from score -1.824934\n",
            "Training until validation scores don't improve for 50 rounds\n",
            "[100]\ttraining's binary_logloss: 0.400504\tvalid_1's binary_logloss: 0.402729\n",
            "[200]\ttraining's binary_logloss: 0.398321\tvalid_1's binary_logloss: 0.400519\n",
            "[300]\ttraining's binary_logloss: 0.396297\tvalid_1's binary_logloss: 0.398467\n",
            "[400]\ttraining's binary_logloss: 0.394461\tvalid_1's binary_logloss: 0.396606\n",
            "[500]\ttraining's binary_logloss: 0.392781\tvalid_1's binary_logloss: 0.3949\n",
            "[600]\ttraining's binary_logloss: 0.391207\tvalid_1's binary_logloss: 0.393301\n",
            "[700]\ttraining's binary_logloss: 0.389769\tvalid_1's binary_logloss: 0.39184\n",
            "[800]\ttraining's binary_logloss: 0.388468\tvalid_1's binary_logloss: 0.390515\n",
            "[900]\ttraining's binary_logloss: 0.387234\tvalid_1's binary_logloss: 0.389258\n",
            "[1000]\ttraining's binary_logloss: 0.386111\tvalid_1's binary_logloss: 0.388113\n",
            "[1100]\ttraining's binary_logloss: 0.385102\tvalid_1's binary_logloss: 0.387081\n",
            "[1200]\ttraining's binary_logloss: 0.384176\tvalid_1's binary_logloss: 0.386134\n",
            "[1300]\ttraining's binary_logloss: 0.383336\tvalid_1's binary_logloss: 0.385271\n",
            "[1400]\ttraining's binary_logloss: 0.382567\tvalid_1's binary_logloss: 0.384482\n",
            "[1500]\ttraining's binary_logloss: 0.381896\tvalid_1's binary_logloss: 0.38379\n",
            "[1600]\ttraining's binary_logloss: 0.381285\tvalid_1's binary_logloss: 0.38316\n",
            "[1700]\ttraining's binary_logloss: 0.380762\tvalid_1's binary_logloss: 0.382618\n",
            "[1800]\ttraining's binary_logloss: 0.380285\tvalid_1's binary_logloss: 0.382123\n",
            "[1900]\ttraining's binary_logloss: 0.379836\tvalid_1's binary_logloss: 0.381657\n",
            "[2000]\ttraining's binary_logloss: 0.379465\tvalid_1's binary_logloss: 0.38127\n",
            "[2100]\ttraining's binary_logloss: 0.379137\tvalid_1's binary_logloss: 0.380926\n",
            "[2200]\ttraining's binary_logloss: 0.378886\tvalid_1's binary_logloss: 0.38066\n",
            "[2300]\ttraining's binary_logloss: 0.378671\tvalid_1's binary_logloss: 0.380428\n",
            "[2400]\ttraining's binary_logloss: 0.378491\tvalid_1's binary_logloss: 0.380232\n",
            "[2500]\ttraining's binary_logloss: 0.378343\tvalid_1's binary_logloss: 0.380065\n",
            "[2600]\ttraining's binary_logloss: 0.378247\tvalid_1's binary_logloss: 0.379954\n",
            "[2700]\ttraining's binary_logloss: 0.378185\tvalid_1's binary_logloss: 0.379877\n",
            "[2800]\ttraining's binary_logloss: 0.37817\tvalid_1's binary_logloss: 0.379846\n",
            "[2900]\ttraining's binary_logloss: 0.378173\tvalid_1's binary_logloss: 0.379835\n",
            "Early stopping, best iteration is:\n",
            "[2863]\ttraining's binary_logloss: 0.378164\tvalid_1's binary_logloss: 0.379831\n"
          ]
        }
      ],
      "source": [
        "evals_result = {}\n",
        "gbm = lgb.train(params, # parameter dict to use\n",
        "                lgb_train,\n",
        "                num_boost_round=10000, # the boosting rounds or number of iterations.\n",
        "                early_stopping_rounds=50, # early stopping iterations.\n",
        "                # stop training if *no* metric improves on *any* validation data.\n",
        "                valid_sets=[lgb_train, lgb_val],\n",
        "                evals_result=evals_result, # dict to store evaluation results in.\n",
        "                verbose_eval=100) # print evaluations during training."
      ]
    },
    {
      "cell_type": "markdown",
      "metadata": {
        "id": "pCzMZXCbk5l7"
      },
      "source": [
        "### b. Evaluation Metrics"
      ]
    },
    {
      "cell_type": "code",
      "execution_count": null,
      "metadata": {
        "id": "rcQLQB-uKr6K",
        "outputId": "b8a35772-0927-45a2-b551-22b9f39e860c"
      },
      "outputs": [
        {
          "name": "stdout",
          "output_type": "stream",
          "text": [
            "F1-Score on Validation Set: 0.8385462465990434\n"
          ]
        }
      ],
      "source": [
        "y_val_pred = gbm.predict(X_val, num_iteration=gbm.best_iteration)\n",
        "threshold = sorted(y_val_pred)[43625] # Determine the threshold based on positive/negative ratio\n",
        "y_val_pred = np.where(y_val_pred > threshold, 1, 0)\n",
        "f1 = f1_score(y_val, y_val_pred, average='weighted')\n",
        "print(f\"F1-Score on Validation Set: {f1}\")"
      ]
    },
    {
      "cell_type": "code",
      "execution_count": null,
      "metadata": {
        "id": "2uGusivFKr6K",
        "outputId": "34b016fa-af3f-42b4-8990-c55b82f5f1a7"
      },
      "outputs": [
        {
          "name": "stdout",
          "output_type": "stream",
          "text": [
            "F1-Score on Test Set: 0.8428663430584075\n"
          ]
        }
      ],
      "source": [
        "# Predict on the test set\n",
        "y_test_pred = gbm.predict(X_test, num_iteration=gbm.best_iteration)\n",
        "y_test_pred = np.where(y_test_pred > threshold, 1, 0)\n",
        "# Evaluate the model\n",
        "f1 = f1_score(y_test, y_test_pred, average='weighted')\n",
        "print(f\"F1-Score on Test Set: {f1}\")"
      ]
    },
    {
      "cell_type": "code",
      "execution_count": null,
      "metadata": {
        "id": "rOwqMUS5Kr6K",
        "outputId": "43bc84a1-e77b-4b52-ad44-392ea84e323e"
      },
      "outputs": [
        {
          "name": "stdout",
          "output_type": "stream",
          "text": [
            "              precision    recall  f1-score   support\n",
            "\n",
            "           0       0.91      0.91      0.91     43630\n",
            "           1       0.44      0.44      0.44      7106\n",
            "\n",
            "    accuracy                           0.84     50736\n",
            "   macro avg       0.67      0.68      0.67     50736\n",
            "weighted avg       0.84      0.84      0.84     50736\n",
            "\n",
            "Confusion Matrix:\n",
            " [[39576  4054]\n",
            " [ 3944  3162]]\n"
          ]
        }
      ],
      "source": [
        "print(metrics.classification_report(y_test, y_test_pred))\n",
        "print(\"Confusion Matrix:\\n\", metrics.confusion_matrix(y_test, y_test_pred))"
      ]
    },
    {
      "cell_type": "code",
      "execution_count": null,
      "metadata": {
        "id": "1djy4L5mKr6K",
        "outputId": "17538951-c822-4de3-b630-eb70eb513be3"
      },
      "outputs": [
        {
          "name": "stdout",
          "output_type": "stream",
          "text": [
            "AUC (all participants): 0.8208\n",
            "AUC (female participants): 0.8356\n",
            "AUC (male participants): 0.8031\n"
          ]
        }
      ],
      "source": [
        "female_idx = X_test['Sex']==0\n",
        "male_idx = X_test['Sex']==1\n",
        "\n",
        "female_test = y_test.loc[female_idx]\n",
        "male_test = y_test.loc[male_idx]\n",
        "\n",
        "female_pred  = y_test_pred[female_idx]\n",
        "male_pred = y_test_pred[male_idx]\n",
        "\n",
        "y_pred_prob = gbm.predict(X_test, num_iteration=gbm.best_iteration)\n",
        "female_score = y_pred_prob[female_idx]\n",
        "male_score = y_pred_prob[male_idx]\n",
        "\n",
        "true_y = {'all': y_test, 'female':female_test, 'male':male_test}\n",
        "pred_y = {'female':female_pred, 'male':male_pred}\n",
        "prob_y = {'all':y_pred_prob, 'female':female_score, 'male':male_score}\n",
        "\n",
        "for group in ['all', 'female', 'male']:\n",
        "    AUC = metrics.roc_auc_score(true_y[group], prob_y[group])\n",
        "    print(f'AUC ({group} participants): {AUC:.4f}')\n",
        "\n",
        "\n",
        "tn, fp, fn, tp = {}, {}, {}, {}\n",
        "for group in ['female', 'male']:\n",
        "    tn[group], fp[group], fn[group], tp[group] = metrics.confusion_matrix(true_y[group], pred_y[group]).ravel()"
      ]
    },
    {
      "cell_type": "code",
      "execution_count": null,
      "metadata": {
        "id": "iAH0nFlPKr6K",
        "outputId": "75ef92c5-8610-4c3f-af92-ca48d7f213ce"
      },
      "outputs": [
        {
          "name": "stdout",
          "output_type": "stream",
          "text": [
            "FNR (female participants): 0.5209\n",
            "FNR (male participants): 0.5911\n"
          ]
        }
      ],
      "source": [
        "for group in ['female', 'male']:\n",
        "    FNR = fn[group]/(tp[group]+fn[group])\n",
        "    print(f'FNR ({group} participants): {FNR:.4f}')"
      ]
    },
    {
      "cell_type": "code",
      "execution_count": null,
      "metadata": {
        "id": "tCZ-5faeKr6K",
        "outputId": "6adf4542-61b3-4466-8009-694c1299821f"
      },
      "outputs": [
        {
          "name": "stdout",
          "output_type": "stream",
          "text": [
            "FPR (female participants): 0.0935\n",
            "FPR (male participants): 0.0921\n"
          ]
        }
      ],
      "source": [
        "for group in ['female', 'male']:\n",
        "    FPR = fp[group]/(tn[group]+fp[group])\n",
        "    print(f'FPR ({group} participants): {FPR:.4f}')"
      ]
    },
    {
      "cell_type": "code",
      "execution_count": null,
      "metadata": {
        "id": "6G4LIJKdKr6K",
        "outputId": "653cd235-54ed-4d0c-f077-de82fb727d3e"
      },
      "outputs": [
        {
          "name": "stdout",
          "output_type": "stream",
          "text": [
            "Fraction positive (female participants): 0.1430\n",
            "Fraction positive (male participants): 0.1413\n"
          ]
        }
      ],
      "source": [
        "for group in ['female', 'male']:\n",
        "    PR = pred_y[group].mean()\n",
        "    print(f'Fraction positive ({group} participants): {PR:.4f}')"
      ]
    },
    {
      "cell_type": "code",
      "execution_count": null,
      "metadata": {
        "id": "pRWQP3YHKr6K",
        "outputId": "aa229264-de69-4e9e-eb91-dabf9fa01acd"
      },
      "outputs": [
        {
          "name": "stdout",
          "output_type": "stream",
          "text": [
            "AUC (all participants): 0.8208\n",
            "AUC (Income 1 participants): 0.7860\n",
            "AUC (Income 2 participants): 0.7560\n",
            "AUC (Income 3 participants): 0.7740\n",
            "AUC (Income 4 participants): 0.7822\n",
            "AUC (Income 5 participants): 0.7831\n",
            "AUC (Income 6 participants): 0.8098\n",
            "AUC (Income 7 participants): 0.8148\n",
            "AUC (Income 8 participants): 0.8257\n"
          ]
        }
      ],
      "source": [
        "one_idx = X_test['Income']==1\n",
        "two_idx = X_test['Income']==2\n",
        "three_idx = X_test['Income']==3\n",
        "four_idx = X_test['Income']==4\n",
        "five_idx = X_test['Income']==5\n",
        "six_idx = X_test['Income']==6\n",
        "seven_idx = X_test['Income']==7\n",
        "eight_idx = X_test['Income']==8\n",
        "\n",
        "one_test = y_test.loc[one_idx]\n",
        "two_test = y_test.loc[two_idx]\n",
        "three_test = y_test.loc[three_idx]\n",
        "four_test = y_test.loc[four_idx]\n",
        "five_test = y_test.loc[five_idx]\n",
        "six_test = y_test.loc[six_idx]\n",
        "seven_test = y_test.loc[seven_idx]\n",
        "eight_test = y_test.loc[eight_idx]\n",
        "\n",
        "one_pred  = y_test_pred[one_idx]\n",
        "two_pred = y_test_pred[two_idx]\n",
        "three_pred = y_test_pred[three_idx]\n",
        "four_pred = y_test_pred[four_idx]\n",
        "five_pred = y_test_pred[five_idx]\n",
        "six_pred = y_test_pred[six_idx]\n",
        "seven_pred = y_test_pred[seven_idx]\n",
        "eight_pred = y_test_pred[eight_idx]\n",
        "\n",
        "y_pred_prob = gbm.predict(X_test, num_iteration=gbm.best_iteration)\n",
        "one_score = y_pred_prob[one_idx]\n",
        "two_score = y_pred_prob[two_idx]\n",
        "three_score = y_pred_prob[three_idx]\n",
        "four_score = y_pred_prob[four_idx]\n",
        "five_score = y_pred_prob[five_idx]\n",
        "six_score = y_pred_prob[six_idx]\n",
        "seven_score = y_pred_prob[seven_idx]\n",
        "eight_score = y_pred_prob[eight_idx]\n",
        "\n",
        "\n",
        "true_y = {'all': y_test, 'Income 1':one_test, 'Income 2':two_test, 'Income 3':three_test,\n",
        "          'Income 4':four_test,'Income 5':five_test,'Income 6':six_test,'Income 7':seven_test,'Income 8':eight_test}\n",
        "pred_y = {'Income 1':one_pred, 'Income 2':two_pred, 'Income 3':three_pred,\n",
        "          'Income 4':four_pred,'Income 5':five_pred,'Income 6':six_pred,'Income 7':seven_pred,'Income 8':eight_pred}\n",
        "prob_y = {'all': y_pred_prob, 'Income 1':one_score, 'Income 2':two_score, 'Income 3':three_score,\n",
        "          'Income 4':four_score,'Income 5':five_score,'Income 6':six_score,'Income 7':seven_score,'Income 8':eight_score}\n",
        "\n",
        "\n",
        "for group in ['all', 'Income 1', 'Income 2', 'Income 3', 'Income 4', 'Income 5', 'Income 6', 'Income 7', 'Income 8']:\n",
        "    AUC = metrics.roc_auc_score(true_y[group], prob_y[group])\n",
        "    print(f'AUC ({group} participants): {AUC:.4f}')\n",
        "\n",
        "\n",
        "tn, fp, fn, tp = {}, {}, {}, {}\n",
        "for group in ['Income 1', 'Income 2', 'Income 3', 'Income 4', 'Income 5', 'Income 6', 'Income 7', 'Income 8']:\n",
        "    tn[group], fp[group], fn[group], tp[group] = metrics.confusion_matrix(true_y[group], pred_y[group]).ravel()"
      ]
    },
    {
      "cell_type": "code",
      "execution_count": null,
      "metadata": {
        "id": "_bIBGRqzKr6K",
        "outputId": "fd8676a8-ea24-415c-a9c5-40f92e509f49"
      },
      "outputs": [
        {
          "name": "stdout",
          "output_type": "stream",
          "text": [
            "FNR (Income 1 participants): 0.3596\n",
            "FNR (Income 2 participants): 0.3862\n",
            "FNR (Income 3 participants): 0.4443\n",
            "FNR (Income 4 participants): 0.4813\n",
            "FNR (Income 5 participants): 0.5272\n",
            "FNR (Income 6 participants): 0.5590\n",
            "FNR (Income 7 participants): 0.6533\n",
            "FNR (Income 8 participants): 0.7343\n"
          ]
        }
      ],
      "source": [
        "for group in ['Income 1', 'Income 2', 'Income 3', 'Income 4', 'Income 5', 'Income 6', 'Income 7', 'Income 8']:\n",
        "    FNR = fn[group]/(tp[group]+fn[group])\n",
        "    print(f'FNR ({group} participants): {FNR:.4f}')"
      ]
    },
    {
      "cell_type": "code",
      "execution_count": null,
      "metadata": {
        "id": "OIETry-lKr6K",
        "outputId": "85cb8dbb-101b-4ddf-a48a-5461750e04bf"
      },
      "outputs": [
        {
          "name": "stdout",
          "output_type": "stream",
          "text": [
            "FPR (Income 1 participants): 0.2342\n",
            "FPR (Income 2 participants): 0.2488\n",
            "FPR (Income 3 participants): 0.2007\n",
            "FPR (Income 4 participants): 0.1661\n",
            "FPR (Income 5 participants): 0.1397\n",
            "FPR (Income 6 participants): 0.0995\n",
            "FPR (Income 7 participants): 0.0655\n",
            "FPR (Income 8 participants): 0.0328\n"
          ]
        }
      ],
      "source": [
        "for group in ['Income 1', 'Income 2', 'Income 3', 'Income 4', 'Income 5', 'Income 6', 'Income 7', 'Income 8']:\n",
        "    FPR = fp[group]/(tn[group]+fp[group])\n",
        "    print(f'FPR ({group} participants): {FPR:.4f}')"
      ]
    },
    {
      "cell_type": "code",
      "execution_count": null,
      "metadata": {
        "id": "1oV-ChVxKr6K",
        "outputId": "7fb4d1da-18b2-4546-cc95-fac219f70885"
      },
      "outputs": [
        {
          "name": "stdout",
          "output_type": "stream",
          "text": [
            "Fraction positive (Income 1 participants): 0.3262\n",
            "Fraction positive (Income 2 participants): 0.3517\n",
            "Fraction positive (Income 3 participants): 0.2821\n",
            "Fraction positive (Income 4 participants): 0.2375\n",
            "Fraction positive (Income 5 participants): 0.1995\n",
            "Fraction positive (Income 6 participants): 0.1497\n",
            "Fraction positive (Income 7 participants): 0.0984\n",
            "Fraction positive (Income 8 participants): 0.0514\n"
          ]
        }
      ],
      "source": [
        "for group in 'Income 1', 'Income 2', 'Income 3', 'Income 4', 'Income 5', 'Income 6', 'Income 7', 'Income 8':\n",
        "    PR = pred_y[group].mean()\n",
        "    print(f'Fraction positive ({group} participants): {PR:.4f}')"
      ]
    },
    {
      "cell_type": "markdown",
      "metadata": {
        "id": "M-Tm-4iZk5l7"
      },
      "source": [
        "### c. Informative Plots"
      ]
    },
    {
      "cell_type": "code",
      "execution_count": null,
      "metadata": {
        "id": "0eB-Vh8eYGt7",
        "outputId": "a8804d34-5558-421e-e6d9-ce786a936809"
      },
      "outputs": [
        {
          "data": {
            "image/png": "[encoded data removed]",
            "text/plain": [
              "<Figure size 432x288 with 2 Axes>"
            ]
          },
          "metadata": {
            "needs_background": "light"
          },
          "output_type": "display_data"
        },
        {
          "name": "stdout",
          "output_type": "stream",
          "text": [
            "F1 Score: 0.842\n"
          ]
        }
      ],
      "source": [
        "cm = confusion_matrix(y_test, y_test_pred, labels=[0, 1])\n",
        "disp = ConfusionMatrixDisplay(confusion_matrix=cm, display_labels=['negative', 'positive'])\n",
        "disp = disp.plot(cmap=plt.cm.Blues,values_format='g')\n",
        "# disp.plot()\n",
        "plt.title(f'LightGBM (threshold={round(threshold, 4)})')\n",
        "plt.show()\n",
        "# calculate score\n",
        "score = f1_score(y_test, y_test_pred, average='micro')\n",
        "print('F1 Score: %.3f' % score)"
      ]
    },
    {
      "cell_type": "markdown",
      "metadata": {
        "id": "TlH5yESzk5l8"
      },
      "source": [
        "# 5. Results"
      ]
    },
    {
      "cell_type": "markdown",
      "metadata": {
        "id": "wINaZxBbk5l8"
      },
      "source": [
        "### a. Interpret the results of each model"
      ]
    },
    {
      "cell_type": "markdown",
      "metadata": {
        "id": "8V-4Dg2Mk5l8"
      },
      "source": [
        "#### Model 1: Naive Bayes\n",
        "In Model 1, the f1-score was 0.795, with an overall AUC of 0.7828, and FNR of 0.432. For most participants, the model predicted their diabetes outcome correctly. When we looked at these metrics for the different subgroups within sex and income, we saw that overall the metrics did not change for each subgroup. \n",
        "\n",
        "Looking at the sex subgroup, female particpants had a FNR of 0.3943 while male participants had a FNR of 0.4735. The slightly higher FNR for male participants could be attributed to the higher number of female participants and thus more data for this subgroup as we highlighted in the summary statistics above. \n",
        "\n",
        "As for different income groups, the AUC score and FNR had a positive relationship with the income group, with lower income groups having a lower AUC and FNR score while higher income groups having higher AUC and FNR scores. The highest FNR recorded was for Income group 8, which are participants who recorded having an income of \\$ 75,000 or more. This result does not follow our initial hypothesis for lower income groups potentially having more unfair results from the model, as the higher income groups having higher FNR and FPR. However, this could also be attributed to a higher representation of high income groups in the dataset. Additionally, the fraction positive proportion had a negative relationship with income subgroups, with lower subgroups having the highest fraction positive such as 0.6299 and 0.6330 for Income 1 and Income 2 participants who have an income level around or less than 10,000. We can hypothesize that lower income groups may be less represented in the dataset, but the ones that did participate in the survey have had history of health issues related to diabetes or high cholestrol.\n",
        "\n",
        "#### Model 2: Logistic Regression\n",
        "For model 2, we started with an overall AUC of 0.81 but the F1 score was not looking so good at 0.24. This is probably due to the unbalanced nature of the dataset and could be address using SMOTE or another balancing method. \n",
        "\n",
        "Still, we tried to see if, as is, the model showed any bias towards any subgroup, so we plotted metrics like AUC, FNR, and FPR for each sensitive attribute. And, while the model seemed to have similar accuracy across groups (AUC was fairly even), the FNR was just too high and both the FNR and FPR showed so much variation across attributes. For instance Almost counter intuitively, the FNR was considerably lower for lower income groups and those with less years of education. Still, this \"lower\" FNR was, at best, over 50% (which was only better if you compare it with the outrageous 90%+ FNRs we got for other groups). \n",
        "\n",
        "With this in mind, based on such poor performance, we can't really trust any of the aforementioned trends. We'll need to tweak the model and stabilize the crazy false negative rates before we can get any meaningful insights from it.\n",
        "\n",
        "#### Model 3: SVC\n",
        "After examining the diabetes prediction model based on Support Vector Classifier (SVC), it became clear that its performance varied across different groups of people. For men and women, the model had a slightly higher tendency to miss diabetes cases in men (with a False Negative Rate, or FNR, of 64.3%) compared to women (FNR of 62.3%). Despite this, the chance of incorrectly identifying someone as diabetic (False Positive Rate, or FPR) hovered around 35% for both genders, and the model's overall accuracy (measured by AUC) was just over 50%, barely better than a random guess.\n",
        "\n",
        "This indicates that the model doesn't particularly favor one gender over the other; however, its effectiveness in accurately predicting diabetes is lacking. AUC values, indicating the model's ability to distinguish between those with and without diabetes, are disappointingly low across various groups, pointing to a struggle in making precise predictions.\n",
        "\n",
        "There is many reasons why SVC model didn't perform well. First, the data used to train the model might lack diversity or fail to include crucial information that significantly impacts diabetes predictions, like dietary habits or physical activity levels. Second, the selected SVC model parameters might not be optimal, potentially making the model too simplistic or overly complex, thus hindering its learning capability.\n",
        "\n",
        "#### Model 4: LightGBM\n",
        "\n",
        "\n",
        "\n",
        "\n"
      ]
    },
    {
      "cell_type": "markdown",
      "metadata": {
        "id": "CnftjcsCk5l8"
      },
      "source": [
        "### b. Compare the performance of your models from part 4 on the evaluation metrics you noted in section 3a"
      ]
    },
    {
      "cell_type": "markdown",
      "metadata": {
        "id": "Gm4QTd8Rk5l8"
      },
      "source": [
        "# 6. Contribution Notes\n"
      ]
    },
    {
      "cell_type": "markdown",
      "metadata": {
        "id": "LUY-HFDik5l8"
      },
      "source": [
        "[ here ]"
      ]
    },
    {
      "cell_type": "markdown",
      "metadata": {
        "id": "1A--Tjehk5l8"
      },
      "source": [
        "# 7. Sources Cited"
      ]
    },
    {
      "cell_type": "markdown",
      "metadata": {
        "id": "9F2uAp1qk5l8"
      },
      "source": [
        "* Behavioral Risk Factor Surveillance System (BRFSS) 2015 Codebook Report: https://www.cdc.gov/brfss/annual_data/2015/pdf/codebook15_llcp.pdf\n",
        "* INFO 4390 Assignment 1 (answered)\n",
        "* [1] UC Irvine Machine Learning Repository. 2023. CDC Diabetes Health Indicators. https://archive.ics.uci.edu/dataset/891/cdc+diabetes+health+indicators. Accessed February 19th, 2024"
      ]
    }
  ],
  "metadata": {
    "colab": {
      "include_colab_link": true,
      "provenance": []
    },
    "kernelspec": {
      "display_name": "Python 3 (ipykernel)",
      "language": "python",
      "name": "python3"
    },
    "language_info": {
      "codemirror_mode": {
        "name": "ipython",
        "version": 3
      },
      "file_extension": ".py",
      "mimetype": "text/x-python",
      "name": "python",
      "nbconvert_exporter": "python",
      "pygments_lexer": "ipython3",
      "version": "3.8.12"
    }
  },
  "nbformat": 4,
  "nbformat_minor": 0
}
